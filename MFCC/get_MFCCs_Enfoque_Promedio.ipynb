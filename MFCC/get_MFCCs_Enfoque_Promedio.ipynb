{
 "cells": [
  {
   "cell_type": "markdown",
   "metadata": {},
   "source": [
    "# MFCCS\n",
    "Obtener los mfccs para 5 clases c/u de 500 audios, para un total de 15.000 audios"
   ]
  },
  {
   "cell_type": "code",
   "execution_count": 12,
   "metadata": {},
   "outputs": [],
   "source": [
    "import librosa\n",
    "import IPython.display as ipd\n",
    "%matplotlib inline\n",
    "import matplotlib.pyplot as plt\n",
    "import librosa.display\n",
    "import numpy as np\n",
    "import sklearn as sk\n",
    "import pandas as pd\n",
    "from sklearn import preprocessing"
   ]
  },
  {
   "cell_type": "code",
   "execution_count": 315,
   "metadata": {},
   "outputs": [],
   "source": [
    "#PATHSAMPLES = '../data/training_list_test_temporal.txt'\n",
    "PATHSAMPLES = '../data/training_list.txt'\n",
    "NSAMPLES = 1000\n",
    "SOUNDS =np.array(['yes','no','right','five','nine'])\n",
    "#SOUNDS =np.array(['off','five','left'])"
   ]
  },
  {
   "cell_type": "code",
   "execution_count": 316,
   "metadata": {},
   "outputs": [],
   "source": [
    "def get_Path_Word_SpeakerId(NSAMPLES, PATHSAMPLES, SOUNDS):\n",
    "    ROOTPATH= 'data/'\n",
    "    data = pd.read_csv(PATHSAMPLES, sep=\" \", header=None)\n",
    "    data = data.values #Convertir en numpy array\n",
    "    labels = []\n",
    "    speakers  = []\n",
    "    paths = []\n",
    "    for path in data:\n",
    "        pathSplit =path[0].split('/')\n",
    "        speakerName = pathSplit[1].split('_')[0]\n",
    "        word = pathSplit[0]\n",
    "        isWord = np.where(SOUNDS == word)\n",
    "        if len(isWord[0]) != 0:\n",
    "            label = SOUNDS[isWord[0][0]]\n",
    "            labels.append(label)\n",
    "            speakers.append(speakerName)\n",
    "            paths.append(ROOTPATH+path[0])\n",
    "    NSAMPLES = NSAMPLES\n",
    "    first = labels.index(SOUNDS[0])\n",
    "    last = first +NSAMPLES\n",
    "    matrixMajor = np.column_stack([paths[first:last], labels[first:last], speakers[first:last]])    \n",
    "    for i in range(1,np.size(SOUNDS,0)):\n",
    "        first = labels.index(SOUNDS[i])\n",
    "        last = first +NSAMPLES\n",
    "        clasei = np.column_stack([paths[first:last], labels[first:last], speakers[first:last]])    \n",
    "        matrixMajor = np.append(matrixMajor,clasei,axis=0)\n",
    "    return matrixMajor"
   ]
  },
  {
   "cell_type": "code",
   "execution_count": 317,
   "metadata": {},
   "outputs": [],
   "source": [
    "path_word_speakerId = get_Path_Word_SpeakerId(NSAMPLES, PATHSAMPLES, SOUNDS)"
   ]
  },
  {
   "cell_type": "code",
   "execution_count": 318,
   "metadata": {},
   "outputs": [
    {
     "data": {
      "text/plain": [
       "(5000, 3)"
      ]
     },
     "execution_count": 318,
     "metadata": {},
     "output_type": "execute_result"
    }
   ],
   "source": [
    "path_word_speakerId.shape"
   ]
  },
  {
   "cell_type": "code",
   "execution_count": 319,
   "metadata": {},
   "outputs": [
    {
     "data": {
      "text/plain": [
       "array([['data/yes/004ae714_nohash_0.wav', 'yes', '004ae714'],\n",
       "       ['data/yes/004ae714_nohash_1.wav', 'yes', '004ae714'],\n",
       "       ['data/yes/00970ce1_nohash_0.wav', 'yes', '00970ce1'],\n",
       "       ...,\n",
       "       ['data/nine/4e99c1b7_nohash_1.wav', 'nine', '4e99c1b7'],\n",
       "       ['data/nine/4e99c1b7_nohash_2.wav', 'nine', '4e99c1b7'],\n",
       "       ['data/nine/4e99c1b7_nohash_3.wav', 'nine', '4e99c1b7']],\n",
       "      dtype='<U33')"
      ]
     },
     "execution_count": 319,
     "metadata": {},
     "output_type": "execute_result"
    }
   ],
   "source": [
    "path_word_speakerId"
   ]
  },
  {
   "cell_type": "code",
   "execution_count": 320,
   "metadata": {},
   "outputs": [
    {
     "data": {
      "text/plain": [
       "array(['004ae714', '00970ce1', '00b01445', '00f0204f', '012187a4',\n",
       "       '012c8314', '0132a06d', '0135f3f2', '0137b3f4', '014f9f65',\n",
       "       '01648c51', '0165e0e8', '016e2c6d', '017c4098', '019fa366',\n",
       "       '01bb6a2a', '01bcfc0c', '01d22d03', '0227998e', '023808be',\n",
       "       '023a61ad', '02746d24', '02ade946', '02e85b60', '02fcd241',\n",
       "       '030ec18b', '03431e13', '035de8fe', '0362539c', '037c445a',\n",
       "       '038da7ee', '0397ecda', '03c96658', '03cf93b1', '042186b8',\n",
       "       '042a8dde', '042ea76c', '0447d7c1', '0474c92a', '050170cb',\n",
       "       '05739450', '0585b66d', '05b2db80', '05cf43ef', '05d18852',\n",
       "       '06076b6b', '061a5915', '063d48cf', '067c8570', '0685264e',\n",
       "       '069ab0d5', '06a79a03', '06f6c194', '07089da9', '070b49af',\n",
       "       '0717b9f6', '07363607', '075e38c3', '079d1020', '079dfce3',\n",
       "       '07ad9b59', '07c5129e', '0819edb0', '08ab231c', '08ab8082',\n",
       "       '093f65a1', '0943c746', '095847e4', '09a7aa2a', '09bcdc9d',\n",
       "       '09ddc105', '0a196374', '0a2b400e', '0a396ff2', '0a5636ca',\n",
       "       '0a7c2a8d', '0a9f9af7', '0ac15fe9', '0b09edd3', '0b139000',\n",
       "       '0b40aa8e', '0b56bcfe', '0b77ee66', '0b7ee1a0', '0ba018fc',\n",
       "       '0bd689d7', '0bde966a', '0bfec55f', '0c09f202', '0c2ca723',\n",
       "       '0c2d2ffa', '0c5027de', '0cc6b0b0', '0cd323ec', '0d2bcf9d',\n",
       "       '0d393936', '0d6d7360', '0d85a428', '0d90d8e1', '0e5193e6',\n",
       "       '0e6e36c9', '0e8ec1cb', '0eb48e10', '0f2442b6', '0f3f64d5',\n",
       "       '0f46028a', '0f7205ef', '0f7266cf', '0f7dc557', '0fc57d61',\n",
       "       '0ff728b5', '102192fd', '10467b06', '10627519', '106a6183',\n",
       "       '107bc341', '10ace7eb', '10c6d873', '11099149', '11321027',\n",
       "       '11379f4d', '113b3fbc', '118261a9', '11860c84', '11a022ba',\n",
       "       '11b1df78', '122c5aa7', '12529547', '12623a81', '126a31d2',\n",
       "       '129c7d8d', '12c206ea', '130d9a87', '13199b79', '131e738d',\n",
       "       '1338a799', '1365dd89', '139b255d', '13d7b8c9', '13dce503',\n",
       "       '140a0fdc', '144d27ff', '14587ff0', '146d97db', '1473be6a',\n",
       "       '1474273a', '14775481', '14872d06', '1496195a', '14c2b13d',\n",
       "       '14c7b073', '14df1e28', '151bfb79', '152491bc', '15574821',\n",
       "       '1589451d', '15b0c947', '15c371c7', '15c563d7', '15c9605c',\n",
       "       '15dd287d', '15f04ff8', '161fcca8', '1625acd8', '1626bc5a',\n",
       "       '1678e6f1', '16d41d07', '1706c35f', '172dc2b0', '173ae793',\n",
       "       '173ce2be', '173e6bbf', '1746d7b6', '179a61b7', '17c94b23',\n",
       "       '17cc40ee', '17f0e206', '1851e33b', '187af8be', '1887fe04',\n",
       "       '1890e5c3', '18a1aab9', '18a8f03f', '18c54a68', '18d120ae',\n",
       "       '18d84076', '18e910f4', '18ffa72d', '190821dc', '19414a96',\n",
       "       '195c120a', '196e84b7', '1970b130', '19785c4e', '197f4153',\n",
       "       '1993db46', '1995cf9e', '199da2bf', '19a1e5c7', '19e246ad',\n",
       "       '19e98e89', '19f9c115', '1a073312', '1a0f9c63', '1a4259c3',\n",
       "       '1a5b9ca4', '1a673010', '1a6eca98', '1a892463', '1a994c9f',\n",
       "       '1aeef15e', '1afd49bf', '1b18600d', '1b42b551', '1b459024',\n",
       "       '1b5ba788', '1b627376', '1b63157b', '1b755c65', '1b88bf70',\n",
       "       '1ba20be2', '1bb574f9', '1bb6ed89', '1c1060b1', '1c3f4fac',\n",
       "       '1c3f50ad', '1c45ceb2', '1c50d874', '1c6e5447', '1c76f5f3',\n",
       "       '1c84a139', '1cbcc7a7', '1cc80e39', '1cec8d71', '1d1fe0a0',\n",
       "       '1d919a90', '1daa5ada', '1dc86f91', '1dce06e8', '1df483c0',\n",
       "       '1df99a8a', '1e31353f', '1e4064b8', '1e412fac', '1e8044b4',\n",
       "       '1e9b215e', '1e9e6bdd', '1ecfb537', '1ed0b13d', '1ed557b9',\n",
       "       '1eddce1d', '1efdf53f', '1f3e4139', '1fc04a13', '1fd85ee4',\n",
       "       '1ffd513b', '20174140', '2039b9c1', '20a0d54b', '20d779bf',\n",
       "       '20fd451f', '211b928a', '211ccd2e', '21307344', '2144be19',\n",
       "       '214ccb20', '2151b09a', '215699ff', '21832144', '2197f41c',\n",
       "       '21cbe292', '21e8c417', '22296dbe', '2250f5f2', '226537ab',\n",
       "       '2275edbb', '229978fd', '22cb56b3', '23059a35', '2313e093',\n",
       "       '2335770e', '234ab0fb', '234d6a48', '2356b88d', '235b444f',\n",
       "       '2365eedb', '236b6113', '238c112c', '239a7376', '23abe1c9',\n",
       "       '23add12a', '23da904f', '244cc3a5', '24632875', '24694eb6',\n",
       "       '246d2c7f', '24a3e589', '24b82192', '24befdb3', '24c9f572',\n",
       "       '24ed94ab', '25040e85', '2510c044', '25132942', '256c0a05',\n",
       "       '257251e0', '2579e514', '2589f361', '25c14394', '25e95412',\n",
       "       '262d7a03', '265bd13a', '26631bee', '26653895', '26a093e1',\n",
       "       '26c54f73', '26e573a9', '270bfa52', '2748cce7', '274c008f',\n",
       "       '27b03931', '27c24504', '28460a60', '28612180', '28ce0c58',\n",
       "       '28e47b1a', '28ed6bc9', '2903efb3', '29229c21', '2927c601',\n",
       "       '299c14b1', '29dce108', '29fb33da', '2a0b413e', '2a1f4853',\n",
       "       '2aca1e72', '2ad772d6', '2aec99ec', '2b3f509b', '2b42e7a2',\n",
       "       '2b5e346d', '2b715941', '2ba8c7a4', '2bd2cad5', '2bdbe5f7',\n",
       "       '2be08ce4', '2bfe70ef', '2c393fd2', '2c5e0347', '2c6446f7',\n",
       "       '2c7c33e8', '2cec1d47', '2cf28b70', '2d327bc8', '2d3c8dcb',\n",
       "       '2d92f18b', '2da58b32', '2dc4f05d', '2dcb6848', '2dce72b3',\n",
       "       '2df590cd', '2e30f9a5', '2e75d37a', '2e7fac30', '2e8c59f7',\n",
       "       '2f0a410b', '2f0ce4d9', '2f666bb2', '2f813234', '2fcb6397',\n",
       "       '2fee065a', '300384f0', '30060aba', '30065f33', '3006c271',\n",
       "       '30137d34', '305776dd', '30802c5d', '30a09789', '30aabd44',\n",
       "       '30f31e42', '3102f006', '3108acca', '311fde72', '31267b59',\n",
       "       '31270cb2', '312b96ec', '312d6d81', '3143fdff', '31583d30',\n",
       "       '31601aad', '31d31fa0', '31d68957', '31db232b', '31e686d2',\n",
       "       '31fd5cf5', '3209ec42', '321aba74', '322d17d3', '324210dd',\n",
       "       '32561e9e', '325a0c39', '327289eb', '3291330e', '32efce64',\n",
       "       '33246bc2', '332d33b1', '333784b7', '333d7ddb', '3367cff6',\n",
       "       '3389305e', '338a40d6', '338dacf5', '33903159', '339f2c5c',\n",
       "       '3402e488', '340c8b10', '3411cf4b', '34263ab3', '3477fab6',\n",
       "       '34805883', '34881b10', '34ba417a', '34d5aa5a', '34e8c726',\n",
       "       '352ffbe3', '353b4d33', '3565ca83', '3589bc72', '35be2cc3',\n",
       "       '35c29afe', '35c8fa78', '35d1b6ee', '36050ef3', '363c6bad',\n",
       "       '364f979f', '365531e2', '365908bd', '36de13e1', '3777c08e',\n",
       "       '377e916b', '37a3cd33', '37b03ab1', '37bd115d', '37d38e44',\n",
       "       '37e8db82', '380abbad', '3824c00e', '3847619e', '3852fca2',\n",
       "       '38c30a4a', '38c388bc', '38d78313', '39025b21', '39543cfd',\n",
       "       '39833acb', '3983ba0d', '39999a0f', '39a12648', '39a45230',\n",
       "       '39a6b995', '39b5fdab', '39c13eed', '39dce8cc', '39ec87ac',\n",
       "       '3a182c98', '3a33d3a4', '3a3ee7ed', '3a53b856', '3a69f765',\n",
       "       '3a6d4afd', '3a70ab7f', '3a789a0d', '3a7d8872', '3ab9ba07',\n",
       "       '3ae5c04f', '3b195250', '3b3d2f59', '3b7f817e', '3b8406c0',\n",
       "       '3b852f6f', '3bb68054', '3bc21161', '3bfd30e6', '3c1e12cf',\n",
       "       '3c257192', '3c6d55b3', '3c6e33df', '3c8836dc', '3c8dc702',\n",
       "       '3cdecb0b', '3ce4910e', '3cfc6b3a', '3d3ddaf8', '3d53244b',\n",
       "       '3d676310', '3d6bee47', '3d794813', '3d9200b9', '3d9bbe2d',\n",
       "       '3da7f617', '3dfd6c23', '3e31dffe', '3e3b65eb', '3e3fa7fd',\n",
       "       '3e549219', '3e6e5b0f', '3ea77ede', '3eb8764c', '3ec05c3d',\n",
       "       '3ed3e49a', '3ee0fc39', '3efa7ec4', '3f45a0cf', '3f6ba067',\n",
       "       '3fb8c268', '3fdafe25', '3ffa3457', '40115b19', '402e2977',\n",
       "       '40738a2d', '408de0a4', '40b60ae9', '413997c1', '413bcfe1',\n",
       "       '41474817', '41777abb', '418e7158', '41dce6f5', '421ed23f',\n",
       "       '422f8cf1', '42398aab', '4249c833', '4254621e', '42a99aec',\n",
       "       '42c6fff1', '42ccb57a', '42e3f068', '42f81601', '434a267c',\n",
       "       '435695e3', '435f9f9e', '43691f67', '437455be', '4394fc7c',\n",
       "       '43b85b64', '43f57297', '4407ba92', '4422e51d', '446a3161',\n",
       "       '44dad20e', '44e9d8d2', '44f68a83', '44fb4274', '45864319',\n",
       "       '459345ea', '45adf84a', '460209ac', '460f2bad', '46114b4e',\n",
       "       '462dca36', '462e1919', '4634529e', '4649256f', '46a153d8',\n",
       "       '472b8045', '47565088', '479e64cc', '483e2a6f', '48463cbc',\n",
       "       '4874a7e9', '48a9f771', '48bdc11c', '48e8b82a', '493392c6',\n",
       "       '4954abe8', '4995d875', '499be02e', '49f30eed', '4a1e736b',\n",
       "       '4a294341', '4a4e28f1', '4a671512', '4a803e67', '4abb2400',\n",
       "       '4b25f620', '4b39347d', '4b3a7ad5', '4bb1244f', '4bba14ce',\n",
       "       '4bc2c2c5', '4beff0c5', '4c13fe25', '4c1aa16d', '4c3cddb8',\n",
       "       '4c432947', '4c594e0f', '4c62312c', '4c6944d6', '4ca37738',\n",
       "       '4cb874bb', '4cee0c60', '4d0d9906', '4d4e17f5', '4d763ca4',\n",
       "       '4d9e07cf', '4def68db', '4e02d62d', '4e61bf96', '4e8c5516',\n",
       "       '4e99c1b7', '4f086393', '4f256313', '4f2be90f', '4f558007',\n",
       "       '4f5c0b28', '4fd4d073', '508e30ee', '50928b05', '50a7d406',\n",
       "       '50a8ef27', '50b86bf8', '50d1c8e3', '5104f2f4', '51055bda',\n",
       "       '513aeddf', '5165cf0a', '5184ed3e', '5188de0d', '5195f0ec',\n",
       "       '51995cea', '51c5601d', '51eefcc6', '51f7a034', '520b2c17',\n",
       "       '520e8c0e', '52162b51', '528f9242', '529eda42', '530306f5',\n",
       "       '531a5b8a', '533c6564', '53458368', '53fd1780', '542f38a2',\n",
       "       '54412eae', '54ad8f22', '54aecbd5', '54b6d355', '551e42e8',\n",
       "       '5588c7e6', '559bc36a', '5677ec77', '569455ff', '56abe7dc',\n",
       "       '56cd307a', '56eab10e', '56f78b7e', '56f8a100', '57152045',\n",
       "       '571c044e', '57376a4c', '5769c5ab', '578d3efb', '57b38f48',\n",
       "       '57b68383', '57de2379', '58df33b5'], dtype='<U33')"
      ]
     },
     "execution_count": 320,
     "metadata": {},
     "output_type": "execute_result"
    }
   ],
   "source": [
    "np.unique(path_word_speakerId[:,2])"
   ]
  },
  {
   "cell_type": "code",
   "execution_count": 321,
   "metadata": {},
   "outputs": [],
   "source": [
    "def build_features(path_word_speakerId, n_mfcc,NSAMPLES, PATHSAMPLES, SOUNDS):\n",
    "    N_rows = NSAMPLES*len(SOUNDS)*n_mfcc\n",
    "    N_colums = n_mfcc +3# número de columnas del mfcc + 3 columnas (la palabra y el speaker id, path al que pertenece)\n",
    "    # el path es necesario ya que estamos teniendo un enfoque de multiples instancias.\n",
    "    path_word_speakerId = get_Path_Word_SpeakerId(NSAMPLES, PATHSAMPLES, SOUNDS)\n",
    "    matrix_features = np.empty((1,23)) # inicialmente\n",
    "\n",
    "    #Encode etiqueta del audio,speaker y la palabra\n",
    "    lePath = preprocessing.LabelEncoder()\n",
    "    leSpeaker = preprocessing.LabelEncoder()\n",
    "    leWord =  preprocessing.LabelEncoder()\n",
    "    \n",
    "    lePath.fit(path_word_speakerId[:,0])\n",
    "    leSpeaker.fit(path_word_speakerId[:,2])\n",
    "    leWord.fit(path_word_speakerId[:,1])\n",
    "    \n",
    "        \n",
    "    for sound_info in path_word_speakerId:\n",
    "        audio_path = '../'+sound_info[0]\n",
    "        x , sr = librosa.load(audio_path)\n",
    "        x_normalize=sk.preprocessing.minmax_scale(x, axis=0)       \n",
    "        mfccs = librosa.feature.mfcc(x_normalize, sr=sr,n_mfcc=n_mfcc,hop_length=int(0.010*sr), n_fft=int(0.025*sr))\n",
    "        n_windows = mfccs.shape[1]\n",
    "        path = sound_info[0]\n",
    "        speaker_id = sound_info[2]\n",
    "        word=sound_info[1]        \n",
    "        labelPath = lePath.transform([path])\n",
    "        labelSpeaker = leSpeaker.transform([speaker_id])\n",
    "        labelWord= leWord.transform([word])                \n",
    "        labelPath = np.repeat(labelPath,10)\n",
    "        labelWord =  np.repeat(labelWord,10)\n",
    "        labelSpeaker= np.repeat(labelSpeaker,10)        \n",
    "        fila_P_W_S = np.array([labelPath,labelWord,labelSpeaker]).T  \n",
    "        #mfccFull =  np.hstack((mfccs.T,fila_P_W_S)) \n",
    "        #Selecciona de 10 y se promedian\n",
    "        mfccFull_split = np.array_split(mfccs.T,10)\n",
    "        avg_splis = np.ones((10,20))\n",
    "        i = 0\n",
    "        for spli in mfccFull_split:\n",
    "            avg_spli = np.average(spli,axis=0)            \n",
    "            avg_splis[i]=avg_spli\n",
    "            i = i+1\n",
    "        mfccFull =  np.hstack((avg_splis,fila_P_W_S))\n",
    "        \n",
    "        matrix_features = np.concatenate((matrix_features,mfccFull), axis=0)        \n",
    "    return matrix_features[1:,:]"
   ]
  },
  {
   "cell_type": "code",
   "execution_count": 322,
   "metadata": {},
   "outputs": [
    {
     "name": "stdout",
     "output_type": "stream",
     "text": [
      "(50000, 23)\n"
     ]
    }
   ],
   "source": [
    "matrixFinal = build_features(path_word_speakerId, 20,NSAMPLES, PATHSAMPLES, SOUNDS)\n",
    "print(matrixFinal.shape)"
   ]
  },
  {
   "cell_type": "code",
   "execution_count": 323,
   "metadata": {},
   "outputs": [],
   "source": [
    "np.savetxt('../data/audios_MFCC_average.csv',matrixFinal,delimiter=\",\")"
   ]
  },
  {
   "cell_type": "code",
   "execution_count": 324,
   "metadata": {},
   "outputs": [
    {
     "data": {
      "text/plain": [
       "(50000, 23)"
      ]
     },
     "execution_count": 324,
     "metadata": {},
     "output_type": "execute_result"
    }
   ],
   "source": [
    "data_avg = pd.read_csv('../data/audios_MFCC_average.csv', sep=\",\", header=None)\n",
    "data_avg = data_avg.values #Convertir en numpy array\n",
    "data_avg.shape"
   ]
  },
  {
   "cell_type": "code",
   "execution_count": null,
   "metadata": {},
   "outputs": [],
   "source": []
  }
 ],
 "metadata": {
  "kernelspec": {
   "display_name": "Python 3",
   "language": "python",
   "name": "python3"
  },
  "language_info": {
   "codemirror_mode": {
    "name": "ipython",
    "version": 3
   },
   "file_extension": ".py",
   "mimetype": "text/x-python",
   "name": "python",
   "nbconvert_exporter": "python",
   "pygments_lexer": "ipython3",
   "version": "3.7.5rc1"
  }
 },
 "nbformat": 4,
 "nbformat_minor": 2
}
