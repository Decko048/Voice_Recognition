{
 "cells": [
  {
   "cell_type": "markdown",
   "metadata": {},
   "source": [
    "# MFCCS\n",
    "Obtener los mfccs para 5 clases c/u de 500 audios, para un total de 15.000 audios"
   ]
  },
  {
   "cell_type": "code",
   "execution_count": 12,
   "metadata": {},
   "outputs": [],
   "source": [
    "import librosa\n",
    "import IPython.display as ipd\n",
    "%matplotlib inline\n",
    "import matplotlib.pyplot as plt\n",
    "import librosa.display\n",
    "import numpy as np\n",
    "import sklearn as sk\n",
    "import pandas as pd\n",
    "from sklearn import preprocessing"
   ]
  },
  {
   "cell_type": "code",
   "execution_count": 264,
   "metadata": {},
   "outputs": [],
   "source": [
    "#PATHSAMPLES = '../data/training_list_test_temporal.txt'\n",
    "PATHSAMPLES = '../data/training_list.txt'\n",
    "NSAMPLES = 30\n",
    "SOUNDS =np.array(['yes','no','right','five','nine'])\n",
    "#SOUNDS =np.array(['off','five','left'])"
   ]
  },
  {
   "cell_type": "code",
   "execution_count": 265,
   "metadata": {},
   "outputs": [],
   "source": [
    "def get_Path_Word_SpeakerId(NSAMPLES, PATHSAMPLES, SOUNDS):\n",
    "    ROOTPATH= 'data/'\n",
    "    data = pd.read_csv(PATHSAMPLES, sep=\" \", header=None)\n",
    "    data = data.values #Convertir en numpy array\n",
    "    labels = []\n",
    "    speakers  = []\n",
    "    paths = []\n",
    "    for path in data:\n",
    "        pathSplit =path[0].split('/')\n",
    "        speakerName = pathSplit[1].split('_')[0]\n",
    "        word = pathSplit[0]\n",
    "        isWord = np.where(SOUNDS == word)\n",
    "        if len(isWord[0]) != 0:\n",
    "            label = SOUNDS[isWord[0][0]]\n",
    "            labels.append(label)\n",
    "            speakers.append(speakerName)\n",
    "            paths.append(ROOTPATH+path[0])\n",
    "    NSAMPLES = NSAMPLES\n",
    "    first = labels.index(SOUNDS[0])\n",
    "    last = first +NSAMPLES\n",
    "    matrixMajor = np.column_stack([paths[first:last], labels[first:last], speakers[first:last]])    \n",
    "    for i in range(1,np.size(SOUNDS,0)):\n",
    "        first = labels.index(SOUNDS[i])\n",
    "        last = first +NSAMPLES\n",
    "        clasei = np.column_stack([paths[first:last], labels[first:last], speakers[first:last]])    \n",
    "        matrixMajor = np.append(matrixMajor,clasei,axis=0)\n",
    "    return matrixMajor"
   ]
  },
  {
   "cell_type": "code",
   "execution_count": 266,
   "metadata": {},
   "outputs": [],
   "source": [
    "path_word_speakerId = get_Path_Word_SpeakerId(NSAMPLES, PATHSAMPLES, SOUNDS)"
   ]
  },
  {
   "cell_type": "code",
   "execution_count": 267,
   "metadata": {},
   "outputs": [
    {
     "data": {
      "text/plain": [
       "(150, 3)"
      ]
     },
     "execution_count": 267,
     "metadata": {},
     "output_type": "execute_result"
    }
   ],
   "source": [
    "path_word_speakerId.shape"
   ]
  },
  {
   "cell_type": "code",
   "execution_count": 268,
   "metadata": {},
   "outputs": [
    {
     "data": {
      "text/plain": [
       "array([['data/yes/004ae714_nohash_0.wav', 'yes', '004ae714'],\n",
       "       ['data/yes/004ae714_nohash_1.wav', 'yes', '004ae714'],\n",
       "       ['data/yes/00970ce1_nohash_0.wav', 'yes', '00970ce1'],\n",
       "       ['data/yes/00f0204f_nohash_0.wav', 'yes', '00f0204f'],\n",
       "       ['data/yes/00f0204f_nohash_1.wav', 'yes', '00f0204f'],\n",
       "       ['data/yes/00f0204f_nohash_2.wav', 'yes', '00f0204f'],\n",
       "       ['data/yes/012c8314_nohash_0.wav', 'yes', '012c8314'],\n",
       "       ['data/yes/0132a06d_nohash_0.wav', 'yes', '0132a06d'],\n",
       "       ['data/yes/0132a06d_nohash_1.wav', 'yes', '0132a06d'],\n",
       "       ['data/yes/0132a06d_nohash_2.wav', 'yes', '0132a06d'],\n",
       "       ['data/yes/0132a06d_nohash_3.wav', 'yes', '0132a06d'],\n",
       "       ['data/yes/0132a06d_nohash_4.wav', 'yes', '0132a06d'],\n",
       "       ['data/yes/0135f3f2_nohash_0.wav', 'yes', '0135f3f2'],\n",
       "       ['data/yes/0135f3f2_nohash_1.wav', 'yes', '0135f3f2'],\n",
       "       ['data/yes/0137b3f4_nohash_0.wav', 'yes', '0137b3f4'],\n",
       "       ['data/yes/0137b3f4_nohash_1.wav', 'yes', '0137b3f4'],\n",
       "       ['data/yes/0137b3f4_nohash_2.wav', 'yes', '0137b3f4'],\n",
       "       ['data/yes/0137b3f4_nohash_3.wav', 'yes', '0137b3f4'],\n",
       "       ['data/yes/0137b3f4_nohash_4.wav', 'yes', '0137b3f4'],\n",
       "       ['data/yes/01648c51_nohash_0.wav', 'yes', '01648c51'],\n",
       "       ['data/yes/01648c51_nohash_1.wav', 'yes', '01648c51'],\n",
       "       ['data/yes/016e2c6d_nohash_0.wav', 'yes', '016e2c6d'],\n",
       "       ['data/yes/017c4098_nohash_0.wav', 'yes', '017c4098'],\n",
       "       ['data/yes/017c4098_nohash_1.wav', 'yes', '017c4098'],\n",
       "       ['data/yes/017c4098_nohash_2.wav', 'yes', '017c4098'],\n",
       "       ['data/yes/017c4098_nohash_3.wav', 'yes', '017c4098'],\n",
       "       ['data/yes/019fa366_nohash_0.wav', 'yes', '019fa366'],\n",
       "       ['data/yes/019fa366_nohash_1.wav', 'yes', '019fa366'],\n",
       "       ['data/yes/01bb6a2a_nohash_0.wav', 'yes', '01bb6a2a'],\n",
       "       ['data/yes/01bb6a2a_nohash_1.wav', 'yes', '01bb6a2a'],\n",
       "       ['data/no/012c8314_nohash_0.wav', 'no', '012c8314'],\n",
       "       ['data/no/0132a06d_nohash_0.wav', 'no', '0132a06d'],\n",
       "       ['data/no/0132a06d_nohash_1.wav', 'no', '0132a06d'],\n",
       "       ['data/no/0132a06d_nohash_2.wav', 'no', '0132a06d'],\n",
       "       ['data/no/0132a06d_nohash_3.wav', 'no', '0132a06d'],\n",
       "       ['data/no/0132a06d_nohash_4.wav', 'no', '0132a06d'],\n",
       "       ['data/no/0137b3f4_nohash_0.wav', 'no', '0137b3f4'],\n",
       "       ['data/no/0137b3f4_nohash_1.wav', 'no', '0137b3f4'],\n",
       "       ['data/no/0137b3f4_nohash_2.wav', 'no', '0137b3f4'],\n",
       "       ['data/no/0137b3f4_nohash_3.wav', 'no', '0137b3f4'],\n",
       "       ['data/no/0137b3f4_nohash_4.wav', 'no', '0137b3f4'],\n",
       "       ['data/no/01648c51_nohash_0.wav', 'no', '01648c51'],\n",
       "       ['data/no/01648c51_nohash_1.wav', 'no', '01648c51'],\n",
       "       ['data/no/017c4098_nohash_0.wav', 'no', '017c4098'],\n",
       "       ['data/no/017c4098_nohash_1.wav', 'no', '017c4098'],\n",
       "       ['data/no/017c4098_nohash_2.wav', 'no', '017c4098'],\n",
       "       ['data/no/017c4098_nohash_3.wav', 'no', '017c4098'],\n",
       "       ['data/no/017c4098_nohash_4.wav', 'no', '017c4098'],\n",
       "       ['data/no/019fa366_nohash_0.wav', 'no', '019fa366'],\n",
       "       ['data/no/01bb6a2a_nohash_0.wav', 'no', '01bb6a2a'],\n",
       "       ['data/no/01bb6a2a_nohash_1.wav', 'no', '01bb6a2a'],\n",
       "       ['data/no/01bcfc0c_nohash_0.wav', 'no', '01bcfc0c'],\n",
       "       ['data/no/01bcfc0c_nohash_1.wav', 'no', '01bcfc0c'],\n",
       "       ['data/no/01d22d03_nohash_0.wav', 'no', '01d22d03'],\n",
       "       ['data/no/01d22d03_nohash_1.wav', 'no', '01d22d03'],\n",
       "       ['data/no/0227998e_nohash_0.wav', 'no', '0227998e'],\n",
       "       ['data/no/02746d24_nohash_0.wav', 'no', '02746d24'],\n",
       "       ['data/no/02ade946_nohash_0.wav', 'no', '02ade946'],\n",
       "       ['data/no/02ade946_nohash_1.wav', 'no', '02ade946'],\n",
       "       ['data/no/02ade946_nohash_2.wav', 'no', '02ade946'],\n",
       "       ['data/right/00b01445_nohash_0.wav', 'right', '00b01445'],\n",
       "       ['data/right/012187a4_nohash_0.wav', 'right', '012187a4'],\n",
       "       ['data/right/012187a4_nohash_1.wav', 'right', '012187a4'],\n",
       "       ['data/right/012c8314_nohash_0.wav', 'right', '012c8314'],\n",
       "       ['data/right/012c8314_nohash_1.wav', 'right', '012c8314'],\n",
       "       ['data/right/0132a06d_nohash_0.wav', 'right', '0132a06d'],\n",
       "       ['data/right/0132a06d_nohash_1.wav', 'right', '0132a06d'],\n",
       "       ['data/right/0132a06d_nohash_2.wav', 'right', '0132a06d'],\n",
       "       ['data/right/0132a06d_nohash_3.wav', 'right', '0132a06d'],\n",
       "       ['data/right/0135f3f2_nohash_0.wav', 'right', '0135f3f2'],\n",
       "       ['data/right/0135f3f2_nohash_1.wav', 'right', '0135f3f2'],\n",
       "       ['data/right/0135f3f2_nohash_2.wav', 'right', '0135f3f2'],\n",
       "       ['data/right/0137b3f4_nohash_0.wav', 'right', '0137b3f4'],\n",
       "       ['data/right/0137b3f4_nohash_1.wav', 'right', '0137b3f4'],\n",
       "       ['data/right/0137b3f4_nohash_2.wav', 'right', '0137b3f4'],\n",
       "       ['data/right/0137b3f4_nohash_3.wav', 'right', '0137b3f4'],\n",
       "       ['data/right/0165e0e8_nohash_0.wav', 'right', '0165e0e8'],\n",
       "       ['data/right/016e2c6d_nohash_0.wav', 'right', '016e2c6d'],\n",
       "       ['data/right/017c4098_nohash_0.wav', 'right', '017c4098'],\n",
       "       ['data/right/017c4098_nohash_1.wav', 'right', '017c4098'],\n",
       "       ['data/right/017c4098_nohash_2.wav', 'right', '017c4098'],\n",
       "       ['data/right/01bb6a2a_nohash_0.wav', 'right', '01bb6a2a'],\n",
       "       ['data/right/01bb6a2a_nohash_1.wav', 'right', '01bb6a2a'],\n",
       "       ['data/right/01bb6a2a_nohash_2.wav', 'right', '01bb6a2a'],\n",
       "       ['data/right/01d22d03_nohash_0.wav', 'right', '01d22d03'],\n",
       "       ['data/right/01d22d03_nohash_1.wav', 'right', '01d22d03'],\n",
       "       ['data/right/0227998e_nohash_0.wav', 'right', '0227998e'],\n",
       "       ['data/right/023a61ad_nohash_0.wav', 'right', '023a61ad'],\n",
       "       ['data/right/02ade946_nohash_0.wav', 'right', '02ade946'],\n",
       "       ['data/right/02ade946_nohash_1.wav', 'right', '02ade946'],\n",
       "       ['data/five/004ae714_nohash_0.wav', 'five', '004ae714'],\n",
       "       ['data/five/00b01445_nohash_0.wav', 'five', '00b01445'],\n",
       "       ['data/five/00b01445_nohash_1.wav', 'five', '00b01445'],\n",
       "       ['data/five/00f0204f_nohash_0.wav', 'five', '00f0204f'],\n",
       "       ['data/five/012c8314_nohash_0.wav', 'five', '012c8314'],\n",
       "       ['data/five/012c8314_nohash_1.wav', 'five', '012c8314'],\n",
       "       ['data/five/0132a06d_nohash_0.wav', 'five', '0132a06d'],\n",
       "       ['data/five/0132a06d_nohash_1.wav', 'five', '0132a06d'],\n",
       "       ['data/five/0132a06d_nohash_2.wav', 'five', '0132a06d'],\n",
       "       ['data/five/0132a06d_nohash_3.wav', 'five', '0132a06d'],\n",
       "       ['data/five/0132a06d_nohash_4.wav', 'five', '0132a06d'],\n",
       "       ['data/five/0135f3f2_nohash_0.wav', 'five', '0135f3f2'],\n",
       "       ['data/five/0137b3f4_nohash_0.wav', 'five', '0137b3f4'],\n",
       "       ['data/five/0137b3f4_nohash_1.wav', 'five', '0137b3f4'],\n",
       "       ['data/five/0137b3f4_nohash_2.wav', 'five', '0137b3f4'],\n",
       "       ['data/five/0137b3f4_nohash_3.wav', 'five', '0137b3f4'],\n",
       "       ['data/five/014f9f65_nohash_0.wav', 'five', '014f9f65'],\n",
       "       ['data/five/014f9f65_nohash_1.wav', 'five', '014f9f65'],\n",
       "       ['data/five/014f9f65_nohash_2.wav', 'five', '014f9f65'],\n",
       "       ['data/five/01648c51_nohash_0.wav', 'five', '01648c51'],\n",
       "       ['data/five/017c4098_nohash_0.wav', 'five', '017c4098'],\n",
       "       ['data/five/017c4098_nohash_1.wav', 'five', '017c4098'],\n",
       "       ['data/five/017c4098_nohash_2.wav', 'five', '017c4098'],\n",
       "       ['data/five/017c4098_nohash_3.wav', 'five', '017c4098'],\n",
       "       ['data/five/017c4098_nohash_4.wav', 'five', '017c4098'],\n",
       "       ['data/five/01bb6a2a_nohash_0.wav', 'five', '01bb6a2a'],\n",
       "       ['data/five/01bb6a2a_nohash_1.wav', 'five', '01bb6a2a'],\n",
       "       ['data/five/01bb6a2a_nohash_2.wav', 'five', '01bb6a2a'],\n",
       "       ['data/five/01bb6a2a_nohash_3.wav', 'five', '01bb6a2a'],\n",
       "       ['data/five/01bb6a2a_nohash_4.wav', 'five', '01bb6a2a'],\n",
       "       ['data/nine/00b01445_nohash_0.wav', 'nine', '00b01445'],\n",
       "       ['data/nine/012c8314_nohash_0.wav', 'nine', '012c8314'],\n",
       "       ['data/nine/012c8314_nohash_1.wav', 'nine', '012c8314'],\n",
       "       ['data/nine/012c8314_nohash_2.wav', 'nine', '012c8314'],\n",
       "       ['data/nine/0132a06d_nohash_0.wav', 'nine', '0132a06d'],\n",
       "       ['data/nine/0132a06d_nohash_1.wav', 'nine', '0132a06d'],\n",
       "       ['data/nine/0132a06d_nohash_2.wav', 'nine', '0132a06d'],\n",
       "       ['data/nine/0137b3f4_nohash_0.wav', 'nine', '0137b3f4'],\n",
       "       ['data/nine/0137b3f4_nohash_1.wav', 'nine', '0137b3f4'],\n",
       "       ['data/nine/0137b3f4_nohash_2.wav', 'nine', '0137b3f4'],\n",
       "       ['data/nine/0137b3f4_nohash_3.wav', 'nine', '0137b3f4'],\n",
       "       ['data/nine/014f9f65_nohash_0.wav', 'nine', '014f9f65'],\n",
       "       ['data/nine/014f9f65_nohash_1.wav', 'nine', '014f9f65'],\n",
       "       ['data/nine/014f9f65_nohash_2.wav', 'nine', '014f9f65'],\n",
       "       ['data/nine/01648c51_nohash_0.wav', 'nine', '01648c51'],\n",
       "       ['data/nine/0165e0e8_nohash_0.wav', 'nine', '0165e0e8'],\n",
       "       ['data/nine/016e2c6d_nohash_0.wav', 'nine', '016e2c6d'],\n",
       "       ['data/nine/017c4098_nohash_0.wav', 'nine', '017c4098'],\n",
       "       ['data/nine/017c4098_nohash_1.wav', 'nine', '017c4098'],\n",
       "       ['data/nine/017c4098_nohash_2.wav', 'nine', '017c4098'],\n",
       "       ['data/nine/017c4098_nohash_3.wav', 'nine', '017c4098'],\n",
       "       ['data/nine/01bb6a2a_nohash_0.wav', 'nine', '01bb6a2a'],\n",
       "       ['data/nine/01bb6a2a_nohash_1.wav', 'nine', '01bb6a2a'],\n",
       "       ['data/nine/01bb6a2a_nohash_2.wav', 'nine', '01bb6a2a'],\n",
       "       ['data/nine/01bb6a2a_nohash_3.wav', 'nine', '01bb6a2a'],\n",
       "       ['data/nine/01bcfc0c_nohash_0.wav', 'nine', '01bcfc0c'],\n",
       "       ['data/nine/01d22d03_nohash_0.wav', 'nine', '01d22d03'],\n",
       "       ['data/nine/01d22d03_nohash_1.wav', 'nine', '01d22d03'],\n",
       "       ['data/nine/0227998e_nohash_0.wav', 'nine', '0227998e'],\n",
       "       ['data/nine/023808be_nohash_0.wav', 'nine', '023808be']],\n",
       "      dtype='<U32')"
      ]
     },
     "execution_count": 268,
     "metadata": {},
     "output_type": "execute_result"
    }
   ],
   "source": [
    "path_word_speakerId"
   ]
  },
  {
   "cell_type": "code",
   "execution_count": 269,
   "metadata": {},
   "outputs": [
    {
     "data": {
      "text/plain": [
       "array(['004ae714', '00970ce1', '00b01445', '00f0204f', '012187a4',\n",
       "       '012c8314', '0132a06d', '0135f3f2', '0137b3f4', '014f9f65',\n",
       "       '01648c51', '0165e0e8', '016e2c6d', '017c4098', '019fa366',\n",
       "       '01bb6a2a', '01bcfc0c', '01d22d03', '0227998e', '023808be',\n",
       "       '023a61ad', '02746d24', '02ade946'], dtype='<U32')"
      ]
     },
     "execution_count": 269,
     "metadata": {},
     "output_type": "execute_result"
    }
   ],
   "source": [
    "np.unique(path_word_speakerId[:,2])"
   ]
  },
  {
   "cell_type": "code",
   "execution_count": 270,
   "metadata": {},
   "outputs": [],
   "source": [
    "def build_features(path_word_speakerId, n_mfcc,NSAMPLES, PATHSAMPLES, SOUNDS):\n",
    "    N_rows = NSAMPLES*len(SOUNDS)*n_mfcc\n",
    "    N_colums = n_mfcc +3# número de columnas del mfcc + 3 columnas (la palabra y el speaker id, path al que pertenece)\n",
    "    # el path es necesario ya que estamos teniendo un enfoque de multiples instancias.\n",
    "    path_word_speakerId = get_Path_Word_SpeakerId(NSAMPLES, PATHSAMPLES, SOUNDS)\n",
    "    matrix_features = np.empty((1,23)) # inicialmente\n",
    "\n",
    "    #Encode etiqueta del audio,speaker y la palabra\n",
    "    lePath = preprocessing.LabelEncoder()\n",
    "    leSpeaker = preprocessing.LabelEncoder()\n",
    "    leWord =  preprocessing.LabelEncoder()\n",
    "    \n",
    "    lePath.fit(path_word_speakerId[:,0])\n",
    "    leSpeaker.fit(path_word_speakerId[:,2])\n",
    "    leWord.fit(path_word_speakerId[:,1])\n",
    "    \n",
    "        \n",
    "    for sound_info in path_word_speakerId:\n",
    "        audio_path = '../'+sound_info[0]\n",
    "        x , sr = librosa.load(audio_path)\n",
    "        x_normalize=sk.preprocessing.minmax_scale(x, axis=0)       \n",
    "        mfccs = librosa.feature.mfcc(x_normalize, sr=sr,n_mfcc=n_mfcc,hop_length=int(0.010*sr), n_fft=int(0.025*sr))\n",
    "        n_windows = mfccs.shape[1]\n",
    "        path = sound_info[0]\n",
    "        speaker_id = sound_info[2]\n",
    "        word=sound_info[1]        \n",
    "        labelPath = lePath.transform([path])\n",
    "        labelSpeaker = leSpeaker.transform([speaker_id])\n",
    "        labelWord= leWord.transform([word])                \n",
    "        labelPath = np.repeat(labelPath,10)\n",
    "        labelWord =  np.repeat(labelWord,10)\n",
    "        labelSpeaker= np.repeat(labelSpeaker,10)        \n",
    "        fila_P_W_S = np.array([labelPath,labelWord,labelSpeaker]).T  \n",
    "        #mfccFull =  np.hstack((mfccs.T,fila_P_W_S)) \n",
    "        #Selecciona de 10 y se promedian\n",
    "        mfccFull_split = np.array_split(mfccs.T,10)\n",
    "        avg_splis = np.ones((10,20))\n",
    "        i = 0\n",
    "        for spli in mfccFull_split:\n",
    "            avg_spli = np.average(spli,axis=0)            \n",
    "            avg_splis[i]=avg_spli\n",
    "            i = i+1\n",
    "        mfccFull =  np.hstack((avg_splis,fila_P_W_S))\n",
    "        \n",
    "        matrix_features = np.concatenate((matrix_features,mfccFull), axis=0)        \n",
    "    return matrix_features[1:,:]"
   ]
  },
  {
   "cell_type": "code",
   "execution_count": 271,
   "metadata": {},
   "outputs": [
    {
     "name": "stdout",
     "output_type": "stream",
     "text": [
      "(1500, 23)\n"
     ]
    }
   ],
   "source": [
    "matrixFinal = build_features(path_word_speakerId, 20,NSAMPLES, PATHSAMPLES, SOUNDS)\n",
    "print(matrixFinal.shape)"
   ]
  },
  {
   "cell_type": "code",
   "execution_count": 272,
   "metadata": {},
   "outputs": [],
   "source": [
    "np.savetxt('../data/audios_MFCC_average.csv',matrixFinal,delimiter=\",\")"
   ]
  },
  {
   "cell_type": "code",
   "execution_count": 273,
   "metadata": {},
   "outputs": [
    {
     "data": {
      "text/plain": [
       "(1500, 23)"
      ]
     },
     "execution_count": 273,
     "metadata": {},
     "output_type": "execute_result"
    }
   ],
   "source": [
    "data_avg = pd.read_csv('../data/audios_MFCC_average.csv', sep=\",\", header=None)\n",
    "data_avg = data_avg.values #Convertir en numpy array\n",
    "data_avg.shape"
   ]
  },
  {
   "cell_type": "code",
   "execution_count": null,
   "metadata": {},
   "outputs": [],
   "source": []
  }
 ],
 "metadata": {
  "kernelspec": {
   "display_name": "Python 3",
   "language": "python",
   "name": "python3"
  },
  "language_info": {
   "codemirror_mode": {
    "name": "ipython",
    "version": 3
   },
   "file_extension": ".py",
   "mimetype": "text/x-python",
   "name": "python",
   "nbconvert_exporter": "python",
   "pygments_lexer": "ipython3",
   "version": "3.7.5"
  }
 },
 "nbformat": 4,
 "nbformat_minor": 2
}
