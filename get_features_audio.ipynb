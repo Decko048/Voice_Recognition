{
 "cells": [
  {
   "cell_type": "code",
   "execution_count": 5,
   "metadata": {},
   "outputs": [],
   "source": [
    "import IPython\n",
    "import matplotlib.pyplot as plt\n",
    "from matplotlib.backend_bases import RendererBase\n",
    "from scipy import signal\n",
    "from scipy.io import wavfile\n",
    "#import soundfile as sf\n",
    "import os\n",
    "import numpy as np\n",
    "from PIL import Image\n",
    "from scipy.fftpack import fft\n",
    "\n",
    "%matplotlib inline"
   ]
  },
  {
   "cell_type": "code",
   "execution_count": 264,
   "metadata": {},
   "outputs": [],
   "source": [
    "class GETFEATURES():\n",
    "    def readAudios(self,path):    \n",
    "        samplerate, data = wavfile.read(path)\n",
    "        return samplerate, data\n",
    "    \n",
    "    def log_specgram(self,data, sample_rate, window_size=20,\n",
    "                     step_size=10, eps=1e-10):\n",
    "        nperseg = int(round(window_size * sample_rate / 1e3))\n",
    "        noverlap = int(round(step_size * sample_rate / 1e3))\n",
    "        #t Array of segment times.\n",
    "        freqs,t, spec = signal.spectrogram(data,\n",
    "                                        fs=sample_rate,\n",
    "                                        window='hann',\n",
    "                                        nperseg=nperseg,\n",
    "                                        noverlap=noverlap,\n",
    "                                        detrend=False)\n",
    "        return freqs, np.log(spec.T.astype(np.float32) + eps)\n",
    "    #Retorna array 2 filas y num_columns*num_rows en la primera columna esta la media del bloque y en la segunda la std\n",
    "    \n",
    "    def split_blocks(self,num_rows, num_columns, spectogram):\n",
    "        features = np.zeros((2,num_columns*num_rows))\n",
    "        featuresColumns = np.array_split(spectogram, num_columns,1)\n",
    "        cont = 0\n",
    "        for i in range(len(featuresColumns)):\n",
    "            featureRow= np.array_split(featuresColumns[i], num_rows,0) \n",
    "            for j in range(len(featureRow)):\n",
    "                features[0][cont]=(np.mean(featureRow[j]))\n",
    "                features[1][cont]=(np.std(featureRow[j]))\n",
    "                cont = cont +1\n",
    "        return features #fila con el numero carácteristicas con la media y std\n",
    "    \n",
    "    def get_features_audios(self,path, num_rows, num_columns):\n",
    "        sample_rate, data = readAudios(path)\n",
    "        freqs, spectogram = log_specgram(data, sample_rate)\n",
    "        features = split_blocks(num_rows, num_columns, spectogram)\n",
    "        return features.flatten()       "
   ]
  },
  {
   "cell_type": "code",
   "execution_count": 265,
   "metadata": {},
   "outputs": [],
   "source": [
    "GF = GETFEATURES()"
   ]
  },
  {
   "cell_type": "code",
   "execution_count": 266,
   "metadata": {},
   "outputs": [
    {
     "data": {
      "text/plain": [
       "(126,)"
      ]
     },
     "execution_count": 266,
     "metadata": {},
     "output_type": "execute_result"
    }
   ],
   "source": [
    "f=GF.get_features_audios('data/backward/017c4098_nohash_3.wav', 9, 7)\n",
    "f.shape"
   ]
  },
  {
   "cell_type": "code",
   "execution_count": null,
   "metadata": {},
   "outputs": [],
   "source": []
  }
 ],
 "metadata": {
  "kernelspec": {
   "display_name": "Python 3",
   "language": "python",
   "name": "python3"
  },
  "language_info": {
   "codemirror_mode": {
    "name": "ipython",
    "version": 3
   },
   "file_extension": ".py",
   "mimetype": "text/x-python",
   "name": "python",
   "nbconvert_exporter": "python",
   "pygments_lexer": "ipython3",
   "version": "3.7.2"
  }
 },
 "nbformat": 4,
 "nbformat_minor": 2
}
