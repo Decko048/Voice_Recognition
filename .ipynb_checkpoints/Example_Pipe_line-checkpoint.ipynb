{
 "cells": [
  {
   "cell_type": "code",
   "execution_count": 2,
   "metadata": {},
   "outputs": [],
   "source": [
    "import IPython\n",
    "import matplotlib.pyplot as plt\n",
    "import numpy as np\n",
    "import pandas as pd\n",
    "from sklearn.model_selection import GroupShuffleSplit\n",
    "import math\n",
    "from sklearn.naive_bayes import GaussianNB\n",
    "import scipy as sc\n",
    "from scipy import stats\n",
    "from matplotlib.ticker import FuncFormatter\n",
    "from sklearn.model_selection import GridSearchCV\n",
    "from sklearn.metrics import make_scorer, accuracy_score, precision_score,recall_score, f1_score\n",
    "from sklearn.metrics import classification_report,confusion_matrix,accuracy_score,roc_curve,auc\n",
    "import seaborn as sns\n",
    "\n",
    "%matplotlib inline"
   ]
  },
  {
   "cell_type": "code",
   "execution_count": 3,
   "metadata": {},
   "outputs": [],
   "source": [
    "PATHDATA = 'audiosData.csv'\n",
    "df = pd.read_csv(PATHDATA, header=None)\n",
    "data = df.values"
   ]
  },
  {
   "cell_type": "code",
   "execution_count": 6,
   "metadata": {},
   "outputs": [
    {
     "name": "stdout",
     "output_type": "stream",
     "text": [
      "Tamaño dataSet (5200, 162)\n",
      "\n",
      "\n"
     ]
    }
   ],
   "source": [
    "X = data[:,0:-2]\n",
    "Y = data[:,-1]\n",
    "print('Tamaño dataSet', X.shape)\n",
    "print('\\n')\n",
    "Y=  np.reshape(Y,(np.size(Y,0),1))\n",
    "groups = data[:,-2:-1]\n"
   ]
  },
  {
   "cell_type": "code",
   "execution_count": 14,
   "metadata": {},
   "outputs": [
    {
     "name": "stdout",
     "output_type": "stream",
     "text": [
      "Número de clases: 4\n"
     ]
    }
   ],
   "source": [
    "n_classes=len(np.unique(Y))\n",
    "print('Número de clases:', n_classes)"
   ]
  },
  {
   "cell_type": "code",
   "execution_count": 15,
   "metadata": {},
   "outputs": [
    {
     "name": "stdout",
     "output_type": "stream",
     "text": [
      "Número de hablantes diferentes 1499\n"
     ]
    }
   ],
   "source": [
    "n_groups = len(np.unique(groups))\n",
    "print('Número de hablantes diferentes', n_groups)"
   ]
  },
  {
   "cell_type": "markdown",
   "metadata": {},
   "source": [
    "## Dividir el dataset (train/test) 0.8/0.2"
   ]
  },
  {
   "cell_type": "code",
   "execution_count": 17,
   "metadata": {},
   "outputs": [],
   "source": [
    "gss = GroupShuffleSplit(n_splits=1,test_size=0.2,random_state=0)\n",
    "for train_index,test_index in gss.split(X,Y,groups=groups):\n",
    "    X_train_original, X_test_original = X[train_index],X[test_index]\n",
    "    Y_train__original, Y_test__original = Y[train_index], Y[test_index]\n",
    "    groups_original = groups[train_index]"
   ]
  },
  {
   "cell_type": "code",
   "execution_count": 19,
   "metadata": {},
   "outputs": [
    {
     "data": {
      "text/plain": [
       "(4162, 162)"
      ]
     },
     "execution_count": 19,
     "metadata": {},
     "output_type": "execute_result"
    }
   ],
   "source": [
    "X_train_original.shape"
   ]
  },
  {
   "cell_type": "code",
   "execution_count": 20,
   "metadata": {},
   "outputs": [
    {
     "data": {
      "text/plain": [
       "(1038, 162)"
      ]
     },
     "execution_count": 20,
     "metadata": {},
     "output_type": "execute_result"
    }
   ],
   "source": [
    "X_test_original.shape"
   ]
  },
  {
   "cell_type": "code",
   "execution_count": 28,
   "metadata": {},
   "outputs": [],
   "source": [
    "def build_model(model, parameters, folds, train_size, X,Y,groups_original):\n",
    "  acc_scorer = make_scorer(accuracy_score)\n",
    "  recalls = make_scorer(recall_score,average='micro')##buscar por que micro\n",
    "  precision = make_scorer(precision_score,average='micro')\n",
    "  f1 = make_scorer(f1_score,average='micro')\n",
    "  scores =  {'recalls':recalls,'precision':precision,'f1':f1,'Accuracy': make_scorer(accuracy_score)}\n",
    "  gss = GroupShuffleSplit(n_splits=folds, train_size=train_size, random_state=0)\n",
    "  model = GridSearchCV(model,parameters,scores,-1,refit='Accuracy',return_train_score=True, cv=gss.split(X, Y, groups=groups_original))\n",
    "  model.fit(X,Y)\n",
    "  return model "
   ]
  },
  {
   "cell_type": "code",
   "execution_count": 29,
   "metadata": {},
   "outputs": [],
   "source": [
    "FOLDS = 10\n",
    "TRAIN_SIZE = 0.8"
   ]
  },
  {
   "cell_type": "code",
   "execution_count": 31,
   "metadata": {},
   "outputs": [
    {
     "name": "stderr",
     "output_type": "stream",
     "text": [
      "/usr/local/lib/python3.7/dist-packages/sklearn/model_selection/_search.py:814: DeprecationWarning: The default of the `iid` parameter will change from True to False in version 0.22 and will be removed in 0.24. This will change numeric results when test-set sizes are unequal.\n",
      "  DeprecationWarning)\n",
      "/usr/local/lib/python3.7/dist-packages/sklearn/utils/validation.py:724: DataConversionWarning: A column-vector y was passed when a 1d array was expected. Please change the shape of y to (n_samples, ), for example using ravel().\n",
      "  y = column_or_1d(y, warn=True)\n"
     ]
    }
   ],
   "source": [
    "gnb = GaussianNB()\n",
    "modelGNB_trained = build_model(gnb, {}, FOLDS, TRAIN_SIZE, X_train_original,Y_train__original,groups_original)"
   ]
  },
  {
   "cell_type": "code",
   "execution_count": 34,
   "metadata": {},
   "outputs": [],
   "source": [
    "pdGNB = pd.DataFrame(modelGNB_trained.cv_results_)"
   ]
  },
  {
   "cell_type": "code",
   "execution_count": 35,
   "metadata": {},
   "outputs": [
    {
     "data": {
      "text/html": [
       "<div>\n",
       "<style scoped>\n",
       "    .dataframe tbody tr th:only-of-type {\n",
       "        vertical-align: middle;\n",
       "    }\n",
       "\n",
       "    .dataframe tbody tr th {\n",
       "        vertical-align: top;\n",
       "    }\n",
       "\n",
       "    .dataframe thead th {\n",
       "        text-align: right;\n",
       "    }\n",
       "</style>\n",
       "<table border=\"1\" class=\"dataframe\">\n",
       "  <thead>\n",
       "    <tr style=\"text-align: right;\">\n",
       "      <th></th>\n",
       "      <th>mean_fit_time</th>\n",
       "      <th>std_fit_time</th>\n",
       "      <th>mean_score_time</th>\n",
       "      <th>std_score_time</th>\n",
       "      <th>params</th>\n",
       "      <th>split0_test_recalls</th>\n",
       "      <th>split1_test_recalls</th>\n",
       "      <th>split2_test_recalls</th>\n",
       "      <th>split3_test_recalls</th>\n",
       "      <th>split4_test_recalls</th>\n",
       "      <th>...</th>\n",
       "      <th>split2_train_Accuracy</th>\n",
       "      <th>split3_train_Accuracy</th>\n",
       "      <th>split4_train_Accuracy</th>\n",
       "      <th>split5_train_Accuracy</th>\n",
       "      <th>split6_train_Accuracy</th>\n",
       "      <th>split7_train_Accuracy</th>\n",
       "      <th>split8_train_Accuracy</th>\n",
       "      <th>split9_train_Accuracy</th>\n",
       "      <th>mean_train_Accuracy</th>\n",
       "      <th>std_train_Accuracy</th>\n",
       "    </tr>\n",
       "  </thead>\n",
       "  <tbody>\n",
       "    <tr>\n",
       "      <th>0</th>\n",
       "      <td>0.047174</td>\n",
       "      <td>0.025538</td>\n",
       "      <td>0.061699</td>\n",
       "      <td>0.029416</td>\n",
       "      <td>{}</td>\n",
       "      <td>0.523041</td>\n",
       "      <td>0.460137</td>\n",
       "      <td>0.446629</td>\n",
       "      <td>0.479042</td>\n",
       "      <td>0.465416</td>\n",
       "      <td>...</td>\n",
       "      <td>0.478551</td>\n",
       "      <td>0.482717</td>\n",
       "      <td>0.477788</td>\n",
       "      <td>0.487412</td>\n",
       "      <td>0.482057</td>\n",
       "      <td>0.484385</td>\n",
       "      <td>0.469382</td>\n",
       "      <td>0.479456</td>\n",
       "      <td>0.478702</td>\n",
       "      <td>0.005467</td>\n",
       "    </tr>\n",
       "  </tbody>\n",
       "</table>\n",
       "<p>1 rows × 105 columns</p>\n",
       "</div>"
      ],
      "text/plain": [
       "   mean_fit_time  std_fit_time  mean_score_time  std_score_time params  \\\n",
       "0       0.047174      0.025538         0.061699        0.029416     {}   \n",
       "\n",
       "   split0_test_recalls  split1_test_recalls  split2_test_recalls  \\\n",
       "0             0.523041             0.460137             0.446629   \n",
       "\n",
       "   split3_test_recalls  split4_test_recalls  ...  split2_train_Accuracy  \\\n",
       "0             0.479042             0.465416  ...               0.478551   \n",
       "\n",
       "   split3_train_Accuracy  split4_train_Accuracy  split5_train_Accuracy  \\\n",
       "0               0.482717               0.477788               0.487412   \n",
       "\n",
       "   split6_train_Accuracy  split7_train_Accuracy  split8_train_Accuracy  \\\n",
       "0               0.482057               0.484385               0.469382   \n",
       "\n",
       "   split9_train_Accuracy  mean_train_Accuracy  std_train_Accuracy  \n",
       "0               0.479456             0.478702            0.005467  \n",
       "\n",
       "[1 rows x 105 columns]"
      ]
     },
     "execution_count": 35,
     "metadata": {},
     "output_type": "execute_result"
    }
   ],
   "source": [
    "pdGNB"
   ]
  },
  {
   "cell_type": "code",
   "execution_count": 36,
   "metadata": {},
   "outputs": [
    {
     "name": "stderr",
     "output_type": "stream",
     "text": [
      "/usr/local/lib/python3.7/dist-packages/sklearn/model_selection/_search.py:814: DeprecationWarning: The default of the `iid` parameter will change from True to False in version 0.22 and will be removed in 0.24. This will change numeric results when test-set sizes are unequal.\n",
      "  DeprecationWarning)\n",
      "/usr/local/lib/python3.7/dist-packages/sklearn/model_selection/_search.py:715: DataConversionWarning: A column-vector y was passed when a 1d array was expected. Please change the shape of y to (n_samples,), for example using ravel().\n",
      "  self.best_estimator_.fit(X, y, **fit_params)\n"
     ]
    }
   ],
   "source": [
    "from sklearn.ensemble import RandomForestClassifier\n",
    "clf = RandomForestClassifier()\n",
    "parameters = {'n_estimators':[1,5,7],'max_depth':[3,5,9]}\n",
    "modelCLF_trained = build_model(clf, parameters, FOLDS, TRAIN_SIZE, X_train_original,Y_train__original,groups_original)"
   ]
  },
  {
   "cell_type": "code",
   "execution_count": 37,
   "metadata": {},
   "outputs": [
    {
     "data": {
      "text/html": [
       "<div>\n",
       "<style scoped>\n",
       "    .dataframe tbody tr th:only-of-type {\n",
       "        vertical-align: middle;\n",
       "    }\n",
       "\n",
       "    .dataframe tbody tr th {\n",
       "        vertical-align: top;\n",
       "    }\n",
       "\n",
       "    .dataframe thead th {\n",
       "        text-align: right;\n",
       "    }\n",
       "</style>\n",
       "<table border=\"1\" class=\"dataframe\">\n",
       "  <thead>\n",
       "    <tr style=\"text-align: right;\">\n",
       "      <th></th>\n",
       "      <th>mean_fit_time</th>\n",
       "      <th>std_fit_time</th>\n",
       "      <th>mean_score_time</th>\n",
       "      <th>std_score_time</th>\n",
       "      <th>param_max_depth</th>\n",
       "      <th>param_n_estimators</th>\n",
       "      <th>params</th>\n",
       "      <th>split0_test_recalls</th>\n",
       "      <th>split1_test_recalls</th>\n",
       "      <th>split2_test_recalls</th>\n",
       "      <th>...</th>\n",
       "      <th>split2_train_Accuracy</th>\n",
       "      <th>split3_train_Accuracy</th>\n",
       "      <th>split4_train_Accuracy</th>\n",
       "      <th>split5_train_Accuracy</th>\n",
       "      <th>split6_train_Accuracy</th>\n",
       "      <th>split7_train_Accuracy</th>\n",
       "      <th>split8_train_Accuracy</th>\n",
       "      <th>split9_train_Accuracy</th>\n",
       "      <th>mean_train_Accuracy</th>\n",
       "      <th>std_train_Accuracy</th>\n",
       "    </tr>\n",
       "  </thead>\n",
       "  <tbody>\n",
       "    <tr>\n",
       "      <th>0</th>\n",
       "      <td>0.101367</td>\n",
       "      <td>0.020608</td>\n",
       "      <td>0.053711</td>\n",
       "      <td>0.014038</td>\n",
       "      <td>3</td>\n",
       "      <td>1</td>\n",
       "      <td>{'max_depth': 3, 'n_estimators': 1}</td>\n",
       "      <td>0.402074</td>\n",
       "      <td>0.406606</td>\n",
       "      <td>0.365169</td>\n",
       "      <td>...</td>\n",
       "      <td>0.406377</td>\n",
       "      <td>0.419898</td>\n",
       "      <td>0.411000</td>\n",
       "      <td>0.446429</td>\n",
       "      <td>0.412679</td>\n",
       "      <td>0.422535</td>\n",
       "      <td>0.449472</td>\n",
       "      <td>0.410582</td>\n",
       "      <td>0.425520</td>\n",
       "      <td>0.015953</td>\n",
       "    </tr>\n",
       "    <tr>\n",
       "      <th>1</th>\n",
       "      <td>0.334561</td>\n",
       "      <td>0.096744</td>\n",
       "      <td>0.067584</td>\n",
       "      <td>0.019953</td>\n",
       "      <td>3</td>\n",
       "      <td>5</td>\n",
       "      <td>{'max_depth': 3, 'n_estimators': 5}</td>\n",
       "      <td>0.456221</td>\n",
       "      <td>0.477221</td>\n",
       "      <td>0.431180</td>\n",
       "      <td>...</td>\n",
       "      <td>0.508696</td>\n",
       "      <td>0.556057</td>\n",
       "      <td>0.525536</td>\n",
       "      <td>0.561475</td>\n",
       "      <td>0.501794</td>\n",
       "      <td>0.503980</td>\n",
       "      <td>0.515837</td>\n",
       "      <td>0.511085</td>\n",
       "      <td>0.525111</td>\n",
       "      <td>0.021695</td>\n",
       "    </tr>\n",
       "    <tr>\n",
       "      <th>2</th>\n",
       "      <td>0.442328</td>\n",
       "      <td>0.089797</td>\n",
       "      <td>0.076360</td>\n",
       "      <td>0.012182</td>\n",
       "      <td>3</td>\n",
       "      <td>7</td>\n",
       "      <td>{'max_depth': 3, 'n_estimators': 7}</td>\n",
       "      <td>0.495392</td>\n",
       "      <td>0.502278</td>\n",
       "      <td>0.473315</td>\n",
       "      <td>...</td>\n",
       "      <td>0.544638</td>\n",
       "      <td>0.539826</td>\n",
       "      <td>0.551526</td>\n",
       "      <td>0.550351</td>\n",
       "      <td>0.548445</td>\n",
       "      <td>0.502143</td>\n",
       "      <td>0.535143</td>\n",
       "      <td>0.539166</td>\n",
       "      <td>0.539393</td>\n",
       "      <td>0.013403</td>\n",
       "    </tr>\n",
       "    <tr>\n",
       "      <th>3</th>\n",
       "      <td>0.139009</td>\n",
       "      <td>0.031004</td>\n",
       "      <td>0.049731</td>\n",
       "      <td>0.014885</td>\n",
       "      <td>5</td>\n",
       "      <td>1</td>\n",
       "      <td>{'max_depth': 5, 'n_estimators': 1}</td>\n",
       "      <td>0.447005</td>\n",
       "      <td>0.427107</td>\n",
       "      <td>0.359551</td>\n",
       "      <td>...</td>\n",
       "      <td>0.468406</td>\n",
       "      <td>0.485723</td>\n",
       "      <td>0.500151</td>\n",
       "      <td>0.495316</td>\n",
       "      <td>0.489533</td>\n",
       "      <td>0.484385</td>\n",
       "      <td>0.473002</td>\n",
       "      <td>0.506355</td>\n",
       "      <td>0.491928</td>\n",
       "      <td>0.013678</td>\n",
       "    </tr>\n",
       "    <tr>\n",
       "      <th>4</th>\n",
       "      <td>0.476412</td>\n",
       "      <td>0.116584</td>\n",
       "      <td>0.073241</td>\n",
       "      <td>0.022797</td>\n",
       "      <td>5</td>\n",
       "      <td>5</td>\n",
       "      <td>{'max_depth': 5, 'n_estimators': 5}</td>\n",
       "      <td>0.520737</td>\n",
       "      <td>0.548975</td>\n",
       "      <td>0.523876</td>\n",
       "      <td>...</td>\n",
       "      <td>0.646667</td>\n",
       "      <td>0.658551</td>\n",
       "      <td>0.642188</td>\n",
       "      <td>0.659836</td>\n",
       "      <td>0.634868</td>\n",
       "      <td>0.637783</td>\n",
       "      <td>0.663650</td>\n",
       "      <td>0.630801</td>\n",
       "      <td>0.647928</td>\n",
       "      <td>0.010997</td>\n",
       "    </tr>\n",
       "    <tr>\n",
       "      <th>5</th>\n",
       "      <td>0.599637</td>\n",
       "      <td>0.089681</td>\n",
       "      <td>0.078616</td>\n",
       "      <td>0.024531</td>\n",
       "      <td>5</td>\n",
       "      <td>7</td>\n",
       "      <td>{'max_depth': 5, 'n_estimators': 7}</td>\n",
       "      <td>0.536866</td>\n",
       "      <td>0.592255</td>\n",
       "      <td>0.550562</td>\n",
       "      <td>...</td>\n",
       "      <td>0.685507</td>\n",
       "      <td>0.670875</td>\n",
       "      <td>0.673013</td>\n",
       "      <td>0.694379</td>\n",
       "      <td>0.681519</td>\n",
       "      <td>0.673301</td>\n",
       "      <td>0.676018</td>\n",
       "      <td>0.663612</td>\n",
       "      <td>0.675724</td>\n",
       "      <td>0.008729</td>\n",
       "    </tr>\n",
       "    <tr>\n",
       "      <th>6</th>\n",
       "      <td>0.173061</td>\n",
       "      <td>0.021369</td>\n",
       "      <td>0.051888</td>\n",
       "      <td>0.016883</td>\n",
       "      <td>9</td>\n",
       "      <td>1</td>\n",
       "      <td>{'max_depth': 9, 'n_estimators': 1}</td>\n",
       "      <td>0.481567</td>\n",
       "      <td>0.486333</td>\n",
       "      <td>0.431180</td>\n",
       "      <td>...</td>\n",
       "      <td>0.668696</td>\n",
       "      <td>0.670574</td>\n",
       "      <td>0.670293</td>\n",
       "      <td>0.705796</td>\n",
       "      <td>0.690191</td>\n",
       "      <td>0.688304</td>\n",
       "      <td>0.691101</td>\n",
       "      <td>0.671889</td>\n",
       "      <td>0.682925</td>\n",
       "      <td>0.013155</td>\n",
       "    </tr>\n",
       "    <tr>\n",
       "      <th>7</th>\n",
       "      <td>0.683829</td>\n",
       "      <td>0.136603</td>\n",
       "      <td>0.075097</td>\n",
       "      <td>0.019147</td>\n",
       "      <td>9</td>\n",
       "      <td>5</td>\n",
       "      <td>{'max_depth': 9, 'n_estimators': 5}</td>\n",
       "      <td>0.551843</td>\n",
       "      <td>0.548975</td>\n",
       "      <td>0.533708</td>\n",
       "      <td>...</td>\n",
       "      <td>0.876522</td>\n",
       "      <td>0.888188</td>\n",
       "      <td>0.877304</td>\n",
       "      <td>0.879391</td>\n",
       "      <td>0.883672</td>\n",
       "      <td>0.882731</td>\n",
       "      <td>0.880845</td>\n",
       "      <td>0.863139</td>\n",
       "      <td>0.878581</td>\n",
       "      <td>0.006398</td>\n",
       "    </tr>\n",
       "    <tr>\n",
       "      <th>8</th>\n",
       "      <td>0.928087</td>\n",
       "      <td>0.219665</td>\n",
       "      <td>0.087960</td>\n",
       "      <td>0.033411</td>\n",
       "      <td>9</td>\n",
       "      <td>7</td>\n",
       "      <td>{'max_depth': 9, 'n_estimators': 7}</td>\n",
       "      <td>0.594470</td>\n",
       "      <td>0.592255</td>\n",
       "      <td>0.587079</td>\n",
       "      <td>...</td>\n",
       "      <td>0.908406</td>\n",
       "      <td>0.911332</td>\n",
       "      <td>0.910849</td>\n",
       "      <td>0.921546</td>\n",
       "      <td>0.915969</td>\n",
       "      <td>0.921923</td>\n",
       "      <td>0.901357</td>\n",
       "      <td>0.907774</td>\n",
       "      <td>0.913192</td>\n",
       "      <td>0.006320</td>\n",
       "    </tr>\n",
       "  </tbody>\n",
       "</table>\n",
       "<p>9 rows × 107 columns</p>\n",
       "</div>"
      ],
      "text/plain": [
       "   mean_fit_time  std_fit_time  mean_score_time  std_score_time  \\\n",
       "0       0.101367      0.020608         0.053711        0.014038   \n",
       "1       0.334561      0.096744         0.067584        0.019953   \n",
       "2       0.442328      0.089797         0.076360        0.012182   \n",
       "3       0.139009      0.031004         0.049731        0.014885   \n",
       "4       0.476412      0.116584         0.073241        0.022797   \n",
       "5       0.599637      0.089681         0.078616        0.024531   \n",
       "6       0.173061      0.021369         0.051888        0.016883   \n",
       "7       0.683829      0.136603         0.075097        0.019147   \n",
       "8       0.928087      0.219665         0.087960        0.033411   \n",
       "\n",
       "  param_max_depth param_n_estimators                               params  \\\n",
       "0               3                  1  {'max_depth': 3, 'n_estimators': 1}   \n",
       "1               3                  5  {'max_depth': 3, 'n_estimators': 5}   \n",
       "2               3                  7  {'max_depth': 3, 'n_estimators': 7}   \n",
       "3               5                  1  {'max_depth': 5, 'n_estimators': 1}   \n",
       "4               5                  5  {'max_depth': 5, 'n_estimators': 5}   \n",
       "5               5                  7  {'max_depth': 5, 'n_estimators': 7}   \n",
       "6               9                  1  {'max_depth': 9, 'n_estimators': 1}   \n",
       "7               9                  5  {'max_depth': 9, 'n_estimators': 5}   \n",
       "8               9                  7  {'max_depth': 9, 'n_estimators': 7}   \n",
       "\n",
       "   split0_test_recalls  split1_test_recalls  split2_test_recalls  ...  \\\n",
       "0             0.402074             0.406606             0.365169  ...   \n",
       "1             0.456221             0.477221             0.431180  ...   \n",
       "2             0.495392             0.502278             0.473315  ...   \n",
       "3             0.447005             0.427107             0.359551  ...   \n",
       "4             0.520737             0.548975             0.523876  ...   \n",
       "5             0.536866             0.592255             0.550562  ...   \n",
       "6             0.481567             0.486333             0.431180  ...   \n",
       "7             0.551843             0.548975             0.533708  ...   \n",
       "8             0.594470             0.592255             0.587079  ...   \n",
       "\n",
       "   split2_train_Accuracy  split3_train_Accuracy  split4_train_Accuracy  \\\n",
       "0               0.406377               0.419898               0.411000   \n",
       "1               0.508696               0.556057               0.525536   \n",
       "2               0.544638               0.539826               0.551526   \n",
       "3               0.468406               0.485723               0.500151   \n",
       "4               0.646667               0.658551               0.642188   \n",
       "5               0.685507               0.670875               0.673013   \n",
       "6               0.668696               0.670574               0.670293   \n",
       "7               0.876522               0.888188               0.877304   \n",
       "8               0.908406               0.911332               0.910849   \n",
       "\n",
       "   split5_train_Accuracy  split6_train_Accuracy  split7_train_Accuracy  \\\n",
       "0               0.446429               0.412679               0.422535   \n",
       "1               0.561475               0.501794               0.503980   \n",
       "2               0.550351               0.548445               0.502143   \n",
       "3               0.495316               0.489533               0.484385   \n",
       "4               0.659836               0.634868               0.637783   \n",
       "5               0.694379               0.681519               0.673301   \n",
       "6               0.705796               0.690191               0.688304   \n",
       "7               0.879391               0.883672               0.882731   \n",
       "8               0.921546               0.915969               0.921923   \n",
       "\n",
       "   split8_train_Accuracy  split9_train_Accuracy  mean_train_Accuracy  \\\n",
       "0               0.449472               0.410582             0.425520   \n",
       "1               0.515837               0.511085             0.525111   \n",
       "2               0.535143               0.539166             0.539393   \n",
       "3               0.473002               0.506355             0.491928   \n",
       "4               0.663650               0.630801             0.647928   \n",
       "5               0.676018               0.663612             0.675724   \n",
       "6               0.691101               0.671889             0.682925   \n",
       "7               0.880845               0.863139             0.878581   \n",
       "8               0.901357               0.907774             0.913192   \n",
       "\n",
       "   std_train_Accuracy  \n",
       "0            0.015953  \n",
       "1            0.021695  \n",
       "2            0.013403  \n",
       "3            0.013678  \n",
       "4            0.010997  \n",
       "5            0.008729  \n",
       "6            0.013155  \n",
       "7            0.006398  \n",
       "8            0.006320  \n",
       "\n",
       "[9 rows x 107 columns]"
      ]
     },
     "execution_count": 37,
     "metadata": {},
     "output_type": "execute_result"
    }
   ],
   "source": [
    "pdCLF = pd.DataFrame(modelCLF_trained.cv_results_)\n",
    "pdCLF"
   ]
  },
  {
   "cell_type": "code",
   "execution_count": 38,
   "metadata": {},
   "outputs": [],
   "source": [
    "best_params_CLF = modelCLF_trained.cv_results_['params'][modelCLF_trained.best_index_]"
   ]
  },
  {
   "cell_type": "code",
   "execution_count": 39,
   "metadata": {},
   "outputs": [
    {
     "data": {
      "text/plain": [
       "{'max_depth': 9, 'n_estimators': 7}"
      ]
     },
     "execution_count": 39,
     "metadata": {},
     "output_type": "execute_result"
    }
   ],
   "source": [
    "best_params_CLF"
   ]
  },
  {
   "cell_type": "code",
   "execution_count": 40,
   "metadata": {},
   "outputs": [],
   "source": [
    "def Metrics(model,X_test,Y_test):\n",
    "\n",
    "  y_predicted = model.predict(X_test)\n",
    "  print('Accuracy: ', accuracy_score(Y_test, y_predicted), '\\n')\n",
    "  report = classification_report(Y_test, y_predicted)\n",
    "  print(\"\\nclassification report :\\n\",report )\n",
    " \n",
    "  # Matriz de confusión\n",
    "  cm = confusion_matrix(Y_test, y_predicted)\n",
    "  # Normalise\n",
    "  cmn = cm.astype('float') / cm.sum(axis=1)[:, np.newaxis]\n",
    "  fig, ax = plt.subplots(figsize=(10,10))\n",
    "  sns.heatmap(cmn, annot=True, fmt='.2f', xticklabels=np.unique(Y_test), yticklabels=np.unique(Y_test))\n",
    "  plt.ylabel('Actual')\n",
    "  plt.xlabel('Predicted')\n",
    "  plt.show(block=False)\n",
    "  \n",
    "  #sns.heatmap(cm,annot=True,fmt = \"d\",linecolor=\"k\",linewidths=3)\n",
    "  #plt.title(\"Matriz de confusión\",fontsize=20)\n",
    "   \n",
    "    \n",
    "  return report"
   ]
  },
  {
   "cell_type": "code",
   "execution_count": 42,
   "metadata": {},
   "outputs": [
    {
     "data": {
      "text/plain": [
       "array([[-8.6235218 , -7.08668613,  4.23948669, ...,  2.01559353,\n",
       "         1.54727554,  1.44738603],\n",
       "       [-9.86100101, -9.57110596,  4.75713158, ...,  1.42816877,\n",
       "         1.48044586,  1.43298006],\n",
       "       [-8.54199505, -8.25707912,  4.18734169, ...,  1.57227099,\n",
       "         1.49107409,  1.30507946],\n",
       "       ...,\n",
       "       [ 4.47694921,  4.4567647 ,  4.26831245, ...,  3.01424098,\n",
       "         3.01164651,  2.94287944],\n",
       "       [ 4.38905096,  4.10066843,  4.68642521, ...,  2.82931685,\n",
       "         3.36128688,  4.40174294],\n",
       "       [ 4.70500708,  4.38762569,  4.54911423, ...,  2.91932511,\n",
       "         3.33844066,  3.21139145]])"
      ]
     },
     "execution_count": 42,
     "metadata": {},
     "output_type": "execute_result"
    }
   ],
   "source": [
    "X_test_original"
   ]
  },
  {
   "cell_type": "code",
   "execution_count": 41,
   "metadata": {},
   "outputs": [
    {
     "name": "stdout",
     "output_type": "stream",
     "text": [
      "Accuracy:  0.5838150289017341 \n",
      "\n",
      "\n",
      "classification report :\n",
      "               precision    recall  f1-score   support\n",
      "\n",
      "         0.0       0.72      0.76      0.74       237\n",
      "         1.0       0.50      0.55      0.52       269\n",
      "         2.0       0.53      0.50      0.52       258\n",
      "         3.0       0.61      0.54      0.57       274\n",
      "\n",
      "    accuracy                           0.58      1038\n",
      "   macro avg       0.59      0.59      0.59      1038\n",
      "weighted avg       0.58      0.58      0.58      1038\n",
      "\n"
     ]
    },
    {
     "data": {
      "image/png": "[encoded data removed]",
      "text/plain": [
       "<Figure size 720x720 with 2 Axes>"
      ]
     },
     "metadata": {
      "needs_background": "light"
     },
     "output_type": "display_data"
    }
   ],
   "source": [
    "CLF_best_estimator = modelCLF_trained.best_estimator_\n",
    "metrics_CLF = Metrics(CLF_best_estimator, X_test_original,Y_test__original)"
   ]
  },
  {
   "cell_type": "code",
   "execution_count": null,
   "metadata": {},
   "outputs": [],
   "source": []
  }
 ],
 "metadata": {
  "kernelspec": {
   "display_name": "Python 3",
   "language": "python",
   "name": "python3"
  },
  "language_info": {
   "codemirror_mode": {
    "name": "ipython",
    "version": 3
   },
   "file_extension": ".py",
   "mimetype": "text/x-python",
   "name": "python",
   "nbconvert_exporter": "python",
   "pygments_lexer": "ipython3",
   "version": "3.7.1"
  }
 },
 "nbformat": 4,
 "nbformat_minor": 2
}
