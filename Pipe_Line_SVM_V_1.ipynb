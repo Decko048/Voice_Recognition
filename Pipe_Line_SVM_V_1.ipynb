{
 "cells": [
  {
   "cell_type": "code",
   "execution_count": 1,
   "metadata": {},
   "outputs": [],
   "source": [
    "import IPython\n",
    "import matplotlib.pyplot as plt\n",
    "import numpy as np\n",
    "import pandas as pd\n",
    "from sklearn.model_selection import GroupShuffleSplit\n",
    "from sklearn.svm import  SVC\n",
    "import math\n",
    "import scipy as sc\n",
    "from scipy import stats\n",
    "from matplotlib.ticker import FuncFormatter\n",
    "from sklearn.model_selection import GridSearchCV\n",
    "from sklearn.metrics import make_scorer, accuracy_score, precision_score,recall_score, f1_score\n",
    "from sklearn.metrics import classification_report,confusion_matrix,accuracy_score,roc_curve,auc\n",
    "import seaborn as sns\n",
    "\n",
    "%matplotlib inline"
   ]
  },
  {
   "cell_type": "markdown",
   "metadata": {},
   "source": [
    "### Leer dataset"
   ]
  },
  {
   "cell_type": "code",
   "execution_count": 2,
   "metadata": {},
   "outputs": [],
   "source": [
    "PATHDATA = 'audiosData.csv'\n",
    "df = pd.read_csv(PATHDATA, header = None)\n",
    "data = df.values #Convertimos en un  numpy array"
   ]
  },
  {
   "cell_type": "code",
   "execution_count": 3,
   "metadata": {},
   "outputs": [
    {
     "name": "stdout",
     "output_type": "stream",
     "text": [
      "Tamaño dataSet (5200, 162)\n",
      "\n",
      "\n"
     ]
    }
   ],
   "source": [
    "X = data[:,0:-2]\n",
    "Y = data[:,-1]\n",
    "print('Tamaño dataSet', X.shape)\n",
    "print('\\n')\n",
    "Y=  np.reshape(Y,(np.size(Y,0),1))\n",
    "groups = data[:,-2:-1]\n"
   ]
  },
  {
   "cell_type": "markdown",
   "metadata": {},
   "source": [
    "### Número de clases"
   ]
  },
  {
   "cell_type": "code",
   "execution_count": 4,
   "metadata": {},
   "outputs": [
    {
     "name": "stdout",
     "output_type": "stream",
     "text": [
      "Número de clases: 4\n"
     ]
    }
   ],
   "source": [
    "n_classes=len(np.unique(Y))\n",
    "print('Número de clases:', n_classes)"
   ]
  },
  {
   "cell_type": "markdown",
   "metadata": {},
   "source": [
    "### Número de hablantes"
   ]
  },
  {
   "cell_type": "code",
   "execution_count": 5,
   "metadata": {},
   "outputs": [
    {
     "name": "stdout",
     "output_type": "stream",
     "text": [
      "Número de hablantes diferentes 1499\n"
     ]
    }
   ],
   "source": [
    "n_groups = len(np.unique(groups))\n",
    "print('Número de hablantes diferentes', n_groups)"
   ]
  },
  {
   "cell_type": "markdown",
   "metadata": {},
   "source": [
    "## Dividir el dataset (train/test) 0.8/0.2"
   ]
  },
  {
   "cell_type": "code",
   "execution_count": 6,
   "metadata": {},
   "outputs": [],
   "source": [
    "gss = GroupShuffleSplit(n_splits=1, test_size=0.2, random_state=0)\n",
    "gss.get_n_splits()\n",
    "for train_index, test_index in gss.split(X, Y, groups=groups):\n",
    "    X_train_original, X_test__original = X[train_index], X[test_index]\n",
    "    #print(X_train, X_test)\n",
    "    Y_train__original, Y_test__original = Y[train_index], Y[test_index]\n",
    "    #print(y_train, y_test)\n",
    "    groups_original = groups[train_index]"
   ]
  },
  {
   "cell_type": "code",
   "execution_count": 7,
   "metadata": {},
   "outputs": [
    {
     "data": {
      "text/plain": [
       "(4162, 1)"
      ]
     },
     "execution_count": 7,
     "metadata": {},
     "output_type": "execute_result"
    }
   ],
   "source": [
    "groups_original.shape"
   ]
  },
  {
   "cell_type": "code",
   "execution_count": 8,
   "metadata": {},
   "outputs": [
    {
     "data": {
      "text/plain": [
       "(4162, 162)"
      ]
     },
     "execution_count": 8,
     "metadata": {},
     "output_type": "execute_result"
    }
   ],
   "source": [
    "X_train_original.shape"
   ]
  },
  {
   "cell_type": "code",
   "execution_count": 9,
   "metadata": {},
   "outputs": [
    {
     "data": {
      "text/plain": [
       "(4162, 1)"
      ]
     },
     "execution_count": 9,
     "metadata": {},
     "output_type": "execute_result"
    }
   ],
   "source": [
    "Y_train__original.shape"
   ]
  },
  {
   "cell_type": "code",
   "execution_count": 13,
   "metadata": {},
   "outputs": [],
   "source": [
    "def build_model(model, parameters, folds, train_size, X,Y,groups_original):\n",
    "  acc_scorer = make_scorer(accuracy_score)\n",
    "  recalls = make_scorer(recall_score,average='micro')##buscar por que micro\n",
    "  precision = make_scorer(precision_score,average='micro')\n",
    "  f1 = make_scorer(f1_score,average='micro')\n",
    "  scores =  {'recalls':recalls,'precision':precision,'f1':f1,'Accuracy': make_scorer(accuracy_score)}\n",
    "  gss = GroupShuffleSplit(n_splits=folds, train_size=train_size, random_state=0)\n",
    "  model = GridSearchCV(model,parameters,scores,-1,refit='Accuracy',return_train_score=True, cv=gss.split(X, Y, groups=groups_original))\n",
    "  model.fit(X,Y)\n",
    "  return model "
   ]
  },
  {
   "cell_type": "markdown",
   "metadata": {},
   "source": [
    "# Support Vector Classification. (SVC) "
   ]
  },
  {
   "cell_type": "code",
   "execution_count": 14,
   "metadata": {},
   "outputs": [],
   "source": [
    "FOLDS = 10\n",
    "TRAIN_SIZE = 0.8"
   ]
  },
  {
   "cell_type": "markdown",
   "metadata": {},
   "source": [
    "## 1. Mejor modelo"
   ]
  },
  {
   "cell_type": "markdown",
   "metadata": {},
   "source": [
    "Usamos X_train_original y Y_train__original para seleccionar la mejor combinación de parametros y posteriormente validar dichos resultados con el conjunto X_test__original y Y_test__original.\n",
    "\n",
    "<b>Nota:</b> el conjunto X_train_original se divide en dos conjuntos train y dev a una proporción de 80 a 20.\n"
   ]
  },
  {
   "cell_type": "code",
   "execution_count": 24,
   "metadata": {},
   "outputs": [
    {
     "name": "stderr",
     "output_type": "stream",
     "text": [
      "/usr/local/lib/python3.7/dist-packages/sklearn/model_selection/_search.py:814: DeprecationWarning: The default of the `iid` parameter will change from True to False in version 0.22 and will be removed in 0.24. This will change numeric results when test-set sizes are unequal.\n",
      "  DeprecationWarning)\n",
      "/usr/local/lib/python3.7/dist-packages/sklearn/utils/validation.py:724: DataConversionWarning: A column-vector y was passed when a 1d array was expected. Please change the shape of y to (n_samples, ), for example using ravel().\n",
      "  y = column_or_1d(y, warn=True)\n",
      "/usr/local/lib/python3.7/dist-packages/sklearn/svm/base.py:193: FutureWarning: The default value of gamma will change from 'auto' to 'scale' in version 0.22 to account better for unscaled features. Set gamma explicitly to 'auto' or 'scale' to avoid this warning.\n",
      "  \"avoid this warning.\", FutureWarning)\n"
     ]
    },
    {
     "name": "stdout",
     "output_type": "stream",
     "text": [
      "{'C': 1, 'degree': 2, 'kernel': 'poly'}\n"
     ]
    }
   ],
   "source": [
    "parameters = [{'kernel': ['rbf'], 'gamma': [1e-1,1e-10,1e-5],'C': [1,2,3]},\n",
    "              {'kernel': ['linear'], 'C': [1,2,3]},\n",
    "              {'kernel':['poly'],'C': [1,2,4],'degree':[1,2,3]}\n",
    "             ]\n",
    "SVMC = SVC()#Configurar el modelo\n",
    "model_trained_SVMC = build_model(SVMC, parameters, FOLDS, TRAIN_SIZE, X_train_original,Y_train__original,groups_original)\n",
    "best_params_SVMC = model_trained_SVMC.cv_results_['params'][model_trained_SVMC.best_index_]\n",
    "print(best_params_SVMC)"
   ]
  },
  {
   "cell_type": "code",
   "execution_count": 25,
   "metadata": {},
   "outputs": [
    {
     "name": "stdout",
     "output_type": "stream",
     "text": [
      "Resultados mejor modelo:  {'C': 1, 'degree': 2, 'kernel': 'poly'}\n"
     ]
    },
    {
     "data": {
      "text/plain": [
       "[{'mean_train_Accuracy': 0.9856738599810146},\n",
       " {'mean_test_Accuracy': 0.8039358600583091},\n",
       " {'std_train_Accuracy': 0.0012522930176187923},\n",
       " {'std_test_Accuracy': 0.01997474269731172}]"
      ]
     },
     "execution_count": 25,
     "metadata": {},
     "output_type": "execute_result"
    }
   ],
   "source": [
    "params_acurracy = ['mean_train_Accuracy','mean_test_Accuracy','std_train_Accuracy','std_test_Accuracy']\n",
    "best_acurracy_SVMC= []\n",
    "for p in params_acurracy:\n",
    "    parameter_acurracy =model_trained_SVMC.cv_results_[p][model_trained_SVMC.best_index_]\n",
    "    best_acurracy_SVMC.append({p:parameter_acurracy})\n",
    "print(\"Resultados mejor modelo: \", best_params_SVMC)\n",
    "best_acurracy_SVMC"
   ]
  },
  {
   "cell_type": "markdown",
   "metadata": {},
   "source": [
    "## 2. Evalución mejor modelo con el conjunto de test"
   ]
  },
  {
   "cell_type": "code",
   "execution_count": 26,
   "metadata": {},
   "outputs": [],
   "source": [
    "def Metrics(model,X_test,Y_test):\n",
    "\n",
    "  y_predicted = model.predict(X_test)\n",
    "  print('Accuracy: ', accuracy_score(Y_test, y_predicted), '\\n')\n",
    "  report = classification_report(Y_test, y_predicted)\n",
    "  print(\"\\nclassification report :\\n\",report )\n",
    " \n",
    "  # Matriz de confusión\n",
    "  cm = confusion_matrix(Y_test, y_predicted)\n",
    "  # Normalise\n",
    "  cmn = cm.astype('float') / cm.sum(axis=1)[:, np.newaxis]\n",
    "  fig, ax = plt.subplots(figsize=(10,10))\n",
    "  sns.heatmap(cmn, annot=True, fmt='.2f', xticklabels=np.unique(Y_test), yticklabels=np.unique(Y_test))\n",
    "  plt.ylabel('Actual')\n",
    "  plt.xlabel('Predicted')\n",
    "  plt.show(block=False)\n",
    "  \n",
    "  #sns.heatmap(cm,annot=True,fmt = \"d\",linecolor=\"k\",linewidths=3)\n",
    "  #plt.title(\"Matriz de confusión\",fontsize=20)\n",
    "   \n",
    "    \n",
    "  return report"
   ]
  },
  {
   "cell_type": "markdown",
   "metadata": {},
   "source": [
    "<b>Nota:</b> Usamos los conjuntos X_test__original y Y_test__original para evaluar el comportamiento del mejor modelo con datos"
   ]
  },
  {
   "cell_type": "code",
   "execution_count": 27,
   "metadata": {},
   "outputs": [
    {
     "name": "stdout",
     "output_type": "stream",
     "text": [
      "Accuracy:  0.815028901734104 \n",
      "\n",
      "\n",
      "classification report :\n",
      "               precision    recall  f1-score   support\n",
      "\n",
      "         0.0       0.81      0.88      0.84       237\n",
      "         1.0       0.74      0.78      0.76       269\n",
      "         2.0       0.86      0.80      0.83       258\n",
      "         3.0       0.87      0.81      0.84       274\n",
      "\n",
      "    accuracy                           0.82      1038\n",
      "   macro avg       0.82      0.82      0.82      1038\n",
      "weighted avg       0.82      0.82      0.82      1038\n",
      "\n"
     ]
    },
    {
     "data": {
      "image/png": "[encoded data removed]",
      "text/plain": [
       "<Figure size 720x720 with 2 Axes>"
      ]
     },
     "metadata": {
      "needs_background": "light"
     },
     "output_type": "display_data"
    }
   ],
   "source": [
    "SVMC_best_estimator = model_trained_SVMC.best_estimator_\n",
    "metrics = Metrics(SVMC_best_estimator,X_test__original,Y_test__original)"
   ]
  },
  {
   "cell_type": "markdown",
   "metadata": {},
   "source": [
    "## 3. Curva de aprendizaje con el mejor modelo"
   ]
  },
  {
   "cell_type": "markdown",
   "metadata": {},
   "source": [
    "<b>Nota:</b> Esta curva se realiza con todo el conjunto de datos es decir X y Y"
   ]
  },
  {
   "cell_type": "code",
   "execution_count": 28,
   "metadata": {},
   "outputs": [],
   "source": [
    "def learning_curve(model,best_parameters,folds, X,Y,groups=groups, suptitle='', title='', xlabel='Training Set Size', ylabel='Acurracy'):\n",
    "    \"\"\"\n",
    "    Parameters\n",
    "    ----------\n",
    "    suptitle : str\n",
    "        Chart suptitle\n",
    "    title: str\n",
    "        Chart title\n",
    "    xlabel: str\n",
    "        Label for the X axis\n",
    "    ylabel: str\n",
    "        Label for the y axis\n",
    "    Returns\n",
    "    -------\n",
    "    Plot of learning curves\n",
    "    \"\"\"\n",
    "    \n",
    "    # create lists to store train and validation scores\n",
    "    train_score = []\n",
    "    val_score = []\n",
    "    std_train= []\n",
    "    std_val=[]\n",
    "\n",
    "    # create ten incremental training set sizes\n",
    "    training_set_sizes = np.linspace(.1,.9,5).tolist()\n",
    "    # for each one of those training set sizes\n",
    "    \n",
    "    for i in training_set_sizes:  \n",
    "        model_trained = build_model(model, best_parameters, folds, i, X,Y,groups)                \n",
    "        EfficiencyVal= model_trained.cv_results_['mean_test_Accuracy'][model_trained.best_index_]\n",
    "        EfficiencyTrain=model_trained.cv_results_['mean_train_Accuracy'][model_trained.best_index_]\n",
    "        stdTrain=model_trained.cv_results_['std_train_Accuracy'][model_trained.best_index_]\n",
    "        stdVal=model_trained.cv_results_['std_test_Accuracy'][model_trained.best_index_]\n",
    "\n",
    "        # store the scores in their respective lists\n",
    "        train_score.append(EfficiencyTrain)\n",
    "        val_score.append(EfficiencyVal)\n",
    "        std_train.append(stdTrain)\n",
    "        std_val.append(stdVal)\n",
    "\n",
    "    train_score =np.array(train_score)\n",
    "    val_score =np.array(val_score)\n",
    "    std_train =np.array(std_train)\n",
    "    std_val =np.array(std_val)\n",
    "\n",
    "\n",
    "    # plot learning curves\n",
    "    fig, ax = plt.subplots(figsize=(14, 9))\n",
    "    ax.plot(training_set_sizes, train_score, c='gold')\n",
    "    ax.plot(training_set_sizes, val_score, c='steelblue')\n",
    "    \n",
    "    ax.fill_between(training_set_sizes,train_score+std_train,train_score-std_train,facecolor='gold',alpha=0.5)\n",
    "    ax.fill_between(training_set_sizes,val_score+std_val,val_score-std_val,facecolor='steelblue',alpha=0.5)\n",
    "\n",
    "    # format the chart to make it look nice\n",
    "    fig.suptitle(suptitle, fontweight='bold', fontsize='20')\n",
    "    ax.set_title(title, size=20)\n",
    "    ax.set_xlabel(xlabel, size=16)\n",
    "    ax.set_ylabel(ylabel, size=16)\n",
    "    ax.legend(['Train set', 'Test set'], fontsize=16)\n",
    "    ax.tick_params(axis='both', labelsize=12)\n",
    "    ax.set_ylim(0, 1)\n",
    "\n",
    "    def percentages(x, pos):\n",
    "        \"\"\"The two args are the value and tick position\"\"\"\n",
    "        if x < 1:\n",
    "            return '{:1.0f}'.format(x*100)\n",
    "        return '{:1.0f}%'.format(x*100)\n",
    "\n",
    "    def numbers(x, pos):\n",
    "        \"\"\"The two args are the value and tick position\"\"\"\n",
    "        if x >= 1000:\n",
    "            return '{:1,.0f}'.format(x)\n",
    "        return '{:1.0f}'.format(x)\n",
    "    data = {'Train_Size':training_set_sizes, 'mean_train_Accuracy':train_score,'mean_test_Accuracy':val_score,'std_train_Accuracy':std_train,'std_test_Accuracy':std_val}\n",
    "    df_split_params = pd.DataFrame(data)\n",
    "    return df_split_params"
   ]
  },
  {
   "cell_type": "code",
   "execution_count": 31,
   "metadata": {},
   "outputs": [
    {
     "name": "stderr",
     "output_type": "stream",
     "text": [
      "/usr/local/lib/python3.7/dist-packages/sklearn/utils/validation.py:724: DataConversionWarning: A column-vector y was passed when a 1d array was expected. Please change the shape of y to (n_samples, ), for example using ravel().\n",
      "  y = column_or_1d(y, warn=True)\n",
      "/usr/local/lib/python3.7/dist-packages/sklearn/svm/base.py:193: FutureWarning: The default value of gamma will change from 'auto' to 'scale' in version 0.22 to account better for unscaled features. Set gamma explicitly to 'auto' or 'scale' to avoid this warning.\n",
      "  \"avoid this warning.\", FutureWarning)\n",
      "/usr/local/lib/python3.7/dist-packages/sklearn/utils/validation.py:724: DataConversionWarning: A column-vector y was passed when a 1d array was expected. Please change the shape of y to (n_samples, ), for example using ravel().\n",
      "  y = column_or_1d(y, warn=True)\n",
      "/usr/local/lib/python3.7/dist-packages/sklearn/svm/base.py:193: FutureWarning: The default value of gamma will change from 'auto' to 'scale' in version 0.22 to account better for unscaled features. Set gamma explicitly to 'auto' or 'scale' to avoid this warning.\n",
      "  \"avoid this warning.\", FutureWarning)\n",
      "/usr/local/lib/python3.7/dist-packages/sklearn/utils/validation.py:724: DataConversionWarning: A column-vector y was passed when a 1d array was expected. Please change the shape of y to (n_samples, ), for example using ravel().\n",
      "  y = column_or_1d(y, warn=True)\n",
      "/usr/local/lib/python3.7/dist-packages/sklearn/svm/base.py:193: FutureWarning: The default value of gamma will change from 'auto' to 'scale' in version 0.22 to account better for unscaled features. Set gamma explicitly to 'auto' or 'scale' to avoid this warning.\n",
      "  \"avoid this warning.\", FutureWarning)\n",
      "/usr/local/lib/python3.7/dist-packages/sklearn/utils/validation.py:724: DataConversionWarning: A column-vector y was passed when a 1d array was expected. Please change the shape of y to (n_samples, ), for example using ravel().\n",
      "  y = column_or_1d(y, warn=True)\n",
      "/usr/local/lib/python3.7/dist-packages/sklearn/svm/base.py:193: FutureWarning: The default value of gamma will change from 'auto' to 'scale' in version 0.22 to account better for unscaled features. Set gamma explicitly to 'auto' or 'scale' to avoid this warning.\n",
      "  \"avoid this warning.\", FutureWarning)\n",
      "/usr/local/lib/python3.7/dist-packages/sklearn/model_selection/_search.py:814: DeprecationWarning: The default of the `iid` parameter will change from True to False in version 0.22 and will be removed in 0.24. This will change numeric results when test-set sizes are unequal.\n",
      "  DeprecationWarning)\n",
      "/usr/local/lib/python3.7/dist-packages/sklearn/utils/validation.py:724: DataConversionWarning: A column-vector y was passed when a 1d array was expected. Please change the shape of y to (n_samples, ), for example using ravel().\n",
      "  y = column_or_1d(y, warn=True)\n",
      "/usr/local/lib/python3.7/dist-packages/sklearn/svm/base.py:193: FutureWarning: The default value of gamma will change from 'auto' to 'scale' in version 0.22 to account better for unscaled features. Set gamma explicitly to 'auto' or 'scale' to avoid this warning.\n",
      "  \"avoid this warning.\", FutureWarning)\n"
     ]
    },
    {
     "data": {
      "image/png": "[encoded data removed]",
      "text/plain": [
       "<Figure size 1008x648 with 1 Axes>"
      ]
     },
     "metadata": {
      "needs_background": "light"
     },
     "output_type": "display_data"
    }
   ],
   "source": [
    "best_params_SVMC = {'C': [1], 'degree': [2], 'kernel': ['poly']}\n",
    "df_split_params =learning_curve(model=SVMC,best_parameters=best_params_SVMC,folds=10, X=X,Y=Y,groups=groups)"
   ]
  },
  {
   "cell_type": "code",
   "execution_count": 33,
   "metadata": {},
   "outputs": [
    {
     "data": {
      "text/html": [
       "<div>\n",
       "<style scoped>\n",
       "    .dataframe tbody tr th:only-of-type {\n",
       "        vertical-align: middle;\n",
       "    }\n",
       "\n",
       "    .dataframe tbody tr th {\n",
       "        vertical-align: top;\n",
       "    }\n",
       "\n",
       "    .dataframe thead th {\n",
       "        text-align: right;\n",
       "    }\n",
       "</style>\n",
       "<table border=\"1\" class=\"dataframe\">\n",
       "  <thead>\n",
       "    <tr style=\"text-align: right;\">\n",
       "      <th></th>\n",
       "      <th>Train_Size</th>\n",
       "      <th>mean_train_Accuracy</th>\n",
       "      <th>mean_test_Accuracy</th>\n",
       "      <th>std_train_Accuracy</th>\n",
       "      <th>std_test_Accuracy</th>\n",
       "    </tr>\n",
       "  </thead>\n",
       "  <tbody>\n",
       "    <tr>\n",
       "      <th>0</th>\n",
       "      <td>0.1</td>\n",
       "      <td>0.995749</td>\n",
       "      <td>0.662097</td>\n",
       "      <td>0.002017</td>\n",
       "      <td>0.013682</td>\n",
       "    </tr>\n",
       "    <tr>\n",
       "      <th>1</th>\n",
       "      <td>0.3</td>\n",
       "      <td>0.992443</td>\n",
       "      <td>0.753564</td>\n",
       "      <td>0.002004</td>\n",
       "      <td>0.007688</td>\n",
       "    </tr>\n",
       "    <tr>\n",
       "      <th>2</th>\n",
       "      <td>0.5</td>\n",
       "      <td>0.988288</td>\n",
       "      <td>0.792104</td>\n",
       "      <td>0.001621</td>\n",
       "      <td>0.011907</td>\n",
       "    </tr>\n",
       "    <tr>\n",
       "      <th>3</th>\n",
       "      <td>0.7</td>\n",
       "      <td>0.984700</td>\n",
       "      <td>0.805317</td>\n",
       "      <td>0.001610</td>\n",
       "      <td>0.014636</td>\n",
       "    </tr>\n",
       "    <tr>\n",
       "      <th>4</th>\n",
       "      <td>0.9</td>\n",
       "      <td>0.982392</td>\n",
       "      <td>0.819952</td>\n",
       "      <td>0.001152</td>\n",
       "      <td>0.024190</td>\n",
       "    </tr>\n",
       "  </tbody>\n",
       "</table>\n",
       "</div>"
      ],
      "text/plain": [
       "   Train_Size  mean_train_Accuracy  mean_test_Accuracy  std_train_Accuracy  \\\n",
       "0         0.1             0.995749            0.662097            0.002017   \n",
       "1         0.3             0.992443            0.753564            0.002004   \n",
       "2         0.5             0.988288            0.792104            0.001621   \n",
       "3         0.7             0.984700            0.805317            0.001610   \n",
       "4         0.9             0.982392            0.819952            0.001152   \n",
       "\n",
       "   std_test_Accuracy  \n",
       "0           0.013682  \n",
       "1           0.007688  \n",
       "2           0.011907  \n",
       "3           0.014636  \n",
       "4           0.024190  "
      ]
     },
     "execution_count": 33,
     "metadata": {},
     "output_type": "execute_result"
    }
   ],
   "source": [
    "df_split_params"
   ]
  },
  {
   "cell_type": "code",
   "execution_count": null,
   "metadata": {},
   "outputs": [],
   "source": []
  },
  {
   "cell_type": "code",
   "execution_count": null,
   "metadata": {},
   "outputs": [],
   "source": []
  }
 ],
 "metadata": {
  "kernelspec": {
   "display_name": "Python 3",
   "language": "python",
   "name": "python3"
  },
  "language_info": {
   "codemirror_mode": {
    "name": "ipython",
    "version": 3
   },
   "file_extension": ".py",
   "mimetype": "text/x-python",
   "name": "python",
   "nbconvert_exporter": "python",
   "pygments_lexer": "ipython3",
   "version": "3.7.5rc1"
  }
 },
 "nbformat": 4,
 "nbformat_minor": 2
}
