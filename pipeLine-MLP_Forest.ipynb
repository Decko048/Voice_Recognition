{
 "cells": [
  {
   "cell_type": "code",
   "execution_count": 2,
   "metadata": {
    "colab": {},
    "colab_type": "code",
    "id": "acCX2-r2TBAx"
   },
   "outputs": [
    {
     "ename": "ModuleNotFoundError",
     "evalue": "No module named 'sklearn'",
     "output_type": "error",
     "traceback": [
      "\u001b[0;31m---------------------------------------------------------------------------\u001b[0m",
      "\u001b[0;31mModuleNotFoundError\u001b[0m                       Traceback (most recent call last)",
      "\u001b[0;32m<ipython-input-2-0645f13cac58>\u001b[0m in \u001b[0;36m<module>\u001b[0;34m\u001b[0m\n\u001b[1;32m      3\u001b[0m \u001b[0;32mimport\u001b[0m \u001b[0mnumpy\u001b[0m \u001b[0;32mas\u001b[0m \u001b[0mnp\u001b[0m\u001b[0;34m\u001b[0m\u001b[0;34m\u001b[0m\u001b[0m\n\u001b[1;32m      4\u001b[0m \u001b[0;32mimport\u001b[0m \u001b[0mpandas\u001b[0m \u001b[0;32mas\u001b[0m \u001b[0mpd\u001b[0m\u001b[0;34m\u001b[0m\u001b[0;34m\u001b[0m\u001b[0m\n\u001b[0;32m----> 5\u001b[0;31m \u001b[0;32mfrom\u001b[0m \u001b[0msklearn\u001b[0m\u001b[0;34m.\u001b[0m\u001b[0mmodel_selection\u001b[0m \u001b[0;32mimport\u001b[0m \u001b[0mGroupShuffleSplit\u001b[0m\u001b[0;34m\u001b[0m\u001b[0;34m\u001b[0m\u001b[0m\n\u001b[0m\u001b[1;32m      6\u001b[0m \u001b[0;32mfrom\u001b[0m \u001b[0msklearn\u001b[0m\u001b[0;34m.\u001b[0m\u001b[0mmixture\u001b[0m \u001b[0;32mimport\u001b[0m \u001b[0mGaussianMixture\u001b[0m\u001b[0;34m\u001b[0m\u001b[0;34m\u001b[0m\u001b[0m\n\u001b[1;32m      7\u001b[0m \u001b[0;32mimport\u001b[0m \u001b[0mmath\u001b[0m\u001b[0;34m\u001b[0m\u001b[0;34m\u001b[0m\u001b[0m\n",
      "\u001b[0;31mModuleNotFoundError\u001b[0m: No module named 'sklearn'"
     ]
    }
   ],
   "source": [
    "import IPython\n",
    "import matplotlib.pyplot as plt\n",
    "import numpy as np\n",
    "import pandas as pd\n",
    "from sklearn.model_selection import GroupShuffleSplit\n",
    "from sklearn.mixture import GaussianMixture\n",
    "import math\n",
    "import scipy as sc\n",
    "from scipy import stats\n",
    "from matplotlib.ticker import FuncFormatter\n",
    "from sklearn.model_selection import GridSearchCV\n",
    "from sklearn.metrics import make_scorer, accuracy_score, precision_score,recall_score, f1_score\n",
    "%matplotlib inline"
   ]
  },
  {
   "cell_type": "code",
   "execution_count": 0,
   "metadata": {
    "colab": {},
    "colab_type": "code",
    "id": "xtdIesVhUI4C"
   },
   "outputs": [],
   "source": [
    "PATHDATA = 'audiosData.csv'\n",
    "df = pd.read_csv(PATHDATA, header = None)\n",
    "data = df.values #Convertimos en un  numpy array"
   ]
  },
  {
   "cell_type": "markdown",
   "metadata": {
    "colab_type": "text",
    "id": "cDagOH8aV4X1"
   },
   "source": [
    "## Dividir el dataset usando GroupShuffleSplit\n"
   ]
  },
  {
   "cell_type": "code",
   "execution_count": 15,
   "metadata": {
    "colab": {
     "base_uri": "https://localhost:8080/",
     "height": 34
    },
    "colab_type": "code",
    "id": "Z2WUWhIqXkxT",
    "outputId": "e5b18708-0a97-42b7-a0c1-0896e83b32db"
   },
   "outputs": [
    {
     "data": {
      "text/plain": [
       "(5200, 164)"
      ]
     },
     "execution_count": 15,
     "metadata": {
      "tags": []
     },
     "output_type": "execute_result"
    }
   ],
   "source": [
    "data.shape"
   ]
  },
  {
   "cell_type": "code",
   "execution_count": 84,
   "metadata": {
    "colab": {
     "base_uri": "https://localhost:8080/",
     "height": 67
    },
    "colab_type": "code",
    "id": "gmXYKWl3UQal",
    "outputId": "05c74cfa-001d-49d9-d5d3-2a38159efac3"
   },
   "outputs": [
    {
     "name": "stdout",
     "output_type": "stream",
     "text": [
      "Tamaño dataSet (5200, 162)\n",
      "\n",
      "\n"
     ]
    }
   ],
   "source": [
    "X = data[:,0:-2]\n",
    "Y = data[:,-1]\n",
    "print('Tamaño dataSet', X.shape)\n",
    "print('\\n')\n",
    "Y=  np.reshape(Y,(np.size(Y,0),1))\n",
    "groups = data[:,-2:-1]\n"
   ]
  },
  {
   "cell_type": "code",
   "execution_count": 93,
   "metadata": {
    "colab": {
     "base_uri": "https://localhost:8080/",
     "height": 34
    },
    "colab_type": "code",
    "id": "ZhvwHhQZ10xo",
    "outputId": "f309956a-e918-477c-ece7-bae1567f742d"
   },
   "outputs": [
    {
     "data": {
      "text/plain": [
       "29"
      ]
     },
     "execution_count": 93,
     "metadata": {
      "tags": []
     },
     "output_type": "execute_result"
    }
   ],
   "source": [
    "groups_count = np.unique(groups,return_counts=True)\n",
    "np.max(groups_count[1])\n"
   ]
  },
  {
   "cell_type": "code",
   "execution_count": 86,
   "metadata": {
    "colab": {
     "base_uri": "https://localhost:8080/",
     "height": 134
    },
    "colab_type": "code",
    "id": "f9SY-bbq2U_0",
    "outputId": "e2e63ac6-a097-4263-9bab-48c9a5964f0c"
   },
   "outputs": [
    {
     "data": {
      "text/plain": [
       "array([[ 13.],\n",
       "       [ 15.],\n",
       "       [ 15.],\n",
       "       ...,\n",
       "       [784.],\n",
       "       [784.],\n",
       "       [784.]])"
      ]
     },
     "execution_count": 86,
     "metadata": {
      "tags": []
     },
     "output_type": "execute_result"
    }
   ],
   "source": [
    "groups"
   ]
  },
  {
   "cell_type": "code",
   "execution_count": 0,
   "metadata": {
    "colab": {},
    "colab_type": "code",
    "id": "R-3KGCQKWpsU"
   },
   "outputs": [],
   "source": [
    "\n",
    "def build_model(model, parameters, folds, train_size, X,Y):\n",
    "  acc_scorer = make_scorer(accuracy_score)\n",
    "  recalls = make_scorer(recall_score,average='micro')##buscar por que micro\n",
    "  precision = make_scorer(precision_score,average='micro')\n",
    "  f1 = make_scorer(f1_score,average='micro')\n",
    "  scores =  {'recalls':recalls,'precision':precision,'f1':f1,'Accuracy': make_scorer(accuracy_score)}\n",
    "  gss = GroupShuffleSplit(n_splits=folds, train_size=train_size, random_state=0)\n",
    "  model = GridSearchCV(model,parameters,scores,-1,refit='Accuracy',return_train_score=True, cv=gss.split(X, Y, groups=groups))\n",
    "  model.fit(X,Y)\n",
    "  return model "
   ]
  },
  {
   "cell_type": "code",
   "execution_count": 0,
   "metadata": {
    "colab": {},
    "colab_type": "code",
    "id": "R5wWQhbmif4J"
   },
   "outputs": [],
   "source": [
    "def get_data_frame_results(dfRF,  args = ['mean_test_recalls',\n",
    "                                        'std_test_recalls',\n",
    "                                        'rank_test_recalls',\n",
    "                                        'mean_train_recalls',\n",
    "                                        'std_train_recalls',\n",
    "                                        'mean_train_f1',\n",
    "                                        'std_train_f1',\n",
    "                                        'mean_test_Accuracy',\n",
    "                                        'std_test_Accuracy',\n",
    "                                        'rank_test_Accuracy',\n",
    "                                        'std_train_Accuracy',\n",
    "                                        'mean_train_Accuracy',\n",
    "                                        'mean_fit_time',\n",
    "                                        'std_fit_time',\n",
    "                                        'mean_score_time',\n",
    "                                        'std_score_time',\n",
    "                                        'params'\n",
    "          ]):\n",
    "\n",
    "\n",
    "\n",
    "  data = {}\n",
    "\n",
    "  for arg in args:\n",
    "    data.update({arg: dfRF[arg]})\n",
    "    \n",
    "  # Data frame\n",
    "  df_results = pd.DataFrame(data=data)\n",
    "  return df_results"
   ]
  },
  {
   "cell_type": "code",
   "execution_count": 0,
   "metadata": {
    "colab": {},
    "colab_type": "code",
    "id": "tHAP73QhuB7g"
   },
   "outputs": [],
   "source": [
    "def learning_curve(model,parameters,folds, X,Y, suptitle='', title='', xlabel='Training Set Size', ylabel='Acurracy'):\n",
    "    \"\"\"\n",
    "    Parameters\n",
    "    ----------\n",
    "    suptitle : str\n",
    "        Chart suptitle\n",
    "    title: str\n",
    "        Chart title\n",
    "    xlabel: str\n",
    "        Label for the X axis\n",
    "    ylabel: str\n",
    "        Label for the y axis\n",
    "    Returns\n",
    "    -------\n",
    "    Plot of learning curves\n",
    "    \"\"\"\n",
    "    \n",
    "    # create lists to store train and validation scores\n",
    "    train_score = []\n",
    "    val_score = []\n",
    "    std_train= []\n",
    "    std_val=[]\n",
    "    bests_params=[]\n",
    "\n",
    "    # create ten incremental training set sizes\n",
    "    training_set_sizes = np.linspace(.1, .9, 5)\n",
    "\n",
    "    # for each one of those training set sizes\n",
    "    for i in training_set_sizes:\n",
    "\n",
    "        model_trained = build_model(model, parameters, folds, i, X,Y)\n",
    "        \n",
    "        #Metrics, params \n",
    "        best_params = model_trained.cv_results_['params'][model_trained.best_index_]\n",
    "        \n",
    "        EfficiencyVal= model_trained.cv_results_['mean_test_Accuracy'][model_trained.best_index_]\n",
    "        EfficiencyTrain=model_trained.cv_results_['mean_train_Accuracy'][model_trained.best_index_]\n",
    "        stdTrain=model_trained.cv_results_['std_train_Accuracy'][model_trained.best_index_]\n",
    "        stdVal=model_trained.cv_results_['std_test_Accuracy'][model_trained.best_index_]\n",
    "\n",
    "        # store the scores in their respective lists\n",
    "        train_score.append(EfficiencyTrain)\n",
    "        val_score.append(EfficiencyVal)\n",
    "        std_train.append(stdTrain)\n",
    "        std_val.append(stdVal)\n",
    "        bests_params.append(best_params)\n",
    "    \n",
    "    train_score =np.array(train_score)\n",
    "    val_score =np.array(val_score)\n",
    "    std_train =np.array(std_train)\n",
    "    std_val =np.array(std_val)\n",
    "\n",
    "\n",
    "    # plot learning curves\n",
    "    fig, ax = plt.subplots(figsize=(14, 9))\n",
    "    ax.plot(training_set_sizes, train_score, c='gold')\n",
    "    ax.plot(training_set_sizes, val_score, c='steelblue')\n",
    "    \n",
    "    ax.fill_between(training_set_sizes,train_score+std_train,train_score-std_train,facecolor='gold',alpha=0.5)\n",
    "    ax.fill_between(training_set_sizes,val_score+std_val,val_score-std_val,facecolor='steelblue',alpha=0.5)\n",
    "\n",
    "    # format the chart to make it look nice\n",
    "    fig.suptitle(suptitle, fontweight='bold', fontsize='20')\n",
    "    ax.set_title(title, size=20)\n",
    "    ax.set_xlabel(xlabel, size=16)\n",
    "    ax.set_ylabel(ylabel, size=16)\n",
    "    ax.legend(['Train set', 'Test set'], fontsize=16)\n",
    "    ax.tick_params(axis='both', labelsize=12)\n",
    "    ax.set_ylim(0, 1)\n",
    "\n",
    "    def percentages(x, pos):\n",
    "        \"\"\"The two args are the value and tick position\"\"\"\n",
    "        if x < 1:\n",
    "            return '{:1.0f}'.format(x*100)\n",
    "        return '{:1.0f}%'.format(x*100)\n",
    "\n",
    "    def numbers(x, pos):\n",
    "        \"\"\"The two args are the value and tick position\"\"\"\n",
    "        if x >= 1000:\n",
    "            return '{:1,.0f}'.format(x)\n",
    "        return '{:1.0f}'.format(x)\n",
    "    df_split_params = pd.DataFrame(list(zip(training_set_sizes, bests_params)),columns =['Train_Size', 'Params'])\n",
    "    return df_split_params\n",
    "    #y_formatter = FuncFormatter(percentages)\n",
    "    #ax.yaxis.set_major_formatter(y_formatter)\n",
    "\n",
    "    #x_formatter = FuncFormatter(numbers)\n",
    "    #ax.xaxis.set_major_formatter(x_formatter)\n",
    "\n",
    "  "
   ]
  },
  {
   "cell_type": "code",
   "execution_count": 77,
   "metadata": {
    "colab": {
     "base_uri": "https://localhost:8080/",
     "height": 893
    },
    "colab_type": "code",
    "id": "L0Co36rkYbGg",
    "outputId": "53b0e046-f01e-4ff6-9cf2-40078b4655dd"
   },
   "outputs": [
    {
     "name": "stderr",
     "output_type": "stream",
     "text": [
      "/usr/local/lib/python3.6/dist-packages/sklearn/model_selection/_search.py:814: DeprecationWarning: The default of the `iid` parameter will change from True to False in version 0.22 and will be removed in 0.24. This will change numeric results when test-set sizes are unequal.\n",
      "  DeprecationWarning)\n",
      "/usr/local/lib/python3.6/dist-packages/sklearn/model_selection/_search.py:814: DeprecationWarning: The default of the `iid` parameter will change from True to False in version 0.22 and will be removed in 0.24. This will change numeric results when test-set sizes are unequal.\n",
      "  DeprecationWarning)\n",
      "/usr/local/lib/python3.6/dist-packages/sklearn/model_selection/_search.py:814: DeprecationWarning: The default of the `iid` parameter will change from True to False in version 0.22 and will be removed in 0.24. This will change numeric results when test-set sizes are unequal.\n",
      "  DeprecationWarning)\n"
     ]
    },
    {
     "data": {
      "text/html": [
       "<div>\n",
       "<style scoped>\n",
       "    .dataframe tbody tr th:only-of-type {\n",
       "        vertical-align: middle;\n",
       "    }\n",
       "\n",
       "    .dataframe tbody tr th {\n",
       "        vertical-align: top;\n",
       "    }\n",
       "\n",
       "    .dataframe thead th {\n",
       "        text-align: right;\n",
       "    }\n",
       "</style>\n",
       "<table border=\"1\" class=\"dataframe\">\n",
       "  <thead>\n",
       "    <tr style=\"text-align: right;\">\n",
       "      <th></th>\n",
       "      <th>Params</th>\n",
       "    </tr>\n",
       "    <tr>\n",
       "      <th>Train_Size</th>\n",
       "      <th></th>\n",
       "    </tr>\n",
       "  </thead>\n",
       "  <tbody>\n",
       "    <tr>\n",
       "      <th>0.1</th>\n",
       "      <td>{'covariance_type': 'tied', 'n_components': 2}</td>\n",
       "    </tr>\n",
       "    <tr>\n",
       "      <th>0.3</th>\n",
       "      <td>{'covariance_type': 'tied', 'n_components': 1}</td>\n",
       "    </tr>\n",
       "    <tr>\n",
       "      <th>0.5</th>\n",
       "      <td>{'covariance_type': 'tied', 'n_components': 1}</td>\n",
       "    </tr>\n",
       "    <tr>\n",
       "      <th>0.7</th>\n",
       "      <td>{'covariance_type': 'tied', 'n_components': 2}</td>\n",
       "    </tr>\n",
       "    <tr>\n",
       "      <th>0.9</th>\n",
       "      <td>{'covariance_type': 'tied', 'n_components': 2}</td>\n",
       "    </tr>\n",
       "  </tbody>\n",
       "</table>\n",
       "</div>"
      ],
      "text/plain": [
       "                                                    Params\n",
       "Train_Size                                                \n",
       "0.1         {'covariance_type': 'tied', 'n_components': 2}\n",
       "0.3         {'covariance_type': 'tied', 'n_components': 1}\n",
       "0.5         {'covariance_type': 'tied', 'n_components': 1}\n",
       "0.7         {'covariance_type': 'tied', 'n_components': 2}\n",
       "0.9         {'covariance_type': 'tied', 'n_components': 2}"
      ]
     },
     "execution_count": 77,
     "metadata": {
      "tags": []
     },
     "output_type": "execute_result"
    },
    {
     "data": {
      "image/png": "[encoded data removed]",
      "text/plain": [
       "<Figure size 1008x648 with 1 Axes>"
      ]
     },
     "metadata": {
      "tags": []
     },
     "output_type": "display_data"
    }
   ],
   "source": [
    "parameters ={'n_components' : [1,2],'covariance_type': ['tied']}\n",
    "GMM =GaussianMixture()#Configurar el modelo\n",
    "\n",
    "df_split_params =learning_curve(GMM,parameters,15, X,Y)\n",
    "df_split_params.set_index('Train_Size', inplace=True)\n",
    "df_split_params"
   ]
  },
  {
   "cell_type": "code",
   "execution_count": 0,
   "metadata": {
    "colab": {},
    "colab_type": "code",
    "id": "Zg9dXMhOvjh_"
   },
   "outputs": [],
   "source": [
    "df_results = get_data_frame_results(GMM_Trained.cv_results_)"
   ]
  },
  {
   "cell_type": "code",
   "execution_count": 0,
   "metadata": {
    "colab": {
     "base_uri": "https://localhost:8080/",
     "height": 233
    },
    "colab_type": "code",
    "id": "x-2WNxXNvlGR",
    "outputId": "b8e5484f-112e-453a-f499-f6df997687f9"
   },
   "outputs": [
    {
     "data": {
      "text/html": [
       "<div>\n",
       "<style scoped>\n",
       "    .dataframe tbody tr th:only-of-type {\n",
       "        vertical-align: middle;\n",
       "    }\n",
       "\n",
       "    .dataframe tbody tr th {\n",
       "        vertical-align: top;\n",
       "    }\n",
       "\n",
       "    .dataframe thead th {\n",
       "        text-align: right;\n",
       "    }\n",
       "</style>\n",
       "<table border=\"1\" class=\"dataframe\">\n",
       "  <thead>\n",
       "    <tr style=\"text-align: right;\">\n",
       "      <th></th>\n",
       "      <th>mean_test_recalls</th>\n",
       "      <th>std_test_recalls</th>\n",
       "      <th>rank_test_recalls</th>\n",
       "      <th>mean_train_recalls</th>\n",
       "      <th>std_train_recalls</th>\n",
       "      <th>mean_train_f1</th>\n",
       "      <th>std_train_f1</th>\n",
       "      <th>mean_test_Accuracy</th>\n",
       "      <th>std_test_Accuracy</th>\n",
       "      <th>rank_test_Accuracy</th>\n",
       "      <th>std_train_Accuracy</th>\n",
       "      <th>mean_train_Accuracy</th>\n",
       "      <th>mean_fit_time</th>\n",
       "      <th>std_fit_time</th>\n",
       "      <th>mean_score_time</th>\n",
       "      <th>std_score_time</th>\n",
       "      <th>params</th>\n",
       "    </tr>\n",
       "  </thead>\n",
       "  <tbody>\n",
       "    <tr>\n",
       "      <th>0</th>\n",
       "      <td>0.252181</td>\n",
       "      <td>0.009818</td>\n",
       "      <td>2</td>\n",
       "      <td>0.248566</td>\n",
       "      <td>0.006581</td>\n",
       "      <td>0.248566</td>\n",
       "      <td>0.006581</td>\n",
       "      <td>0.252181</td>\n",
       "      <td>0.009818</td>\n",
       "      <td>2</td>\n",
       "      <td>0.006581</td>\n",
       "      <td>0.248566</td>\n",
       "      <td>0.131018</td>\n",
       "      <td>0.017676</td>\n",
       "      <td>0.049956</td>\n",
       "      <td>0.001413</td>\n",
       "      <td>{'covariance_type': 'tied', 'n_components': 1}</td>\n",
       "    </tr>\n",
       "    <tr>\n",
       "      <th>1</th>\n",
       "      <td>0.286431</td>\n",
       "      <td>0.065322</td>\n",
       "      <td>1</td>\n",
       "      <td>0.287650</td>\n",
       "      <td>0.065415</td>\n",
       "      <td>0.287650</td>\n",
       "      <td>0.065415</td>\n",
       "      <td>0.286431</td>\n",
       "      <td>0.065322</td>\n",
       "      <td>1</td>\n",
       "      <td>0.065415</td>\n",
       "      <td>0.287650</td>\n",
       "      <td>1.154441</td>\n",
       "      <td>0.459392</td>\n",
       "      <td>0.089416</td>\n",
       "      <td>0.010240</td>\n",
       "      <td>{'covariance_type': 'tied', 'n_components': 2}</td>\n",
       "    </tr>\n",
       "  </tbody>\n",
       "</table>\n",
       "</div>"
      ],
      "text/plain": [
       "   mean_test_recalls  ...                                          params\n",
       "0           0.252181  ...  {'covariance_type': 'tied', 'n_components': 1}\n",
       "1           0.286431  ...  {'covariance_type': 'tied', 'n_components': 2}\n",
       "\n",
       "[2 rows x 17 columns]"
      ]
     },
     "execution_count": 69,
     "metadata": {
      "tags": []
     },
     "output_type": "execute_result"
    }
   ],
   "source": [
    "df_results"
   ]
  },
  {
   "cell_type": "code",
   "execution_count": 0,
   "metadata": {
    "colab": {},
    "colab_type": "code",
    "id": "isVsL7IivsJx"
   },
   "outputs": [],
   "source": []
  }
 ],
 "metadata": {
  "colab": {
   "collapsed_sections": [],
   "name": "pipeLine.ipynb",
   "provenance": []
  },
  "kernelspec": {
   "display_name": "Python 3",
   "language": "python",
   "name": "python3"
  },
  "language_info": {
   "codemirror_mode": {
    "name": "ipython",
    "version": 3
   },
   "file_extension": ".py",
   "mimetype": "text/x-python",
   "name": "python",
   "nbconvert_exporter": "python",
   "pygments_lexer": "ipython3",
   "version": "3.7.1"
  }
 },
 "nbformat": 4,
 "nbformat_minor": 1
}