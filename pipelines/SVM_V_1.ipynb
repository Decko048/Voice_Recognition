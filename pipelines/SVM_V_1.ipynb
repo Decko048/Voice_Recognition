{
 "cells": [
  {
   "cell_type": "code",
   "execution_count": 1,
   "metadata": {},
   "outputs": [],
   "source": [
    "import IPython\n",
    "import matplotlib.pyplot as plt\n",
    "import numpy as np\n",
    "import pandas as pd\n",
    "from sklearn.model_selection import GroupShuffleSplit\n",
    "from sklearn.svm import  SVC\n",
    "import math\n",
    "import scipy as sc\n",
    "from scipy import stats\n",
    "from matplotlib.ticker import FuncFormatter\n",
    "from sklearn.model_selection import GridSearchCV\n",
    "from sklearn.metrics import make_scorer, accuracy_score, precision_score,recall_score, f1_score\n",
    "from sklearn.metrics import classification_report,confusion_matrix,accuracy_score,roc_curve,auc\n",
    "import seaborn as sns\n",
    "\n",
    "%matplotlib inline"
   ]
  },
  {
   "cell_type": "markdown",
   "metadata": {},
   "source": [
    "### Leer dataset"
   ]
  },
  {
   "cell_type": "code",
   "execution_count": 2,
   "metadata": {},
   "outputs": [],
   "source": [
    "#PATHDATA = '../data/audiosData.csv'\n",
    "PATHDATA_2 = '../data/audiosData_2.csv'\n",
    "df = pd.read_csv(PATHDATA_2, header = None)\n",
    "data = df.values #Convertimos en un  numpy array"
   ]
  },
  {
   "cell_type": "code",
   "execution_count": 3,
   "metadata": {},
   "outputs": [
    {
     "name": "stdout",
     "output_type": "stream",
     "text": [
      "Tamaño dataSet (15000, 162)\n",
      "\n",
      "\n"
     ]
    }
   ],
   "source": [
    "X = data[:,0:-2]\n",
    "Y = data[:,-1]\n",
    "print('Tamaño dataSet', X.shape)\n",
    "print('\\n')\n",
    "Y=  np.reshape(Y,(np.size(Y,0),1))\n",
    "groups = data[:,-2:-1]\n"
   ]
  },
  {
   "cell_type": "markdown",
   "metadata": {},
   "source": [
    "### Número de clases"
   ]
  },
  {
   "cell_type": "code",
   "execution_count": 4,
   "metadata": {},
   "outputs": [
    {
     "name": "stdout",
     "output_type": "stream",
     "text": [
      "Número de clases: 5\n"
     ]
    }
   ],
   "source": [
    "n_classes=len(np.unique(Y))\n",
    "print('Número de clases:', n_classes)"
   ]
  },
  {
   "cell_type": "markdown",
   "metadata": {},
   "source": [
    "### Número de hablantes"
   ]
  },
  {
   "cell_type": "code",
   "execution_count": 5,
   "metadata": {},
   "outputs": [
    {
     "name": "stdout",
     "output_type": "stream",
     "text": [
      "Número de hablantes diferentes 1914\n"
     ]
    }
   ],
   "source": [
    "n_groups = len(np.unique(groups))\n",
    "print('Número de hablantes diferentes', n_groups)"
   ]
  },
  {
   "cell_type": "markdown",
   "metadata": {},
   "source": [
    "## Dividir el dataset (train/test) 0.8/0.2"
   ]
  },
  {
   "cell_type": "code",
   "execution_count": 6,
   "metadata": {},
   "outputs": [],
   "source": [
    "gss = GroupShuffleSplit(n_splits=1, test_size=0.2, random_state=0)\n",
    "gss.get_n_splits()\n",
    "for train_index, test_index in gss.split(X, Y, groups=groups):\n",
    "    X_train_original, X_test__original = X[train_index], X[test_index]\n",
    "    #print(X_train, X_test)\n",
    "    Y_train__original, Y_test__original = Y[train_index], Y[test_index]\n",
    "    #print(y_train, y_test)\n",
    "    groups_original = groups[train_index]"
   ]
  },
  {
   "cell_type": "code",
   "execution_count": 7,
   "metadata": {},
   "outputs": [
    {
     "data": {
      "text/plain": [
       "(11855, 1)"
      ]
     },
     "execution_count": 7,
     "metadata": {},
     "output_type": "execute_result"
    }
   ],
   "source": [
    "groups_original.shape"
   ]
  },
  {
   "cell_type": "code",
   "execution_count": 8,
   "metadata": {},
   "outputs": [
    {
     "data": {
      "text/plain": [
       "(11855, 162)"
      ]
     },
     "execution_count": 8,
     "metadata": {},
     "output_type": "execute_result"
    }
   ],
   "source": [
    "X_train_original.shape"
   ]
  },
  {
   "cell_type": "code",
   "execution_count": 9,
   "metadata": {},
   "outputs": [
    {
     "data": {
      "text/plain": [
       "(11855, 1)"
      ]
     },
     "execution_count": 9,
     "metadata": {},
     "output_type": "execute_result"
    }
   ],
   "source": [
    "Y_train__original.shape"
   ]
  },
  {
   "cell_type": "code",
   "execution_count": 10,
   "metadata": {},
   "outputs": [],
   "source": [
    "def build_model(model, parameters, folds, train_size, X,Y,groups_original):\n",
    "  acc_scorer = make_scorer(accuracy_score)\n",
    "  recalls = make_scorer(recall_score,average='micro')##buscar por que micro\n",
    "  precision = make_scorer(precision_score,average='micro')\n",
    "  f1 = make_scorer(f1_score,average='micro')\n",
    "  scores =  {'recalls':recalls,'precision':precision,'f1':f1,'Accuracy': make_scorer(accuracy_score)}\n",
    "  gss = GroupShuffleSplit(n_splits=folds, train_size=train_size, random_state=0)\n",
    "  model = GridSearchCV(model,parameters,scores,-1,refit='Accuracy',return_train_score=True, cv=gss.split(X, Y, groups=groups_original))\n",
    "  model.fit(X,Y)\n",
    "  return model "
   ]
  },
  {
   "cell_type": "markdown",
   "metadata": {},
   "source": [
    "# Support Vector Classification. (SVC) "
   ]
  },
  {
   "cell_type": "code",
   "execution_count": 11,
   "metadata": {},
   "outputs": [],
   "source": [
    "FOLDS = 10\n",
    "TRAIN_SIZE = 0.8"
   ]
  },
  {
   "cell_type": "markdown",
   "metadata": {},
   "source": [
    "## 1. Mejor modelo"
   ]
  },
  {
   "cell_type": "markdown",
   "metadata": {},
   "source": [
    "Usamos X_train_original y Y_train__original para seleccionar la mejor combinación de parametros y posteriormente validar dichos resultados con el conjunto X_test__original y Y_test__original.\n",
    "\n",
    "<b>Nota:</b> el conjunto X_train_original se divide en dos conjuntos train y dev a una proporción de 80 a 20.\n"
   ]
  },
  {
   "cell_type": "code",
   "execution_count": 12,
   "metadata": {},
   "outputs": [
    {
     "name": "stderr",
     "output_type": "stream",
     "text": [
      "/home/josearangos/anaconda3/lib/python3.7/site-packages/sklearn/utils/validation.py:760: DataConversionWarning: A column-vector y was passed when a 1d array was expected. Please change the shape of y to (n_samples, ), for example using ravel().\n",
      "  y = column_or_1d(y, warn=True)\n"
     ]
    },
    {
     "name": "stdout",
     "output_type": "stream",
     "text": [
      "{'C': 3, 'degree': 3, 'kernel': 'poly'}\n"
     ]
    }
   ],
   "source": [
    "parameters = [{'kernel': ['rbf'], 'gamma': [1e-1,1e-10,1e-5],'C': [1,2,3]},\n",
    "              {'kernel': ['linear'], 'C': [1,2,3]},\n",
    "              {'kernel':['poly'],'C': [1,2,3],'degree':[1,2,3]}\n",
    "             ]\n",
    "SVMC = SVC()#Configurar el modelo\n",
    "model_trained_SVMC = build_model(SVMC, parameters, FOLDS, TRAIN_SIZE, X_train_original,Y_train__original,groups_original)\n",
    "best_params_SVMC = model_trained_SVMC.cv_results_['params'][model_trained_SVMC.best_index_]\n",
    "print(best_params_SVMC)"
   ]
  },
  {
   "cell_type": "code",
   "execution_count": 13,
   "metadata": {},
   "outputs": [
    {
     "name": "stdout",
     "output_type": "stream",
     "text": [
      "Resultados mejor modelo:  {'C': 3, 'degree': 3, 'kernel': 'poly'}\n"
     ]
    },
    {
     "data": {
      "text/plain": [
       "[{'mean_train_Accuracy': 0.8423871846115972},\n",
       " {'mean_test_Accuracy': 0.7929366747076537},\n",
       " {'std_train_Accuracy': 0.003057587959930001},\n",
       " {'std_test_Accuracy': 0.013154757826906782}]"
      ]
     },
     "execution_count": 13,
     "metadata": {},
     "output_type": "execute_result"
    }
   ],
   "source": [
    "params_acurracy = ['mean_train_Accuracy','mean_test_Accuracy','std_train_Accuracy','std_test_Accuracy']\n",
    "best_acurracy_SVMC= []\n",
    "for p in params_acurracy:\n",
    "    parameter_acurracy =model_trained_SVMC.cv_results_[p][model_trained_SVMC.best_index_]\n",
    "    best_acurracy_SVMC.append({p:parameter_acurracy})\n",
    "print(\"Resultados mejor modelo: \", best_params_SVMC)\n",
    "best_acurracy_SVMC"
   ]
  },
  {
   "cell_type": "markdown",
   "metadata": {},
   "source": [
    "## 2. Evalución mejor modelo con el conjunto de test"
   ]
  },
  {
   "cell_type": "code",
   "execution_count": 14,
   "metadata": {},
   "outputs": [],
   "source": [
    "clases = np.array(['yes','no','right','five','nine'])\n",
    "def Metrics(model,X_test,Y_test):\n",
    "\n",
    "  y_predicted = model.predict(X_test)\n",
    "  print('Accuracy: ', accuracy_score(Y_test, y_predicted), '\\n')\n",
    "  report = classification_report(Y_test, y_predicted)\n",
    "  print(\"\\nclassification report :\\n\",report )\n",
    " \n",
    "  # Matriz de confusión\n",
    "  cm = confusion_matrix(Y_test, y_predicted)\n",
    "  # Normalise\n",
    "  cmn = cm.astype('float') / cm.sum(axis=1)[:, np.newaxis]\n",
    "  fig, ax = plt.subplots(figsize=(10,10))\n",
    "    \n",
    "  sns.heatmap(cmn, annot=True, fmt='.2f', xticklabels=clases, yticklabels=clases)\n",
    "  plt.ylabel('Actual')\n",
    "  plt.xlabel('Predicted')\n",
    "  ax.set_ylim(sorted(ax.get_xlim(), reverse=True))\n",
    "  plt.show(block=False)\n",
    "  \n",
    "  #sns.heatmap(cm,annot=True,fmt = \"d\",linecolor=\"k\",linewidths=3)\n",
    "  #plt.title(\"Matriz de confusión\",fontsize=20)\n",
    "   \n",
    "    \n",
    "  return report"
   ]
  },
  {
   "cell_type": "markdown",
   "metadata": {},
   "source": [
    "<b>Nota:</b> Usamos los conjuntos X_test__original y Y_test__original para evaluar el comportamiento del mejor modelo con datos"
   ]
  },
  {
   "cell_type": "code",
   "execution_count": 15,
   "metadata": {},
   "outputs": [
    {
     "name": "stdout",
     "output_type": "stream",
     "text": [
      "Accuracy:  0.7910969793322734 \n",
      "\n",
      "\n",
      "classification report :\n",
      "               precision    recall  f1-score   support\n",
      "\n",
      "         0.0       0.73      0.77      0.75       646\n",
      "         1.0       0.75      0.65      0.70       623\n",
      "         2.0       0.71      0.83      0.77       600\n",
      "         3.0       0.87      0.77      0.82       626\n",
      "         4.0       0.91      0.92      0.92       650\n",
      "\n",
      "    accuracy                           0.79      3145\n",
      "   macro avg       0.79      0.79      0.79      3145\n",
      "weighted avg       0.79      0.79      0.79      3145\n",
      "\n"
     ]
    },
    {
     "data": {
      "image/png": "[encoded data removed]",
      "text/plain": [
       "<Figure size 720x720 with 2 Axes>"
      ]
     },
     "metadata": {
      "needs_background": "light"
     },
     "output_type": "display_data"
    }
   ],
   "source": [
    "SVMC_best_estimator = model_trained_SVMC.best_estimator_\n",
    "metrics = Metrics(SVMC_best_estimator,X_test__original,Y_test__original)"
   ]
  },
  {
   "cell_type": "markdown",
   "metadata": {},
   "source": [
    "## 3. Curva de aprendizaje con el mejor modelo"
   ]
  },
  {
   "cell_type": "markdown",
   "metadata": {},
   "source": [
    "<b>Nota:</b> Esta curva se realiza con todo el conjunto de datos es decir X y Y"
   ]
  },
  {
   "cell_type": "code",
   "execution_count": 17,
   "metadata": {},
   "outputs": [],
   "source": [
    "def learning_curve(model,best_parameters,folds, X,Y,groups=groups, suptitle='', title='', xlabel='Training Set Size', ylabel='Acurracy'):\n",
    "    \"\"\"\n",
    "    Parameters\n",
    "    ----------\n",
    "    suptitle : str\n",
    "        Chart suptitle\n",
    "    title: str\n",
    "        Chart title\n",
    "    xlabel: str\n",
    "        Label for the X axis\n",
    "    ylabel: str\n",
    "        Label for the y axis\n",
    "    Returns\n",
    "    -------\n",
    "    Plot of learning curves\n",
    "    \"\"\"\n",
    "    \n",
    "    # create lists to store train and validation scores\n",
    "    train_score = []\n",
    "    val_score = []\n",
    "    std_train= []\n",
    "    std_val=[]\n",
    "\n",
    "    # create ten incremental training set sizes\n",
    "    training_set_sizes = np.linspace(.1,.9,5).tolist()\n",
    "    # for each one of those training set sizes\n",
    "    \n",
    "    for i in training_set_sizes:  \n",
    "        model_trained = build_model(model, best_parameters, folds, i, X,Y,groups)                \n",
    "        EfficiencyVal= model_trained.cv_results_['mean_test_Accuracy'][model_trained.best_index_]\n",
    "        EfficiencyTrain=model_trained.cv_results_['mean_train_Accuracy'][model_trained.best_index_]\n",
    "        stdTrain=model_trained.cv_results_['std_train_Accuracy'][model_trained.best_index_]\n",
    "        stdVal=model_trained.cv_results_['std_test_Accuracy'][model_trained.best_index_]\n",
    "\n",
    "        # store the scores in their respective lists\n",
    "        train_score.append(EfficiencyTrain)\n",
    "        val_score.append(EfficiencyVal)\n",
    "        std_train.append(stdTrain)\n",
    "        std_val.append(stdVal)\n",
    "\n",
    "    train_score =np.array(train_score)\n",
    "    val_score =np.array(val_score)\n",
    "    std_train =np.array(std_train)\n",
    "    std_val =np.array(std_val)\n",
    "\n",
    "\n",
    "    # plot learning curves\n",
    "    fig, ax = plt.subplots(figsize=(14, 9))\n",
    "    ax.plot(training_set_sizes, train_score, c='gold')\n",
    "    ax.plot(training_set_sizes, val_score, c='steelblue')\n",
    "    \n",
    "    ax.fill_between(training_set_sizes,train_score+std_train,train_score-std_train,facecolor='gold',alpha=0.5)\n",
    "    ax.fill_between(training_set_sizes,val_score+std_val,val_score-std_val,facecolor='steelblue',alpha=0.5)\n",
    "\n",
    "    # format the chart to make it look nice\n",
    "    fig.suptitle(suptitle, fontweight='bold', fontsize='20')\n",
    "    ax.set_title(title, size=20)\n",
    "    ax.set_xlabel(xlabel, size=16)\n",
    "    ax.set_ylabel(ylabel, size=16)\n",
    "    ax.legend(['Train set', 'Test set'], fontsize=16)\n",
    "    ax.tick_params(axis='both', labelsize=12)\n",
    "    ax.set_ylim(0, 1)\n",
    "\n",
    "    def percentages(x, pos):\n",
    "        \"\"\"The two args are the value and tick position\"\"\"\n",
    "        if x < 1:\n",
    "            return '{:1.0f}'.format(x*100)\n",
    "        return '{:1.0f}%'.format(x*100)\n",
    "\n",
    "    def numbers(x, pos):\n",
    "        \"\"\"The two args are the value and tick position\"\"\"\n",
    "        if x >= 1000:\n",
    "            return '{:1,.0f}'.format(x)\n",
    "        return '{:1.0f}'.format(x)\n",
    "    data = {'Train_Size':training_set_sizes, 'mean_train_Accuracy':train_score,'mean_test_Accuracy':val_score,'std_train_Accuracy':std_train,'std_test_Accuracy':std_val}\n",
    "    df_split_params = pd.DataFrame(data)\n",
    "    return df_split_params"
   ]
  },
  {
   "cell_type": "code",
   "execution_count": 18,
   "metadata": {},
   "outputs": [
    {
     "name": "stderr",
     "output_type": "stream",
     "text": [
      "/home/josearangos/anaconda3/lib/python3.7/site-packages/sklearn/utils/validation.py:760: DataConversionWarning: A column-vector y was passed when a 1d array was expected. Please change the shape of y to (n_samples, ), for example using ravel().\n",
      "  y = column_or_1d(y, warn=True)\n",
      "/home/josearangos/anaconda3/lib/python3.7/site-packages/sklearn/utils/validation.py:760: DataConversionWarning: A column-vector y was passed when a 1d array was expected. Please change the shape of y to (n_samples, ), for example using ravel().\n",
      "  y = column_or_1d(y, warn=True)\n",
      "/home/josearangos/anaconda3/lib/python3.7/site-packages/sklearn/utils/validation.py:760: DataConversionWarning: A column-vector y was passed when a 1d array was expected. Please change the shape of y to (n_samples, ), for example using ravel().\n",
      "  y = column_or_1d(y, warn=True)\n",
      "/home/josearangos/anaconda3/lib/python3.7/site-packages/sklearn/utils/validation.py:760: DataConversionWarning: A column-vector y was passed when a 1d array was expected. Please change the shape of y to (n_samples, ), for example using ravel().\n",
      "  y = column_or_1d(y, warn=True)\n",
      "/home/josearangos/anaconda3/lib/python3.7/site-packages/sklearn/utils/validation.py:760: DataConversionWarning: A column-vector y was passed when a 1d array was expected. Please change the shape of y to (n_samples, ), for example using ravel().\n",
      "  y = column_or_1d(y, warn=True)\n"
     ]
    },
    {
     "data": {
      "image/png": "[encoded data removed]",
      "text/plain": [
       "<Figure size 1008x648 with 1 Axes>"
      ]
     },
     "metadata": {
      "needs_background": "light"
     },
     "output_type": "display_data"
    }
   ],
   "source": [
    "best_params_SVMC = {'C': [3], 'degree': [3], 'kernel': ['poly']}\n",
    "df_split_params =learning_curve(model=SVMC,best_parameters=best_params_SVMC,folds=10, X=X,Y=Y,groups=groups)"
   ]
  },
  {
   "cell_type": "code",
   "execution_count": 19,
   "metadata": {},
   "outputs": [
    {
     "data": {
      "text/html": [
       "<div>\n",
       "<style scoped>\n",
       "    .dataframe tbody tr th:only-of-type {\n",
       "        vertical-align: middle;\n",
       "    }\n",
       "\n",
       "    .dataframe tbody tr th {\n",
       "        vertical-align: top;\n",
       "    }\n",
       "\n",
       "    .dataframe thead th {\n",
       "        text-align: right;\n",
       "    }\n",
       "</style>\n",
       "<table border=\"1\" class=\"dataframe\">\n",
       "  <thead>\n",
       "    <tr style=\"text-align: right;\">\n",
       "      <th></th>\n",
       "      <th>Train_Size</th>\n",
       "      <th>mean_train_Accuracy</th>\n",
       "      <th>mean_test_Accuracy</th>\n",
       "      <th>std_train_Accuracy</th>\n",
       "      <th>std_test_Accuracy</th>\n",
       "    </tr>\n",
       "  </thead>\n",
       "  <tbody>\n",
       "    <tr>\n",
       "      <th>0</th>\n",
       "      <td>0.1</td>\n",
       "      <td>0.791542</td>\n",
       "      <td>0.645225</td>\n",
       "      <td>0.006447</td>\n",
       "      <td>0.010782</td>\n",
       "    </tr>\n",
       "    <tr>\n",
       "      <th>1</th>\n",
       "      <td>0.3</td>\n",
       "      <td>0.823692</td>\n",
       "      <td>0.733102</td>\n",
       "      <td>0.003964</td>\n",
       "      <td>0.009430</td>\n",
       "    </tr>\n",
       "    <tr>\n",
       "      <th>2</th>\n",
       "      <td>0.5</td>\n",
       "      <td>0.835862</td>\n",
       "      <td>0.767266</td>\n",
       "      <td>0.004366</td>\n",
       "      <td>0.005198</td>\n",
       "    </tr>\n",
       "    <tr>\n",
       "      <th>3</th>\n",
       "      <td>0.7</td>\n",
       "      <td>0.844898</td>\n",
       "      <td>0.789872</td>\n",
       "      <td>0.004036</td>\n",
       "      <td>0.010587</td>\n",
       "    </tr>\n",
       "    <tr>\n",
       "      <th>4</th>\n",
       "      <td>0.9</td>\n",
       "      <td>0.850206</td>\n",
       "      <td>0.805220</td>\n",
       "      <td>0.001596</td>\n",
       "      <td>0.014698</td>\n",
       "    </tr>\n",
       "  </tbody>\n",
       "</table>\n",
       "</div>"
      ],
      "text/plain": [
       "   Train_Size  mean_train_Accuracy  mean_test_Accuracy  std_train_Accuracy  \\\n",
       "0         0.1             0.791542            0.645225            0.006447   \n",
       "1         0.3             0.823692            0.733102            0.003964   \n",
       "2         0.5             0.835862            0.767266            0.004366   \n",
       "3         0.7             0.844898            0.789872            0.004036   \n",
       "4         0.9             0.850206            0.805220            0.001596   \n",
       "\n",
       "   std_test_Accuracy  \n",
       "0           0.010782  \n",
       "1           0.009430  \n",
       "2           0.005198  \n",
       "3           0.010587  \n",
       "4           0.014698  "
      ]
     },
     "execution_count": 19,
     "metadata": {},
     "output_type": "execute_result"
    }
   ],
   "source": [
    "df_split_params"
   ]
  },
  {
   "cell_type": "code",
   "execution_count": null,
   "metadata": {},
   "outputs": [],
   "source": []
  },
  {
   "cell_type": "code",
   "execution_count": null,
   "metadata": {},
   "outputs": [],
   "source": []
  }
 ],
 "metadata": {
  "kernelspec": {
   "display_name": "Python 3",
   "language": "python",
   "name": "python3"
  },
  "language_info": {
   "codemirror_mode": {
    "name": "ipython",
    "version": 3
   },
   "file_extension": ".py",
   "mimetype": "text/x-python",
   "name": "python",
   "nbconvert_exporter": "python",
   "pygments_lexer": "ipython3",
   "version": "3.7.4"
  }
 },
 "nbformat": 4,
 "nbformat_minor": 2
}
