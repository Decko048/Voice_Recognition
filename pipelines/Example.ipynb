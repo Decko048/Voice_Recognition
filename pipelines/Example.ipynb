{
 "cells": [
  {
   "cell_type": "code",
   "execution_count": 3,
   "metadata": {},
   "outputs": [],
   "source": [
    "import IPython\n",
    "import matplotlib.pyplot as plt\n",
    "import numpy as np\n",
    "import pandas as pd\n",
    "from sklearn.model_selection import GroupShuffleSplit\n",
    "import math\n",
    "from sklearn.naive_bayes import GaussianNB\n",
    "import scipy as sc\n",
    "from scipy import stats\n",
    "from matplotlib.ticker import FuncFormatter\n",
    "from sklearn.model_selection import GridSearchCV\n",
    "from sklearn.metrics import make_scorer, accuracy_score, precision_score,recall_score, f1_score\n",
    "from sklearn.metrics import classification_report,confusion_matrix,accuracy_score,roc_curve,auc\n",
    "import seaborn as sns\n",
    "\n",
    "%matplotlib inline"
   ]
  },
  {
   "cell_type": "code",
   "execution_count": 6,
   "metadata": {},
   "outputs": [],
   "source": [
    "PATHDATA = '../data/audiosData.csv'\n",
    "df = pd.read_csv(PATHDATA, header=None)\n",
    "data = df.values"
   ]
  },
  {
   "cell_type": "code",
   "execution_count": 7,
   "metadata": {},
   "outputs": [
    {
     "name": "stdout",
     "output_type": "stream",
     "text": [
      "Tamaño dataSet (5200, 162)\n",
      "\n",
      "\n"
     ]
    }
   ],
   "source": [
    "X = data[:,0:-2]\n",
    "Y = data[:,-1]\n",
    "print('Tamaño dataSet', X.shape)\n",
    "print('\\n')\n",
    "Y=  np.reshape(Y,(np.size(Y,0),1))\n",
    "groups = data[:,-2:-1]\n"
   ]
  },
  {
   "cell_type": "code",
   "execution_count": 8,
   "metadata": {},
   "outputs": [
    {
     "name": "stdout",
     "output_type": "stream",
     "text": [
      "Número de clases: 4\n"
     ]
    }
   ],
   "source": [
    "n_classes=len(np.unique(Y))\n",
    "print('Número de clases:', n_classes)"
   ]
  },
  {
   "cell_type": "code",
   "execution_count": 9,
   "metadata": {},
   "outputs": [
    {
     "name": "stdout",
     "output_type": "stream",
     "text": [
      "Número de hablantes diferentes 1499\n"
     ]
    }
   ],
   "source": [
    "n_groups = len(np.unique(groups))\n",
    "print('Número de hablantes diferentes', n_groups)"
   ]
  },
  {
   "cell_type": "markdown",
   "metadata": {},
   "source": [
    "## Dividir el dataset (train/test) 0.8/0.2"
   ]
  },
  {
   "cell_type": "code",
   "execution_count": 10,
   "metadata": {},
   "outputs": [],
   "source": [
    "gss = GroupShuffleSplit(n_splits=1,test_size=0.2,random_state=0)\n",
    "for train_index,test_index in gss.split(X,Y,groups=groups):\n",
    "    X_train_original, X_test_original = X[train_index],X[test_index]\n",
    "    Y_train__original, Y_test__original = Y[train_index], Y[test_index]\n",
    "    groups_original = groups[train_index]"
   ]
  },
  {
   "cell_type": "code",
   "execution_count": 11,
   "metadata": {},
   "outputs": [
    {
     "data": {
      "text/plain": [
       "(4162, 162)"
      ]
     },
     "execution_count": 11,
     "metadata": {},
     "output_type": "execute_result"
    }
   ],
   "source": [
    "X_train_original.shape"
   ]
  },
  {
   "cell_type": "code",
   "execution_count": 12,
   "metadata": {},
   "outputs": [
    {
     "data": {
      "text/plain": [
       "(1038, 162)"
      ]
     },
     "execution_count": 12,
     "metadata": {},
     "output_type": "execute_result"
    }
   ],
   "source": [
    "X_test_original.shape"
   ]
  },
  {
   "cell_type": "code",
   "execution_count": 13,
   "metadata": {},
   "outputs": [],
   "source": [
    "def build_model(model, parameters, folds, train_size, X,Y,groups_original):\n",
    "  acc_scorer = make_scorer(accuracy_score)\n",
    "  recalls = make_scorer(recall_score,average='micro')##buscar por que micro\n",
    "  precision = make_scorer(precision_score,average='micro')\n",
    "  f1 = make_scorer(f1_score,average='micro')\n",
    "  scores =  {'recalls':recalls,'precision':precision,'f1':f1,'Accuracy': make_scorer(accuracy_score)}\n",
    "  gss = GroupShuffleSplit(n_splits=folds, train_size=train_size, random_state=0)\n",
    "  model = GridSearchCV(model,parameters,scores,-1,refit='Accuracy',return_train_score=True, cv=gss.split(X, Y, groups=groups_original))\n",
    "  model.fit(X,Y)\n",
    "  return model "
   ]
  },
  {
   "cell_type": "code",
   "execution_count": 14,
   "metadata": {},
   "outputs": [],
   "source": [
    "FOLDS = 10\n",
    "TRAIN_SIZE = 0.8"
   ]
  },
  {
   "cell_type": "code",
   "execution_count": 15,
   "metadata": {},
   "outputs": [
    {
     "name": "stderr",
     "output_type": "stream",
     "text": [
      "/Users/deiry/ML/semillero/lib/python3.7/site-packages/sklearn/model_selection/_search.py:814: DeprecationWarning: The default of the `iid` parameter will change from True to False in version 0.22 and will be removed in 0.24. This will change numeric results when test-set sizes are unequal.\n",
      "  DeprecationWarning)\n",
      "/Users/deiry/ML/semillero/lib/python3.7/site-packages/sklearn/utils/validation.py:724: DataConversionWarning: A column-vector y was passed when a 1d array was expected. Please change the shape of y to (n_samples, ), for example using ravel().\n",
      "  y = column_or_1d(y, warn=True)\n"
     ]
    }
   ],
   "source": [
    "gnb = GaussianNB()\n",
    "modelGNB_trained = build_model(gnb, {}, FOLDS, TRAIN_SIZE, X_train_original,Y_train__original,groups_original)"
   ]
  },
  {
   "cell_type": "code",
   "execution_count": 16,
   "metadata": {},
   "outputs": [],
   "source": [
    "pdGNB = pd.DataFrame(modelGNB_trained.cv_results_)"
   ]
  },
  {
   "cell_type": "code",
   "execution_count": 17,
   "metadata": {},
   "outputs": [
    {
     "data": {
      "text/html": [
       "<div>\n",
       "<style scoped>\n",
       "    .dataframe tbody tr th:only-of-type {\n",
       "        vertical-align: middle;\n",
       "    }\n",
       "\n",
       "    .dataframe tbody tr th {\n",
       "        vertical-align: top;\n",
       "    }\n",
       "\n",
       "    .dataframe thead th {\n",
       "        text-align: right;\n",
       "    }\n",
       "</style>\n",
       "<table border=\"1\" class=\"dataframe\">\n",
       "  <thead>\n",
       "    <tr style=\"text-align: right;\">\n",
       "      <th></th>\n",
       "      <th>mean_fit_time</th>\n",
       "      <th>std_fit_time</th>\n",
       "      <th>mean_score_time</th>\n",
       "      <th>std_score_time</th>\n",
       "      <th>params</th>\n",
       "      <th>split0_test_recalls</th>\n",
       "      <th>split1_test_recalls</th>\n",
       "      <th>split2_test_recalls</th>\n",
       "      <th>split3_test_recalls</th>\n",
       "      <th>split4_test_recalls</th>\n",
       "      <th>...</th>\n",
       "      <th>split2_train_Accuracy</th>\n",
       "      <th>split3_train_Accuracy</th>\n",
       "      <th>split4_train_Accuracy</th>\n",
       "      <th>split5_train_Accuracy</th>\n",
       "      <th>split6_train_Accuracy</th>\n",
       "      <th>split7_train_Accuracy</th>\n",
       "      <th>split8_train_Accuracy</th>\n",
       "      <th>split9_train_Accuracy</th>\n",
       "      <th>mean_train_Accuracy</th>\n",
       "      <th>std_train_Accuracy</th>\n",
       "    </tr>\n",
       "  </thead>\n",
       "  <tbody>\n",
       "    <tr>\n",
       "      <th>0</th>\n",
       "      <td>0.091598</td>\n",
       "      <td>0.073888</td>\n",
       "      <td>0.055727</td>\n",
       "      <td>0.015634</td>\n",
       "      <td>{}</td>\n",
       "      <td>0.523041</td>\n",
       "      <td>0.460137</td>\n",
       "      <td>0.446629</td>\n",
       "      <td>0.479042</td>\n",
       "      <td>0.465416</td>\n",
       "      <td>...</td>\n",
       "      <td>0.478551</td>\n",
       "      <td>0.482717</td>\n",
       "      <td>0.477788</td>\n",
       "      <td>0.487412</td>\n",
       "      <td>0.482057</td>\n",
       "      <td>0.484385</td>\n",
       "      <td>0.469382</td>\n",
       "      <td>0.479456</td>\n",
       "      <td>0.478702</td>\n",
       "      <td>0.005467</td>\n",
       "    </tr>\n",
       "  </tbody>\n",
       "</table>\n",
       "<p>1 rows × 105 columns</p>\n",
       "</div>"
      ],
      "text/plain": [
       "   mean_fit_time  std_fit_time  mean_score_time  std_score_time params  \\\n",
       "0       0.091598      0.073888         0.055727        0.015634     {}   \n",
       "\n",
       "   split0_test_recalls  split1_test_recalls  split2_test_recalls  \\\n",
       "0             0.523041             0.460137             0.446629   \n",
       "\n",
       "   split3_test_recalls  split4_test_recalls  ...  split2_train_Accuracy  \\\n",
       "0             0.479042             0.465416  ...               0.478551   \n",
       "\n",
       "   split3_train_Accuracy  split4_train_Accuracy  split5_train_Accuracy  \\\n",
       "0               0.482717               0.477788               0.487412   \n",
       "\n",
       "   split6_train_Accuracy  split7_train_Accuracy  split8_train_Accuracy  \\\n",
       "0               0.482057               0.484385               0.469382   \n",
       "\n",
       "   split9_train_Accuracy  mean_train_Accuracy  std_train_Accuracy  \n",
       "0               0.479456             0.478702            0.005467  \n",
       "\n",
       "[1 rows x 105 columns]"
      ]
     },
     "execution_count": 17,
     "metadata": {},
     "output_type": "execute_result"
    }
   ],
   "source": [
    "pdGNB"
   ]
  },
  {
   "cell_type": "code",
   "execution_count": 18,
   "metadata": {},
   "outputs": [
    {
     "name": "stderr",
     "output_type": "stream",
     "text": [
      "/Users/deiry/ML/semillero/lib/python3.7/site-packages/sklearn/model_selection/_search.py:814: DeprecationWarning: The default of the `iid` parameter will change from True to False in version 0.22 and will be removed in 0.24. This will change numeric results when test-set sizes are unequal.\n",
      "  DeprecationWarning)\n",
      "/Users/deiry/ML/semillero/lib/python3.7/site-packages/sklearn/model_selection/_search.py:715: DataConversionWarning: A column-vector y was passed when a 1d array was expected. Please change the shape of y to (n_samples,), for example using ravel().\n",
      "  self.best_estimator_.fit(X, y, **fit_params)\n"
     ]
    }
   ],
   "source": [
    "from sklearn.ensemble import RandomForestClassifier\n",
    "clf = RandomForestClassifier()\n",
    "parameters = {'n_estimators':[1,5,7],'max_depth':[3,5,9]}\n",
    "modelCLF_trained = build_model(clf, parameters, FOLDS, TRAIN_SIZE, X_train_original,Y_train__original,groups_original)"
   ]
  },
  {
   "cell_type": "code",
   "execution_count": 19,
   "metadata": {},
   "outputs": [
    {
     "data": {
      "text/html": [
       "<div>\n",
       "<style scoped>\n",
       "    .dataframe tbody tr th:only-of-type {\n",
       "        vertical-align: middle;\n",
       "    }\n",
       "\n",
       "    .dataframe tbody tr th {\n",
       "        vertical-align: top;\n",
       "    }\n",
       "\n",
       "    .dataframe thead th {\n",
       "        text-align: right;\n",
       "    }\n",
       "</style>\n",
       "<table border=\"1\" class=\"dataframe\">\n",
       "  <thead>\n",
       "    <tr style=\"text-align: right;\">\n",
       "      <th></th>\n",
       "      <th>mean_fit_time</th>\n",
       "      <th>std_fit_time</th>\n",
       "      <th>mean_score_time</th>\n",
       "      <th>std_score_time</th>\n",
       "      <th>param_max_depth</th>\n",
       "      <th>param_n_estimators</th>\n",
       "      <th>params</th>\n",
       "      <th>split0_test_recalls</th>\n",
       "      <th>split1_test_recalls</th>\n",
       "      <th>split2_test_recalls</th>\n",
       "      <th>...</th>\n",
       "      <th>split2_train_Accuracy</th>\n",
       "      <th>split3_train_Accuracy</th>\n",
       "      <th>split4_train_Accuracy</th>\n",
       "      <th>split5_train_Accuracy</th>\n",
       "      <th>split6_train_Accuracy</th>\n",
       "      <th>split7_train_Accuracy</th>\n",
       "      <th>split8_train_Accuracy</th>\n",
       "      <th>split9_train_Accuracy</th>\n",
       "      <th>mean_train_Accuracy</th>\n",
       "      <th>std_train_Accuracy</th>\n",
       "    </tr>\n",
       "  </thead>\n",
       "  <tbody>\n",
       "    <tr>\n",
       "      <th>0</th>\n",
       "      <td>0.080814</td>\n",
       "      <td>0.044869</td>\n",
       "      <td>0.028711</td>\n",
       "      <td>0.016674</td>\n",
       "      <td>3</td>\n",
       "      <td>1</td>\n",
       "      <td>{'max_depth': 3, 'n_estimators': 1}</td>\n",
       "      <td>0.367512</td>\n",
       "      <td>0.376993</td>\n",
       "      <td>0.372191</td>\n",
       "      <td>...</td>\n",
       "      <td>0.416522</td>\n",
       "      <td>0.416892</td>\n",
       "      <td>0.381686</td>\n",
       "      <td>0.466920</td>\n",
       "      <td>0.419557</td>\n",
       "      <td>0.440906</td>\n",
       "      <td>0.411463</td>\n",
       "      <td>0.443689</td>\n",
       "      <td>0.419487</td>\n",
       "      <td>0.024145</td>\n",
       "    </tr>\n",
       "    <tr>\n",
       "      <th>1</th>\n",
       "      <td>0.126230</td>\n",
       "      <td>0.006310</td>\n",
       "      <td>0.021822</td>\n",
       "      <td>0.002376</td>\n",
       "      <td>3</td>\n",
       "      <td>5</td>\n",
       "      <td>{'max_depth': 3, 'n_estimators': 5}</td>\n",
       "      <td>0.503456</td>\n",
       "      <td>0.488610</td>\n",
       "      <td>0.429775</td>\n",
       "      <td>...</td>\n",
       "      <td>0.520000</td>\n",
       "      <td>0.534415</td>\n",
       "      <td>0.504382</td>\n",
       "      <td>0.530738</td>\n",
       "      <td>0.526914</td>\n",
       "      <td>0.526332</td>\n",
       "      <td>0.513122</td>\n",
       "      <td>0.521431</td>\n",
       "      <td>0.523904</td>\n",
       "      <td>0.009007</td>\n",
       "    </tr>\n",
       "    <tr>\n",
       "      <th>2</th>\n",
       "      <td>0.177502</td>\n",
       "      <td>0.019808</td>\n",
       "      <td>0.026368</td>\n",
       "      <td>0.006012</td>\n",
       "      <td>3</td>\n",
       "      <td>7</td>\n",
       "      <td>{'max_depth': 3, 'n_estimators': 7}</td>\n",
       "      <td>0.481567</td>\n",
       "      <td>0.485194</td>\n",
       "      <td>0.456461</td>\n",
       "      <td>...</td>\n",
       "      <td>0.552464</td>\n",
       "      <td>0.524797</td>\n",
       "      <td>0.539740</td>\n",
       "      <td>0.552693</td>\n",
       "      <td>0.535586</td>\n",
       "      <td>0.545928</td>\n",
       "      <td>0.540271</td>\n",
       "      <td>0.545670</td>\n",
       "      <td>0.539552</td>\n",
       "      <td>0.009425</td>\n",
       "    </tr>\n",
       "    <tr>\n",
       "      <th>3</th>\n",
       "      <td>0.055519</td>\n",
       "      <td>0.008971</td>\n",
       "      <td>0.019461</td>\n",
       "      <td>0.007011</td>\n",
       "      <td>5</td>\n",
       "      <td>1</td>\n",
       "      <td>{'max_depth': 5, 'n_estimators': 1}</td>\n",
       "      <td>0.404378</td>\n",
       "      <td>0.440774</td>\n",
       "      <td>0.393258</td>\n",
       "      <td>...</td>\n",
       "      <td>0.483188</td>\n",
       "      <td>0.479110</td>\n",
       "      <td>0.506800</td>\n",
       "      <td>0.510831</td>\n",
       "      <td>0.488935</td>\n",
       "      <td>0.541335</td>\n",
       "      <td>0.494419</td>\n",
       "      <td>0.550990</td>\n",
       "      <td>0.506752</td>\n",
       "      <td>0.023430</td>\n",
       "    </tr>\n",
       "    <tr>\n",
       "      <th>4</th>\n",
       "      <td>0.178767</td>\n",
       "      <td>0.006908</td>\n",
       "      <td>0.020587</td>\n",
       "      <td>0.003421</td>\n",
       "      <td>5</td>\n",
       "      <td>5</td>\n",
       "      <td>{'max_depth': 5, 'n_estimators': 5}</td>\n",
       "      <td>0.533410</td>\n",
       "      <td>0.539863</td>\n",
       "      <td>0.532303</td>\n",
       "      <td>...</td>\n",
       "      <td>0.657681</td>\n",
       "      <td>0.654944</td>\n",
       "      <td>0.629495</td>\n",
       "      <td>0.643735</td>\n",
       "      <td>0.658792</td>\n",
       "      <td>0.649112</td>\n",
       "      <td>0.631373</td>\n",
       "      <td>0.642920</td>\n",
       "      <td>0.645813</td>\n",
       "      <td>0.009897</td>\n",
       "    </tr>\n",
       "    <tr>\n",
       "      <th>5</th>\n",
       "      <td>0.238544</td>\n",
       "      <td>0.012530</td>\n",
       "      <td>0.024504</td>\n",
       "      <td>0.004795</td>\n",
       "      <td>5</td>\n",
       "      <td>7</td>\n",
       "      <td>{'max_depth': 5, 'n_estimators': 7}</td>\n",
       "      <td>0.566820</td>\n",
       "      <td>0.569476</td>\n",
       "      <td>0.551966</td>\n",
       "      <td>...</td>\n",
       "      <td>0.668986</td>\n",
       "      <td>0.678389</td>\n",
       "      <td>0.667271</td>\n",
       "      <td>0.697307</td>\n",
       "      <td>0.671950</td>\n",
       "      <td>0.702082</td>\n",
       "      <td>0.666365</td>\n",
       "      <td>0.673071</td>\n",
       "      <td>0.678021</td>\n",
       "      <td>0.012521</td>\n",
       "    </tr>\n",
       "    <tr>\n",
       "      <th>6</th>\n",
       "      <td>0.065235</td>\n",
       "      <td>0.003505</td>\n",
       "      <td>0.015198</td>\n",
       "      <td>0.001835</td>\n",
       "      <td>9</td>\n",
       "      <td>1</td>\n",
       "      <td>{'max_depth': 9, 'n_estimators': 1}</td>\n",
       "      <td>0.438940</td>\n",
       "      <td>0.478360</td>\n",
       "      <td>0.422753</td>\n",
       "      <td>...</td>\n",
       "      <td>0.678841</td>\n",
       "      <td>0.697926</td>\n",
       "      <td>0.677848</td>\n",
       "      <td>0.698185</td>\n",
       "      <td>0.656998</td>\n",
       "      <td>0.666871</td>\n",
       "      <td>0.674811</td>\n",
       "      <td>0.678392</td>\n",
       "      <td>0.675072</td>\n",
       "      <td>0.018226</td>\n",
       "    </tr>\n",
       "    <tr>\n",
       "      <th>7</th>\n",
       "      <td>0.262779</td>\n",
       "      <td>0.008569</td>\n",
       "      <td>0.026408</td>\n",
       "      <td>0.009616</td>\n",
       "      <td>9</td>\n",
       "      <td>5</td>\n",
       "      <td>{'max_depth': 9, 'n_estimators': 5}</td>\n",
       "      <td>0.581797</td>\n",
       "      <td>0.586560</td>\n",
       "      <td>0.551966</td>\n",
       "      <td>...</td>\n",
       "      <td>0.879130</td>\n",
       "      <td>0.862639</td>\n",
       "      <td>0.878815</td>\n",
       "      <td>0.885539</td>\n",
       "      <td>0.875897</td>\n",
       "      <td>0.872627</td>\n",
       "      <td>0.879638</td>\n",
       "      <td>0.883535</td>\n",
       "      <td>0.879553</td>\n",
       "      <td>0.009018</td>\n",
       "    </tr>\n",
       "    <tr>\n",
       "      <th>8</th>\n",
       "      <td>0.340398</td>\n",
       "      <td>0.022021</td>\n",
       "      <td>0.022994</td>\n",
       "      <td>0.004191</td>\n",
       "      <td>9</td>\n",
       "      <td>7</td>\n",
       "      <td>{'max_depth': 9, 'n_estimators': 7}</td>\n",
       "      <td>0.609447</td>\n",
       "      <td>0.555809</td>\n",
       "      <td>0.567416</td>\n",
       "      <td>...</td>\n",
       "      <td>0.911884</td>\n",
       "      <td>0.915540</td>\n",
       "      <td>0.928377</td>\n",
       "      <td>0.915691</td>\n",
       "      <td>0.917464</td>\n",
       "      <td>0.922841</td>\n",
       "      <td>0.918552</td>\n",
       "      <td>0.903636</td>\n",
       "      <td>0.916493</td>\n",
       "      <td>0.006367</td>\n",
       "    </tr>\n",
       "  </tbody>\n",
       "</table>\n",
       "<p>9 rows × 107 columns</p>\n",
       "</div>"
      ],
      "text/plain": [
       "   mean_fit_time  std_fit_time  mean_score_time  std_score_time  \\\n",
       "0       0.080814      0.044869         0.028711        0.016674   \n",
       "1       0.126230      0.006310         0.021822        0.002376   \n",
       "2       0.177502      0.019808         0.026368        0.006012   \n",
       "3       0.055519      0.008971         0.019461        0.007011   \n",
       "4       0.178767      0.006908         0.020587        0.003421   \n",
       "5       0.238544      0.012530         0.024504        0.004795   \n",
       "6       0.065235      0.003505         0.015198        0.001835   \n",
       "7       0.262779      0.008569         0.026408        0.009616   \n",
       "8       0.340398      0.022021         0.022994        0.004191   \n",
       "\n",
       "  param_max_depth param_n_estimators                               params  \\\n",
       "0               3                  1  {'max_depth': 3, 'n_estimators': 1}   \n",
       "1               3                  5  {'max_depth': 3, 'n_estimators': 5}   \n",
       "2               3                  7  {'max_depth': 3, 'n_estimators': 7}   \n",
       "3               5                  1  {'max_depth': 5, 'n_estimators': 1}   \n",
       "4               5                  5  {'max_depth': 5, 'n_estimators': 5}   \n",
       "5               5                  7  {'max_depth': 5, 'n_estimators': 7}   \n",
       "6               9                  1  {'max_depth': 9, 'n_estimators': 1}   \n",
       "7               9                  5  {'max_depth': 9, 'n_estimators': 5}   \n",
       "8               9                  7  {'max_depth': 9, 'n_estimators': 7}   \n",
       "\n",
       "   split0_test_recalls  split1_test_recalls  split2_test_recalls  ...  \\\n",
       "0             0.367512             0.376993             0.372191  ...   \n",
       "1             0.503456             0.488610             0.429775  ...   \n",
       "2             0.481567             0.485194             0.456461  ...   \n",
       "3             0.404378             0.440774             0.393258  ...   \n",
       "4             0.533410             0.539863             0.532303  ...   \n",
       "5             0.566820             0.569476             0.551966  ...   \n",
       "6             0.438940             0.478360             0.422753  ...   \n",
       "7             0.581797             0.586560             0.551966  ...   \n",
       "8             0.609447             0.555809             0.567416  ...   \n",
       "\n",
       "   split2_train_Accuracy  split3_train_Accuracy  split4_train_Accuracy  \\\n",
       "0               0.416522               0.416892               0.381686   \n",
       "1               0.520000               0.534415               0.504382   \n",
       "2               0.552464               0.524797               0.539740   \n",
       "3               0.483188               0.479110               0.506800   \n",
       "4               0.657681               0.654944               0.629495   \n",
       "5               0.668986               0.678389               0.667271   \n",
       "6               0.678841               0.697926               0.677848   \n",
       "7               0.879130               0.862639               0.878815   \n",
       "8               0.911884               0.915540               0.928377   \n",
       "\n",
       "   split5_train_Accuracy  split6_train_Accuracy  split7_train_Accuracy  \\\n",
       "0               0.466920               0.419557               0.440906   \n",
       "1               0.530738               0.526914               0.526332   \n",
       "2               0.552693               0.535586               0.545928   \n",
       "3               0.510831               0.488935               0.541335   \n",
       "4               0.643735               0.658792               0.649112   \n",
       "5               0.697307               0.671950               0.702082   \n",
       "6               0.698185               0.656998               0.666871   \n",
       "7               0.885539               0.875897               0.872627   \n",
       "8               0.915691               0.917464               0.922841   \n",
       "\n",
       "   split8_train_Accuracy  split9_train_Accuracy  mean_train_Accuracy  \\\n",
       "0               0.411463               0.443689             0.419487   \n",
       "1               0.513122               0.521431             0.523904   \n",
       "2               0.540271               0.545670             0.539552   \n",
       "3               0.494419               0.550990             0.506752   \n",
       "4               0.631373               0.642920             0.645813   \n",
       "5               0.666365               0.673071             0.678021   \n",
       "6               0.674811               0.678392             0.675072   \n",
       "7               0.879638               0.883535             0.879553   \n",
       "8               0.918552               0.903636             0.916493   \n",
       "\n",
       "   std_train_Accuracy  \n",
       "0            0.024145  \n",
       "1            0.009007  \n",
       "2            0.009425  \n",
       "3            0.023430  \n",
       "4            0.009897  \n",
       "5            0.012521  \n",
       "6            0.018226  \n",
       "7            0.009018  \n",
       "8            0.006367  \n",
       "\n",
       "[9 rows x 107 columns]"
      ]
     },
     "execution_count": 19,
     "metadata": {},
     "output_type": "execute_result"
    }
   ],
   "source": [
    "pdCLF = pd.DataFrame(modelCLF_trained.cv_results_)\n",
    "pdCLF"
   ]
  },
  {
   "cell_type": "code",
   "execution_count": 20,
   "metadata": {},
   "outputs": [],
   "source": [
    "best_params_CLF = modelCLF_trained.cv_results_['params'][modelCLF_trained.best_index_]"
   ]
  },
  {
   "cell_type": "code",
   "execution_count": 21,
   "metadata": {},
   "outputs": [
    {
     "data": {
      "text/plain": [
       "{'max_depth': 9, 'n_estimators': 7}"
      ]
     },
     "execution_count": 21,
     "metadata": {},
     "output_type": "execute_result"
    }
   ],
   "source": [
    "best_params_CLF"
   ]
  },
  {
   "cell_type": "code",
   "execution_count": 22,
   "metadata": {},
   "outputs": [],
   "source": [
    "def Metrics(model,X_test,Y_test):\n",
    "\n",
    "  y_predicted = model.predict(X_test)\n",
    "  print('Accuracy: ', accuracy_score(Y_test, y_predicted), '\\n')\n",
    "  report = classification_report(Y_test, y_predicted)\n",
    "  print(\"\\nclassification report :\\n\",report )\n",
    " \n",
    "  # Matriz de confusión\n",
    "  cm = confusion_matrix(Y_test, y_predicted)\n",
    "  # Normalise\n",
    "  cmn = cm.astype('float') / cm.sum(axis=1)[:, np.newaxis]\n",
    "  fig, ax = plt.subplots(figsize=(10,10))\n",
    "  sns.heatmap(cmn, annot=True, fmt='.2f', xticklabels=np.unique(Y_test), yticklabels=np.unique(Y_test))\n",
    "  plt.ylabel('Actual')\n",
    "  plt.xlabel('Predicted')\n",
    "  plt.show(block=False)\n",
    "  \n",
    "  #sns.heatmap(cm,annot=True,fmt = \"d\",linecolor=\"k\",linewidths=3)\n",
    "  #plt.title(\"Matriz de confusión\",fontsize=20)\n",
    "   \n",
    "    \n",
    "  return report"
   ]
  },
  {
   "cell_type": "code",
   "execution_count": 23,
   "metadata": {},
   "outputs": [
    {
     "data": {
      "text/plain": [
       "array([[-8.6235218 , -7.08668613,  4.23948717, ...,  2.01425886,\n",
       "         1.54636538,  1.44793153],\n",
       "       [-9.86100101, -9.57110596,  4.75713205, ...,  1.42840791,\n",
       "         1.48015809,  1.43297994],\n",
       "       [-8.54199505, -8.25707912,  4.18734217, ...,  1.57232726,\n",
       "         1.49107468,  1.30507958],\n",
       "       ...,\n",
       "       [ 4.47694921,  4.4567647 ,  4.26831245, ...,  3.0140903 ,\n",
       "         3.01161647,  2.9428854 ],\n",
       "       [ 4.38905096,  4.10066843,  4.68642521, ...,  2.82932377,\n",
       "         3.36130333,  4.40173531],\n",
       "       [ 4.70500708,  4.38762569,  4.54911423, ...,  2.91930556,\n",
       "         3.33849263,  3.21142244]])"
      ]
     },
     "execution_count": 23,
     "metadata": {},
     "output_type": "execute_result"
    }
   ],
   "source": [
    "X_test_original"
   ]
  },
  {
   "cell_type": "code",
   "execution_count": 24,
   "metadata": {},
   "outputs": [
    {
     "name": "stdout",
     "output_type": "stream",
     "text": [
      "Accuracy:  0.5992292870905588 \n",
      "\n",
      "\n",
      "classification report :\n",
      "               precision    recall  f1-score   support\n",
      "\n",
      "         0.0       0.76      0.81      0.79       237\n",
      "         1.0       0.49      0.56      0.52       269\n",
      "         2.0       0.53      0.47      0.50       258\n",
      "         3.0       0.64      0.57      0.60       274\n",
      "\n",
      "    accuracy                           0.60      1038\n",
      "   macro avg       0.60      0.60      0.60      1038\n",
      "weighted avg       0.60      0.60      0.60      1038\n",
      "\n"
     ]
    },
    {
     "data": {
      "image/png": "[encoded data removed]",
      "text/plain": [
       "<Figure size 720x720 with 2 Axes>"
      ]
     },
     "metadata": {
      "needs_background": "light"
     },
     "output_type": "display_data"
    }
   ],
   "source": [
    "CLF_best_estimator = modelCLF_trained.best_estimator_\n",
    "metrics_CLF = Metrics(CLF_best_estimator, X_test_original,Y_test__original)"
   ]
  },
  {
   "cell_type": "code",
   "execution_count": null,
   "metadata": {},
   "outputs": [],
   "source": []
  }
 ],
 "metadata": {
  "kernelspec": {
   "display_name": "Python 3",
   "language": "python",
   "name": "python3"
  },
  "language_info": {
   "codemirror_mode": {
    "name": "ipython",
    "version": 3
   },
   "file_extension": ".py",
   "mimetype": "text/x-python",
   "name": "python",
   "nbconvert_exporter": "python",
   "pygments_lexer": "ipython3",
   "version": "3.7.1"
  }
 },
 "nbformat": 4,
 "nbformat_minor": 2
}
