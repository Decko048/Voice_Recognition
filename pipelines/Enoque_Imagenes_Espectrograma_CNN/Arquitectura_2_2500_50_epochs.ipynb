{
 "cells": [
  {
   "cell_type": "markdown",
   "metadata": {},
   "source": [
    "Arquitectura\n",
    "\n",
    "https://medium.com/x8-the-ai-community/audio-classification-using-cnn-coding-example-f9cbd272269e"
   ]
  },
  {
   "cell_type": "code",
   "execution_count": 1,
   "metadata": {},
   "outputs": [
    {
     "data": {
      "text/plain": [
       "'/home/julian/anaconda3/envs/py3/bin/python3'"
      ]
     },
     "execution_count": 1,
     "metadata": {},
     "output_type": "execute_result"
    }
   ],
   "source": [
    "import sys\n",
    "sys.executable"
   ]
  },
  {
   "cell_type": "code",
   "execution_count": 2,
   "metadata": {},
   "outputs": [
    {
     "name": "stdout",
     "output_type": "stream",
     "text": [
      "Traceback (most recent call last):\r\n",
      "  File \"<string>\", line 1, in <module>\r\n",
      "ModuleNotFoundError: No module named 'tensorflow'\r\n"
     ]
    }
   ],
   "source": [
    "! python -c 'import tensorflow as tf; print(tf.__version__)'"
   ]
  },
  {
   "cell_type": "code",
   "execution_count": 3,
   "metadata": {},
   "outputs": [],
   "source": [
    "import numpy as np\n",
    "import pandas as pd\n",
    "import warnings; warnings.simplefilter('ignore')\n",
    "import tensorflow as tf\n",
    "import matplotlib.pyplot as plt\n",
    "from sklearn.model_selection import GroupShuffleSplit\n",
    "from tensorflow.keras.models import Sequential, Model\n",
    "from tensorflow.keras.layers import Dense, Activation, Conv2D,Dropout,Flatten,MaxPooling2D, Input\n",
    "from tensorflow.keras import optimizers\n",
    "from tensorflow.keras import utils\n",
    "from sklearn.metrics import confusion_matrix"
   ]
  },
  {
   "cell_type": "code",
   "execution_count": 4,
   "metadata": {},
   "outputs": [],
   "source": [
    "path = '../../data/spectrograms/spectrograms_2500.hd5'"
   ]
  },
  {
   "cell_type": "code",
   "execution_count": 5,
   "metadata": {
    "scrolled": true
   },
   "outputs": [],
   "source": [
    "df = pd.read_hdf(path)"
   ]
  },
  {
   "cell_type": "code",
   "execution_count": 6,
   "metadata": {},
   "outputs": [],
   "source": [
    "test_size = 0.2"
   ]
  },
  {
   "cell_type": "markdown",
   "metadata": {},
   "source": [
    "### Reshape images add channel"
   ]
  },
  {
   "cell_type": "code",
   "execution_count": 7,
   "metadata": {},
   "outputs": [],
   "source": [
    "width=df.Spectrogram[0].shape[1]\n",
    "high=df.Spectrogram[0].shape[0]\n",
    "images_number = len(df)"
   ]
  },
  {
   "cell_type": "code",
   "execution_count": 8,
   "metadata": {},
   "outputs": [
    {
     "data": {
      "text/plain": [
       "(1, 99, 161)"
      ]
     },
     "execution_count": 8,
     "metadata": {},
     "output_type": "execute_result"
    }
   ],
   "source": [
    "images_dimensions =(1,high,width)\n",
    "images_dimensions"
   ]
  },
  {
   "cell_type": "code",
   "execution_count": 9,
   "metadata": {},
   "outputs": [],
   "source": [
    "x_shape = (images_number,high,width) "
   ]
  },
  {
   "cell_type": "code",
   "execution_count": 10,
   "metadata": {},
   "outputs": [],
   "source": [
    "d = np.zeros(x_shape)\n",
    "cont_images = 0\n",
    "for i in df['Spectrogram'].values:\n",
    "    i.reshape(images_dimensions)\n",
    "    d[cont_images,:,:]=i\n",
    "    cont_images =cont_images +1"
   ]
  },
  {
   "cell_type": "code",
   "execution_count": 11,
   "metadata": {},
   "outputs": [
    {
     "data": {
      "text/plain": [
       "(2500, 99, 161)"
      ]
     },
     "execution_count": 11,
     "metadata": {},
     "output_type": "execute_result"
    }
   ],
   "source": [
    "d.shape ## matriz con las imagenes "
   ]
  },
  {
   "cell_type": "markdown",
   "metadata": {},
   "source": [
    "# Dataset"
   ]
  },
  {
   "cell_type": "code",
   "execution_count": 12,
   "metadata": {},
   "outputs": [
    {
     "name": "stdout",
     "output_type": "stream",
     "text": [
      "Tamaño dataSet (2500, 99, 161)\n",
      "\n",
      "\n",
      "Y shape (2500, 1)\n"
     ]
    }
   ],
   "source": [
    "X = d\n",
    "Y = df.word.values\n",
    "print('Tamaño dataSet', X.shape)\n",
    "print('\\n')\n",
    "Y = np.reshape(Y,(np.size(Y,0),1))\n",
    "print('Y shape',Y.shape)\n",
    "groups = df.speaker.values"
   ]
  },
  {
   "cell_type": "markdown",
   "metadata": {},
   "source": [
    "## Data Split"
   ]
  },
  {
   "cell_type": "code",
   "execution_count": 13,
   "metadata": {},
   "outputs": [],
   "source": [
    "def splitDataSet(X,Y,groups,test_size):              \n",
    "        gss = GroupShuffleSplit(n_splits=1, test_size=test_size, random_state=0)\n",
    "        gss.get_n_splits()\n",
    "        returns = []\n",
    "        for train_index, test_index in gss.split(X, Y, groups=groups):\n",
    "            X_train_original, X_test_original = X[train_index], X[test_index]\n",
    "            Y_train__original, Y_test_original = Y[train_index], Y[test_index]\n",
    "            groups_original = groups[train_index]\n",
    "            groups_test_original=groups[test_index]\n",
    "            returns.append(X_train_original)\n",
    "            returns.append(Y_train__original)\n",
    "            returns.append(X_test_original)\n",
    "            returns.append(Y_test_original)\n",
    "            returns.append(groups_original)\n",
    "            returns.append(groups_test_original) \n",
    "              \n",
    "        return returns"
   ]
  },
  {
   "cell_type": "code",
   "execution_count": 14,
   "metadata": {},
   "outputs": [],
   "source": [
    "data_train = splitDataSet(X,Y,groups,test_size)\n",
    "X_train_original = data_train[0]\n",
    "Y_train__original=data_train[1]\n",
    "X_test_original=data_train[2]\n",
    "Y_test_original=data_train[3]\n",
    "groups_original=data_train[4]\n",
    "groups_test_original=data_train[5]"
   ]
  },
  {
   "cell_type": "code",
   "execution_count": 15,
   "metadata": {},
   "outputs": [
    {
     "data": {
      "text/plain": [
       "(1934, 99, 161)"
      ]
     },
     "execution_count": 15,
     "metadata": {},
     "output_type": "execute_result"
    }
   ],
   "source": [
    "X_train_original.shape"
   ]
  },
  {
   "cell_type": "code",
   "execution_count": 16,
   "metadata": {},
   "outputs": [
    {
     "data": {
      "text/plain": [
       "(566, 1)"
      ]
     },
     "execution_count": 16,
     "metadata": {},
     "output_type": "execute_result"
    }
   ],
   "source": [
    "Y_test_original.shape"
   ]
  },
  {
   "cell_type": "markdown",
   "metadata": {},
   "source": [
    "# Expandir dimensiones de X "
   ]
  },
  {
   "cell_type": "code",
   "execution_count": 17,
   "metadata": {},
   "outputs": [],
   "source": [
    "X_train_original= np.expand_dims(X_train_original, axis=3)\n",
    "X_test_original= np.expand_dims(X_test_original, axis=3)"
   ]
  },
  {
   "cell_type": "code",
   "execution_count": 18,
   "metadata": {},
   "outputs": [
    {
     "data": {
      "text/plain": [
       "(1934, 99, 161, 1)"
      ]
     },
     "execution_count": 18,
     "metadata": {},
     "output_type": "execute_result"
    }
   ],
   "source": [
    "X_train_original.shape"
   ]
  },
  {
   "cell_type": "code",
   "execution_count": 19,
   "metadata": {},
   "outputs": [
    {
     "data": {
      "text/plain": [
       "(566, 99, 161, 1)"
      ]
     },
     "execution_count": 19,
     "metadata": {},
     "output_type": "execute_result"
    }
   ],
   "source": [
    "X_test_original.shape"
   ]
  },
  {
   "cell_type": "markdown",
   "metadata": {},
   "source": [
    "# One-hot"
   ]
  },
  {
   "cell_type": "code",
   "execution_count": 20,
   "metadata": {},
   "outputs": [
    {
     "data": {
      "text/plain": [
       "array([[0., 0., 0., 0., 1.],\n",
       "       [0., 0., 0., 0., 1.],\n",
       "       [0., 0., 0., 0., 1.],\n",
       "       ...,\n",
       "       [0., 1., 0., 0., 0.],\n",
       "       [0., 1., 0., 0., 0.],\n",
       "       [0., 1., 0., 0., 0.]], dtype=float32)"
      ]
     },
     "execution_count": 20,
     "metadata": {},
     "output_type": "execute_result"
    }
   ],
   "source": [
    "y_trainOHE = utils.to_categorical(Y_train__original)\n",
    "y_trainOHE"
   ]
  },
  {
   "cell_type": "code",
   "execution_count": 21,
   "metadata": {},
   "outputs": [],
   "source": [
    "### Número de clases\n",
    "num_classes = y_trainOHE.shape[1]"
   ]
  },
  {
   "cell_type": "code",
   "execution_count": 22,
   "metadata": {},
   "outputs": [],
   "source": [
    "input_shape =(high,width,1)"
   ]
  },
  {
   "cell_type": "code",
   "execution_count": 23,
   "metadata": {},
   "outputs": [
    {
     "data": {
      "text/plain": [
       "(99, 161, 1)"
      ]
     },
     "execution_count": 23,
     "metadata": {},
     "output_type": "execute_result"
    }
   ],
   "source": [
    "input_shape"
   ]
  },
  {
   "cell_type": "code",
   "execution_count": 24,
   "metadata": {},
   "outputs": [
    {
     "data": {
      "text/plain": [
       "5"
      ]
     },
     "execution_count": 24,
     "metadata": {},
     "output_type": "execute_result"
    }
   ],
   "source": [
    "num_classes"
   ]
  },
  {
   "cell_type": "markdown",
   "metadata": {},
   "source": [
    "## Define the network architecture using keras"
   ]
  },
  {
   "cell_type": "code",
   "execution_count": 25,
   "metadata": {},
   "outputs": [
    {
     "data": {
      "text/plain": [
       "<tensorflow.python.keras.engine.training.Model at 0x7f3dfd775908>"
      ]
     },
     "execution_count": 25,
     "metadata": {},
     "output_type": "execute_result"
    }
   ],
   "source": [
    "model = Sequential()\n",
    "\n",
    "img= Input(shape=input_shape)\n",
    "\n",
    "model.add(Conv2D(32, kernel_size=(3, 3), activation='relu', input_shape=input_shape))\n",
    "model.add(Conv2D(64, kernel_size=(3, 3), activation='relu'))\n",
    "model.add(MaxPooling2D(pool_size=(2, 2)))\n",
    "model.add(Dropout(rate=0.25))\n",
    "model.add(Flatten())\n",
    "model.add(Dense(128, activation='relu'))\n",
    "model.add(Dropout(0.5))\n",
    "model.add(Dense(num_classes, activation='softmax'))\n",
    "\n",
    "validity = model(img)\n",
    "\n",
    "Model(img, validity)"
   ]
  },
  {
   "cell_type": "markdown",
   "metadata": {},
   "source": [
    "# loss function and optimizer"
   ]
  },
  {
   "cell_type": "code",
   "execution_count": 26,
   "metadata": {},
   "outputs": [
    {
     "name": "stdout",
     "output_type": "stream",
     "text": [
      "Model: \"sequential\"\n",
      "_________________________________________________________________\n",
      "Layer (type)                 Output Shape              Param #   \n",
      "=================================================================\n",
      "conv2d (Conv2D)              (None, 97, 159, 32)       320       \n",
      "_________________________________________________________________\n",
      "conv2d_1 (Conv2D)            (None, 95, 157, 64)       18496     \n",
      "_________________________________________________________________\n",
      "max_pooling2d (MaxPooling2D) (None, 47, 78, 64)        0         \n",
      "_________________________________________________________________\n",
      "dropout (Dropout)            (None, 47, 78, 64)        0         \n",
      "_________________________________________________________________\n",
      "flatten (Flatten)            (None, 234624)            0         \n",
      "_________________________________________________________________\n",
      "dense (Dense)                (None, 128)               30032000  \n",
      "_________________________________________________________________\n",
      "dropout_1 (Dropout)          (None, 128)               0         \n",
      "_________________________________________________________________\n",
      "dense_1 (Dense)              (None, 5)                 645       \n",
      "=================================================================\n",
      "Total params: 30,051,461\n",
      "Trainable params: 30,051,461\n",
      "Non-trainable params: 0\n",
      "_________________________________________________________________\n",
      "None\n"
     ]
    }
   ],
   "source": [
    "model.compile(loss='categorical_crossentropy', optimizer='adam',metrics=['accuracy'])\n",
    "print(model.summary())"
   ]
  },
  {
   "cell_type": "markdown",
   "metadata": {},
   "source": [
    "# Training"
   ]
  },
  {
   "cell_type": "code",
   "execution_count": 27,
   "metadata": {},
   "outputs": [
    {
     "name": "stdout",
     "output_type": "stream",
     "text": [
      "Training...\n",
      "Train on 1740 samples, validate on 194 samples\n",
      "Epoch 1/50\n",
      "1740/1740 [==============================] - 37s 21ms/sample - loss: 62.7938 - accuracy: 0.2184 - val_loss: 2.0605 - val_accuracy: 0.0000e+00\n",
      "Epoch 2/50\n",
      "1740/1740 [==============================] - 37s 21ms/sample - loss: 1.6296 - accuracy: 0.2638 - val_loss: 1.6178 - val_accuracy: 0.0000e+00\n",
      "Epoch 3/50\n",
      "1740/1740 [==============================] - 36s 20ms/sample - loss: 1.6074 - accuracy: 0.2293 - val_loss: 1.6436 - val_accuracy: 0.0000e+00\n",
      "Epoch 4/50\n",
      "1740/1740 [==============================] - 36s 21ms/sample - loss: 1.6045 - accuracy: 0.2144 - val_loss: 1.6768 - val_accuracy: 0.0000e+00\n",
      "Epoch 5/50\n",
      "1740/1740 [==============================] - 36s 20ms/sample - loss: 1.6009 - accuracy: 0.2155 - val_loss: 1.7079 - val_accuracy: 0.0000e+00\n",
      "Epoch 6/50\n",
      "1740/1740 [==============================] - 36s 21ms/sample - loss: 1.5983 - accuracy: 0.2155 - val_loss: 1.7425 - val_accuracy: 0.0000e+00\n",
      "Epoch 7/50\n",
      "1740/1740 [==============================] - 36s 21ms/sample - loss: 1.5958 - accuracy: 0.2282 - val_loss: 1.7734 - val_accuracy: 0.0000e+00\n",
      "Epoch 8/50\n",
      "1740/1740 [==============================] - 36s 21ms/sample - loss: 1.5939 - accuracy: 0.2207 - val_loss: 1.8036 - val_accuracy: 0.0000e+00\n",
      "Epoch 9/50\n",
      "1740/1740 [==============================] - 36s 21ms/sample - loss: 1.5918 - accuracy: 0.2293 - val_loss: 1.8303 - val_accuracy: 0.0000e+00\n",
      "Epoch 10/50\n",
      "1740/1740 [==============================] - 38s 22ms/sample - loss: 1.5910 - accuracy: 0.2063 - val_loss: 1.8619 - val_accuracy: 0.0000e+00\n",
      "Epoch 11/50\n",
      "1740/1740 [==============================] - 33s 19ms/sample - loss: 1.5892 - accuracy: 0.2149 - val_loss: 1.8860 - val_accuracy: 0.0000e+00\n",
      "Epoch 12/50\n",
      "1740/1740 [==============================] - 32s 18ms/sample - loss: 1.5883 - accuracy: 0.2328 - val_loss: 1.9119 - val_accuracy: 0.0000e+00\n",
      "Epoch 13/50\n",
      "1740/1740 [==============================] - 30s 17ms/sample - loss: 1.5826 - accuracy: 0.2454 - val_loss: 1.9528 - val_accuracy: 0.0000e+00\n",
      "Epoch 14/50\n",
      "1740/1740 [==============================] - 31s 18ms/sample - loss: 1.4920 - accuracy: 0.3374 - val_loss: 2.3035 - val_accuracy: 0.0258\n",
      "Epoch 15/50\n",
      "1740/1740 [==============================] - 31s 18ms/sample - loss: 1.2895 - accuracy: 0.4632 - val_loss: 1.8911 - val_accuracy: 0.0412\n",
      "Epoch 16/50\n",
      "1740/1740 [==============================] - 30s 17ms/sample - loss: 1.2369 - accuracy: 0.5345 - val_loss: 1.9650 - val_accuracy: 0.0670\n",
      "Epoch 17/50\n",
      "1740/1740 [==============================] - 51s 29ms/sample - loss: 1.1415 - accuracy: 0.5644 - val_loss: 2.0108 - val_accuracy: 0.2165\n",
      "Epoch 18/50\n",
      "1740/1740 [==============================] - 60s 34ms/sample - loss: 0.9430 - accuracy: 0.6425 - val_loss: 2.4637 - val_accuracy: 0.1082\n",
      "Epoch 19/50\n",
      "1740/1740 [==============================] - 57s 33ms/sample - loss: 0.8290 - accuracy: 0.6914 - val_loss: 1.9626 - val_accuracy: 0.2577\n",
      "Epoch 20/50\n",
      "1740/1740 [==============================] - 60s 34ms/sample - loss: 0.7305 - accuracy: 0.7351 - val_loss: 2.3402 - val_accuracy: 0.1237\n",
      "Epoch 21/50\n",
      "1740/1740 [==============================] - 59s 34ms/sample - loss: 0.6721 - accuracy: 0.7575 - val_loss: 2.3996 - val_accuracy: 0.2474\n",
      "Epoch 22/50\n",
      "1740/1740 [==============================] - 59s 34ms/sample - loss: 0.6155 - accuracy: 0.7822 - val_loss: 2.1382 - val_accuracy: 0.2680\n",
      "Epoch 23/50\n",
      "1740/1740 [==============================] - 60s 35ms/sample - loss: 0.5474 - accuracy: 0.8052 - val_loss: 2.0954 - val_accuracy: 0.2938\n",
      "Epoch 24/50\n",
      "1740/1740 [==============================] - 64s 37ms/sample - loss: 0.4560 - accuracy: 0.8437 - val_loss: 2.2033 - val_accuracy: 0.2835\n",
      "Epoch 25/50\n",
      "1740/1740 [==============================] - 59s 34ms/sample - loss: 0.4557 - accuracy: 0.8420 - val_loss: 1.9644 - val_accuracy: 0.4124\n",
      "Epoch 26/50\n",
      "1740/1740 [==============================] - 59s 34ms/sample - loss: 0.3875 - accuracy: 0.8667 - val_loss: 2.3888 - val_accuracy: 0.2474\n",
      "Epoch 27/50\n",
      "1740/1740 [==============================] - 59s 34ms/sample - loss: 0.3566 - accuracy: 0.8718 - val_loss: 2.7777 - val_accuracy: 0.1856\n",
      "Epoch 28/50\n",
      "1740/1740 [==============================] - 61s 35ms/sample - loss: 0.3161 - accuracy: 0.8764 - val_loss: 2.0314 - val_accuracy: 0.4278\n",
      "Epoch 29/50\n",
      "1740/1740 [==============================] - 59s 34ms/sample - loss: 0.3023 - accuracy: 0.8874 - val_loss: 2.1401 - val_accuracy: 0.4639\n",
      "Epoch 30/50\n",
      "1740/1740 [==============================] - 58s 33ms/sample - loss: 1.0096 - accuracy: 0.7247 - val_loss: 2.0817 - val_accuracy: 0.1649\n",
      "Epoch 31/50\n",
      "1740/1740 [==============================] - 58s 33ms/sample - loss: 0.6185 - accuracy: 0.7845 - val_loss: 1.9627 - val_accuracy: 0.2474\n",
      "Epoch 32/50\n",
      "1740/1740 [==============================] - 58s 33ms/sample - loss: 0.4833 - accuracy: 0.8322 - val_loss: 2.2461 - val_accuracy: 0.2474\n",
      "Epoch 33/50\n",
      "1740/1740 [==============================] - 62s 35ms/sample - loss: 0.3722 - accuracy: 0.8707 - val_loss: 2.2332 - val_accuracy: 0.3660\n",
      "Epoch 34/50\n",
      "1740/1740 [==============================] - 60s 34ms/sample - loss: 0.3225 - accuracy: 0.8960 - val_loss: 2.4664 - val_accuracy: 0.2887\n",
      "Epoch 35/50\n",
      "1740/1740 [==============================] - 59s 34ms/sample - loss: 0.2997 - accuracy: 0.8943 - val_loss: 2.5976 - val_accuracy: 0.2784\n",
      "Epoch 36/50\n",
      "1740/1740 [==============================] - 60s 35ms/sample - loss: 0.2404 - accuracy: 0.9230 - val_loss: 2.3239 - val_accuracy: 0.3505\n",
      "Epoch 37/50\n",
      "1740/1740 [==============================] - 60s 34ms/sample - loss: 0.2320 - accuracy: 0.9236 - val_loss: 2.5510 - val_accuracy: 0.3196\n",
      "Epoch 38/50\n",
      "1740/1740 [==============================] - 44s 25ms/sample - loss: 0.1936 - accuracy: 0.9328 - val_loss: 2.5547 - val_accuracy: 0.3866\n",
      "Epoch 39/50\n",
      "1740/1740 [==============================] - 31s 18ms/sample - loss: 0.1883 - accuracy: 0.9333 - val_loss: 2.5776 - val_accuracy: 0.3505\n",
      "Epoch 40/50\n",
      "1740/1740 [==============================] - 31s 18ms/sample - loss: 0.1674 - accuracy: 0.9425 - val_loss: 2.5446 - val_accuracy: 0.3093\n",
      "Epoch 41/50\n",
      "1740/1740 [==============================] - 31s 18ms/sample - loss: 0.1579 - accuracy: 0.9500 - val_loss: 3.1986 - val_accuracy: 0.2680\n",
      "Epoch 42/50\n",
      "1740/1740 [==============================] - 31s 18ms/sample - loss: 0.1676 - accuracy: 0.9460 - val_loss: 2.6221 - val_accuracy: 0.4175\n",
      "Epoch 43/50\n",
      "1740/1740 [==============================] - 31s 18ms/sample - loss: 0.1409 - accuracy: 0.9563 - val_loss: 2.6139 - val_accuracy: 0.4278\n",
      "Epoch 44/50\n",
      "1740/1740 [==============================] - 31s 18ms/sample - loss: 0.1267 - accuracy: 0.9655 - val_loss: 2.9435 - val_accuracy: 0.3093\n",
      "Epoch 45/50\n",
      "1740/1740 [==============================] - 31s 18ms/sample - loss: 0.1218 - accuracy: 0.9586 - val_loss: 2.8021 - val_accuracy: 0.3454\n",
      "Epoch 46/50\n",
      "1740/1740 [==============================] - 31s 18ms/sample - loss: 0.1249 - accuracy: 0.9540 - val_loss: 2.8933 - val_accuracy: 0.3454\n",
      "Epoch 47/50\n",
      "1740/1740 [==============================] - 31s 18ms/sample - loss: 0.1066 - accuracy: 0.9655 - val_loss: 3.2619 - val_accuracy: 0.3969\n",
      "Epoch 48/50\n",
      "1740/1740 [==============================] - 31s 18ms/sample - loss: 0.1140 - accuracy: 0.9557 - val_loss: 3.1859 - val_accuracy: 0.2990\n",
      "Epoch 49/50\n",
      "1740/1740 [==============================] - 31s 18ms/sample - loss: 0.1001 - accuracy: 0.9695 - val_loss: 3.6398 - val_accuracy: 0.2629\n",
      "Epoch 50/50\n",
      "1740/1740 [==============================] - 31s 18ms/sample - loss: 0.1062 - accuracy: 0.9638 - val_loss: 3.2143 - val_accuracy: 0.3505\n"
     ]
    }
   ],
   "source": [
    "print(\"Training...\")\n",
    "history = model.fit(X_train_original, y_trainOHE, epochs=50, batch_size=100, validation_split=0.1, verbose=1)"
   ]
  },
  {
   "cell_type": "code",
   "execution_count": 28,
   "metadata": {},
   "outputs": [
    {
     "name": "stdout",
     "output_type": "stream",
     "text": [
      "dict_keys(['loss', 'accuracy', 'val_loss', 'val_accuracy'])\n"
     ]
    },
    {
     "data": {
      "image/png": "[encoded data removed]",
      "text/plain": [
       "<Figure size 432x288 with 1 Axes>"
      ]
     },
     "metadata": {
      "needs_background": "light"
     },
     "output_type": "display_data"
    },
    {
     "data": {
      "image/png": "[encoded data removed]",
      "text/plain": [
       "<Figure size 432x288 with 1 Axes>"
      ]
     },
     "metadata": {
      "needs_background": "light"
     },
     "output_type": "display_data"
    }
   ],
   "source": [
    "print(history.history.keys())\n",
    "\n",
    "# summarize history for accuracy\n",
    "plt.plot(history.history['accuracy'])\n",
    "plt.plot(history.history['val_accuracy'])\n",
    "plt.title('model accuracy')\n",
    "plt.ylabel('accuracy')\n",
    "plt.xlabel('epoch')\n",
    "plt.legend(['train', 'test'], loc='upper left')\n",
    "plt.show()\n",
    "\n",
    "\n",
    "# summarize history for loss\n",
    "plt.plot(history.history['loss'])\n",
    "plt.plot(history.history['val_loss'])\n",
    "plt.title('model loss')\n",
    "plt.ylabel('loss')\n",
    "plt.xlabel('epoch')\n",
    "plt.legend(['train', 'test'], loc='upper left')\n",
    "plt.show()"
   ]
  },
  {
   "cell_type": "markdown",
   "metadata": {},
   "source": [
    "## Predict"
   ]
  },
  {
   "cell_type": "code",
   "execution_count": 29,
   "metadata": {},
   "outputs": [],
   "source": [
    "def predict(model,X_test_original):\n",
    "    Yest = model.predict(X_test_original)\n",
    "    Yest = np.argmax(Yest, axis=1)\n",
    "    Yest = Yest.reshape((Yest.shape[0],1))\n",
    "    return Yest"
   ]
  },
  {
   "cell_type": "code",
   "execution_count": 30,
   "metadata": {},
   "outputs": [],
   "source": [
    "def consfusion_matrix(Y_real,preds,nb_classes):\n",
    "    Accuracy = np.mean(preds == Y_real)\n",
    "    print('Accuracy = ', Accuracy*100, '% ')\n",
    "    objects = ('yes','no','right','five','nine')\n",
    "    cm = confusion_matrix(Y_real, preds)\n",
    "    cm = cm/np.sum(cm,axis=0)\n",
    "    cmap = plt.cm.gray\n",
    "    tick_marks = np.arange(nb_classes)\n",
    "    fig, ax = plt.subplots(figsize=(10,10))\n",
    "    im = ax.imshow(cm, interpolation='nearest', cmap=cmap)\n",
    "    for i in range(cm.shape[0]):\n",
    "        for j in range(cm.shape[1]):\n",
    "            text = ax.text(j, i, np.around(cm[i, j],decimals=2),\n",
    "                           ha=\"center\", va=\"center\", color=\"w\")\n",
    "    plt.title('Normalized confusion matrix')\n",
    "    fig.colorbar(im)\n",
    "    plt.xticks(tick_marks, objects, rotation=45)\n",
    "    plt.yticks(tick_marks, objects);"
   ]
  },
  {
   "cell_type": "code",
   "execution_count": 31,
   "metadata": {},
   "outputs": [
    {
     "name": "stdout",
     "output_type": "stream",
     "text": [
      "Accuracy =  73.67491166077738 % \n"
     ]
    },
    {
     "data": {
      "image/png": "[encoded data removed]",
      "text/plain": [
       "<Figure size 720x720 with 2 Axes>"
      ]
     },
     "metadata": {
      "needs_background": "light"
     },
     "output_type": "display_data"
    }
   ],
   "source": [
    "Yest  = predict(model,X_test_original)\n",
    "Yest =Yest.flatten()\n",
    "Yest =np.array(Yest)\n",
    "Y_test_original= Y_test_original.flatten()\n",
    "Y_test_original =list(Y_test_original)\n",
    "consfusion_matrix(Y_test_original,Yest,5)"
   ]
  },
  {
   "cell_type": "code",
   "execution_count": null,
   "metadata": {},
   "outputs": [],
   "source": [
    "path_model_Save = '/home/josearangos/Documentos/Projects/Voice_Recognition/pipelines/Enoque_Imagenes_Espectrograma_CNN/models/mode_2500_trained_samples_10_epochs_arquitectura2'"
   ]
  },
  {
   "cell_type": "code",
   "execution_count": null,
   "metadata": {},
   "outputs": [],
   "source": [
    "model.save(path_model_Save)"
   ]
  }
 ],
 "metadata": {
  "kernelspec": {
   "display_name": "Python 3",
   "language": "python",
   "name": "python3"
  },
  "language_info": {
   "codemirror_mode": {
    "name": "ipython",
    "version": 3
   },
   "file_extension": ".py",
   "mimetype": "text/x-python",
   "name": "python",
   "nbconvert_exporter": "python",
   "pygments_lexer": "ipython3",
   "version": "3.7.4"
  }
 },
 "nbformat": 4,
 "nbformat_minor": 2
}
