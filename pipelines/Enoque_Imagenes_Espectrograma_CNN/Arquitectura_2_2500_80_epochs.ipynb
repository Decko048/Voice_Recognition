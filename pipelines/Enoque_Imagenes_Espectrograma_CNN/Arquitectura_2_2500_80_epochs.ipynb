{
 "cells": [
  {
   "cell_type": "markdown",
   "metadata": {},
   "source": [
    "Arquitectura\n",
    "\n",
    "https://medium.com/x8-the-ai-community/audio-classification-using-cnn-coding-example-f9cbd272269e"
   ]
  },
  {
   "cell_type": "code",
   "execution_count": 1,
   "metadata": {},
   "outputs": [
    {
     "data": {
      "text/plain": [
       "'/home/julian/anaconda3/envs/py3/bin/python3'"
      ]
     },
     "execution_count": 1,
     "metadata": {},
     "output_type": "execute_result"
    }
   ],
   "source": [
    "import sys\n",
    "sys.executable"
   ]
  },
  {
   "cell_type": "code",
   "execution_count": 2,
   "metadata": {},
   "outputs": [
    {
     "name": "stdout",
     "output_type": "stream",
     "text": [
      "Traceback (most recent call last):\r\n",
      "  File \"<string>\", line 1, in <module>\r\n",
      "ModuleNotFoundError: No module named 'tensorflow'\r\n"
     ]
    }
   ],
   "source": [
    "! python -c 'import tensorflow as tf; print(tf.__version__)'"
   ]
  },
  {
   "cell_type": "code",
   "execution_count": 3,
   "metadata": {},
   "outputs": [],
   "source": [
    "import numpy as np\n",
    "import pandas as pd\n",
    "import warnings; warnings.simplefilter('ignore')\n",
    "import tensorflow as tf\n",
    "import matplotlib.pyplot as plt\n",
    "from sklearn.model_selection import GroupShuffleSplit\n",
    "from tensorflow.keras.models import Sequential, Model\n",
    "from tensorflow.keras.layers import Dense, Activation, Conv2D,Dropout,Flatten,MaxPooling2D, Input\n",
    "from tensorflow.keras import optimizers\n",
    "from tensorflow.keras import utils\n",
    "from sklearn.metrics import confusion_matrix"
   ]
  },
  {
   "cell_type": "code",
   "execution_count": 4,
   "metadata": {},
   "outputs": [],
   "source": [
    "path = '../../data/spectrograms/spectrograms_2500.hd5'"
   ]
  },
  {
   "cell_type": "code",
   "execution_count": 5,
   "metadata": {
    "scrolled": true
   },
   "outputs": [],
   "source": [
    "df = pd.read_hdf(path)"
   ]
  },
  {
   "cell_type": "code",
   "execution_count": 6,
   "metadata": {},
   "outputs": [],
   "source": [
    "test_size = 0.2"
   ]
  },
  {
   "cell_type": "markdown",
   "metadata": {},
   "source": [
    "### Reshape images add channel"
   ]
  },
  {
   "cell_type": "code",
   "execution_count": 7,
   "metadata": {},
   "outputs": [],
   "source": [
    "width=df.Spectrogram[0].shape[1]\n",
    "high=df.Spectrogram[0].shape[0]\n",
    "images_number = len(df)"
   ]
  },
  {
   "cell_type": "code",
   "execution_count": 8,
   "metadata": {},
   "outputs": [
    {
     "data": {
      "text/plain": [
       "(1, 99, 161)"
      ]
     },
     "execution_count": 8,
     "metadata": {},
     "output_type": "execute_result"
    }
   ],
   "source": [
    "images_dimensions =(1,high,width)\n",
    "images_dimensions"
   ]
  },
  {
   "cell_type": "code",
   "execution_count": 9,
   "metadata": {},
   "outputs": [],
   "source": [
    "x_shape = (images_number,high,width) "
   ]
  },
  {
   "cell_type": "code",
   "execution_count": 10,
   "metadata": {},
   "outputs": [],
   "source": [
    "d = np.zeros(x_shape)\n",
    "cont_images = 0\n",
    "for i in df['Spectrogram'].values:\n",
    "    i.reshape(images_dimensions)\n",
    "    d[cont_images,:,:]=i\n",
    "    cont_images =cont_images +1"
   ]
  },
  {
   "cell_type": "code",
   "execution_count": 11,
   "metadata": {},
   "outputs": [
    {
     "data": {
      "text/plain": [
       "(2500, 99, 161)"
      ]
     },
     "execution_count": 11,
     "metadata": {},
     "output_type": "execute_result"
    }
   ],
   "source": [
    "d.shape ## matriz con las imagenes "
   ]
  },
  {
   "cell_type": "markdown",
   "metadata": {},
   "source": [
    "# Dataset"
   ]
  },
  {
   "cell_type": "code",
   "execution_count": 12,
   "metadata": {},
   "outputs": [
    {
     "name": "stdout",
     "output_type": "stream",
     "text": [
      "Tamaño dataSet (2500, 99, 161)\n",
      "\n",
      "\n",
      "Y shape (2500, 1)\n"
     ]
    }
   ],
   "source": [
    "X = d\n",
    "Y = df.word.values\n",
    "print('Tamaño dataSet', X.shape)\n",
    "print('\\n')\n",
    "Y = np.reshape(Y,(np.size(Y,0),1))\n",
    "print('Y shape',Y.shape)\n",
    "groups = df.speaker.values"
   ]
  },
  {
   "cell_type": "markdown",
   "metadata": {},
   "source": [
    "## Data Split"
   ]
  },
  {
   "cell_type": "code",
   "execution_count": 13,
   "metadata": {},
   "outputs": [],
   "source": [
    "def splitDataSet(X,Y,groups,test_size):              \n",
    "        gss = GroupShuffleSplit(n_splits=1, test_size=test_size, random_state=0)\n",
    "        gss.get_n_splits()\n",
    "        returns = []\n",
    "        for train_index, test_index in gss.split(X, Y, groups=groups):\n",
    "            X_train_original, X_test_original = X[train_index], X[test_index]\n",
    "            Y_train__original, Y_test_original = Y[train_index], Y[test_index]\n",
    "            groups_original = groups[train_index]\n",
    "            groups_test_original=groups[test_index]\n",
    "            returns.append(X_train_original)\n",
    "            returns.append(Y_train__original)\n",
    "            returns.append(X_test_original)\n",
    "            returns.append(Y_test_original)\n",
    "            returns.append(groups_original)\n",
    "            returns.append(groups_test_original) \n",
    "              \n",
    "        return returns"
   ]
  },
  {
   "cell_type": "code",
   "execution_count": 14,
   "metadata": {},
   "outputs": [],
   "source": [
    "data_train = splitDataSet(X,Y,groups,test_size)\n",
    "X_train_original = data_train[0]\n",
    "Y_train__original=data_train[1]\n",
    "X_test_original=data_train[2]\n",
    "Y_test_original=data_train[3]\n",
    "groups_original=data_train[4]\n",
    "groups_test_original=data_train[5]"
   ]
  },
  {
   "cell_type": "code",
   "execution_count": 15,
   "metadata": {},
   "outputs": [
    {
     "data": {
      "text/plain": [
       "(1934, 99, 161)"
      ]
     },
     "execution_count": 15,
     "metadata": {},
     "output_type": "execute_result"
    }
   ],
   "source": [
    "X_train_original.shape"
   ]
  },
  {
   "cell_type": "code",
   "execution_count": 16,
   "metadata": {},
   "outputs": [
    {
     "data": {
      "text/plain": [
       "(566, 1)"
      ]
     },
     "execution_count": 16,
     "metadata": {},
     "output_type": "execute_result"
    }
   ],
   "source": [
    "Y_test_original.shape"
   ]
  },
  {
   "cell_type": "code",
   "execution_count": 32,
   "metadata": {},
   "outputs": [
    {
     "data": {
      "text/plain": [
       "[4,\n",
       " 4,\n",
       " 4,\n",
       " 4,\n",
       " 4,\n",
       " 4,\n",
       " 4,\n",
       " 4,\n",
       " 4,\n",
       " 4,\n",
       " 4,\n",
       " 4,\n",
       " 4,\n",
       " 4,\n",
       " 4,\n",
       " 4,\n",
       " 4,\n",
       " 4,\n",
       " 4,\n",
       " 4,\n",
       " 4,\n",
       " 4,\n",
       " 4,\n",
       " 4,\n",
       " 4,\n",
       " 4,\n",
       " 4,\n",
       " 4,\n",
       " 4,\n",
       " 4,\n",
       " 4,\n",
       " 4,\n",
       " 4,\n",
       " 4,\n",
       " 4,\n",
       " 4,\n",
       " 4,\n",
       " 4,\n",
       " 4,\n",
       " 4,\n",
       " 4,\n",
       " 4,\n",
       " 4,\n",
       " 4,\n",
       " 4,\n",
       " 4,\n",
       " 4,\n",
       " 4,\n",
       " 4,\n",
       " 4,\n",
       " 4,\n",
       " 4,\n",
       " 4,\n",
       " 4,\n",
       " 4,\n",
       " 4,\n",
       " 4,\n",
       " 4,\n",
       " 4,\n",
       " 4,\n",
       " 4,\n",
       " 4,\n",
       " 4,\n",
       " 4,\n",
       " 4,\n",
       " 4,\n",
       " 4,\n",
       " 4,\n",
       " 4,\n",
       " 4,\n",
       " 4,\n",
       " 4,\n",
       " 4,\n",
       " 4,\n",
       " 4,\n",
       " 4,\n",
       " 4,\n",
       " 4,\n",
       " 4,\n",
       " 4,\n",
       " 4,\n",
       " 4,\n",
       " 4,\n",
       " 4,\n",
       " 4,\n",
       " 4,\n",
       " 4,\n",
       " 4,\n",
       " 4,\n",
       " 4,\n",
       " 4,\n",
       " 4,\n",
       " 4,\n",
       " 4,\n",
       " 4,\n",
       " 4,\n",
       " 4,\n",
       " 4,\n",
       " 4,\n",
       " 4,\n",
       " 4,\n",
       " 4,\n",
       " 4,\n",
       " 4,\n",
       " 4,\n",
       " 4,\n",
       " 4,\n",
       " 4,\n",
       " 4,\n",
       " 4,\n",
       " 4,\n",
       " 4,\n",
       " 4,\n",
       " 4,\n",
       " 2,\n",
       " 2,\n",
       " 2,\n",
       " 2,\n",
       " 2,\n",
       " 2,\n",
       " 2,\n",
       " 2,\n",
       " 2,\n",
       " 2,\n",
       " 2,\n",
       " 2,\n",
       " 2,\n",
       " 2,\n",
       " 2,\n",
       " 2,\n",
       " 2,\n",
       " 2,\n",
       " 2,\n",
       " 2,\n",
       " 2,\n",
       " 2,\n",
       " 2,\n",
       " 2,\n",
       " 2,\n",
       " 2,\n",
       " 2,\n",
       " 2,\n",
       " 2,\n",
       " 2,\n",
       " 2,\n",
       " 2,\n",
       " 2,\n",
       " 2,\n",
       " 2,\n",
       " 2,\n",
       " 2,\n",
       " 2,\n",
       " 2,\n",
       " 2,\n",
       " 2,\n",
       " 2,\n",
       " 2,\n",
       " 2,\n",
       " 2,\n",
       " 2,\n",
       " 2,\n",
       " 2,\n",
       " 2,\n",
       " 2,\n",
       " 2,\n",
       " 2,\n",
       " 2,\n",
       " 2,\n",
       " 2,\n",
       " 2,\n",
       " 2,\n",
       " 2,\n",
       " 2,\n",
       " 2,\n",
       " 2,\n",
       " 2,\n",
       " 2,\n",
       " 2,\n",
       " 2,\n",
       " 2,\n",
       " 2,\n",
       " 2,\n",
       " 2,\n",
       " 2,\n",
       " 2,\n",
       " 2,\n",
       " 2,\n",
       " 2,\n",
       " 2,\n",
       " 2,\n",
       " 2,\n",
       " 2,\n",
       " 2,\n",
       " 2,\n",
       " 2,\n",
       " 2,\n",
       " 2,\n",
       " 2,\n",
       " 2,\n",
       " 2,\n",
       " 2,\n",
       " 2,\n",
       " 2,\n",
       " 2,\n",
       " 2,\n",
       " 2,\n",
       " 2,\n",
       " 2,\n",
       " 2,\n",
       " 2,\n",
       " 2,\n",
       " 2,\n",
       " 2,\n",
       " 2,\n",
       " 2,\n",
       " 2,\n",
       " 2,\n",
       " 2,\n",
       " 2,\n",
       " 2,\n",
       " 2,\n",
       " 2,\n",
       " 3,\n",
       " 3,\n",
       " 3,\n",
       " 3,\n",
       " 3,\n",
       " 3,\n",
       " 3,\n",
       " 3,\n",
       " 3,\n",
       " 3,\n",
       " 3,\n",
       " 3,\n",
       " 3,\n",
       " 3,\n",
       " 3,\n",
       " 3,\n",
       " 3,\n",
       " 3,\n",
       " 3,\n",
       " 3,\n",
       " 3,\n",
       " 3,\n",
       " 3,\n",
       " 3,\n",
       " 3,\n",
       " 3,\n",
       " 3,\n",
       " 3,\n",
       " 3,\n",
       " 3,\n",
       " 3,\n",
       " 3,\n",
       " 3,\n",
       " 3,\n",
       " 3,\n",
       " 3,\n",
       " 3,\n",
       " 3,\n",
       " 3,\n",
       " 3,\n",
       " 3,\n",
       " 3,\n",
       " 3,\n",
       " 3,\n",
       " 3,\n",
       " 3,\n",
       " 3,\n",
       " 3,\n",
       " 3,\n",
       " 3,\n",
       " 3,\n",
       " 3,\n",
       " 3,\n",
       " 3,\n",
       " 3,\n",
       " 3,\n",
       " 3,\n",
       " 3,\n",
       " 3,\n",
       " 3,\n",
       " 3,\n",
       " 3,\n",
       " 3,\n",
       " 3,\n",
       " 3,\n",
       " 3,\n",
       " 3,\n",
       " 3,\n",
       " 3,\n",
       " 3,\n",
       " 3,\n",
       " 3,\n",
       " 3,\n",
       " 3,\n",
       " 3,\n",
       " 3,\n",
       " 3,\n",
       " 3,\n",
       " 3,\n",
       " 3,\n",
       " 3,\n",
       " 3,\n",
       " 3,\n",
       " 3,\n",
       " 3,\n",
       " 3,\n",
       " 3,\n",
       " 3,\n",
       " 3,\n",
       " 3,\n",
       " 3,\n",
       " 3,\n",
       " 3,\n",
       " 3,\n",
       " 3,\n",
       " 3,\n",
       " 3,\n",
       " 3,\n",
       " 3,\n",
       " 3,\n",
       " 3,\n",
       " 3,\n",
       " 3,\n",
       " 3,\n",
       " 3,\n",
       " 3,\n",
       " 3,\n",
       " 3,\n",
       " 3,\n",
       " 3,\n",
       " 3,\n",
       " 3,\n",
       " 3,\n",
       " 3,\n",
       " 3,\n",
       " 3,\n",
       " 0,\n",
       " 0,\n",
       " 0,\n",
       " 0,\n",
       " 0,\n",
       " 0,\n",
       " 0,\n",
       " 0,\n",
       " 0,\n",
       " 0,\n",
       " 0,\n",
       " 0,\n",
       " 0,\n",
       " 0,\n",
       " 0,\n",
       " 0,\n",
       " 0,\n",
       " 0,\n",
       " 0,\n",
       " 0,\n",
       " 0,\n",
       " 0,\n",
       " 0,\n",
       " 0,\n",
       " 0,\n",
       " 0,\n",
       " 0,\n",
       " 0,\n",
       " 0,\n",
       " 0,\n",
       " 0,\n",
       " 0,\n",
       " 0,\n",
       " 0,\n",
       " 0,\n",
       " 0,\n",
       " 0,\n",
       " 0,\n",
       " 0,\n",
       " 0,\n",
       " 0,\n",
       " 0,\n",
       " 0,\n",
       " 0,\n",
       " 0,\n",
       " 0,\n",
       " 0,\n",
       " 0,\n",
       " 0,\n",
       " 0,\n",
       " 0,\n",
       " 0,\n",
       " 0,\n",
       " 0,\n",
       " 0,\n",
       " 0,\n",
       " 0,\n",
       " 0,\n",
       " 0,\n",
       " 0,\n",
       " 0,\n",
       " 0,\n",
       " 0,\n",
       " 0,\n",
       " 0,\n",
       " 0,\n",
       " 0,\n",
       " 0,\n",
       " 0,\n",
       " 0,\n",
       " 0,\n",
       " 0,\n",
       " 0,\n",
       " 0,\n",
       " 0,\n",
       " 0,\n",
       " 0,\n",
       " 0,\n",
       " 0,\n",
       " 0,\n",
       " 0,\n",
       " 0,\n",
       " 0,\n",
       " 0,\n",
       " 0,\n",
       " 0,\n",
       " 0,\n",
       " 0,\n",
       " 0,\n",
       " 0,\n",
       " 0,\n",
       " 0,\n",
       " 0,\n",
       " 0,\n",
       " 0,\n",
       " 0,\n",
       " 0,\n",
       " 0,\n",
       " 0,\n",
       " 0,\n",
       " 0,\n",
       " 0,\n",
       " 0,\n",
       " 0,\n",
       " 0,\n",
       " 0,\n",
       " 0,\n",
       " 0,\n",
       " 0,\n",
       " 0,\n",
       " 0,\n",
       " 0,\n",
       " 0,\n",
       " 0,\n",
       " 0,\n",
       " 1,\n",
       " 1,\n",
       " 1,\n",
       " 1,\n",
       " 1,\n",
       " 1,\n",
       " 1,\n",
       " 1,\n",
       " 1,\n",
       " 1,\n",
       " 1,\n",
       " 1,\n",
       " 1,\n",
       " 1,\n",
       " 1,\n",
       " 1,\n",
       " 1,\n",
       " 1,\n",
       " 1,\n",
       " 1,\n",
       " 1,\n",
       " 1,\n",
       " 1,\n",
       " 1,\n",
       " 1,\n",
       " 1,\n",
       " 1,\n",
       " 1,\n",
       " 1,\n",
       " 1,\n",
       " 1,\n",
       " 1,\n",
       " 1,\n",
       " 1,\n",
       " 1,\n",
       " 1,\n",
       " 1,\n",
       " 1,\n",
       " 1,\n",
       " 1,\n",
       " 1,\n",
       " 1,\n",
       " 1,\n",
       " 1,\n",
       " 1,\n",
       " 1,\n",
       " 1,\n",
       " 1,\n",
       " 1,\n",
       " 1,\n",
       " 1,\n",
       " 1,\n",
       " 1,\n",
       " 1,\n",
       " 1,\n",
       " 1,\n",
       " 1,\n",
       " 1,\n",
       " 1,\n",
       " 1,\n",
       " 1,\n",
       " 1,\n",
       " 1,\n",
       " 1,\n",
       " 1,\n",
       " 1,\n",
       " 1,\n",
       " 1,\n",
       " 1,\n",
       " 1,\n",
       " 1,\n",
       " 1,\n",
       " 1,\n",
       " 1,\n",
       " 1,\n",
       " 1,\n",
       " 1,\n",
       " 1,\n",
       " 1,\n",
       " 1,\n",
       " 1,\n",
       " 1,\n",
       " 1,\n",
       " 1,\n",
       " 1,\n",
       " 1,\n",
       " 1,\n",
       " 1,\n",
       " 1,\n",
       " 1,\n",
       " 1,\n",
       " 1,\n",
       " 1,\n",
       " 1,\n",
       " 1,\n",
       " 1,\n",
       " 1,\n",
       " 1,\n",
       " 1,\n",
       " 1,\n",
       " 1,\n",
       " 1,\n",
       " 1,\n",
       " 1,\n",
       " 1,\n",
       " 1,\n",
       " 1,\n",
       " 1,\n",
       " 1,\n",
       " 1,\n",
       " 1,\n",
       " 1,\n",
       " 1]"
      ]
     },
     "execution_count": 32,
     "metadata": {},
     "output_type": "execute_result"
    }
   ],
   "source": [
    "Y_test_original"
   ]
  },
  {
   "cell_type": "markdown",
   "metadata": {},
   "source": [
    "# Expandir dimensiones de X "
   ]
  },
  {
   "cell_type": "code",
   "execution_count": 17,
   "metadata": {},
   "outputs": [],
   "source": [
    "X_train_original= np.expand_dims(X_train_original, axis=3)\n",
    "X_test_original= np.expand_dims(X_test_original, axis=3)"
   ]
  },
  {
   "cell_type": "code",
   "execution_count": 18,
   "metadata": {},
   "outputs": [
    {
     "data": {
      "text/plain": [
       "(1934, 99, 161, 1)"
      ]
     },
     "execution_count": 18,
     "metadata": {},
     "output_type": "execute_result"
    }
   ],
   "source": [
    "X_train_original.shape"
   ]
  },
  {
   "cell_type": "code",
   "execution_count": 19,
   "metadata": {},
   "outputs": [
    {
     "data": {
      "text/plain": [
       "(566, 99, 161, 1)"
      ]
     },
     "execution_count": 19,
     "metadata": {},
     "output_type": "execute_result"
    }
   ],
   "source": [
    "X_test_original.shape"
   ]
  },
  {
   "cell_type": "markdown",
   "metadata": {},
   "source": [
    "# One-hot"
   ]
  },
  {
   "cell_type": "code",
   "execution_count": 20,
   "metadata": {},
   "outputs": [
    {
     "data": {
      "text/plain": [
       "array([[0., 0., 0., 0., 1.],\n",
       "       [0., 0., 0., 0., 1.],\n",
       "       [0., 0., 0., 0., 1.],\n",
       "       ...,\n",
       "       [0., 1., 0., 0., 0.],\n",
       "       [0., 1., 0., 0., 0.],\n",
       "       [0., 1., 0., 0., 0.]], dtype=float32)"
      ]
     },
     "execution_count": 20,
     "metadata": {},
     "output_type": "execute_result"
    }
   ],
   "source": [
    "y_trainOHE = utils.to_categorical(Y_train__original)\n",
    "y_trainOHE"
   ]
  },
  {
   "cell_type": "code",
   "execution_count": 21,
   "metadata": {},
   "outputs": [],
   "source": [
    "### Número de clases\n",
    "num_classes = y_trainOHE.shape[1]"
   ]
  },
  {
   "cell_type": "code",
   "execution_count": 22,
   "metadata": {},
   "outputs": [],
   "source": [
    "input_shape =(high,width,1)"
   ]
  },
  {
   "cell_type": "code",
   "execution_count": 23,
   "metadata": {},
   "outputs": [
    {
     "data": {
      "text/plain": [
       "(99, 161, 1)"
      ]
     },
     "execution_count": 23,
     "metadata": {},
     "output_type": "execute_result"
    }
   ],
   "source": [
    "input_shape"
   ]
  },
  {
   "cell_type": "code",
   "execution_count": 24,
   "metadata": {},
   "outputs": [
    {
     "data": {
      "text/plain": [
       "5"
      ]
     },
     "execution_count": 24,
     "metadata": {},
     "output_type": "execute_result"
    }
   ],
   "source": [
    "num_classes"
   ]
  },
  {
   "cell_type": "markdown",
   "metadata": {},
   "source": [
    "## Define the network architecture using keras"
   ]
  },
  {
   "cell_type": "code",
   "execution_count": 25,
   "metadata": {},
   "outputs": [
    {
     "data": {
      "text/plain": [
       "<tensorflow.python.keras.engine.training.Model at 0x7f0d4ec52908>"
      ]
     },
     "execution_count": 25,
     "metadata": {},
     "output_type": "execute_result"
    }
   ],
   "source": [
    "model = Sequential()\n",
    "\n",
    "img= Input(shape=input_shape)\n",
    "\n",
    "model.add(Conv2D(32, kernel_size=(3, 3), activation='relu', input_shape=input_shape))\n",
    "model.add(Conv2D(64, kernel_size=(3, 3), activation='relu'))\n",
    "model.add(MaxPooling2D(pool_size=(2, 2)))\n",
    "model.add(Dropout(rate=0.25))\n",
    "model.add(Flatten())\n",
    "model.add(Dense(128, activation='relu'))\n",
    "model.add(Dropout(0.5))\n",
    "model.add(Dense(num_classes, activation='softmax'))\n",
    "\n",
    "validity = model(img)\n",
    "\n",
    "Model(img, validity)"
   ]
  },
  {
   "cell_type": "markdown",
   "metadata": {},
   "source": [
    "# loss function and optimizer"
   ]
  },
  {
   "cell_type": "code",
   "execution_count": 26,
   "metadata": {},
   "outputs": [
    {
     "name": "stdout",
     "output_type": "stream",
     "text": [
      "Model: \"sequential\"\n",
      "_________________________________________________________________\n",
      "Layer (type)                 Output Shape              Param #   \n",
      "=================================================================\n",
      "conv2d (Conv2D)              (None, 97, 159, 32)       320       \n",
      "_________________________________________________________________\n",
      "conv2d_1 (Conv2D)            (None, 95, 157, 64)       18496     \n",
      "_________________________________________________________________\n",
      "max_pooling2d (MaxPooling2D) (None, 47, 78, 64)        0         \n",
      "_________________________________________________________________\n",
      "dropout (Dropout)            (None, 47, 78, 64)        0         \n",
      "_________________________________________________________________\n",
      "flatten (Flatten)            (None, 234624)            0         \n",
      "_________________________________________________________________\n",
      "dense (Dense)                (None, 128)               30032000  \n",
      "_________________________________________________________________\n",
      "dropout_1 (Dropout)          (None, 128)               0         \n",
      "_________________________________________________________________\n",
      "dense_1 (Dense)              (None, 5)                 645       \n",
      "=================================================================\n",
      "Total params: 30,051,461\n",
      "Trainable params: 30,051,461\n",
      "Non-trainable params: 0\n",
      "_________________________________________________________________\n",
      "None\n"
     ]
    }
   ],
   "source": [
    "model.compile(loss='categorical_crossentropy', optimizer='adam',metrics=['accuracy'])\n",
    "print(model.summary())"
   ]
  },
  {
   "cell_type": "markdown",
   "metadata": {},
   "source": [
    "# Training"
   ]
  },
  {
   "cell_type": "code",
   "execution_count": 27,
   "metadata": {},
   "outputs": [
    {
     "name": "stdout",
     "output_type": "stream",
     "text": [
      "Training...\n",
      "Train on 1740 samples, validate on 194 samples\n",
      "Epoch 1/80\n",
      "1740/1740 [==============================] - 35s 20ms/sample - loss: 60.2123 - accuracy: 0.2155 - val_loss: 1.6183 - val_accuracy: 0.0000e+00\n",
      "Epoch 2/80\n",
      "1740/1740 [==============================] - 33s 19ms/sample - loss: 1.6121 - accuracy: 0.2339 - val_loss: 1.6403 - val_accuracy: 0.0000e+00\n",
      "Epoch 3/80\n",
      "1740/1740 [==============================] - 35s 20ms/sample - loss: 1.6042 - accuracy: 0.2345 - val_loss: 1.6829 - val_accuracy: 0.0000e+00\n",
      "Epoch 4/80\n",
      "1740/1740 [==============================] - 34s 20ms/sample - loss: 1.5945 - accuracy: 0.2471 - val_loss: 1.8735 - val_accuracy: 0.0000e+00\n",
      "Epoch 5/80\n",
      "1740/1740 [==============================] - 33s 19ms/sample - loss: 1.5783 - accuracy: 0.2328 - val_loss: 2.0045 - val_accuracy: 0.0000e+00\n",
      "Epoch 6/80\n",
      "1740/1740 [==============================] - 33s 19ms/sample - loss: 1.5665 - accuracy: 0.2339 - val_loss: 2.0264 - val_accuracy: 0.0000e+00\n",
      "Epoch 7/80\n",
      "1740/1740 [==============================] - 32s 18ms/sample - loss: 1.5573 - accuracy: 0.2534 - val_loss: 2.1190 - val_accuracy: 0.0000e+00\n",
      "Epoch 8/80\n",
      "1740/1740 [==============================] - 31s 18ms/sample - loss: 1.5542 - accuracy: 0.2793 - val_loss: 2.0599 - val_accuracy: 0.0000e+00\n",
      "Epoch 9/80\n",
      "1740/1740 [==============================] - 31s 18ms/sample - loss: 1.5502 - accuracy: 0.2753 - val_loss: 1.9633 - val_accuracy: 0.0000e+00\n",
      "Epoch 10/80\n",
      "1740/1740 [==============================] - 31s 18ms/sample - loss: 1.5457 - accuracy: 0.2684 - val_loss: 2.1790 - val_accuracy: 0.0000e+00\n",
      "Epoch 11/80\n",
      "1740/1740 [==============================] - 31s 18ms/sample - loss: 1.5425 - accuracy: 0.2764 - val_loss: 2.1110 - val_accuracy: 0.0000e+00\n",
      "Epoch 12/80\n",
      "1740/1740 [==============================] - 31s 18ms/sample - loss: 1.5399 - accuracy: 0.2856 - val_loss: 2.1380 - val_accuracy: 0.0000e+00\n",
      "Epoch 13/80\n",
      "1740/1740 [==============================] - 31s 18ms/sample - loss: 1.5317 - accuracy: 0.2793 - val_loss: 2.0650 - val_accuracy: 0.0000e+00\n",
      "Epoch 14/80\n",
      "1740/1740 [==============================] - 31s 18ms/sample - loss: 1.5323 - accuracy: 0.2983 - val_loss: 2.0300 - val_accuracy: 0.0000e+00\n",
      "Epoch 15/80\n",
      "1740/1740 [==============================] - 31s 18ms/sample - loss: 1.5356 - accuracy: 0.2920 - val_loss: 2.1431 - val_accuracy: 0.0000e+00\n",
      "Epoch 16/80\n",
      "1740/1740 [==============================] - 31s 18ms/sample - loss: 1.5205 - accuracy: 0.3052 - val_loss: 2.2317 - val_accuracy: 0.0000e+00\n",
      "Epoch 17/80\n",
      "1740/1740 [==============================] - 31s 18ms/sample - loss: 1.5243 - accuracy: 0.2977 - val_loss: 2.0914 - val_accuracy: 0.0000e+00\n",
      "Epoch 18/80\n",
      "1740/1740 [==============================] - 31s 18ms/sample - loss: 1.5101 - accuracy: 0.3092 - val_loss: 2.1916 - val_accuracy: 0.0000e+00\n",
      "Epoch 19/80\n",
      "1740/1740 [==============================] - 32s 18ms/sample - loss: 1.5042 - accuracy: 0.3046 - val_loss: 1.9455 - val_accuracy: 0.0000e+00\n",
      "Epoch 20/80\n",
      "1740/1740 [==============================] - 33s 19ms/sample - loss: 1.5140 - accuracy: 0.3063 - val_loss: 1.9474 - val_accuracy: 0.0000e+00\n",
      "Epoch 21/80\n",
      "1740/1740 [==============================] - 33s 19ms/sample - loss: 1.5098 - accuracy: 0.3034 - val_loss: 1.9640 - val_accuracy: 0.0000e+00\n",
      "Epoch 22/80\n",
      "1740/1740 [==============================] - 32s 18ms/sample - loss: 1.5076 - accuracy: 0.3115 - val_loss: 1.9591 - val_accuracy: 0.0000e+00\n",
      "Epoch 23/80\n",
      "1740/1740 [==============================] - 32s 18ms/sample - loss: 1.4903 - accuracy: 0.3322 - val_loss: 2.0304 - val_accuracy: 0.0103\n",
      "Epoch 24/80\n",
      "1740/1740 [==============================] - 32s 18ms/sample - loss: 1.3698 - accuracy: 0.4178 - val_loss: 1.7295 - val_accuracy: 0.0258\n",
      "Epoch 25/80\n",
      "1740/1740 [==============================] - 32s 18ms/sample - loss: 1.2116 - accuracy: 0.5305 - val_loss: 1.7860 - val_accuracy: 0.0309\n",
      "Epoch 26/80\n",
      "1740/1740 [==============================] - 32s 18ms/sample - loss: 1.3446 - accuracy: 0.4477 - val_loss: 1.8675 - val_accuracy: 0.0052\n",
      "Epoch 27/80\n",
      "1740/1740 [==============================] - 32s 18ms/sample - loss: 1.1603 - accuracy: 0.5397 - val_loss: 1.7262 - val_accuracy: 0.3041\n",
      "Epoch 28/80\n",
      "1740/1740 [==============================] - 32s 18ms/sample - loss: 0.8936 - accuracy: 0.6718 - val_loss: 2.0190 - val_accuracy: 0.1289\n",
      "Epoch 29/80\n",
      "1740/1740 [==============================] - 32s 18ms/sample - loss: 0.8182 - accuracy: 0.7011 - val_loss: 1.9316 - val_accuracy: 0.1856\n",
      "Epoch 30/80\n",
      "1740/1740 [==============================] - 32s 18ms/sample - loss: 0.7118 - accuracy: 0.7368 - val_loss: 1.8931 - val_accuracy: 0.2423\n",
      "Epoch 31/80\n",
      "1740/1740 [==============================] - 32s 18ms/sample - loss: 0.6535 - accuracy: 0.7603 - val_loss: 1.6504 - val_accuracy: 0.3351\n",
      "Epoch 32/80\n",
      "1740/1740 [==============================] - 32s 18ms/sample - loss: 0.5851 - accuracy: 0.7879 - val_loss: 1.9489 - val_accuracy: 0.2835\n",
      "Epoch 33/80\n",
      "1740/1740 [==============================] - 32s 18ms/sample - loss: 0.5425 - accuracy: 0.8046 - val_loss: 1.9836 - val_accuracy: 0.3247\n",
      "Epoch 34/80\n",
      "1740/1740 [==============================] - 32s 18ms/sample - loss: 0.5090 - accuracy: 0.8184 - val_loss: 2.0597 - val_accuracy: 0.2371\n",
      "Epoch 35/80\n",
      "1740/1740 [==============================] - 34s 20ms/sample - loss: 0.4860 - accuracy: 0.8287 - val_loss: 1.8100 - val_accuracy: 0.3093\n",
      "Epoch 36/80\n",
      "1740/1740 [==============================] - 33s 19ms/sample - loss: 0.4883 - accuracy: 0.8178 - val_loss: 1.8696 - val_accuracy: 0.3763\n",
      "Epoch 37/80\n",
      "1740/1740 [==============================] - 32s 18ms/sample - loss: 0.5275 - accuracy: 0.8092 - val_loss: 1.9084 - val_accuracy: 0.2165\n",
      "Epoch 38/80\n",
      "1740/1740 [==============================] - 32s 18ms/sample - loss: 0.4854 - accuracy: 0.8345 - val_loss: 1.8794 - val_accuracy: 0.3093\n",
      "Epoch 39/80\n",
      "1740/1740 [==============================] - 33s 19ms/sample - loss: 0.4126 - accuracy: 0.8460 - val_loss: 2.0113 - val_accuracy: 0.3093\n",
      "Epoch 40/80\n",
      "1740/1740 [==============================] - 36s 21ms/sample - loss: 0.3902 - accuracy: 0.8638 - val_loss: 1.7806 - val_accuracy: 0.4433\n",
      "Epoch 41/80\n",
      "1740/1740 [==============================] - 35s 20ms/sample - loss: 0.3541 - accuracy: 0.8793 - val_loss: 2.2823 - val_accuracy: 0.3505\n",
      "Epoch 42/80\n",
      "1740/1740 [==============================] - 34s 20ms/sample - loss: 0.3261 - accuracy: 0.8897 - val_loss: 2.2020 - val_accuracy: 0.2835\n",
      "Epoch 43/80\n",
      "1740/1740 [==============================] - 34s 20ms/sample - loss: 0.3394 - accuracy: 0.8822 - val_loss: 2.4928 - val_accuracy: 0.3196\n",
      "Epoch 44/80\n",
      "1740/1740 [==============================] - 36s 21ms/sample - loss: 0.3170 - accuracy: 0.8908 - val_loss: 2.3034 - val_accuracy: 0.3608\n",
      "Epoch 45/80\n",
      "1740/1740 [==============================] - 34s 20ms/sample - loss: 0.3026 - accuracy: 0.8914 - val_loss: 2.2570 - val_accuracy: 0.4485\n",
      "Epoch 46/80\n",
      "1740/1740 [==============================] - 35s 20ms/sample - loss: 0.2861 - accuracy: 0.8994 - val_loss: 2.4115 - val_accuracy: 0.4021\n",
      "Epoch 47/80\n",
      "1740/1740 [==============================] - 34s 19ms/sample - loss: 0.3276 - accuracy: 0.8874 - val_loss: 2.1046 - val_accuracy: 0.3505\n",
      "Epoch 48/80\n",
      "1740/1740 [==============================] - 35s 20ms/sample - loss: 0.3284 - accuracy: 0.8856 - val_loss: 2.2001 - val_accuracy: 0.3660\n",
      "Epoch 49/80\n",
      "1740/1740 [==============================] - 34s 19ms/sample - loss: 0.2813 - accuracy: 0.9109 - val_loss: 2.8202 - val_accuracy: 0.3711\n",
      "Epoch 50/80\n",
      "1740/1740 [==============================] - 34s 20ms/sample - loss: 0.2862 - accuracy: 0.8994 - val_loss: 2.5548 - val_accuracy: 0.4072\n",
      "Epoch 51/80\n",
      "1740/1740 [==============================] - 35s 20ms/sample - loss: 0.2696 - accuracy: 0.9011 - val_loss: 2.4516 - val_accuracy: 0.4124\n",
      "Epoch 52/80\n",
      "1740/1740 [==============================] - 35s 20ms/sample - loss: 0.2357 - accuracy: 0.9103 - val_loss: 2.6653 - val_accuracy: 0.3402\n",
      "Epoch 53/80\n",
      "1740/1740 [==============================] - 36s 21ms/sample - loss: 0.2219 - accuracy: 0.9230 - val_loss: 2.7063 - val_accuracy: 0.3763\n",
      "Epoch 54/80\n",
      "1740/1740 [==============================] - 38s 22ms/sample - loss: 0.2338 - accuracy: 0.9213 - val_loss: 2.6460 - val_accuracy: 0.4021\n",
      "Epoch 55/80\n"
     ]
    },
    {
     "name": "stdout",
     "output_type": "stream",
     "text": [
      "1740/1740 [==============================] - 37s 21ms/sample - loss: 0.2408 - accuracy: 0.9241 - val_loss: 2.5345 - val_accuracy: 0.3608\n",
      "Epoch 56/80\n",
      "1740/1740 [==============================] - 34s 20ms/sample - loss: 0.2007 - accuracy: 0.9420 - val_loss: 2.6964 - val_accuracy: 0.3814\n",
      "Epoch 57/80\n",
      "1740/1740 [==============================] - 34s 19ms/sample - loss: 0.1979 - accuracy: 0.9264 - val_loss: 2.7164 - val_accuracy: 0.3144\n",
      "Epoch 58/80\n",
      "1740/1740 [==============================] - 34s 19ms/sample - loss: 0.1935 - accuracy: 0.9322 - val_loss: 2.7921 - val_accuracy: 0.3196\n",
      "Epoch 59/80\n",
      "1740/1740 [==============================] - 34s 19ms/sample - loss: 0.2198 - accuracy: 0.9218 - val_loss: 2.5635 - val_accuracy: 0.3454\n",
      "Epoch 60/80\n",
      "1740/1740 [==============================] - 34s 19ms/sample - loss: 0.2261 - accuracy: 0.9207 - val_loss: 2.5538 - val_accuracy: 0.3866\n",
      "Epoch 61/80\n",
      "1740/1740 [==============================] - 34s 20ms/sample - loss: 0.1952 - accuracy: 0.9316 - val_loss: 2.7909 - val_accuracy: 0.3454\n",
      "Epoch 62/80\n",
      "1740/1740 [==============================] - 34s 19ms/sample - loss: 0.1859 - accuracy: 0.9368 - val_loss: 2.8818 - val_accuracy: 0.3351\n",
      "Epoch 63/80\n",
      "1740/1740 [==============================] - 34s 20ms/sample - loss: 0.2100 - accuracy: 0.9259 - val_loss: 2.5344 - val_accuracy: 0.2990\n",
      "Epoch 64/80\n",
      "1740/1740 [==============================] - 35s 20ms/sample - loss: 0.1951 - accuracy: 0.9356 - val_loss: 3.0023 - val_accuracy: 0.3454\n",
      "Epoch 65/80\n",
      "1740/1740 [==============================] - 36s 20ms/sample - loss: 0.1799 - accuracy: 0.9397 - val_loss: 3.3875 - val_accuracy: 0.3041\n",
      "Epoch 66/80\n",
      "1740/1740 [==============================] - 34s 20ms/sample - loss: 0.1962 - accuracy: 0.9322 - val_loss: 2.7196 - val_accuracy: 0.3814\n",
      "Epoch 67/80\n",
      "1740/1740 [==============================] - 34s 20ms/sample - loss: 0.1898 - accuracy: 0.9379 - val_loss: 3.0933 - val_accuracy: 0.3969\n",
      "Epoch 68/80\n",
      "1740/1740 [==============================] - 35s 20ms/sample - loss: 0.1704 - accuracy: 0.9425 - val_loss: 3.0046 - val_accuracy: 0.3763\n",
      "Epoch 69/80\n",
      "1740/1740 [==============================] - 36s 21ms/sample - loss: 0.1774 - accuracy: 0.9368 - val_loss: 3.0782 - val_accuracy: 0.3866\n",
      "Epoch 70/80\n",
      "1740/1740 [==============================] - 41s 24ms/sample - loss: 0.1715 - accuracy: 0.9356 - val_loss: 3.0333 - val_accuracy: 0.3763\n",
      "Epoch 71/80\n",
      "1740/1740 [==============================] - 36s 21ms/sample - loss: 0.1474 - accuracy: 0.9546 - val_loss: 3.0207 - val_accuracy: 0.3969\n",
      "Epoch 72/80\n",
      "1740/1740 [==============================] - 35s 20ms/sample - loss: 0.1662 - accuracy: 0.9443 - val_loss: 3.4094 - val_accuracy: 0.3814\n",
      "Epoch 73/80\n",
      "1740/1740 [==============================] - 35s 20ms/sample - loss: 0.1431 - accuracy: 0.9511 - val_loss: 3.1375 - val_accuracy: 0.3969\n",
      "Epoch 74/80\n",
      "1740/1740 [==============================] - 34s 20ms/sample - loss: 0.1485 - accuracy: 0.9471 - val_loss: 3.3767 - val_accuracy: 0.3608\n",
      "Epoch 75/80\n",
      "1740/1740 [==============================] - 36s 20ms/sample - loss: 0.1702 - accuracy: 0.9443 - val_loss: 3.0950 - val_accuracy: 0.3505\n",
      "Epoch 76/80\n",
      "1740/1740 [==============================] - 34s 20ms/sample - loss: 0.1453 - accuracy: 0.9500 - val_loss: 3.0661 - val_accuracy: 0.3918\n",
      "Epoch 77/80\n",
      "1740/1740 [==============================] - 38s 22ms/sample - loss: 0.1584 - accuracy: 0.9431 - val_loss: 3.2816 - val_accuracy: 0.3918\n",
      "Epoch 78/80\n",
      "1740/1740 [==============================] - 38s 22ms/sample - loss: 0.1638 - accuracy: 0.9466 - val_loss: 3.0871 - val_accuracy: 0.3247\n",
      "Epoch 79/80\n",
      "1740/1740 [==============================] - 36s 20ms/sample - loss: 0.1678 - accuracy: 0.9466 - val_loss: 2.8346 - val_accuracy: 0.2784\n",
      "Epoch 80/80\n",
      "1740/1740 [==============================] - 37s 21ms/sample - loss: 0.1577 - accuracy: 0.9443 - val_loss: 3.3496 - val_accuracy: 0.3247\n"
     ]
    }
   ],
   "source": [
    "print(\"Training...\")\n",
    "history = model.fit(X_train_original, y_trainOHE, epochs=80, batch_size=100, validation_split=0.1, verbose=1)"
   ]
  },
  {
   "cell_type": "code",
   "execution_count": 28,
   "metadata": {},
   "outputs": [
    {
     "name": "stdout",
     "output_type": "stream",
     "text": [
      "dict_keys(['loss', 'accuracy', 'val_loss', 'val_accuracy'])\n"
     ]
    },
    {
     "data": {
      "image/png": "[encoded data removed]",
      "text/plain": [
       "<Figure size 432x288 with 1 Axes>"
      ]
     },
     "metadata": {
      "needs_background": "light"
     },
     "output_type": "display_data"
    },
    {
     "data": {
      "image/png": "[encoded data removed]",
      "text/plain": [
       "<Figure size 432x288 with 1 Axes>"
      ]
     },
     "metadata": {
      "needs_background": "light"
     },
     "output_type": "display_data"
    }
   ],
   "source": [
    "print(history.history.keys())\n",
    "\n",
    "# summarize history for accuracy\n",
    "plt.plot(history.history['accuracy'])\n",
    "plt.plot(history.history['val_accuracy'])\n",
    "plt.title('model accuracy')\n",
    "plt.ylabel('accuracy')\n",
    "plt.xlabel('epoch')\n",
    "plt.legend(['train', 'test'], loc='upper left')\n",
    "plt.show()\n",
    "\n",
    "\n",
    "# summarize history for loss\n",
    "plt.plot(history.history['loss'])\n",
    "plt.plot(history.history['val_loss'])\n",
    "plt.title('model loss')\n",
    "plt.ylabel('loss')\n",
    "plt.xlabel('epoch')\n",
    "plt.legend(['train', 'test'], loc='upper left')\n",
    "plt.show()"
   ]
  },
  {
   "cell_type": "markdown",
   "metadata": {},
   "source": [
    "## Predict"
   ]
  },
  {
   "cell_type": "code",
   "execution_count": 29,
   "metadata": {},
   "outputs": [],
   "source": [
    "def predict(model,X_test_original):\n",
    "    Yest = model.predict(X_test_original)\n",
    "    Yest = np.argmax(Yest, axis=1)\n",
    "    Yest = Yest.reshape((Yest.shape[0],1))\n",
    "    return Yest"
   ]
  },
  {
   "cell_type": "code",
   "execution_count": 30,
   "metadata": {},
   "outputs": [],
   "source": [
    "def consfusion_matrix(Y_real,preds,nb_classes):\n",
    "    Accuracy = np.mean(preds == Y_real)\n",
    "    print('Accuracy = ', Accuracy*100, '% ')\n",
    "    objects = ('yes','no','right','five','nine')\n",
    "    cm = confusion_matrix(Y_real, preds)\n",
    "    cm = cm/np.sum(cm,axis=0)\n",
    "    cmap = plt.cm.gray\n",
    "    tick_marks = np.arange(nb_classes)\n",
    "    fig, ax = plt.subplots(figsize=(10,10))\n",
    "    im = ax.imshow(cm, interpolation='nearest', cmap=cmap)\n",
    "    for i in range(cm.shape[0]):\n",
    "        for j in range(cm.shape[1]):\n",
    "            text = ax.text(j, i, np.around(cm[i, j],decimals=2),\n",
    "                           ha=\"center\", va=\"center\", color=\"w\")\n",
    "    plt.title('Normalized confusion matrix')\n",
    "    fig.colorbar(im)\n",
    "    plt.xticks(tick_marks, objects, rotation=45)\n",
    "    plt.yticks(tick_marks, objects);"
   ]
  },
  {
   "cell_type": "code",
   "execution_count": 31,
   "metadata": {},
   "outputs": [
    {
     "name": "stdout",
     "output_type": "stream",
     "text": [
      "Accuracy =  71.73144876325088 % \n"
     ]
    },
    {
     "data": {
      "image/png": "[encoded data removed]",
      "text/plain": [
       "<Figure size 720x720 with 2 Axes>"
      ]
     },
     "metadata": {
      "needs_background": "light"
     },
     "output_type": "display_data"
    }
   ],
   "source": [
    "Yest  = predict(model,X_test_original)\n",
    "Yest =Yest.flatten()\n",
    "Yest =np.array(Yest)\n",
    "Y_test_original= Y_test_original.flatten()\n",
    "Y_test_original =list(Y_test_original)\n",
    "consfusion_matrix(Y_test_original,Yest,5)"
   ]
  },
  {
   "cell_type": "code",
   "execution_count": null,
   "metadata": {},
   "outputs": [],
   "source": [
    "path_model_Save = '/home/josearangos/Documentos/Projects/Voice_Recognition/pipelines/Enoque_Imagenes_Espectrograma_CNN/models/mode_2500_trained_samples_10_epochs_arquitectura2'"
   ]
  },
  {
   "cell_type": "code",
   "execution_count": null,
   "metadata": {},
   "outputs": [],
   "source": [
    "model.save(path_model_Save)"
   ]
  }
 ],
 "metadata": {
  "kernelspec": {
   "display_name": "Julian(python36)",
   "language": "python",
   "name": "py3"
  },
  "language_info": {
   "codemirror_mode": {
    "name": "ipython",
    "version": 3
   },
   "file_extension": ".py",
   "mimetype": "text/x-python",
   "name": "python",
   "nbconvert_exporter": "python",
   "pygments_lexer": "ipython3",
   "version": "3.6.8"
  }
 },
 "nbformat": 4,
 "nbformat_minor": 2
}
