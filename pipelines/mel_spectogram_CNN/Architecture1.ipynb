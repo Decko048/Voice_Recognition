{
 "cells": [
  {
   "cell_type": "code",
   "execution_count": 13,
   "metadata": {},
   "outputs": [],
   "source": [
    "import numpy as np\n",
    "import matplotlib.pyplot as plt\n",
    "import warnings; warnings.simplefilter('ignore')\n",
    "import tensorflow as tf\n",
    "import IPython\n",
    "import matplotlib.pyplot as plt\n",
    "import numpy as np\n",
    "import pandas as pd\n",
    "from sklearn.ensemble import RandomForestClassifier\n",
    "import import_ipynb\n",
    "from sklearn.model_selection import GroupShuffleSplit\n",
    "import numpy_indexed as npi\n",
    "from scipy import stats\n",
    "from sklearn.metrics import make_scorer, accuracy_score, precision_score,recall_score, f1_score\n",
    "from sklearn.metrics import classification_report,confusion_matrix,accuracy_score,roc_curve,auc\n",
    "import seaborn as sns\n",
    "from tensorflow.keras.models import Sequential, Model\n",
    "from tensorflow.keras.layers import Dense, Activation, Conv2D,Dropout,Flatten,MaxPooling2D, Input\n",
    "from tensorflow.keras import optimizers\n",
    "from tensorflow.keras import utils\n",
    "from sklearn.model_selection import train_test_split"
   ]
  },
  {
   "cell_type": "code",
   "execution_count": 123,
   "metadata": {},
   "outputs": [],
   "source": [
    "path = '/Users/deiry/ML/Voice_Recognition/data/mel-spectrograms_7500.hd5'"
   ]
  },
  {
   "cell_type": "code",
   "execution_count": 124,
   "metadata": {},
   "outputs": [
    {
     "data": {
      "text/plain": [
       "(7500, 3)"
      ]
     },
     "execution_count": 124,
     "metadata": {},
     "output_type": "execute_result"
    }
   ],
   "source": [
    "df = pd.read_hdf(path)\n",
    "df.shape"
   ]
  },
  {
   "cell_type": "code",
   "execution_count": 125,
   "metadata": {},
   "outputs": [
    {
     "data": {
      "text/html": [
       "<div>\n",
       "<style scoped>\n",
       "    .dataframe tbody tr th:only-of-type {\n",
       "        vertical-align: middle;\n",
       "    }\n",
       "\n",
       "    .dataframe tbody tr th {\n",
       "        vertical-align: top;\n",
       "    }\n",
       "\n",
       "    .dataframe thead th {\n",
       "        text-align: right;\n",
       "    }\n",
       "</style>\n",
       "<table border=\"1\" class=\"dataframe\">\n",
       "  <thead>\n",
       "    <tr style=\"text-align: right;\">\n",
       "      <th></th>\n",
       "      <th>mel-spectrogram</th>\n",
       "      <th>speaker</th>\n",
       "      <th>word</th>\n",
       "    </tr>\n",
       "  </thead>\n",
       "  <tbody>\n",
       "    <tr>\n",
       "      <th>7495</th>\n",
       "      <td>[[825.86426, 823.86835, 823.74115, 823.8642, 8...</td>\n",
       "      <td>916</td>\n",
       "      <td>1</td>\n",
       "    </tr>\n",
       "    <tr>\n",
       "      <th>7496</th>\n",
       "      <td>[[1321.0461, 1318.3152, 1318.8292, 1319.0348, ...</td>\n",
       "      <td>916</td>\n",
       "      <td>1</td>\n",
       "    </tr>\n",
       "    <tr>\n",
       "      <th>7497</th>\n",
       "      <td>[[1288.8186, 1288.5488, 1288.7296, 1288.8041, ...</td>\n",
       "      <td>916</td>\n",
       "      <td>1</td>\n",
       "    </tr>\n",
       "    <tr>\n",
       "      <th>7498</th>\n",
       "      <td>[[1390.5499, 1390.8105, 1390.8024, 1390.8684, ...</td>\n",
       "      <td>916</td>\n",
       "      <td>1</td>\n",
       "    </tr>\n",
       "    <tr>\n",
       "      <th>7499</th>\n",
       "      <td>[[1064.0765, 1065.097, 1064.8335, 1064.9655, 1...</td>\n",
       "      <td>916</td>\n",
       "      <td>1</td>\n",
       "    </tr>\n",
       "  </tbody>\n",
       "</table>\n",
       "</div>"
      ],
      "text/plain": [
       "                                        mel-spectrogram speaker word\n",
       "7495  [[825.86426, 823.86835, 823.74115, 823.8642, 8...     916    1\n",
       "7496  [[1321.0461, 1318.3152, 1318.8292, 1319.0348, ...     916    1\n",
       "7497  [[1288.8186, 1288.5488, 1288.7296, 1288.8041, ...     916    1\n",
       "7498  [[1390.5499, 1390.8105, 1390.8024, 1390.8684, ...     916    1\n",
       "7499  [[1064.0765, 1065.097, 1064.8335, 1064.9655, 1...     916    1"
      ]
     },
     "execution_count": 125,
     "metadata": {},
     "output_type": "execute_result"
    }
   ],
   "source": [
    "df.tail()"
   ]
  },
  {
   "cell_type": "code",
   "execution_count": 49,
   "metadata": {},
   "outputs": [
    {
     "data": {
      "text/plain": [
       "(100, 3)"
      ]
     },
     "execution_count": 49,
     "metadata": {},
     "output_type": "execute_result"
    }
   ],
   "source": [
    "dfx = df[0:100]\n",
    "dfx.shape"
   ]
  },
  {
   "cell_type": "code",
   "execution_count": 126,
   "metadata": {},
   "outputs": [],
   "source": [
    "test_size = 0.2"
   ]
  },
  {
   "cell_type": "code",
   "execution_count": 116,
   "metadata": {},
   "outputs": [],
   "source": [
    "def buildX(X, input_shape):    \n",
    "    Xreshape = np.zeros(input_shape)\n",
    "    c = 0\n",
    "    for i in X:\n",
    "        i = np.expand_dims(i, axis=3)\n",
    "        Xreshape[c,:,:,:]=i\n",
    "        c =c +1\n",
    "    return Xreshape\n",
    "\n",
    "\n",
    "def reshapeDataset(df):\n",
    "    (width, heigth) = df['mel-spectrogram'][0].shape\n",
    "    channel = 1\n",
    "    shape_X = (len(df),width, heigth, channel)\n",
    "    input_shape_cnn = (width, heigth, channel)\n",
    "    print(\"Shape final \",shape_X)\n",
    "    X = buildX(df['mel-spectrogram'].values, shape_X)\n",
    "    print(\"Input CNN \",input_shape_cnn)\n",
    "    y = df.word.values\n",
    "    groups = df.speaker.values\n",
    "    \n",
    "    return X,y,groups, input_shape_cnn\n",
    "\n",
    "def splitDatasetbyGroup(X,Y, groups, test_size):\n",
    "    gss = GroupShuffleSplit(n_splits=1, test_size=test_size, random_state=0)\n",
    "    gss.get_n_splits()\n",
    "\n",
    "    for train_index, test_index in gss.split(X, Y, groups=groups):\n",
    "        X_train, X_test = X[train_index], X[test_index]\n",
    "        Y_train, Y_test = Y[train_index], Y[test_index]\n",
    "        groups_train = groups[train_index]\n",
    "        groups_test =groups[test_index]\n",
    "        \n",
    "    return X_train, X_test, Y_train, Y_test, groups_train, groups_test\n",
    "    \n",
    "def buildCNN(input_shape, num_classes):\n",
    "    model = Sequential()\n",
    "    img= Input(shape=input_shape)\n",
    "    model.add(Conv2D(32, kernel_size=(5, 5), activation='relu', input_shape=input_shape))\n",
    "    model.add(Conv2D(64, kernel_size=(3, 3), activation='relu'))\n",
    "    model.add(MaxPooling2D(pool_size=(2, 2)))\n",
    "    model.add(Flatten())\n",
    "    model.add(Dense(128, activation='relu'))\n",
    "    model.add(Dense(num_classes, activation='softmax'))\n",
    "    validity = model(img)\n",
    "    Model(img, validity)\n",
    "    model.compile(loss='categorical_crossentropy', optimizer='adam',metrics=['accuracy'])\n",
    "    print(model.summary())\n",
    "    return model\n",
    "\n"
   ]
  },
  {
   "cell_type": "code",
   "execution_count": 127,
   "metadata": {},
   "outputs": [
    {
     "name": "stdout",
     "output_type": "stream",
     "text": [
      "Shape final  (7500, 128, 44, 1)\n",
      "Input CNN  (128, 44, 1)\n"
     ]
    }
   ],
   "source": [
    "X,y,groups, input_shape = reshapeDataset(df)"
   ]
  },
  {
   "cell_type": "code",
   "execution_count": 128,
   "metadata": {},
   "outputs": [],
   "source": [
    "X_train, X_test, Y_train, y_test, groups_train, groups_test = splitDatasetbyGroup(X,y, groups, test_size)\n",
    "y_trainOHE = utils.to_categorical(Y_train)\n",
    "num_classes = y_trainOHE.shape[1]"
   ]
  },
  {
   "cell_type": "code",
   "execution_count": 129,
   "metadata": {},
   "outputs": [
    {
     "name": "stdout",
     "output_type": "stream",
     "text": [
      "(5962, 128, 44, 1) (5962, 5)\n"
     ]
    }
   ],
   "source": [
    "print(X_train.shape, y_trainOHE.shape)"
   ]
  },
  {
   "cell_type": "code",
   "execution_count": 130,
   "metadata": {},
   "outputs": [
    {
     "name": "stdout",
     "output_type": "stream",
     "text": [
      "Model: \"sequential_2\"\n",
      "_________________________________________________________________\n",
      "Layer (type)                 Output Shape              Param #   \n",
      "=================================================================\n",
      "conv2d_4 (Conv2D)            (None, 124, 40, 32)       832       \n",
      "_________________________________________________________________\n",
      "conv2d_5 (Conv2D)            (None, 122, 38, 64)       18496     \n",
      "_________________________________________________________________\n",
      "max_pooling2d_2 (MaxPooling2 (None, 61, 19, 64)        0         \n",
      "_________________________________________________________________\n",
      "flatten_2 (Flatten)          (None, 74176)             0         \n",
      "_________________________________________________________________\n",
      "dense_4 (Dense)              (None, 128)               9494656   \n",
      "_________________________________________________________________\n",
      "dense_5 (Dense)              (None, 5)                 645       \n",
      "=================================================================\n",
      "Total params: 9,514,629\n",
      "Trainable params: 9,514,629\n",
      "Non-trainable params: 0\n",
      "_________________________________________________________________\n",
      "None\n"
     ]
    }
   ],
   "source": [
    "model = buildCNN(input_shape, num_classes)"
   ]
  },
  {
   "cell_type": "code",
   "execution_count": 131,
   "metadata": {},
   "outputs": [
    {
     "name": "stdout",
     "output_type": "stream",
     "text": [
      "Train on 4769 samples, validate on 1193 samples\n",
      "Epoch 1/100\n",
      "4769/4769 [==============================] - 104s 22ms/sample - loss: 1.2870 - accuracy: 0.6966 - val_loss: 5.8588 - val_accuracy: 0.0000e+00\n",
      "Epoch 2/100\n",
      "4769/4769 [==============================] - 120s 25ms/sample - loss: 0.2555 - accuracy: 0.9088 - val_loss: 6.1052 - val_accuracy: 0.0134\n",
      "Epoch 3/100\n",
      "4769/4769 [==============================] - 94s 20ms/sample - loss: 0.0987 - accuracy: 0.9652 - val_loss: 7.7443 - val_accuracy: 0.0050\n",
      "Epoch 4/100\n",
      "4769/4769 [==============================] - 91s 19ms/sample - loss: 0.0831 - accuracy: 0.9755 - val_loss: 8.1367 - val_accuracy: 0.0151\n",
      "Epoch 5/100\n",
      "4769/4769 [==============================] - 88s 18ms/sample - loss: 0.0574 - accuracy: 0.9818 - val_loss: 9.3786 - val_accuracy: 0.0369\n",
      "Epoch 6/100\n",
      "4769/4769 [==============================] - 78s 16ms/sample - loss: 0.0444 - accuracy: 0.9857 - val_loss: 8.7895 - val_accuracy: 0.0260\n",
      "Epoch 7/100\n",
      "4769/4769 [==============================] - 76s 16ms/sample - loss: 0.0160 - accuracy: 0.9952 - val_loss: 15.9129 - val_accuracy: 0.0059\n",
      "Epoch 8/100\n",
      "4769/4769 [==============================] - 76s 16ms/sample - loss: 0.0541 - accuracy: 0.9855 - val_loss: 8.1067 - val_accuracy: 0.0243\n",
      "Epoch 9/100\n",
      "4769/4769 [==============================] - 76s 16ms/sample - loss: 0.0215 - accuracy: 0.9925 - val_loss: 9.8486 - val_accuracy: 0.0461\n",
      "Epoch 10/100\n",
      "4769/4769 [==============================] - 77s 16ms/sample - loss: 0.0137 - accuracy: 0.9945 - val_loss: 12.6147 - val_accuracy: 0.0168\n",
      "Epoch 11/100\n",
      "4769/4769 [==============================] - 77s 16ms/sample - loss: 0.0333 - accuracy: 0.9910 - val_loss: 10.5768 - val_accuracy: 0.0184\n",
      "Epoch 12/100\n",
      "4769/4769 [==============================] - 78s 16ms/sample - loss: 0.0498 - accuracy: 0.9880 - val_loss: 10.4996 - val_accuracy: 0.0159\n",
      "Epoch 13/100\n",
      "4769/4769 [==============================] - 79s 17ms/sample - loss: 0.0146 - accuracy: 0.9958 - val_loss: 15.1493 - val_accuracy: 0.0201\n",
      "Epoch 14/100\n",
      "4769/4769 [==============================] - 77s 16ms/sample - loss: 0.0143 - accuracy: 0.9960 - val_loss: 14.3467 - val_accuracy: 0.0134\n",
      "Epoch 15/100\n",
      "4769/4769 [==============================] - 75s 16ms/sample - loss: 0.0194 - accuracy: 0.9960 - val_loss: 14.7144 - val_accuracy: 0.0067\n",
      "Epoch 16/100\n",
      "4769/4769 [==============================] - 74s 16ms/sample - loss: 0.0279 - accuracy: 0.9918 - val_loss: 19.8623 - val_accuracy: 0.0075\n",
      "Epoch 17/100\n",
      "4769/4769 [==============================] - 74s 15ms/sample - loss: 0.0337 - accuracy: 0.9908 - val_loss: 10.4551 - val_accuracy: 0.1366\n",
      "Epoch 18/100\n",
      "4769/4769 [==============================] - 74s 16ms/sample - loss: 0.0213 - accuracy: 0.9960 - val_loss: 18.8942 - val_accuracy: 0.0042\n",
      "Epoch 19/100\n",
      "4769/4769 [==============================] - 73s 15ms/sample - loss: 7.3687e-04 - accuracy: 1.0000 - val_loss: 19.8226 - val_accuracy: 0.0075\n",
      "Epoch 20/100\n",
      "4769/4769 [==============================] - 73s 15ms/sample - loss: 3.4257e-05 - accuracy: 1.0000 - val_loss: 19.8793 - val_accuracy: 0.0092\n",
      "Epoch 21/100\n",
      "4769/4769 [==============================] - 74s 16ms/sample - loss: 1.8223e-05 - accuracy: 1.0000 - val_loss: 20.0725 - val_accuracy: 0.0092\n",
      "Epoch 22/100\n",
      "4769/4769 [==============================] - 74s 16ms/sample - loss: 1.3777e-05 - accuracy: 1.0000 - val_loss: 20.2741 - val_accuracy: 0.0092\n",
      "Epoch 23/100\n",
      "4769/4769 [==============================] - 74s 15ms/sample - loss: 1.0768e-05 - accuracy: 1.0000 - val_loss: 20.4861 - val_accuracy: 0.0101\n",
      "Epoch 24/100\n",
      "4769/4769 [==============================] - 73s 15ms/sample - loss: 8.5364e-06 - accuracy: 1.0000 - val_loss: 20.7039 - val_accuracy: 0.0101\n",
      "Epoch 25/100\n",
      "4769/4769 [==============================] - 74s 15ms/sample - loss: 6.7801e-06 - accuracy: 1.0000 - val_loss: 20.9418 - val_accuracy: 0.0101\n",
      "Epoch 26/100\n",
      "4769/4769 [==============================] - 77s 16ms/sample - loss: 5.3856e-06 - accuracy: 1.0000 - val_loss: 21.1833 - val_accuracy: 0.0101\n",
      "Epoch 27/100\n",
      "4769/4769 [==============================] - 75s 16ms/sample - loss: 4.2709e-06 - accuracy: 1.0000 - val_loss: 21.4496 - val_accuracy: 0.0101\n",
      "Epoch 28/100\n",
      "4769/4769 [==============================] - 75s 16ms/sample - loss: 3.3734e-06 - accuracy: 1.0000 - val_loss: 21.7270 - val_accuracy: 0.0101\n",
      "Epoch 29/100\n",
      "4769/4769 [==============================] - 78s 16ms/sample - loss: 2.6357e-06 - accuracy: 1.0000 - val_loss: 22.0234 - val_accuracy: 0.0101\n",
      "Epoch 30/100\n",
      "4769/4769 [==============================] - 84s 18ms/sample - loss: 2.0794e-06 - accuracy: 1.0000 - val_loss: 22.3273 - val_accuracy: 0.0101\n",
      "Epoch 31/100\n",
      "4769/4769 [==============================] - 88s 18ms/sample - loss: 1.5998e-06 - accuracy: 1.0000 - val_loss: 22.7306 - val_accuracy: 0.0109\n",
      "Epoch 32/100\n",
      "4769/4769 [==============================] - 85s 18ms/sample - loss: 1.2356e-06 - accuracy: 1.0000 - val_loss: 23.3563 - val_accuracy: 0.0109\n",
      "Epoch 33/100\n",
      "4769/4769 [==============================] - 80s 17ms/sample - loss: 9.1130e-07 - accuracy: 1.0000 - val_loss: 23.8188 - val_accuracy: 0.0109\n",
      "Epoch 34/100\n",
      "4769/4769 [==============================] - 80s 17ms/sample - loss: 6.8879e-07 - accuracy: 1.0000 - val_loss: 24.4971 - val_accuracy: 0.0092\n",
      "Epoch 35/100\n",
      "4769/4769 [==============================] - 79s 17ms/sample - loss: 5.0737e-07 - accuracy: 1.0000 - val_loss: 24.8645 - val_accuracy: 0.0092\n",
      "Epoch 36/100\n",
      "4769/4769 [==============================] - 77s 16ms/sample - loss: 3.8057e-07 - accuracy: 1.0000 - val_loss: 25.4133 - val_accuracy: 0.0084\n",
      "Epoch 37/100\n",
      "4769/4769 [==============================] - 77s 16ms/sample - loss: 2.8086e-07 - accuracy: 1.0000 - val_loss: 26.1753 - val_accuracy: 0.0084\n",
      "Epoch 38/100\n",
      "4769/4769 [==============================] - 78s 16ms/sample - loss: 2.1572e-07 - accuracy: 1.0000 - val_loss: 26.4868 - val_accuracy: 0.0084\n",
      "Epoch 39/100\n",
      "4769/4769 [==============================] - 87s 18ms/sample - loss: 1.6215e-07 - accuracy: 1.0000 - val_loss: 26.6546 - val_accuracy: 0.0084\n",
      "Epoch 40/100\n",
      "4769/4769 [==============================] - 86s 18ms/sample - loss: 1.2578e-07 - accuracy: 1.0000 - val_loss: 27.2970 - val_accuracy: 0.0084\n",
      "Epoch 41/100\n",
      "4769/4769 [==============================] - 81s 17ms/sample - loss: 9.8812e-08 - accuracy: 1.0000 - val_loss: 27.7286 - val_accuracy: 0.0084\n",
      "Epoch 42/100\n",
      "4769/4769 [==============================] - 80s 17ms/sample - loss: 7.7065e-08 - accuracy: 1.0000 - val_loss: 27.9396 - val_accuracy: 0.0084\n",
      "Epoch 43/100\n",
      "4769/4769 [==============================] - 80s 17ms/sample - loss: 6.2042e-08 - accuracy: 1.0000 - val_loss: 28.3091 - val_accuracy: 0.0084\n",
      "Epoch 44/100\n",
      "4769/4769 [==============================] - 80s 17ms/sample - loss: 4.8469e-08 - accuracy: 1.0000 - val_loss: 28.7170 - val_accuracy: 0.0084\n",
      "Epoch 45/100\n",
      "4769/4769 [==============================] - 80s 17ms/sample - loss: 3.8870e-08 - accuracy: 1.0000 - val_loss: 29.0863 - val_accuracy: 0.0084\n",
      "Epoch 46/100\n",
      "4769/4769 [==============================] - 78s 16ms/sample - loss: 3.0971e-08 - accuracy: 1.0000 - val_loss: 29.3604 - val_accuracy: 0.0084\n",
      "Epoch 47/100\n",
      "4769/4769 [==============================] - 78s 16ms/sample - loss: 2.4497e-08 - accuracy: 1.0000 - val_loss: 29.8956 - val_accuracy: 0.0084\n",
      "Epoch 48/100\n",
      "4769/4769 [==============================] - 79s 17ms/sample - loss: 2.0097e-08 - accuracy: 1.0000 - val_loss: 30.0984 - val_accuracy: 0.0084\n",
      "Epoch 49/100\n",
      "4769/4769 [==============================] - 79s 16ms/sample - loss: 1.5923e-08 - accuracy: 1.0000 - val_loss: 30.2614 - val_accuracy: 0.0092\n",
      "Epoch 50/100\n",
      "4769/4769 [==============================] - 79s 17ms/sample - loss: 1.2923e-08 - accuracy: 1.0000 - val_loss: 30.5699 - val_accuracy: 0.0092\n",
      "Epoch 51/100\n",
      "4769/4769 [==============================] - 79s 17ms/sample - loss: 1.0299e-08 - accuracy: 1.0000 - val_loss: 30.8775 - val_accuracy: 0.0092\n",
      "Epoch 52/100\n",
      "4769/4769 [==============================] - 79s 16ms/sample - loss: 8.0989e-09 - accuracy: 1.0000 - val_loss: 31.1121 - val_accuracy: 0.0092\n",
      "Epoch 53/100\n",
      "4769/4769 [==============================] - 79s 17ms/sample - loss: 6.5741e-09 - accuracy: 1.0000 - val_loss: 31.2277 - val_accuracy: 0.0092\n",
      "Epoch 54/100\n"
     ]
    },
    {
     "name": "stdout",
     "output_type": "stream",
     "text": [
      "4769/4769 [==============================] - 77s 16ms/sample - loss: 5.3243e-09 - accuracy: 1.0000 - val_loss: 31.4732 - val_accuracy: 0.0092\n",
      "Epoch 55/100\n",
      "4769/4769 [==============================] - 77s 16ms/sample - loss: 4.1994e-09 - accuracy: 1.0000 - val_loss: 31.7007 - val_accuracy: 0.0092\n",
      "Epoch 56/100\n",
      "4769/4769 [==============================] - 78s 16ms/sample - loss: 3.3996e-09 - accuracy: 1.0000 - val_loss: 31.8019 - val_accuracy: 0.0101\n",
      "Epoch 57/100\n",
      "4769/4769 [==============================] - 78s 16ms/sample - loss: 2.5997e-09 - accuracy: 1.0000 - val_loss: 31.8497 - val_accuracy: 0.0109\n",
      "Epoch 58/100\n",
      "4769/4769 [==============================] - 78s 16ms/sample - loss: 2.0747e-09 - accuracy: 1.0000 - val_loss: 31.9572 - val_accuracy: 0.0101\n",
      "Epoch 59/100\n",
      "4769/4769 [==============================] - 78s 16ms/sample - loss: 1.5498e-09 - accuracy: 1.0000 - val_loss: 31.8194 - val_accuracy: 0.0109\n",
      "Epoch 60/100\n",
      "4769/4769 [==============================] - 79s 16ms/sample - loss: 1.3248e-09 - accuracy: 1.0000 - val_loss: 31.8142 - val_accuracy: 0.0109\n",
      "Epoch 61/100\n",
      "4769/4769 [==============================] - 78s 16ms/sample - loss: 1.0999e-09 - accuracy: 1.0000 - val_loss: 31.8653 - val_accuracy: 0.0109\n",
      "Epoch 62/100\n",
      "4769/4769 [==============================] - 78s 16ms/sample - loss: 8.7488e-10 - accuracy: 1.0000 - val_loss: 31.8662 - val_accuracy: 0.0109\n",
      "Epoch 63/100\n",
      "4769/4769 [==============================] - 79s 17ms/sample - loss: 6.2492e-10 - accuracy: 1.0000 - val_loss: 31.8498 - val_accuracy: 0.0134\n",
      "Epoch 64/100\n",
      "4769/4769 [==============================] - 78s 16ms/sample - loss: 4.9993e-10 - accuracy: 1.0000 - val_loss: 31.6254 - val_accuracy: 0.0134\n",
      "Epoch 65/100\n",
      "4769/4769 [==============================] - 79s 17ms/sample - loss: 4.9993e-10 - accuracy: 1.0000 - val_loss: 31.5307 - val_accuracy: 0.0142\n",
      "Epoch 66/100\n",
      "4769/4769 [==============================] - 78s 16ms/sample - loss: 4.4994e-10 - accuracy: 1.0000 - val_loss: 31.6709 - val_accuracy: 0.0134\n",
      "Epoch 67/100\n",
      "4769/4769 [==============================] - 78s 16ms/sample - loss: 3.2496e-10 - accuracy: 1.0000 - val_loss: 31.6789 - val_accuracy: 0.0142\n",
      "Epoch 68/100\n",
      "4769/4769 [==============================] - 78s 16ms/sample - loss: 2.4997e-10 - accuracy: 1.0000 - val_loss: 31.7140 - val_accuracy: 0.0142\n",
      "Epoch 69/100\n",
      "4769/4769 [==============================] - 78s 16ms/sample - loss: 1.2498e-10 - accuracy: 1.0000 - val_loss: 31.7644 - val_accuracy: 0.0142\n",
      "Epoch 70/100\n",
      "4769/4769 [==============================] - 78s 16ms/sample - loss: 1.2498e-10 - accuracy: 1.0000 - val_loss: 31.8830 - val_accuracy: 0.0142\n",
      "Epoch 71/100\n",
      "4769/4769 [==============================] - 78s 16ms/sample - loss: 7.4990e-11 - accuracy: 1.0000 - val_loss: 32.0082 - val_accuracy: 0.0134\n",
      "Epoch 72/100\n",
      "4769/4769 [==============================] - 79s 17ms/sample - loss: 9.9987e-11 - accuracy: 1.0000 - val_loss: 32.2147 - val_accuracy: 0.0159\n",
      "Epoch 73/100\n",
      "4769/4769 [==============================] - 78s 16ms/sample - loss: 4.9993e-11 - accuracy: 1.0000 - val_loss: 32.5422 - val_accuracy: 0.0168\n",
      "Epoch 74/100\n",
      "4769/4769 [==============================] - 79s 16ms/sample - loss: 4.9993e-11 - accuracy: 1.0000 - val_loss: 33.1058 - val_accuracy: 0.0176\n",
      "Epoch 75/100\n",
      "4769/4769 [==============================] - 78s 16ms/sample - loss: 4.9993e-11 - accuracy: 1.0000 - val_loss: 33.6756 - val_accuracy: 0.0159\n",
      "Epoch 76/100\n",
      "4769/4769 [==============================] - 81s 17ms/sample - loss: 4.9993e-11 - accuracy: 1.0000 - val_loss: 33.9169 - val_accuracy: 0.0176\n",
      "Epoch 77/100\n",
      "4769/4769 [==============================] - 78s 16ms/sample - loss: 4.9993e-11 - accuracy: 1.0000 - val_loss: 34.5067 - val_accuracy: 0.0159\n",
      "Epoch 78/100\n",
      "4769/4769 [==============================] - 78s 16ms/sample - loss: 0.0000e+00 - accuracy: 1.0000 - val_loss: 34.9375 - val_accuracy: 0.0168\n",
      "Epoch 79/100\n",
      "4769/4769 [==============================] - 78s 16ms/sample - loss: 3.7495e-10 - accuracy: 1.0000 - val_loss: 35.7596 - val_accuracy: 0.0184\n",
      "Epoch 80/100\n",
      "4769/4769 [==============================] - 79s 16ms/sample - loss: 0.1959 - accuracy: 0.9673 - val_loss: 18.6020 - val_accuracy: 0.0184\n",
      "Epoch 81/100\n",
      "4769/4769 [==============================] - 78s 16ms/sample - loss: 0.0202 - accuracy: 0.9939 - val_loss: 22.5470 - val_accuracy: 0.0151\n",
      "Epoch 82/100\n",
      "4769/4769 [==============================] - 76s 16ms/sample - loss: 0.0053 - accuracy: 0.9981 - val_loss: 20.8435 - val_accuracy: 0.0184\n",
      "Epoch 83/100\n",
      "4769/4769 [==============================] - 76s 16ms/sample - loss: 1.0183e-04 - accuracy: 1.0000 - val_loss: 21.9002 - val_accuracy: 0.0168\n",
      "Epoch 84/100\n",
      "4769/4769 [==============================] - 75s 16ms/sample - loss: 1.5884e-05 - accuracy: 1.0000 - val_loss: 22.0760 - val_accuracy: 0.0168\n",
      "Epoch 85/100\n",
      "4769/4769 [==============================] - 75s 16ms/sample - loss: 1.1331e-05 - accuracy: 1.0000 - val_loss: 22.2691 - val_accuracy: 0.0168\n",
      "Epoch 86/100\n",
      "4769/4769 [==============================] - 75s 16ms/sample - loss: 8.6128e-06 - accuracy: 1.0000 - val_loss: 22.4637 - val_accuracy: 0.0168\n",
      "Epoch 87/100\n",
      "4769/4769 [==============================] - 80s 17ms/sample - loss: 6.6770e-06 - accuracy: 1.0000 - val_loss: 22.6537 - val_accuracy: 0.0168\n",
      "Epoch 88/100\n",
      "4769/4769 [==============================] - 75s 16ms/sample - loss: 5.2431e-06 - accuracy: 1.0000 - val_loss: 22.8655 - val_accuracy: 0.0168\n",
      "Epoch 89/100\n",
      "4769/4769 [==============================] - 75s 16ms/sample - loss: 4.0952e-06 - accuracy: 1.0000 - val_loss: 23.0962 - val_accuracy: 0.0159\n",
      "Epoch 90/100\n",
      "4769/4769 [==============================] - 75s 16ms/sample - loss: 3.0457e-06 - accuracy: 1.0000 - val_loss: 23.4074 - val_accuracy: 0.0142\n",
      "Epoch 91/100\n",
      "4769/4769 [==============================] - 75s 16ms/sample - loss: 1.8475e-06 - accuracy: 1.0000 - val_loss: 24.2254 - val_accuracy: 0.0117\n",
      "Epoch 92/100\n",
      "4769/4769 [==============================] - 75s 16ms/sample - loss: 1.1149e-06 - accuracy: 1.0000 - val_loss: 25.0395 - val_accuracy: 0.0117\n",
      "Epoch 93/100\n",
      "4769/4769 [==============================] - 75s 16ms/sample - loss: 7.0372e-07 - accuracy: 1.0000 - val_loss: 25.8762 - val_accuracy: 0.0109\n",
      "Epoch 94/100\n",
      "4769/4769 [==============================] - 75s 16ms/sample - loss: 4.7776e-07 - accuracy: 1.0000 - val_loss: 27.1141 - val_accuracy: 0.0101\n",
      "Epoch 95/100\n",
      "4769/4769 [==============================] - 76s 16ms/sample - loss: 3.3184e-07 - accuracy: 1.0000 - val_loss: 28.8520 - val_accuracy: 0.0109\n",
      "Epoch 96/100\n",
      "4769/4769 [==============================] - 75s 16ms/sample - loss: 3.8886e-07 - accuracy: 1.0000 - val_loss: 27.3835 - val_accuracy: 0.0101\n",
      "Epoch 97/100\n",
      "4769/4769 [==============================] - 75s 16ms/sample - loss: 2.0939e-07 - accuracy: 1.0000 - val_loss: 29.2385 - val_accuracy: 0.0101\n",
      "Epoch 98/100\n",
      "4769/4769 [==============================] - 75s 16ms/sample - loss: 1.6395e-07 - accuracy: 1.0000 - val_loss: 29.6077 - val_accuracy: 0.0101\n",
      "Epoch 99/100\n",
      "4769/4769 [==============================] - 75s 16ms/sample - loss: 1.2933e-07 - accuracy: 1.0000 - val_loss: 30.5755 - val_accuracy: 0.0092\n",
      "Epoch 100/100\n",
      "4769/4769 [==============================] - 75s 16ms/sample - loss: 1.0423e-07 - accuracy: 1.0000 - val_loss: 31.2525 - val_accuracy: 0.0109\n"
     ]
    }
   ],
   "source": [
    "history = model.fit(X_train, y_trainOHE, epochs=100, batch_size=10, validation_split=0.20, verbose=1)"
   ]
  },
  {
   "cell_type": "code",
   "execution_count": 132,
   "metadata": {},
   "outputs": [
    {
     "name": "stdout",
     "output_type": "stream",
     "text": [
      "dict_keys(['loss', 'accuracy', 'val_loss', 'val_accuracy'])\n"
     ]
    }
   ],
   "source": [
    "print(history.history.keys())\n"
   ]
  },
  {
   "cell_type": "code",
   "execution_count": 133,
   "metadata": {},
   "outputs": [
    {
     "data": {
      "image/png": "[encoded data removed]",
      "text/plain": [
       "<Figure size 432x288 with 1 Axes>"
      ]
     },
     "metadata": {
      "needs_background": "light"
     },
     "output_type": "display_data"
    }
   ],
   "source": [
    "plt.plot(history.history['accuracy'])\n",
    "plt.plot(history.history['val_accuracy'])\n",
    "plt.show()"
   ]
  },
  {
   "cell_type": "code",
   "execution_count": 134,
   "metadata": {},
   "outputs": [
    {
     "data": {
      "text/plain": [
       "(1538, 128, 44, 1)"
      ]
     },
     "execution_count": 134,
     "metadata": {},
     "output_type": "execute_result"
    }
   ],
   "source": [
    "X_test.shape"
   ]
  },
  {
   "cell_type": "code",
   "execution_count": 135,
   "metadata": {},
   "outputs": [
    {
     "data": {
      "text/plain": [
       "(1538,)"
      ]
     },
     "execution_count": 135,
     "metadata": {},
     "output_type": "execute_result"
    }
   ],
   "source": [
    "y_test.shape"
   ]
  },
  {
   "cell_type": "code",
   "execution_count": 136,
   "metadata": {},
   "outputs": [],
   "source": [
    "y_test = utils.to_categorical(y_test)"
   ]
  },
  {
   "cell_type": "code",
   "execution_count": 137,
   "metadata": {},
   "outputs": [
    {
     "name": "stdout",
     "output_type": "stream",
     "text": [
      "\n",
      "# Evaluate on test data\n",
      "1538/1538 [==============================] - 6s 4ms/sample - loss: 6.4503 - accuracy: 0.7035\n",
      "test loss, test acc: [6.450290562378315, 0.70351106]\n",
      "\n",
      "# Generate predictions for 3 samples\n",
      "predictions shape: (3, 5)\n"
     ]
    }
   ],
   "source": [
    "# Evaluate the model on the test data using `evaluate`\n",
    "print('\\n# Evaluate on test data')\n",
    "results = model.evaluate(X_test, y_test, batch_size=10)\n",
    "print('test loss, test acc:', results)\n",
    "\n",
    "# Generate predictions (probabilities -- the output of the last layer)\n",
    "# on new data using `predict`\n",
    "print('\\n# Generate predictions for 3 samples')\n",
    "predictions = model.predict(X_test[:3])\n",
    "print('predictions shape:', predictions.shape)"
   ]
  },
  {
   "cell_type": "code",
   "execution_count": null,
   "metadata": {},
   "outputs": [],
   "source": []
  }
 ],
 "metadata": {
  "kernelspec": {
   "display_name": "Python 3",
   "language": "python",
   "name": "python3"
  },
  "language_info": {
   "codemirror_mode": {
    "name": "ipython",
    "version": 3
   },
   "file_extension": ".py",
   "mimetype": "text/x-python",
   "name": "python",
   "nbconvert_exporter": "python",
   "pygments_lexer": "ipython3",
   "version": "3.7.2"
  }
 },
 "nbformat": 4,
 "nbformat_minor": 2
}
