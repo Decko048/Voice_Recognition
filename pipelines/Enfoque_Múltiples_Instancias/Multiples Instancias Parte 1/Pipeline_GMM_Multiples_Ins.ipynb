{
 "cells": [
  {
   "cell_type": "code",
   "execution_count": 399,
   "metadata": {},
   "outputs": [],
   "source": [
    "import IPython\n",
    "import matplotlib.pyplot as plt\n",
    "import numpy as np\n",
    "import pandas as pd\n",
    "from sklearn.mixture import GaussianMixture\n",
    "import import_ipynb\n",
    "from sklearn.model_selection import GroupShuffleSplit\n",
    "import numpy_indexed as npi\n",
    "from scipy import stats\n",
    "import qgrid\n",
    "from sklearn.metrics import make_scorer, accuracy_score, precision_score,recall_score, f1_score\n",
    "from sklearn.metrics import classification_report,confusion_matrix,accuracy_score,roc_curve,auc\n",
    "import seaborn as sns"
   ]
  },
  {
   "cell_type": "markdown",
   "metadata": {},
   "source": [
    "### Leer dataset"
   ]
  },
  {
   "cell_type": "code",
   "execution_count": 412,
   "metadata": {},
   "outputs": [],
   "source": [
    "PATHDATA_MFFC_AVG = '../../../data/audios_MFCC_average_5000_tracks.csv'\n",
    "df = pd.read_csv(PATHDATA_MFFC_AVG, header = None)\n",
    "data = df.values #Convertimos en un  numpy array"
   ]
  },
  {
   "cell_type": "code",
   "execution_count": 413,
   "metadata": {},
   "outputs": [
    {
     "name": "stdout",
     "output_type": "stream",
     "text": [
      "Tamaño dataSet (53867, 20)\n",
      "\n",
      "\n"
     ]
    }
   ],
   "source": [
    "X = data[:,0:-3]\n",
    "Y = data[:,-2]\n",
    "print('Tamaño dataSet', X.shape)\n",
    "print('\\n')\n",
    "Y=  np.reshape(Y,(np.size(Y,0),1))\n",
    "groups = data[:,-1]\n",
    "tracks = data[:,-3:-2]"
   ]
  },
  {
   "cell_type": "markdown",
   "metadata": {},
   "source": [
    "### Número de clases"
   ]
  },
  {
   "cell_type": "code",
   "execution_count": 414,
   "metadata": {},
   "outputs": [
    {
     "name": "stdout",
     "output_type": "stream",
     "text": [
      "Número de clases: 5\n"
     ]
    }
   ],
   "source": [
    "n_classes=len(np.unique(Y))\n",
    "print('Número de clases:', n_classes)"
   ]
  },
  {
   "cell_type": "markdown",
   "metadata": {},
   "source": [
    "### Número de hablantes"
   ]
  },
  {
   "cell_type": "code",
   "execution_count": 415,
   "metadata": {},
   "outputs": [
    {
     "name": "stdout",
     "output_type": "stream",
     "text": [
      "Número de hablantes diferentes 668\n"
     ]
    }
   ],
   "source": [
    "n_groups = len(np.unique(groups))\n",
    "print('Número de hablantes diferentes', n_groups)"
   ]
  },
  {
   "cell_type": "markdown",
   "metadata": {},
   "source": [
    "### Número de Audios"
   ]
  },
  {
   "cell_type": "code",
   "execution_count": 416,
   "metadata": {},
   "outputs": [
    {
     "name": "stdout",
     "output_type": "stream",
     "text": [
      "Número de audios diferentes 5000\n"
     ]
    }
   ],
   "source": [
    "n_tracks = len(np.unique(tracks))\n",
    "print('Número de audios diferentes',n_tracks)"
   ]
  },
  {
   "cell_type": "markdown",
   "metadata": {},
   "source": [
    "## Dividir el dataset (train/test) 0.8/0.2"
   ]
  },
  {
   "cell_type": "code",
   "execution_count": 417,
   "metadata": {},
   "outputs": [],
   "source": [
    "gss = GroupShuffleSplit(n_splits=1, test_size=0.2, random_state=0)\n",
    "gss.get_n_splits()\n",
    "for train_index, test_index in gss.split(X, Y, groups=groups):\n",
    "    X_train_original, X_test_original = X[train_index], X[test_index]\n",
    "    #print(X_train, X_test)\n",
    "    Y_train__original, Y_test_original = Y[train_index], Y[test_index]\n",
    "    #print(y_train, y_test)\n",
    "    groups_original = groups[train_index]\n",
    "    groups_test_original=groups[test_index]\n",
    "    tracks_train_original = tracks[train_index]\n",
    "    tracks_test_original = tracks[test_index]   "
   ]
  },
  {
   "cell_type": "markdown",
   "metadata": {},
   "source": [
    "### Info TRAIN"
   ]
  },
  {
   "cell_type": "code",
   "execution_count": 418,
   "metadata": {},
   "outputs": [
    {
     "name": "stdout",
     "output_type": "stream",
     "text": [
      "X (44327, 20)\n",
      "Groups 534\n",
      "Tracks 4111\n"
     ]
    }
   ],
   "source": [
    "print('X',X_train_original.shape)\n",
    "print('Groups',len(np.unique(groups_original)))\n",
    "print('Tracks',len(np.unique(tracks_train_original)))"
   ]
  },
  {
   "cell_type": "markdown",
   "metadata": {},
   "source": [
    "### Info TEST"
   ]
  },
  {
   "cell_type": "code",
   "execution_count": 419,
   "metadata": {},
   "outputs": [
    {
     "name": "stdout",
     "output_type": "stream",
     "text": [
      "X (9540, 20)\n",
      "Groups 134\n",
      "Tracks 889\n"
     ]
    }
   ],
   "source": [
    "print('X',X_test_original.shape)\n",
    "print('Groups',len(np.unique(groups_test_original)))\n",
    "print('Tracks',len(np.unique(tracks_test_original)))"
   ]
  },
  {
   "cell_type": "code",
   "execution_count": 420,
   "metadata": {},
   "outputs": [],
   "source": [
    "FOLDS = 10\n",
    "TRAIN_SIZE = 0.8"
   ]
  },
  {
   "cell_type": "markdown",
   "metadata": {},
   "source": [
    "# GaussianMixture (GMM) "
   ]
  },
  {
   "cell_type": "markdown",
   "metadata": {},
   "source": [
    "## 1. Mejor modelo"
   ]
  },
  {
   "cell_type": "markdown",
   "metadata": {},
   "source": [
    "Usamos X_train_original y Y_train__original para seleccionar la mejor combinación de parametros y posteriormente validar dichos res]ultados con el conjunto X_test__original y Y_test__original.\n",
    "\n",
    "<b>Nota:</b> el conjunto X_train_original se divide en dos conjuntos train y dev a una proporción de 80 a 20."
   ]
  },
  {
   "cell_type": "code",
   "execution_count": 421,
   "metadata": {},
   "outputs": [],
   "source": [
    "def GMMClassifierTrain(X,Y,M,tipo):    \n",
    "    #X: Matriz con las características\n",
    "    #Y: Matriz con las clases\n",
    "    #M: Número de componentes\n",
    "    #tipo: Tipo de matriz de covarianza\n",
    "    nClases = np.unique(Y)\n",
    "    \n",
    "    GMMs = [] # Vector que tiene los modelos GMM entrendao\n",
    "    \n",
    "    for c in nClases:\n",
    "        gmm = GaussianMixture(M,tipo)#Configurar el modelo                \n",
    "        XY=np.column_stack((X,Y))\n",
    "        Xc =np.where(XY[:,-1]==c) # Seleccionamos la matrix de la clase a entrenar\n",
    "        Xc=X[Xc]        \n",
    "        GMMs.append(gmm.fit(Xc)) #GMMs Debe retornar un objeto que contenga todos los modelos entrenados        \n",
    "        \n",
    "    return GMMs"
   ]
  },
  {
   "cell_type": "code",
   "execution_count": 422,
   "metadata": {},
   "outputs": [],
   "source": [
    "def GMMClassfierVal(GMMs,Xtest,tracks_test):\n",
    "    nGmm = len(GMMs) #Numero de modelos que existen\n",
    "    nSamples = len(Xtest) #Numero de muestras a clasificar\n",
    "    \"\"\"Creamos una matriz de tamaño nSamples,nGmm en donde\n",
    "    cada valor de la columna representa la probabilidad de que esta muestra pertenezca a dicha clase\n",
    "    la pocision del mayor valor de la columna es la clase a la que se predice pertenecera\n",
    "    \"\"\"\n",
    "    mProbabilities = np.zeros((nSamples,nGmm))\n",
    "    for i in range(nGmm):\n",
    "        mProbabilities[:,i]=GMMs[i].score_samples(Xtest)\n",
    "    Yest = np.argmax(mProbabilities,axis=1)    \n",
    "    \n",
    "    #Creamos un matriz con la primera fila las predicciones y la otra el track      \n",
    "    X_test_with_id_trak = np.column_stack((Yest,tracks_test))\n",
    "\n",
    "    #Agrupamos por audio\n",
    "    prediction_by_instances = npi.group_by(X_test_with_id_trak[:, -1]).split(X_test_with_id_trak[:, -2])\n",
    "    \n",
    "    \n",
    "    #Sacamos la moda de prediccion\n",
    "    predictions = []\n",
    "\n",
    "    for v in range(len(prediction_by_instances)):\n",
    "        decision = stats.mode(prediction_by_instances[v])[0]\n",
    "        predictions.append(decision)\n",
    "    \n",
    "    return np.array(predictions) #Debe retornar un vector con las clases predichas para cada una de las muestras en Xtest, de acuerdo con los modelos almacenados en GMMs"
   ]
  },
  {
   "cell_type": "code",
   "execution_count": 423,
   "metadata": {},
   "outputs": [],
   "source": [
    "def TRAIN(n_components,covariance_type,X_train,Y_train,tracks_train,train_size,folds,groups_train):\n",
    "    gss = GroupShuffleSplit(n_splits=folds, train_size=.7)\n",
    "    EficienciaTrain = np.zeros(folds)\n",
    "    EficienciaVal = np.zeros(folds)\n",
    "    j = 0\n",
    "    GMMs = []\n",
    "    for train_idx, test_idx in gss.split(X_train, Y_train, groups_train):\n",
    "        \n",
    "        X_train_fold =X_train[train_idx]\n",
    "        Y_train_fold=Y_train[train_idx]\n",
    "        X_test_fold=X_train[test_idx]\n",
    "        Y_test_fold=Y_train[test_idx]\n",
    "        \n",
    "        tracks_train_fold=tracks_train[train_idx]\n",
    "        tracks_test_fold=tracks_train[test_idx]\n",
    "        \n",
    "        #Entrenamiento\n",
    "        GMMs = GMMClassifierTrain(X_train_fold,Y_train_fold,n_components,covariance_type)\n",
    "        \n",
    "         #Validación\n",
    "        Ytrain_pred = GMMClassfierVal(GMMs,X_train_fold,tracks_train_fold)\n",
    "        \n",
    "        Ytest_pred = GMMClassfierVal(GMMs,X_test_fold,tracks_test_fold)\n",
    "        \n",
    "        \n",
    "        #Metricas en entrenamiento\n",
    "        \n",
    "        #Hacer groupby por tracks\n",
    "        Y_real_train = createGroups(Y_train_fold,tracks_train_fold)\n",
    "        Y_real_test = createGroups(Y_test_fold,tracks_test_fold)\n",
    "        \n",
    "        \"\"\"\n",
    "        print('TRAIN')\n",
    "        print('Predicted',Ytrain_pred )\n",
    "        print('Real',Y_real_train)\n",
    "        \n",
    "        print('----------------')\n",
    "        print('TEST')\n",
    "        print('Predicted',Ytest_pred)\n",
    "        print('Real',Y_real_test)\n",
    "        \n",
    "        \"\"\"\n",
    "                \n",
    "        EficienciaTrain[j] = np.mean(Ytrain_pred.ravel() == Y_real_train.ravel())\n",
    "        EficienciaVal[j] = np.mean(Ytest_pred.ravel() == Y_real_test.ravel())\n",
    "        j += 1\n",
    "        \n",
    "    eficiencia_Train=(np.mean(EficienciaTrain))\n",
    "    intervalo_Train=(np.std(EficienciaTrain))\n",
    "    eficiencia_Test=np.mean(EficienciaVal)\n",
    "    intervalo_Test=np.std(EficienciaVal)\n",
    "    #print('Eficiencia durante el entrenamiento = ' + str(eficiencia_Train) + '+-' + str(intervalo_Train))\n",
    "    #print('Eficiencia durante la validación = ' + str(eficiencia_Test) + '+-' + str(intervalo_Test)) \n",
    "    #Se retorna el modelo del ultimo fold\n",
    "    return GMMs,eficiencia_Train,intervalo_Train,eficiencia_Test,intervalo_Test"
   ]
  },
  {
   "cell_type": "code",
   "execution_count": 424,
   "metadata": {},
   "outputs": [],
   "source": [
    "def createGroups(Y,tracks):\n",
    "    Y_train_tracks = np.column_stack((Y,tracks))\n",
    "    groups_by_tracks = npi.group_by(Y_train_tracks[:, -1]).split(Y_train_tracks[:, -2])\n",
    "    modas = []\n",
    "\n",
    "    for v in range(len(groups_by_tracks)):\n",
    "        moda = stats.mode(groups_by_tracks[v])[0]\n",
    "        modas.append(moda)\n",
    "    return np.array(modas)"
   ]
  },
  {
   "cell_type": "code",
   "execution_count": 425,
   "metadata": {},
   "outputs": [],
   "source": [
    "def changeName(name):\n",
    "    covNameSklearn = ['full','tied','diag','spherical']\n",
    "    covName = ['Completa','Atada','Diagonal','Esférica']\n",
    "    return covNameSklearn[covName.index(name)]"
   ]
  },
  {
   "cell_type": "code",
   "execution_count": null,
   "metadata": {},
   "outputs": [
    {
     "name": "stderr",
     "output_type": "stream",
     "text": [
      "/home/josearangos/anaconda3/lib/python3.7/site-packages/sklearn/mixture/_base.py:267: ConvergenceWarning: Initialization 1 did not converge. Try different init parameters, or increase max_iter, tol or check for degenerate data.\n",
      "  % (init + 1), ConvergenceWarning)\n",
      "/home/josearangos/anaconda3/lib/python3.7/site-packages/sklearn/mixture/_base.py:267: ConvergenceWarning: Initialization 1 did not converge. Try different init parameters, or increase max_iter, tol or check for degenerate data.\n",
      "  % (init + 1), ConvergenceWarning)\n",
      "/home/josearangos/anaconda3/lib/python3.7/site-packages/sklearn/mixture/_base.py:267: ConvergenceWarning: Initialization 1 did not converge. Try different init parameters, or increase max_iter, tol or check for degenerate data.\n",
      "  % (init + 1), ConvergenceWarning)\n",
      "/home/josearangos/anaconda3/lib/python3.7/site-packages/sklearn/mixture/_base.py:267: ConvergenceWarning: Initialization 1 did not converge. Try different init parameters, or increase max_iter, tol or check for degenerate data.\n",
      "  % (init + 1), ConvergenceWarning)\n",
      "/home/josearangos/anaconda3/lib/python3.7/site-packages/sklearn/mixture/_base.py:267: ConvergenceWarning: Initialization 1 did not converge. Try different init parameters, or increase max_iter, tol or check for degenerate data.\n",
      "  % (init + 1), ConvergenceWarning)\n"
     ]
    }
   ],
   "source": [
    "X_train=X_train_original\n",
    "Y_train=Y_train__original\n",
    "tracks_train=tracks_train_original\n",
    "train_size=TRAIN_SIZE\n",
    "folds=FOLDS\n",
    "groups_train=groups_original\n",
    "\n",
    "\n",
    "df_types = pd.DataFrame({\n",
    "    'Matriz de covarianza' : pd.Series(['Completa','Completa','Completa','Completa','Completa','Completa','Diagonal','Diagonal','Diagonal','Diagonal','Diagonal','Diagonal','Esférica','Esférica','Esférica','Esférica','Esférica','Esférica','Atada','Atada','Atada','Atada','Atada','Atada']),\n",
    "    'Numero de componentes' : pd.Series([1,2,3,4,5,6,1,2,3,4,5,6,1,2,3,4,5,6,1,2,3,4,5,6])})\n",
    "\n",
    "df_types[\"Eficiencia en train\"] = \"\"\n",
    "df_types[\"Intervalo de confianza train\"] = \"\"\n",
    "df_types[\"Eficiencia en test\"] = \"\"\n",
    "df_types[\"Intervalo de confianza test\"] = \"\"\n",
    "\n",
    "df_types.set_index(['Matriz de covarianza','Numero de componentes'], inplace=True)\n",
    "cont = 0\n",
    "for tipo,m in df_types.index:\n",
    "    _,eficiencia_Train,intervalo_Train,eficiencia_Test,intervalo_Test=TRAIN(int(m),changeName(str(tipo)),X_train,Y_train,tracks_train,train_size,folds,groups_train)\n",
    "    df_types[\"Eficiencia en train\"][cont] = str(eficiencia_Train)\n",
    "    df_types[\"Intervalo de confianza train\"][cont] =str(intervalo_Train)\n",
    "    df_types[\"Eficiencia en test\"][cont]=str(eficiencia_Test)\n",
    "    df_types[\"Intervalo de confianza test\"][cont]=str(intervalo_Test)\n",
    "    cont = cont +1\n",
    "df_types.sort_index(inplace=True)\n",
    "qgrid_widget = qgrid.show_grid(df_types, show_toolbar=False)\n",
    "qgrid_widget"
   ]
  },
  {
   "cell_type": "code",
   "execution_count": null,
   "metadata": {},
   "outputs": [],
   "source": [
    "qgrid_widget.get_changed_df()"
   ]
  },
  {
   "cell_type": "markdown",
   "metadata": {},
   "source": [
    "El mejor modelo es: "
   ]
  },
  {
   "cell_type": "code",
   "execution_count": null,
   "metadata": {},
   "outputs": [],
   "source": []
  },
  {
   "cell_type": "markdown",
   "metadata": {},
   "source": [
    "## 2. Evalución mejor modelo con el conjunto de test"
   ]
  },
  {
   "cell_type": "code",
   "execution_count": 374,
   "metadata": {},
   "outputs": [],
   "source": [
    "n_components=4\n",
    "covariance_type='full'\n",
    "X_train=X_train_original\n",
    "Y_train=Y_train__original\n",
    "tracks_train=tracks_train_original\n",
    "train_size=TRAIN_SIZE\n",
    "folds=FOLDS\n",
    "groups_train=groups_original\n",
    "\n",
    "modelsGMM,_,_,_,_ = TRAIN(n_components,covariance_type,X_train,Y_train,tracks_train,train_size,folds,groups_train)"
   ]
  },
  {
   "cell_type": "code",
   "execution_count": 376,
   "metadata": {},
   "outputs": [],
   "source": [
    "Ytest_pred= GMMClassfierVal(modelsGMM,X_test_original,tracks_test_original)"
   ]
  },
  {
   "cell_type": "code",
   "execution_count": 377,
   "metadata": {},
   "outputs": [],
   "source": [
    "Y_real_test = createGroups(Y_test_original,tracks_test_original)"
   ]
  },
  {
   "cell_type": "code",
   "execution_count": 379,
   "metadata": {},
   "outputs": [
    {
     "name": "stdout",
     "output_type": "stream",
     "text": [
      "Accuracy:  0.0 \n",
      "\n",
      "\n",
      "classification report :\n",
      "               precision    recall  f1-score   support\n",
      "\n",
      "         0.0       0.00      0.00      0.00       2.0\n",
      "         1.0       0.00      0.00      0.00       1.0\n",
      "         3.0       0.00      0.00      0.00       2.0\n",
      "         4.0       0.00      0.00      0.00       0.0\n",
      "\n",
      "    accuracy                           0.00       5.0\n",
      "   macro avg       0.00      0.00      0.00       5.0\n",
      "weighted avg       0.00      0.00      0.00       5.0\n",
      "\n"
     ]
    },
    {
     "name": "stderr",
     "output_type": "stream",
     "text": [
      "/home/josearangos/anaconda3/lib/python3.7/site-packages/ipykernel_launcher.py:7: RuntimeWarning: invalid value encountered in true_divide\n",
      "  import sys\n"
     ]
    },
    {
     "data": {
      "image/png": "[encoded data removed]",
      "text/plain": [
       "<Figure size 720x720 with 2 Axes>"
      ]
     },
     "metadata": {
      "needs_background": "light"
     },
     "output_type": "display_data"
    }
   ],
   "source": [
    "print('Accuracy: ', accuracy_score(Y_real_test, Ytest_pred), '\\n')\n",
    "report = classification_report(Y_real_test, Ytest_pred)\n",
    "print(\"\\nclassification report :\\n\",report )\n",
    "# Matriz de confusión\n",
    "clases =['yes','no','right','five','nine']\n",
    "cm = confusion_matrix(Y_real_test, Ytest_pred)\n",
    "cmn = cm.astype('float') / cm.sum(axis=1)[:, np.newaxis]\n",
    "fig, ax = plt.subplots(figsize=(10,10))\n",
    "sns.heatmap(cmn, annot=True, fmt='.2f', xticklabels=clases, yticklabels=clases)\n",
    "plt.ylabel('Actual')\n",
    "plt.xlabel('Predicted')\n",
    "ax.set_ylim(sorted(ax.get_xlim(), reverse=True))\n",
    "plt.show(block=False)"
   ]
  },
  {
   "cell_type": "markdown",
   "metadata": {},
   "source": [
    "## Learning Curve"
   ]
  },
  {
   "cell_type": "code",
   "execution_count": 380,
   "metadata": {},
   "outputs": [],
   "source": [
    "def learning_curve(n_components,covariance_type,folds, X,Y,groups,tracks, suptitle='', title='', xlabel='Training Set Size', ylabel='Acurracy'):\n",
    "        \"\"\"\n",
    "        Parameters\n",
    "        ----------\n",
    "        suptitle : str\n",
    "            Chart suptitle\n",
    "        title: str\n",
    "            Chart title\n",
    "        xlabel: str\n",
    "            Label for the X axis\n",
    "        ylabel: str\n",
    "            Label for the y axis\n",
    "        Returns\n",
    "        -------\n",
    "        Plot of learning curves\n",
    "        \"\"\"\n",
    "\n",
    "        # create lists to store train and validation scores\n",
    "        train_score = []\n",
    "        val_score = []\n",
    "        std_train= []\n",
    "        std_val=[]\n",
    "\n",
    "        # create ten incremental training set sizes\n",
    "        training_set_sizes = np.linspace(.1,.9,5).tolist()\n",
    "        # for each one of those training set sizes\n",
    "\n",
    "        for i in training_set_sizes:  \n",
    "            \n",
    "            modelsGMM, eficiencia_Train,intervalo_Train,eficiencia_Test,intervalo_Test=TRAIN(n_components,covariance_type,X,Y,tracks,i,folds,groups)\n",
    "            \n",
    "            \n",
    "            # store the scores in their respective lists\n",
    "            train_score.append(eficiencia_Train)\n",
    "            val_score.append(eficiencia_Test)\n",
    "            std_train.append(intervalo_Train)\n",
    "            std_val.append(intervalo_Test)\n",
    "\n",
    "        train_score =np.array(train_score)\n",
    "        val_score =np.array(val_score)\n",
    "        std_train =np.array(std_train)\n",
    "        std_val =np.array(std_val)\n",
    "\n",
    "\n",
    "        # plot learning curves\n",
    "        fig, ax = plt.subplots(figsize=(14, 9))\n",
    "        ax.plot(training_set_sizes, train_score, c='gold')\n",
    "        ax.plot(training_set_sizes, val_score, c='steelblue')\n",
    "\n",
    "        ax.fill_between(training_set_sizes,train_score+std_train,train_score-std_train,facecolor='gold',alpha=0.5)\n",
    "        ax.fill_between(training_set_sizes,val_score+std_val,val_score-std_val,facecolor='steelblue',alpha=0.5)\n",
    "\n",
    "        # format the chart to make it look nice\n",
    "        fig.suptitle(suptitle, fontweight='bold', fontsize='20')\n",
    "        ax.set_title(title, size=20)\n",
    "        ax.set_xlabel(xlabel, size=16)\n",
    "        ax.set_ylabel(ylabel, size=16)\n",
    "        ax.legend(['Train set', 'Test set'], fontsize=16)\n",
    "        ax.tick_params(axis='both', labelsize=12)\n",
    "        ax.set_ylim(0, 1)\n",
    "\n",
    "        def percentages(x, pos):\n",
    "            \"\"\"The two args are the value and tick position\"\"\"\n",
    "            if x < 1:\n",
    "                return '{:1.0f}'.format(x*100)\n",
    "            return '{:1.0f}%'.format(x*100)\n",
    "\n",
    "        def numbers(x, pos):\n",
    "            \"\"\"The two args are the value and tick position\"\"\"\n",
    "            if x >= 1000:\n",
    "                return '{:1,.0f}'.format(x)\n",
    "            return '{:1.0f}'.format(x)\n",
    "        data = {'Train_Size':training_set_sizes, 'mean_train_Accuracy':train_score,'mean_test_Accuracy':val_score,'std_train_Accuracy':std_train,'std_test_Accuracy':std_val}\n",
    "        df_split_params = pd.DataFrame(data)\n",
    "        return df_split_params"
   ]
  },
  {
   "cell_type": "code",
   "execution_count": 381,
   "metadata": {},
   "outputs": [
    {
     "data": {
      "text/html": [
       "<div>\n",
       "<style scoped>\n",
       "    .dataframe tbody tr th:only-of-type {\n",
       "        vertical-align: middle;\n",
       "    }\n",
       "\n",
       "    .dataframe tbody tr th {\n",
       "        vertical-align: top;\n",
       "    }\n",
       "\n",
       "    .dataframe thead th {\n",
       "        text-align: right;\n",
       "    }\n",
       "</style>\n",
       "<table border=\"1\" class=\"dataframe\">\n",
       "  <thead>\n",
       "    <tr style=\"text-align: right;\">\n",
       "      <th></th>\n",
       "      <th>Train_Size</th>\n",
       "      <th>mean_train_Accuracy</th>\n",
       "      <th>mean_test_Accuracy</th>\n",
       "      <th>std_train_Accuracy</th>\n",
       "      <th>std_test_Accuracy</th>\n",
       "    </tr>\n",
       "  </thead>\n",
       "  <tbody>\n",
       "    <tr>\n",
       "      <th>0</th>\n",
       "      <td>0.1</td>\n",
       "      <td>0.971872</td>\n",
       "      <td>0.106905</td>\n",
       "      <td>0.030758</td>\n",
       "      <td>0.119029</td>\n",
       "    </tr>\n",
       "    <tr>\n",
       "      <th>1</th>\n",
       "      <td>0.3</td>\n",
       "      <td>0.898420</td>\n",
       "      <td>0.106058</td>\n",
       "      <td>0.191329</td>\n",
       "      <td>0.058890</td>\n",
       "    </tr>\n",
       "    <tr>\n",
       "      <th>2</th>\n",
       "      <td>0.5</td>\n",
       "      <td>0.984991</td>\n",
       "      <td>0.123864</td>\n",
       "      <td>0.030030</td>\n",
       "      <td>0.059353</td>\n",
       "    </tr>\n",
       "    <tr>\n",
       "      <th>3</th>\n",
       "      <td>0.7</td>\n",
       "      <td>0.983426</td>\n",
       "      <td>0.115186</td>\n",
       "      <td>0.025808</td>\n",
       "      <td>0.077839</td>\n",
       "    </tr>\n",
       "    <tr>\n",
       "      <th>4</th>\n",
       "      <td>0.9</td>\n",
       "      <td>0.968789</td>\n",
       "      <td>0.091524</td>\n",
       "      <td>0.033729</td>\n",
       "      <td>0.121226</td>\n",
       "    </tr>\n",
       "  </tbody>\n",
       "</table>\n",
       "</div>"
      ],
      "text/plain": [
       "   Train_Size  mean_train_Accuracy  mean_test_Accuracy  std_train_Accuracy  \\\n",
       "0         0.1             0.971872            0.106905            0.030758   \n",
       "1         0.3             0.898420            0.106058            0.191329   \n",
       "2         0.5             0.984991            0.123864            0.030030   \n",
       "3         0.7             0.983426            0.115186            0.025808   \n",
       "4         0.9             0.968789            0.091524            0.033729   \n",
       "\n",
       "   std_test_Accuracy  \n",
       "0           0.119029  \n",
       "1           0.058890  \n",
       "2           0.059353  \n",
       "3           0.077839  \n",
       "4           0.121226  "
      ]
     },
     "execution_count": 381,
     "metadata": {},
     "output_type": "execute_result"
    },
    {
     "data": {
      "image/png": "[encoded data removed]",
      "text/plain": [
       "<Figure size 1008x648 with 1 Axes>"
      ]
     },
     "metadata": {
      "needs_background": "light"
     },
     "output_type": "display_data"
    }
   ],
   "source": [
    "\n",
    "n_components=4\n",
    "covariance_type='full'\n",
    "folds=10\n",
    "learning_curve(n_components,covariance_type,folds, X,Y,groups,tracks, suptitle='', title='', xlabel='Training Set Size', ylabel='Acurracy')"
   ]
  },
  {
   "cell_type": "code",
   "execution_count": null,
   "metadata": {},
   "outputs": [],
   "source": []
  }
 ],
 "metadata": {
  "kernelspec": {
   "display_name": "Python 3",
   "language": "python",
   "name": "python3"
  },
  "language_info": {
   "codemirror_mode": {
    "name": "ipython",
    "version": 3
   },
   "file_extension": ".py",
   "mimetype": "text/x-python",
   "name": "python",
   "nbconvert_exporter": "python",
   "pygments_lexer": "ipython3",
   "version": "3.7.4"
  }
 },
 "nbformat": 4,
 "nbformat_minor": 2
}
