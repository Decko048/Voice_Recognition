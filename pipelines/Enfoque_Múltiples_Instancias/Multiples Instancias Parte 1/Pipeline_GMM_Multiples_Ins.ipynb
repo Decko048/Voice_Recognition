{
 "cells": [
  {
   "cell_type": "code",
   "execution_count": 22,
   "metadata": {},
   "outputs": [],
   "source": [
    "import IPython\n",
    "import matplotlib.pyplot as plt\n",
    "import numpy as np\n",
    "import pandas as pd\n",
    "from sklearn.mixture import GaussianMixture\n",
    "import import_ipynb\n",
    "from sklearn.model_selection import GroupShuffleSplit"
   ]
  },
  {
   "cell_type": "markdown",
   "metadata": {},
   "source": [
    "### Leer dataset"
   ]
  },
  {
   "cell_type": "code",
   "execution_count": 3,
   "metadata": {},
   "outputs": [],
   "source": [
    "PATHDATA_MFFC_AVG = '../../../data/audios_MFCC_average.csv'\n",
    "df = pd.read_csv(PATHDATA_MFFC_AVG, header = None)\n",
    "data = df.values #Convertimos en un  numpy array"
   ]
  },
  {
   "cell_type": "code",
   "execution_count": 4,
   "metadata": {},
   "outputs": [
    {
     "name": "stdout",
     "output_type": "stream",
     "text": [
      "Tamaño dataSet (540, 20)\n",
      "\n",
      "\n"
     ]
    }
   ],
   "source": [
    "X = data[:,0:-3]\n",
    "Y = data[:,-2]\n",
    "print('Tamaño dataSet', X.shape)\n",
    "print('\\n')\n",
    "Y=  np.reshape(Y,(np.size(Y,0),1))\n",
    "groups = data[:,-1]\n",
    "tracks = data[:,-3:-2]"
   ]
  },
  {
   "cell_type": "markdown",
   "metadata": {},
   "source": [
    "### Número de clases"
   ]
  },
  {
   "cell_type": "code",
   "execution_count": 5,
   "metadata": {},
   "outputs": [
    {
     "name": "stdout",
     "output_type": "stream",
     "text": [
      "Número de clases: 5\n"
     ]
    }
   ],
   "source": [
    "n_classes=len(np.unique(Y))\n",
    "print('Número de clases:', n_classes)"
   ]
  },
  {
   "cell_type": "markdown",
   "metadata": {},
   "source": [
    "### Número de hablantes"
   ]
  },
  {
   "cell_type": "code",
   "execution_count": 6,
   "metadata": {},
   "outputs": [
    {
     "name": "stdout",
     "output_type": "stream",
     "text": [
      "Número de hablantes diferentes 9\n"
     ]
    }
   ],
   "source": [
    "n_groups = len(np.unique(groups))\n",
    "print('Número de hablantes diferentes', n_groups)"
   ]
  },
  {
   "cell_type": "markdown",
   "metadata": {},
   "source": [
    "### Número de Audios"
   ]
  },
  {
   "cell_type": "code",
   "execution_count": 7,
   "metadata": {},
   "outputs": [
    {
     "name": "stdout",
     "output_type": "stream",
     "text": [
      "Número de audios diferentes 50\n"
     ]
    }
   ],
   "source": [
    "n_tracks = len(np.unique(tracks))\n",
    "print('Número de audios diferentes',n_tracks)"
   ]
  },
  {
   "cell_type": "markdown",
   "metadata": {},
   "source": [
    "## Dividir el dataset (train/test) 0.8/0.2"
   ]
  },
  {
   "cell_type": "code",
   "execution_count": 18,
   "metadata": {},
   "outputs": [],
   "source": [
    "gss = GroupShuffleSplit(n_splits=1, test_size=0.2, random_state=0)\n",
    "gss.get_n_splits()\n",
    "for train_index, test_index in gss.split(X, Y, groups=groups):\n",
    "    X_train_original, X_test_original = X[train_index], X[test_index]\n",
    "    #print(X_train, X_test)\n",
    "    Y_train__original, Y_test_original = Y[train_index], Y[test_index]\n",
    "    #print(y_train, y_test)\n",
    "    groups_original = groups[train_index]\n",
    "    groups_test_original=groups[test_index]\n",
    "    tracks_train_original = tracks[train_index]\n",
    "    tracks_test_original = tracks[test_index]   "
   ]
  },
  {
   "cell_type": "markdown",
   "metadata": {},
   "source": [
    "### Info TRAIN"
   ]
  },
  {
   "cell_type": "code",
   "execution_count": 17,
   "metadata": {},
   "outputs": [
    {
     "name": "stdout",
     "output_type": "stream",
     "text": [
      "X (488, 20)\n",
      "Groups 7\n",
      "Tracks 45\n"
     ]
    }
   ],
   "source": [
    "print('X',X_train_original.shape)\n",
    "print('Groups',len(np.unique(groups_original)))\n",
    "print('Tracks',len(np.unique(tracks_train_original)))"
   ]
  },
  {
   "cell_type": "markdown",
   "metadata": {},
   "source": [
    "### Info TEST"
   ]
  },
  {
   "cell_type": "code",
   "execution_count": 19,
   "metadata": {},
   "outputs": [
    {
     "name": "stdout",
     "output_type": "stream",
     "text": [
      "X (52, 20)\n",
      "Groups 2\n",
      "Tracks 5\n"
     ]
    }
   ],
   "source": [
    "print('X',X_test_original.shape)\n",
    "print('Groups',len(np.unique(groups_test_original)))\n",
    "print('Tracks',len(np.unique(tracks_test_original)))"
   ]
  },
  {
   "cell_type": "code",
   "execution_count": 20,
   "metadata": {},
   "outputs": [],
   "source": [
    "FOLDS = 10\n",
    "TRAIN_SIZE = 0.8"
   ]
  },
  {
   "cell_type": "markdown",
   "metadata": {},
   "source": [
    "# GaussianMixture (GMM) "
   ]
  },
  {
   "cell_type": "markdown",
   "metadata": {},
   "source": [
    "## 1. Mejor modelo"
   ]
  },
  {
   "cell_type": "markdown",
   "metadata": {},
   "source": [
    "Usamos X_train_original y Y_train__original para seleccionar la mejor combinación de parametros y posteriormente validar dichos res]ultados con el conjunto X_test__original y Y_test__original.\n",
    "\n",
    "<b>Nota:</b> el conjunto X_train_original se divide en dos conjuntos train y dev a una proporción de 80 a 20."
   ]
  },
  {
   "cell_type": "code",
   "execution_count": 23,
   "metadata": {},
   "outputs": [],
   "source": [
    "def GMMClassifierTrain(X,Y,M,tipo):    \n",
    "    #X: Matriz con las características\n",
    "    #Y: Matriz con las clases\n",
    "    #M: Número de componentes\n",
    "    #tipo: Tipo de matriz de covarianza\n",
    "    nClases = np.unique(Y)\n",
    "    GMMs = [] # Vector que tiene los modelos GMM entrendao\n",
    "    for c in nClases:\n",
    "        gmm = GaussianMixture(M,tipo)#Configurar el modelo\n",
    "        Xc = X[Y==c] # Seleccionamos la matrix de la clase a entrenar\n",
    "        GMMs.append(gmm.fit(Xc))        \n",
    "    return GMMs #Debe retornar un objeto que contenga todos los modelos entrenados\n",
    "\n",
    "def GMMClassfierVal(GMMs,Xtest,tracks_test):\n",
    "    nGmm = len(GMMs) #Numero de modelos que existen\n",
    "    nSamples = len(Xtest) #Numero de muestras a clasificar\n",
    "    \"\"\"Creamos una matriz de tamaño nSamples,nGmm en donde\n",
    "    cada valor de la columna representa la probabilidad de que esta muestra pertenezca a dicha clase\n",
    "    la pocision del mayor valor de la columna es la clase a la que se predice pertenecera\n",
    "    \"\"\"\n",
    "    mProbabilities = np.zeros((nSamples,nGmm))\n",
    "    for i in range(nGmm):\n",
    "        mProbabilities[:,i]=GMMs[i].score_samples(Xtest)\n",
    "    Yest = np.argmax(mProbabilities,axis=1)    \n",
    "    \n",
    "    #Creamos un matriz con la primera fila las predicciones y la otra el track      \n",
    "    X_test_with_id_trak = np.column_stack((Yest,tracks_test))\n",
    "\n",
    "    # sacamos los \n",
    "    index_traks = list(np.unique(tracks_test))\n",
    "\n",
    "    #Agrupamos por audio\n",
    "    prediction_by_instances = npi.group_by(X_test_with_id_trak[:, -1]).split(X_test_with_id_trak[:, -2])\n",
    "    \n",
    "    #Sacamos la moda de prediccion\n",
    "    predictions = []\n",
    "    for v in range(prediction_by_instances.shape[0]):\n",
    "        decision = stats.mode(prediction_by_instances[v])[0][0]\n",
    "        predictions.append(decision)\n",
    "    print('predi',predictions)\n",
    "    \n",
    "    \n",
    "    \n",
    "    return predictions #Debe retornar un vector con las clases predichas para cada una de las muestras en Xtest, de acuerdo con los modelos almacenados en GMMs"
   ]
  },
  {
   "cell_type": "code",
   "execution_count": 26,
   "metadata": {},
   "outputs": [],
   "source": [
    "def TRAIN(n_components,covariance_type,X_train,Y_train,tracks_train,train_size,folds,groups_train):\n",
    "    gss = GroupShuffleSplit(n_splits=folds, train_size=.7)\n",
    "    EficienciaTrain = np.zeros(folds)\n",
    "    EficienciaVal = np.zeros(folds)\n",
    "    j = 0\n",
    "    for train_idx, test_idx in gss.split(X_train, Y_train, groups_train):\n",
    "        \n",
    "        X_train_fold =X_train[train_idx]\n",
    "        Y_train_fold=Y_train[train_idx]\n",
    "        X_test_fold=X_train[test_idx]\n",
    "        Y_test_fold=Y_train[test_idx]\n",
    "        \n",
    "        tracks_train_fold=tracks_train[train_idx]\n",
    "        tracks_test_fold=tracks_train[test_idx]\n",
    "        \n",
    "        #Entrenamiento\n",
    "        GMMs = GMMClassifierTrain(X_train_fold,Y_train_fold,n_components,covariance_type)\n",
    "        \n",
    "        \n",
    "        #Validación\n",
    "        Ytrain_pred = GMMClassfierVal(GMMs,X_train_fold,tracks_train_fold)\n",
    "        Ytest_pred = GMMClassfierVal(GMMs,X_test_fold,tracks_test_fold)\n",
    "        \n",
    "        #Metricas en entrenamiento\n",
    "        EficienciaTrain[j] = np.mean(Ytrain_pred.ravel() == Y_train_fold.ravel())\n",
    "        EficienciaVal[j] = np.mean(Ytest_pred.ravel() == Y_test_fold.ravel())\n",
    "        j += 1\n",
    "        \n",
    "        print('Eficiencia durante el entrenamiento = ' + str(np.mean(EficienciaTrain)) + '+-' + str(np.std(EficienciaTrain)))\n",
    "        print('Eficiencia durante la validación = ' + str(np.mean(EficienciaVal)) + '+-' + str(np.std(EficienciaVal)))   "
   ]
  },
  {
   "cell_type": "code",
   "execution_count": 28,
   "metadata": {},
   "outputs": [
    {
     "ename": "IndexError",
     "evalue": "boolean index did not match indexed array along dimension 1; dimension is 20 but corresponding boolean dimension is 1",
     "output_type": "error",
     "traceback": [
      "\u001b[0;31m---------------------------------------------------------------------------\u001b[0m",
      "\u001b[0;31mIndexError\u001b[0m                                Traceback (most recent call last)",
      "\u001b[0;32m<ipython-input-28-6e192e393d0e>\u001b[0m in \u001b[0;36m<module>\u001b[0;34m\u001b[0m\n\u001b[1;32m      7\u001b[0m \u001b[0mfolds\u001b[0m\u001b[0;34m=\u001b[0m\u001b[0mFOLDS\u001b[0m\u001b[0;34m\u001b[0m\u001b[0;34m\u001b[0m\u001b[0m\n\u001b[1;32m      8\u001b[0m \u001b[0mgroups_train\u001b[0m\u001b[0;34m=\u001b[0m\u001b[0mgroups_original\u001b[0m\u001b[0;34m\u001b[0m\u001b[0;34m\u001b[0m\u001b[0m\n\u001b[0;32m----> 9\u001b[0;31m \u001b[0mTRAIN\u001b[0m\u001b[0;34m(\u001b[0m\u001b[0mn_components\u001b[0m\u001b[0;34m,\u001b[0m\u001b[0mcovariance_type\u001b[0m\u001b[0;34m,\u001b[0m\u001b[0mX_train\u001b[0m\u001b[0;34m,\u001b[0m\u001b[0mY_train\u001b[0m\u001b[0;34m,\u001b[0m\u001b[0mtracks_train\u001b[0m\u001b[0;34m,\u001b[0m\u001b[0mtrain_size\u001b[0m\u001b[0;34m,\u001b[0m\u001b[0mfolds\u001b[0m\u001b[0;34m,\u001b[0m\u001b[0mgroups_train\u001b[0m\u001b[0;34m)\u001b[0m\u001b[0;34m\u001b[0m\u001b[0;34m\u001b[0m\u001b[0m\n\u001b[0m",
      "\u001b[0;32m<ipython-input-26-371723f2c3a7>\u001b[0m in \u001b[0;36mTRAIN\u001b[0;34m(n_components, covariance_type, X_train, Y_train, tracks_train, train_size, folds, groups_train)\u001b[0m\n\u001b[1;32m     15\u001b[0m \u001b[0;34m\u001b[0m\u001b[0m\n\u001b[1;32m     16\u001b[0m         \u001b[0;31m#Entrenamiento\u001b[0m\u001b[0;34m\u001b[0m\u001b[0;34m\u001b[0m\u001b[0;34m\u001b[0m\u001b[0m\n\u001b[0;32m---> 17\u001b[0;31m         \u001b[0mGMMs\u001b[0m \u001b[0;34m=\u001b[0m \u001b[0mGMMClassifierTrain\u001b[0m\u001b[0;34m(\u001b[0m\u001b[0mX_train_fold\u001b[0m\u001b[0;34m,\u001b[0m\u001b[0mY_train_fold\u001b[0m\u001b[0;34m,\u001b[0m\u001b[0mn_components\u001b[0m\u001b[0;34m,\u001b[0m\u001b[0mcovariance_type\u001b[0m\u001b[0;34m)\u001b[0m\u001b[0;34m\u001b[0m\u001b[0;34m\u001b[0m\u001b[0m\n\u001b[0m\u001b[1;32m     18\u001b[0m \u001b[0;34m\u001b[0m\u001b[0m\n\u001b[1;32m     19\u001b[0m \u001b[0;34m\u001b[0m\u001b[0m\n",
      "\u001b[0;32m<ipython-input-23-9b8f0a31a1ff>\u001b[0m in \u001b[0;36mGMMClassifierTrain\u001b[0;34m(X, Y, M, tipo)\u001b[0m\n\u001b[1;32m      8\u001b[0m     \u001b[0;32mfor\u001b[0m \u001b[0mc\u001b[0m \u001b[0;32min\u001b[0m \u001b[0mnClases\u001b[0m\u001b[0;34m:\u001b[0m\u001b[0;34m\u001b[0m\u001b[0;34m\u001b[0m\u001b[0m\n\u001b[1;32m      9\u001b[0m         \u001b[0mgmm\u001b[0m \u001b[0;34m=\u001b[0m \u001b[0mGaussianMixture\u001b[0m\u001b[0;34m(\u001b[0m\u001b[0mM\u001b[0m\u001b[0;34m,\u001b[0m\u001b[0mtipo\u001b[0m\u001b[0;34m)\u001b[0m\u001b[0;31m#Configurar el modelo\u001b[0m\u001b[0;34m\u001b[0m\u001b[0;34m\u001b[0m\u001b[0m\n\u001b[0;32m---> 10\u001b[0;31m         \u001b[0mXc\u001b[0m \u001b[0;34m=\u001b[0m \u001b[0mX\u001b[0m\u001b[0;34m[\u001b[0m\u001b[0mY\u001b[0m\u001b[0;34m==\u001b[0m\u001b[0mc\u001b[0m\u001b[0;34m]\u001b[0m \u001b[0;31m# Seleccionamos la matrix de la clase a entrenar\u001b[0m\u001b[0;34m\u001b[0m\u001b[0;34m\u001b[0m\u001b[0m\n\u001b[0m\u001b[1;32m     11\u001b[0m         \u001b[0mGMMs\u001b[0m\u001b[0;34m.\u001b[0m\u001b[0mappend\u001b[0m\u001b[0;34m(\u001b[0m\u001b[0mgmm\u001b[0m\u001b[0;34m.\u001b[0m\u001b[0mfit\u001b[0m\u001b[0;34m(\u001b[0m\u001b[0mXc\u001b[0m\u001b[0;34m)\u001b[0m\u001b[0;34m)\u001b[0m\u001b[0;34m\u001b[0m\u001b[0;34m\u001b[0m\u001b[0m\n\u001b[1;32m     12\u001b[0m     \u001b[0;32mreturn\u001b[0m \u001b[0mGMMs\u001b[0m \u001b[0;31m#Debe retornar un objeto que contenga todos los modelos entrenados\u001b[0m\u001b[0;34m\u001b[0m\u001b[0;34m\u001b[0m\u001b[0m\n",
      "\u001b[0;31mIndexError\u001b[0m: boolean index did not match indexed array along dimension 1; dimension is 20 but corresponding boolean dimension is 1"
     ]
    }
   ],
   "source": [
    "n_components=4\n",
    "covariance_type='full'\n",
    "X_train=X_train_original\n",
    "Y_train=Y_train__original\n",
    "tracks_train=tracks_train_original\n",
    "train_size=TRAIN_SIZE\n",
    "folds=FOLDS\n",
    "groups_train=groups_original\n",
    "TRAIN(n_components,covariance_type,X_train,Y_train,tracks_train,train_size,folds,groups_train)"
   ]
  },
  {
   "cell_type": "code",
   "execution_count": null,
   "metadata": {},
   "outputs": [],
   "source": []
  }
 ],
 "metadata": {
  "kernelspec": {
   "display_name": "Python 3",
   "language": "python",
   "name": "python3"
  },
  "language_info": {
   "codemirror_mode": {
    "name": "ipython",
    "version": 3
   },
   "file_extension": ".py",
   "mimetype": "text/x-python",
   "name": "python",
   "nbconvert_exporter": "python",
   "pygments_lexer": "ipython3",
   "version": "3.7.4"
  }
 },
 "nbformat": 4,
 "nbformat_minor": 2
}
