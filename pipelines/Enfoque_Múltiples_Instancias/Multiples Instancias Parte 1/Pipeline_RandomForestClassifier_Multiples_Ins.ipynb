{
 "cells": [
  {
   "cell_type": "code",
   "execution_count": 1,
   "metadata": {},
   "outputs": [],
   "source": [
    "import IPython\n",
    "import matplotlib.pyplot as plt\n",
    "import numpy as np\n",
    "import pandas as pd\n",
    "from sklearn.ensemble import RandomForestClassifier\n",
    "import import_ipynb\n",
    "from sklearn.model_selection import GroupShuffleSplit\n",
    "import numpy_indexed as npi\n",
    "from scipy import stats\n",
    "import qgrid\n",
    "from sklearn.metrics import make_scorer, accuracy_score, precision_score,recall_score, f1_score\n",
    "from sklearn.metrics import classification_report,confusion_matrix,accuracy_score,roc_curve,auc\n",
    "import seaborn as sns\n",
    "from PIPELINE_CLASS import *"
   ]
  },
  {
   "cell_type": "markdown",
   "metadata": {},
   "source": [
    "### Leer dataset"
   ]
  },
  {
   "cell_type": "code",
   "execution_count": 2,
   "metadata": {},
   "outputs": [],
   "source": [
    "PATHDATA_MFFC_AVG = '../../../data/audios_MFCC_average_1000_tracks.csv'\n",
    "df = pd.read_csv(PATHDATA_MFFC_AVG, header = None)\n",
    "data = df.values #Convertimos en un  numpy array"
   ]
  },
  {
   "cell_type": "code",
   "execution_count": 3,
   "metadata": {},
   "outputs": [
    {
     "name": "stdout",
     "output_type": "stream",
     "text": [
      "Tamaño dataSet (10787, 20)\n",
      "\n",
      "\n"
     ]
    }
   ],
   "source": [
    "X = data[:,0:-3]\n",
    "Y = data[:,-2]\n",
    "print('Tamaño dataSet', X.shape)\n",
    "print('\\n')\n",
    "Y=  np.reshape(Y,(np.size(Y,0),1))\n",
    "groups = data[:,-1]\n",
    "tracks = data[:,-3:-2]"
   ]
  },
  {
   "cell_type": "code",
   "execution_count": 4,
   "metadata": {},
   "outputs": [],
   "source": [
    "FOLDS = 10\n",
    "TRAIN_SIZE = 0.8\n"
   ]
  },
  {
   "cell_type": "markdown",
   "metadata": {},
   "source": [
    "# RandomForestClassifier"
   ]
  },
  {
   "cell_type": "markdown",
   "metadata": {},
   "source": [
    "## 1. Mejor modelo"
   ]
  },
  {
   "cell_type": "markdown",
   "metadata": {},
   "source": [
    "Usamos X_train_original y Y_train__original para seleccionar la mejor combinación de parametros y posteriormente validar dichos res]ultados con el conjunto X_test__original y Y_test__original.\n",
    "\n",
    "<b>Nota:</b> el conjunto X_train_original se divide en dos conjuntos train y dev a una proporción de 80 a 20."
   ]
  },
  {
   "cell_type": "code",
   "execution_count": 5,
   "metadata": {},
   "outputs": [
    {
     "name": "stdout",
     "output_type": "stream",
     "text": [
      "Número de clases: 5\n",
      "Número de hablantes diferentes 127\n",
      "Número de audios diferentes 1000\n",
      "### Info TRAIN\n",
      "X (8377, 20)\n",
      "Groups 101\n",
      "Tracks 776\n",
      "### Info TEST\n",
      "X (2410, 20)\n",
      "Groups 26\n",
      "Tracks 224\n"
     ]
    }
   ],
   "source": [
    "clases =['yes','no','right','five','nine']\n",
    "PIPELINE= PIPELINE_MULTIPLES_INST(X,Y,groups,tracks,FOLDS,TRAIN_SIZE,clases)"
   ]
  },
  {
   "cell_type": "code",
   "execution_count": null,
   "metadata": {},
   "outputs": [
    {
     "name": "stderr",
     "output_type": "stream",
     "text": [
      "/home/josearangos/Documentos/Projects/Voice_Recognition/pipelines/Enfoque_Múltiples_Instancias/Multiples Instancias Parte 1/PIPELINE_CLASS.py:155: DataConversionWarning: A column-vector y was passed when a 1d array was expected. Please change the shape of y to (n_samples,), for example using ravel().\n",
      "  model_trained.fit(X_train_fold,Y_train_fold)\n",
      "/home/josearangos/Documentos/Projects/Voice_Recognition/pipelines/Enfoque_Múltiples_Instancias/Multiples Instancias Parte 1/PIPELINE_CLASS.py:155: DataConversionWarning: A column-vector y was passed when a 1d array was expected. Please change the shape of y to (n_samples,), for example using ravel().\n",
      "  model_trained.fit(X_train_fold,Y_train_fold)\n",
      "/home/josearangos/Documentos/Projects/Voice_Recognition/pipelines/Enfoque_Múltiples_Instancias/Multiples Instancias Parte 1/PIPELINE_CLASS.py:155: DataConversionWarning: A column-vector y was passed when a 1d array was expected. Please change the shape of y to (n_samples,), for example using ravel().\n",
      "  model_trained.fit(X_train_fold,Y_train_fold)\n",
      "/home/josearangos/Documentos/Projects/Voice_Recognition/pipelines/Enfoque_Múltiples_Instancias/Multiples Instancias Parte 1/PIPELINE_CLASS.py:155: DataConversionWarning: A column-vector y was passed when a 1d array was expected. Please change the shape of y to (n_samples,), for example using ravel().\n",
      "  model_trained.fit(X_train_fold,Y_train_fold)\n",
      "/home/josearangos/Documentos/Projects/Voice_Recognition/pipelines/Enfoque_Múltiples_Instancias/Multiples Instancias Parte 1/PIPELINE_CLASS.py:155: DataConversionWarning: A column-vector y was passed when a 1d array was expected. Please change the shape of y to (n_samples,), for example using ravel().\n",
      "  model_trained.fit(X_train_fold,Y_train_fold)\n",
      "/home/josearangos/Documentos/Projects/Voice_Recognition/pipelines/Enfoque_Múltiples_Instancias/Multiples Instancias Parte 1/PIPELINE_CLASS.py:155: DataConversionWarning: A column-vector y was passed when a 1d array was expected. Please change the shape of y to (n_samples,), for example using ravel().\n",
      "  model_trained.fit(X_train_fold,Y_train_fold)\n",
      "/home/josearangos/Documentos/Projects/Voice_Recognition/pipelines/Enfoque_Múltiples_Instancias/Multiples Instancias Parte 1/PIPELINE_CLASS.py:155: DataConversionWarning: A column-vector y was passed when a 1d array was expected. Please change the shape of y to (n_samples,), for example using ravel().\n",
      "  model_trained.fit(X_train_fold,Y_train_fold)\n",
      "/home/josearangos/Documentos/Projects/Voice_Recognition/pipelines/Enfoque_Múltiples_Instancias/Multiples Instancias Parte 1/PIPELINE_CLASS.py:155: DataConversionWarning: A column-vector y was passed when a 1d array was expected. Please change the shape of y to (n_samples,), for example using ravel().\n",
      "  model_trained.fit(X_train_fold,Y_train_fold)\n",
      "/home/josearangos/Documentos/Projects/Voice_Recognition/pipelines/Enfoque_Múltiples_Instancias/Multiples Instancias Parte 1/PIPELINE_CLASS.py:155: DataConversionWarning: A column-vector y was passed when a 1d array was expected. Please change the shape of y to (n_samples,), for example using ravel().\n",
      "  model_trained.fit(X_train_fold,Y_train_fold)\n",
      "/home/josearangos/Documentos/Projects/Voice_Recognition/pipelines/Enfoque_Múltiples_Instancias/Multiples Instancias Parte 1/PIPELINE_CLASS.py:155: DataConversionWarning: A column-vector y was passed when a 1d array was expected. Please change the shape of y to (n_samples,), for example using ravel().\n",
      "  model_trained.fit(X_train_fold,Y_train_fold)\n",
      "/home/josearangos/Documentos/Projects/Voice_Recognition/pipelines/Enfoque_Múltiples_Instancias/Multiples Instancias Parte 1/PIPELINE_CLASS.py:155: DataConversionWarning: A column-vector y was passed when a 1d array was expected. Please change the shape of y to (n_samples,), for example using ravel().\n",
      "  model_trained.fit(X_train_fold,Y_train_fold)\n",
      "/home/josearangos/Documentos/Projects/Voice_Recognition/pipelines/Enfoque_Múltiples_Instancias/Multiples Instancias Parte 1/PIPELINE_CLASS.py:155: DataConversionWarning: A column-vector y was passed when a 1d array was expected. Please change the shape of y to (n_samples,), for example using ravel().\n",
      "  model_trained.fit(X_train_fold,Y_train_fold)\n",
      "/home/josearangos/Documentos/Projects/Voice_Recognition/pipelines/Enfoque_Múltiples_Instancias/Multiples Instancias Parte 1/PIPELINE_CLASS.py:155: DataConversionWarning: A column-vector y was passed when a 1d array was expected. Please change the shape of y to (n_samples,), for example using ravel().\n",
      "  model_trained.fit(X_train_fold,Y_train_fold)\n",
      "/home/josearangos/Documentos/Projects/Voice_Recognition/pipelines/Enfoque_Múltiples_Instancias/Multiples Instancias Parte 1/PIPELINE_CLASS.py:155: DataConversionWarning: A column-vector y was passed when a 1d array was expected. Please change the shape of y to (n_samples,), for example using ravel().\n",
      "  model_trained.fit(X_train_fold,Y_train_fold)\n",
      "/home/josearangos/Documentos/Projects/Voice_Recognition/pipelines/Enfoque_Múltiples_Instancias/Multiples Instancias Parte 1/PIPELINE_CLASS.py:155: DataConversionWarning: A column-vector y was passed when a 1d array was expected. Please change the shape of y to (n_samples,), for example using ravel().\n",
      "  model_trained.fit(X_train_fold,Y_train_fold)\n",
      "/home/josearangos/Documentos/Projects/Voice_Recognition/pipelines/Enfoque_Múltiples_Instancias/Multiples Instancias Parte 1/PIPELINE_CLASS.py:155: DataConversionWarning: A column-vector y was passed when a 1d array was expected. Please change the shape of y to (n_samples,), for example using ravel().\n",
      "  model_trained.fit(X_train_fold,Y_train_fold)\n",
      "/home/josearangos/Documentos/Projects/Voice_Recognition/pipelines/Enfoque_Múltiples_Instancias/Multiples Instancias Parte 1/PIPELINE_CLASS.py:155: DataConversionWarning: A column-vector y was passed when a 1d array was expected. Please change the shape of y to (n_samples,), for example using ravel().\n",
      "  model_trained.fit(X_train_fold,Y_train_fold)\n",
      "/home/josearangos/Documentos/Projects/Voice_Recognition/pipelines/Enfoque_Múltiples_Instancias/Multiples Instancias Parte 1/PIPELINE_CLASS.py:155: DataConversionWarning: A column-vector y was passed when a 1d array was expected. Please change the shape of y to (n_samples,), for example using ravel().\n",
      "  model_trained.fit(X_train_fold,Y_train_fold)\n"
     ]
    }
   ],
   "source": [
    "df_types = pd.DataFrame({\n",
    "    'max_depth' : pd.Series([10,10,10,10,10,10,20,20,20,20,20,20,30,30,30,30,30,30]),\n",
    "    'n_estimators' : pd.Series([400, 600, 800, 1000, 1800, 2000]*3)})\n",
    "\n",
    "df_types[\"Eficiencia en train\"] = \"\"\n",
    "df_types[\"Intervalo de confianza train\"] = \"\"\n",
    "df_types[\"Eficiencia en test\"] = \"\"\n",
    "df_types[\"Intervalo de confianza test\"] = \"\"\n",
    "\n",
    "df_types.set_index(['max_depth','n_estimators'], inplace=True)\n",
    "models_trained = []\n",
    "cont = 0\n",
    "for max_depth,n_estimators in df_types.index:\n",
    "    RandomTreeModel = RandomForestClassifier(max_depth=int(max_depth),n_estimators=int(n_estimators))\n",
    "    model_trained,eficiencia_Train,intervalo_Train,eficiencia_Test,intervalo_Test = PIPELINE.TRAIN(RandomTreeModel,label_request=True)\n",
    "    df_types[\"Eficiencia en train\"][cont] = str(eficiencia_Train)\n",
    "    df_types[\"Intervalo de confianza train\"][cont] =str(intervalo_Train)\n",
    "    df_types[\"Eficiencia en test\"][cont]=str(eficiencia_Test)\n",
    "    df_types[\"Intervalo de confianza test\"][cont]=str(intervalo_Test)\n",
    "    models_trained.append(model_trained)\n",
    "    cont = cont +1\n",
    "\n",
    "df_types.sort_index(inplace=True)\n",
    "qgrid_widget = qgrid.show_grid(df_types, show_toolbar=False)\n",
    "qgrid_widget"
   ]
  },
  {
   "cell_type": "code",
   "execution_count": 29,
   "metadata": {},
   "outputs": [
    {
     "data": {
      "text/html": [
       "<div>\n",
       "<style scoped>\n",
       "    .dataframe tbody tr th:only-of-type {\n",
       "        vertical-align: middle;\n",
       "    }\n",
       "\n",
       "    .dataframe tbody tr th {\n",
       "        vertical-align: top;\n",
       "    }\n",
       "\n",
       "    .dataframe thead th {\n",
       "        text-align: right;\n",
       "    }\n",
       "</style>\n",
       "<table border=\"1\" class=\"dataframe\">\n",
       "  <thead>\n",
       "    <tr style=\"text-align: right;\">\n",
       "      <th></th>\n",
       "      <th></th>\n",
       "      <th>Eficiencia en train</th>\n",
       "      <th>Intervalo de confianza train</th>\n",
       "      <th>Eficiencia en test</th>\n",
       "      <th>Intervalo de confianza test</th>\n",
       "    </tr>\n",
       "    <tr>\n",
       "      <th>max_depth</th>\n",
       "      <th>n_estimators</th>\n",
       "      <th></th>\n",
       "      <th></th>\n",
       "      <th></th>\n",
       "      <th></th>\n",
       "    </tr>\n",
       "  </thead>\n",
       "  <tbody>\n",
       "    <tr>\n",
       "      <th rowspan=\"6\" valign=\"top\">10</th>\n",
       "      <th>400</th>\n",
       "      <td></td>\n",
       "      <td></td>\n",
       "      <td></td>\n",
       "      <td></td>\n",
       "    </tr>\n",
       "    <tr>\n",
       "      <th>600</th>\n",
       "      <td></td>\n",
       "      <td></td>\n",
       "      <td></td>\n",
       "      <td></td>\n",
       "    </tr>\n",
       "    <tr>\n",
       "      <th>800</th>\n",
       "      <td></td>\n",
       "      <td></td>\n",
       "      <td></td>\n",
       "      <td></td>\n",
       "    </tr>\n",
       "    <tr>\n",
       "      <th>1000</th>\n",
       "      <td></td>\n",
       "      <td></td>\n",
       "      <td></td>\n",
       "      <td></td>\n",
       "    </tr>\n",
       "    <tr>\n",
       "      <th>1800</th>\n",
       "      <td></td>\n",
       "      <td></td>\n",
       "      <td></td>\n",
       "      <td></td>\n",
       "    </tr>\n",
       "    <tr>\n",
       "      <th>2000</th>\n",
       "      <td></td>\n",
       "      <td></td>\n",
       "      <td></td>\n",
       "      <td></td>\n",
       "    </tr>\n",
       "    <tr>\n",
       "      <th rowspan=\"6\" valign=\"top\">20</th>\n",
       "      <th>400</th>\n",
       "      <td></td>\n",
       "      <td></td>\n",
       "      <td></td>\n",
       "      <td></td>\n",
       "    </tr>\n",
       "    <tr>\n",
       "      <th>600</th>\n",
       "      <td></td>\n",
       "      <td></td>\n",
       "      <td></td>\n",
       "      <td></td>\n",
       "    </tr>\n",
       "    <tr>\n",
       "      <th>800</th>\n",
       "      <td></td>\n",
       "      <td></td>\n",
       "      <td></td>\n",
       "      <td></td>\n",
       "    </tr>\n",
       "    <tr>\n",
       "      <th>1000</th>\n",
       "      <td></td>\n",
       "      <td></td>\n",
       "      <td></td>\n",
       "      <td></td>\n",
       "    </tr>\n",
       "    <tr>\n",
       "      <th>1800</th>\n",
       "      <td></td>\n",
       "      <td></td>\n",
       "      <td></td>\n",
       "      <td></td>\n",
       "    </tr>\n",
       "    <tr>\n",
       "      <th>2000</th>\n",
       "      <td></td>\n",
       "      <td></td>\n",
       "      <td></td>\n",
       "      <td></td>\n",
       "    </tr>\n",
       "    <tr>\n",
       "      <th rowspan=\"6\" valign=\"top\">30</th>\n",
       "      <th>400</th>\n",
       "      <td></td>\n",
       "      <td></td>\n",
       "      <td></td>\n",
       "      <td></td>\n",
       "    </tr>\n",
       "    <tr>\n",
       "      <th>600</th>\n",
       "      <td></td>\n",
       "      <td></td>\n",
       "      <td></td>\n",
       "      <td></td>\n",
       "    </tr>\n",
       "    <tr>\n",
       "      <th>800</th>\n",
       "      <td></td>\n",
       "      <td></td>\n",
       "      <td></td>\n",
       "      <td></td>\n",
       "    </tr>\n",
       "    <tr>\n",
       "      <th>1000</th>\n",
       "      <td></td>\n",
       "      <td></td>\n",
       "      <td></td>\n",
       "      <td></td>\n",
       "    </tr>\n",
       "    <tr>\n",
       "      <th>1800</th>\n",
       "      <td></td>\n",
       "      <td></td>\n",
       "      <td></td>\n",
       "      <td></td>\n",
       "    </tr>\n",
       "    <tr>\n",
       "      <th>2000</th>\n",
       "      <td></td>\n",
       "      <td></td>\n",
       "      <td></td>\n",
       "      <td></td>\n",
       "    </tr>\n",
       "  </tbody>\n",
       "</table>\n",
       "</div>"
      ],
      "text/plain": [
       "                       Eficiencia en train Intervalo de confianza train  \\\n",
       "max_depth n_estimators                                                    \n",
       "10        400                                                             \n",
       "          600                                                             \n",
       "          800                                                             \n",
       "          1000                                                            \n",
       "          1800                                                            \n",
       "          2000                                                            \n",
       "20        400                                                             \n",
       "          600                                                             \n",
       "          800                                                             \n",
       "          1000                                                            \n",
       "          1800                                                            \n",
       "          2000                                                            \n",
       "30        400                                                             \n",
       "          600                                                             \n",
       "          800                                                             \n",
       "          1000                                                            \n",
       "          1800                                                            \n",
       "          2000                                                            \n",
       "\n",
       "                       Eficiencia en test Intervalo de confianza test  \n",
       "max_depth n_estimators                                                 \n",
       "10        400                                                          \n",
       "          600                                                          \n",
       "          800                                                          \n",
       "          1000                                                         \n",
       "          1800                                                         \n",
       "          2000                                                         \n",
       "20        400                                                          \n",
       "          600                                                          \n",
       "          800                                                          \n",
       "          1000                                                         \n",
       "          1800                                                         \n",
       "          2000                                                         \n",
       "30        400                                                          \n",
       "          600                                                          \n",
       "          800                                                          \n",
       "          1000                                                         \n",
       "          1800                                                         \n",
       "          2000                                                         "
      ]
     },
     "execution_count": 29,
     "metadata": {},
     "output_type": "execute_result"
    }
   ],
   "source": [
    "qgrid_widget.get_changed_df()"
   ]
  },
  {
   "cell_type": "code",
   "execution_count": null,
   "metadata": {},
   "outputs": [],
   "source": []
  },
  {
   "cell_type": "markdown",
   "metadata": {},
   "source": [
    "### La mejor combinación de parametros"
   ]
  },
  {
   "cell_type": "code",
   "execution_count": null,
   "metadata": {},
   "outputs": [],
   "source": [
    "best_model_trained = model_trained[<index_mejor_modelo>]"
   ]
  },
  {
   "cell_type": "markdown",
   "metadata": {},
   "source": [
    "## 2. Evalución mejor modelo con el conjunto de test"
   ]
  },
  {
   "cell_type": "code",
   "execution_count": 7,
   "metadata": {},
   "outputs": [
    {
     "name": "stdout",
     "output_type": "stream",
     "text": [
      "Accuracy:  0.21875 \n",
      "\n",
      "\n",
      "classification report :\n",
      "               precision    recall  f1-score   support\n",
      "\n",
      "         0.0       0.23      0.21      0.22        43\n",
      "         1.0       0.13      0.18      0.15        44\n",
      "         2.0       0.30      0.65      0.41        49\n",
      "         3.0       0.00      0.00      0.00        41\n",
      "         4.0       0.00      0.00      0.00        47\n",
      "\n",
      "    accuracy                           0.22       224\n",
      "   macro avg       0.13      0.21      0.16       224\n",
      "weighted avg       0.13      0.22      0.16       224\n",
      "\n"
     ]
    },
    {
     "name": "stderr",
     "output_type": "stream",
     "text": [
      "/home/josearangos/anaconda3/lib/python3.7/site-packages/sklearn/metrics/_classification.py:1272: UndefinedMetricWarning: Precision and F-score are ill-defined and being set to 0.0 in labels with no predicted samples. Use `zero_division` parameter to control this behavior.\n",
      "  _warn_prf(average, modifier, msg_start, len(result))\n"
     ]
    },
    {
     "data": {
      "image/png": "[encoded data removed]",
      "text/plain": [
       "<Figure size 720x720 with 2 Axes>"
      ]
     },
     "metadata": {
      "needs_background": "light"
     },
     "output_type": "display_data"
    },
    {
     "name": "stdout",
     "output_type": "stream",
     "text": [
      "              precision    recall  f1-score   support\n",
      "\n",
      "         0.0       0.23      0.21      0.22        43\n",
      "         1.0       0.13      0.18      0.15        44\n",
      "         2.0       0.30      0.65      0.41        49\n",
      "         3.0       0.00      0.00      0.00        41\n",
      "         4.0       0.00      0.00      0.00        47\n",
      "\n",
      "    accuracy                           0.22       224\n",
      "   macro avg       0.13      0.21      0.16       224\n",
      "weighted avg       0.13      0.22      0.16       224\n",
      "\n"
     ]
    }
   ],
   "source": [
    "report = PIPELINE.confusion_matrix_Metrics(best_model_trained)\n",
    "print(report)"
   ]
  },
  {
   "cell_type": "markdown",
   "metadata": {},
   "source": [
    "## Learning Curve"
   ]
  },
  {
   "cell_type": "code",
   "execution_count": 8,
   "metadata": {},
   "outputs": [
    {
     "name": "stderr",
     "output_type": "stream",
     "text": [
      "/home/josearangos/anaconda3/lib/python3.7/site-packages/sklearn/mixture/_base.py:267: ConvergenceWarning: Initialization 1 did not converge. Try different init parameters, or increase max_iter, tol or check for degenerate data.\n",
      "  % (init + 1), ConvergenceWarning)\n",
      "/home/josearangos/anaconda3/lib/python3.7/site-packages/sklearn/mixture/_base.py:267: ConvergenceWarning: Initialization 1 did not converge. Try different init parameters, or increase max_iter, tol or check for degenerate data.\n",
      "  % (init + 1), ConvergenceWarning)\n",
      "/home/josearangos/anaconda3/lib/python3.7/site-packages/sklearn/mixture/_base.py:267: ConvergenceWarning: Initialization 1 did not converge. Try different init parameters, or increase max_iter, tol or check for degenerate data.\n",
      "  % (init + 1), ConvergenceWarning)\n",
      "/home/josearangos/anaconda3/lib/python3.7/site-packages/sklearn/mixture/_base.py:267: ConvergenceWarning: Initialization 1 did not converge. Try different init parameters, or increase max_iter, tol or check for degenerate data.\n",
      "  % (init + 1), ConvergenceWarning)\n",
      "/home/josearangos/anaconda3/lib/python3.7/site-packages/sklearn/mixture/_base.py:267: ConvergenceWarning: Initialization 1 did not converge. Try different init parameters, or increase max_iter, tol or check for degenerate data.\n",
      "  % (init + 1), ConvergenceWarning)\n",
      "/home/josearangos/anaconda3/lib/python3.7/site-packages/sklearn/mixture/_base.py:267: ConvergenceWarning: Initialization 1 did not converge. Try different init parameters, or increase max_iter, tol or check for degenerate data.\n",
      "  % (init + 1), ConvergenceWarning)\n",
      "/home/josearangos/anaconda3/lib/python3.7/site-packages/sklearn/mixture/_base.py:267: ConvergenceWarning: Initialization 1 did not converge. Try different init parameters, or increase max_iter, tol or check for degenerate data.\n",
      "  % (init + 1), ConvergenceWarning)\n",
      "/home/josearangos/anaconda3/lib/python3.7/site-packages/sklearn/mixture/_base.py:267: ConvergenceWarning: Initialization 1 did not converge. Try different init parameters, or increase max_iter, tol or check for degenerate data.\n",
      "  % (init + 1), ConvergenceWarning)\n",
      "/home/josearangos/anaconda3/lib/python3.7/site-packages/sklearn/mixture/_base.py:267: ConvergenceWarning: Initialization 1 did not converge. Try different init parameters, or increase max_iter, tol or check for degenerate data.\n",
      "  % (init + 1), ConvergenceWarning)\n",
      "/home/josearangos/anaconda3/lib/python3.7/site-packages/sklearn/mixture/_base.py:267: ConvergenceWarning: Initialization 1 did not converge. Try different init parameters, or increase max_iter, tol or check for degenerate data.\n",
      "  % (init + 1), ConvergenceWarning)\n",
      "/home/josearangos/anaconda3/lib/python3.7/site-packages/sklearn/mixture/_base.py:267: ConvergenceWarning: Initialization 1 did not converge. Try different init parameters, or increase max_iter, tol or check for degenerate data.\n",
      "  % (init + 1), ConvergenceWarning)\n",
      "/home/josearangos/anaconda3/lib/python3.7/site-packages/sklearn/mixture/_base.py:267: ConvergenceWarning: Initialization 1 did not converge. Try different init parameters, or increase max_iter, tol or check for degenerate data.\n",
      "  % (init + 1), ConvergenceWarning)\n",
      "/home/josearangos/anaconda3/lib/python3.7/site-packages/sklearn/mixture/_base.py:267: ConvergenceWarning: Initialization 1 did not converge. Try different init parameters, or increase max_iter, tol or check for degenerate data.\n",
      "  % (init + 1), ConvergenceWarning)\n",
      "/home/josearangos/anaconda3/lib/python3.7/site-packages/sklearn/mixture/_base.py:267: ConvergenceWarning: Initialization 1 did not converge. Try different init parameters, or increase max_iter, tol or check for degenerate data.\n",
      "  % (init + 1), ConvergenceWarning)\n",
      "/home/josearangos/anaconda3/lib/python3.7/site-packages/sklearn/mixture/_base.py:267: ConvergenceWarning: Initialization 1 did not converge. Try different init parameters, or increase max_iter, tol or check for degenerate data.\n",
      "  % (init + 1), ConvergenceWarning)\n",
      "/home/josearangos/anaconda3/lib/python3.7/site-packages/sklearn/mixture/_base.py:267: ConvergenceWarning: Initialization 1 did not converge. Try different init parameters, or increase max_iter, tol or check for degenerate data.\n",
      "  % (init + 1), ConvergenceWarning)\n"
     ]
    },
    {
     "data": {
      "image/png": "[encoded data removed]",
      "text/plain": [
       "<Figure size 1008x648 with 1 Axes>"
      ]
     },
     "metadata": {
      "needs_background": "light"
     },
     "output_type": "display_data"
    }
   ],
   "source": [
    "df_split_params = PIPELINE.learning_curve(best_model_trained,suptitle='', title='', xlabel='Training Set Size', ylabel='Acurracy')"
   ]
  }
 ],
 "metadata": {
  "kernelspec": {
   "display_name": "Python 3",
   "language": "python",
   "name": "python3"
  },
  "language_info": {
   "codemirror_mode": {
    "name": "ipython",
    "version": 3
   },
   "file_extension": ".py",
   "mimetype": "text/x-python",
   "name": "python",
   "nbconvert_exporter": "python",
   "pygments_lexer": "ipython3",
   "version": "3.7.4"
  }
 },
 "nbformat": 4,
 "nbformat_minor": 2
}
