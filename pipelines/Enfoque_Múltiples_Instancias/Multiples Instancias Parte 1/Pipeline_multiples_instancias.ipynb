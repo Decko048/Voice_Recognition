{
 "cells": [
  {
   "cell_type": "code",
   "execution_count": 33,
   "metadata": {},
   "outputs": [],
   "source": [
    "import IPython\n",
    "import matplotlib.pyplot as plt\n",
    "import numpy as np\n",
    "import pandas as pd\n",
    "import math\n",
    "import scipy as sc\n",
    "from scipy import stats\n",
    "from matplotlib.ticker import FuncFormatter\n",
    "from sklearn.model_selection import GridSearchCV\n",
    "from sklearn.model_selection import GroupShuffleSplit\n",
    "from sklearn.metrics import make_scorer, accuracy_score, precision_score,recall_score, f1_score\n",
    "from sklearn.metrics import classification_report,confusion_matrix,accuracy_score,roc_curve,auc\n",
    "import seaborn as sns\n",
    "import numpy_indexed as npi"
   ]
  },
  {
   "cell_type": "markdown",
   "metadata": {},
   "source": [
    "### Leer dataset"
   ]
  },
  {
   "cell_type": "code",
   "execution_count": 137,
   "metadata": {},
   "outputs": [],
   "source": [
    "PATHDATA_MFFC_AVG = '../../data/audios_MFCC_average_5000.csv'\n",
    "df = pd.read_csv(PATHDATA_MFFC_AVG, header = None)\n",
    "data = df.values #Convertimos en un  numpy array"
   ]
  },
  {
   "cell_type": "code",
   "execution_count": 138,
   "metadata": {},
   "outputs": [
    {
     "name": "stdout",
     "output_type": "stream",
     "text": [
      "Tamaño dataSet (5000, 20)\n",
      "\n",
      "\n"
     ]
    }
   ],
   "source": [
    "X = data[:,0:-3]\n",
    "Y = data[:,-2]\n",
    "print('Tamaño dataSet', X.shape)\n",
    "print('\\n')\n",
    "Y=  np.reshape(Y,(np.size(Y,0),1))\n",
    "groups = data[:,-1]\n",
    "tracks = data[:,-3:-2]"
   ]
  },
  {
   "cell_type": "markdown",
   "metadata": {},
   "source": [
    "### Número de clases"
   ]
  },
  {
   "cell_type": "code",
   "execution_count": 139,
   "metadata": {},
   "outputs": [
    {
     "name": "stdout",
     "output_type": "stream",
     "text": [
      "Número de clases: 5\n"
     ]
    }
   ],
   "source": [
    "n_classes=len(np.unique(Y))\n",
    "print('Número de clases:', n_classes)"
   ]
  },
  {
   "cell_type": "markdown",
   "metadata": {},
   "source": [
    "### Número de hablantes"
   ]
  },
  {
   "cell_type": "code",
   "execution_count": 140,
   "metadata": {},
   "outputs": [
    {
     "name": "stdout",
     "output_type": "stream",
     "text": [
      "Número de hablantes diferentes 70\n"
     ]
    }
   ],
   "source": [
    "n_groups = len(np.unique(groups))\n",
    "print('Número de hablantes diferentes', n_groups)"
   ]
  },
  {
   "cell_type": "markdown",
   "metadata": {},
   "source": [
    "### Número de Audios"
   ]
  },
  {
   "cell_type": "code",
   "execution_count": 141,
   "metadata": {},
   "outputs": [
    {
     "name": "stdout",
     "output_type": "stream",
     "text": [
      "Número de audios diferentes 500\n"
     ]
    }
   ],
   "source": [
    "n_tracks = len(np.unique(tracks))\n",
    "print('Número de audios diferentes',n_tracks)"
   ]
  },
  {
   "cell_type": "markdown",
   "metadata": {},
   "source": [
    "## Dividir el dataset (train/test) 0.8/0.2"
   ]
  },
  {
   "cell_type": "code",
   "execution_count": 142,
   "metadata": {},
   "outputs": [],
   "source": [
    "gss = GroupShuffleSplit(n_splits=1, test_size=0.2, random_state=0)\n",
    "gss.get_n_splits()\n",
    "for train_index, test_index in gss.split(X, Y, groups=groups):\n",
    "    X_train_original, X_test__original = X[train_index], X[test_index]\n",
    "    #print(X_train, X_test)\n",
    "    Y_train__original, Y_test__original = Y[train_index], Y[test_index]\n",
    "    #print(y_train, y_test)\n",
    "    groups_original = groups[train_index]\n",
    "    groups_test_original=groups[test_index]\n",
    "    tracks_train_original = tracks[train_index]\n",
    "    tracks_test_original = tracks[test_index]   "
   ]
  },
  {
   "cell_type": "markdown",
   "metadata": {},
   "source": [
    "### Número de clases en test"
   ]
  },
  {
   "cell_type": "code",
   "execution_count": 143,
   "metadata": {},
   "outputs": [
    {
     "name": "stdout",
     "output_type": "stream",
     "text": [
      "Número de clases: 5\n"
     ]
    }
   ],
   "source": [
    "n_classes_test=len(np.unique(Y_test__original))\n",
    "print('Número de clases:', n_classes_test)"
   ]
  },
  {
   "cell_type": "code",
   "execution_count": 144,
   "metadata": {},
   "outputs": [
    {
     "data": {
      "text/plain": [
       "(4120,)"
      ]
     },
     "execution_count": 144,
     "metadata": {},
     "output_type": "execute_result"
    }
   ],
   "source": [
    "groups_original.shape"
   ]
  },
  {
   "cell_type": "code",
   "execution_count": 145,
   "metadata": {},
   "outputs": [
    {
     "data": {
      "text/plain": [
       "(4120, 20)"
      ]
     },
     "execution_count": 145,
     "metadata": {},
     "output_type": "execute_result"
    }
   ],
   "source": [
    "X_train_original.shape"
   ]
  },
  {
   "cell_type": "code",
   "execution_count": 146,
   "metadata": {},
   "outputs": [
    {
     "data": {
      "text/plain": [
       "(4120, 1)"
      ]
     },
     "execution_count": 146,
     "metadata": {},
     "output_type": "execute_result"
    }
   ],
   "source": [
    "Y_train__original.shape"
   ]
  },
  {
   "cell_type": "code",
   "execution_count": 147,
   "metadata": {},
   "outputs": [
    {
     "data": {
      "text/plain": [
       "(4120, 1)"
      ]
     },
     "execution_count": 147,
     "metadata": {},
     "output_type": "execute_result"
    }
   ],
   "source": [
    "tracks_train_original.shape"
   ]
  },
  {
   "cell_type": "code",
   "execution_count": 148,
   "metadata": {},
   "outputs": [],
   "source": [
    "FOLDS = 10\n",
    "TRAIN_SIZE = 0.8"
   ]
  },
  {
   "cell_type": "code",
   "execution_count": 149,
   "metadata": {},
   "outputs": [],
   "source": [
    "def build_model(model, parameters, folds, train_size, X,Y,groups_original):\n",
    "    acc_scorer = make_scorer(accuracy_score)\n",
    "    recalls = make_scorer(recall_score,average='micro')##buscar por que micro\n",
    "    precision = make_scorer(precision_score,average='micro')\n",
    "    f1 = make_scorer(f1_score,average='micro')\n",
    "    scores =  {'recalls':recalls,'precision':precision,'f1':f1,'Accuracy': make_scorer(accuracy_score)}\n",
    "    gss = GroupShuffleSplit(n_splits=folds, train_size=train_size, random_state=0)\n",
    "    model = GridSearchCV(model,parameters,scores,-1,refit='Accuracy',return_train_score=True, cv=gss.split(X, Y, groups=groups_original))\n",
    "    model.fit(X,Y)\n",
    "    return model "
   ]
  },
  {
   "cell_type": "code",
   "execution_count": 150,
   "metadata": {},
   "outputs": [],
   "source": [
    "def Metrics(model,X_test,Y_test,tracks_test,clases):\n",
    "    y_predicted = model.predict(X_test)\n",
    "        \n",
    "    y_predicted_with_tracks = np.column_stack((y_predicted,tracks_test))\n",
    "    \n",
    "    \n",
    "    index_tracks = np.unique(tracks_test)    \n",
    "    \n",
    "\n",
    "    groups = npi.group_by(y_predicted_with_tracks[:,1])\n",
    "    \n",
    "    \n",
    "    data_prediction_by_track = groups.split(y_predicted_with_tracks[:,0]) \n",
    "    \n",
    "    \n",
    "    mode_predict, count_predict = stats.mode(data_prediction_by_track,axis=1)\n",
    "    \n",
    "    \n",
    "    #Clasificación real\n",
    "    \n",
    "    y_real_with_tracks = np.column_stack((Y_test,tracks_test))\n",
    "    \n",
    "    \n",
    "    real_class = npi.group_by(y_real_with_tracks[:,1]).split(y_real_with_tracks[:,0])\n",
    "    \n",
    "    mode_real, count_real = stats.mode(real_class,axis=1)\n",
    "    \n",
    "  \n",
    "    print('Accuracy: ', accuracy_score(mode_real, mode_predict), '\\n')\n",
    "    report = classification_report(mode_real, mode_predict)\n",
    "    print(\"\\nclassification report :\\n\",report )\n",
    "     # Matriz de confusión\n",
    "    cm = confusion_matrix(mode_real, mode_predict)\n",
    "      # Normalise\n",
    "    cmn = cm.astype('float') / cm.sum(axis=1)[:, np.newaxis]\n",
    "    fig, ax = plt.subplots(figsize=(10,10))\n",
    "\n",
    "    sns.heatmap(cmn, annot=True, fmt='.2f', xticklabels=clases, yticklabels=clases)\n",
    "    plt.ylabel('Actual')\n",
    "    plt.xlabel('Predicted')\n",
    "    ax.set_ylim(sorted(ax.get_xlim(), reverse=True))\n",
    "    plt.show(block=False)     \n",
    "\n",
    "    return report"
   ]
  },
  {
   "cell_type": "markdown",
   "metadata": {},
   "source": [
    "# GaussianMixture (GMM) "
   ]
  },
  {
   "cell_type": "markdown",
   "metadata": {},
   "source": [
    "## 1. Mejor modelo"
   ]
  },
  {
   "cell_type": "markdown",
   "metadata": {},
   "source": [
    "Usamos X_train_original y Y_train__original para seleccionar la mejor combinación de parametros y posteriormente validar dichos resultados con el conjunto X_test__original y Y_test__original.\n",
    "\n",
    "<b>Nota:</b> el conjunto X_train_original se divide en dos conjuntos train y dev a una proporción de 80 a 20.\n"
   ]
  },
  {
   "cell_type": "code",
   "execution_count": 151,
   "metadata": {},
   "outputs": [
    {
     "name": "stdout",
     "output_type": "stream",
     "text": [
      "{'covariance_type': 'diag', 'n_components': 5}\n"
     ]
    }
   ],
   "source": [
    "parameters ={'n_components' : [2,3,4,5,6,7,8,9,10],'covariance_type': ['tied','full','spherical','diag']}\n",
    "GMM =GaussianMixture()#Configurar el modelo\n",
    "model_trained_gmm = build_model(GMM, parameters, FOLDS, TRAIN_SIZE, X_train_original,Y_train__original,groups_original)\n",
    "best_params_gmm = model_trained_gmm.cv_results_['params'][model_trained_gmm.best_index_]\n",
    "print(best_params_gmm)"
   ]
  },
  {
   "cell_type": "code",
   "execution_count": 152,
   "metadata": {},
   "outputs": [
    {
     "name": "stdout",
     "output_type": "stream",
     "text": [
      "Resultados mejor modelo:  {'covariance_type': 'diag', 'n_components': 5}\n"
     ]
    },
    {
     "data": {
      "text/plain": [
       "[{'mean_train_Accuracy': 0.21190305842358576},\n",
       " {'mean_test_Accuracy': 0.21371404992522539},\n",
       " {'std_train_Accuracy': 0.022066017407725878},\n",
       " {'std_test_Accuracy': 0.03331123379892407}]"
      ]
     },
     "execution_count": 152,
     "metadata": {},
     "output_type": "execute_result"
    }
   ],
   "source": [
    "params_acurracy = ['mean_train_Accuracy','mean_test_Accuracy','std_train_Accuracy','std_test_Accuracy']\n",
    "best_acurracy_gmm = []\n",
    "for p in params_acurracy:\n",
    "    parameter_acurracy =model_trained_gmm.cv_results_[p][model_trained_gmm.best_index_]\n",
    "    best_acurracy_gmm.append({p:parameter_acurracy})\n",
    "print(\"Resultados mejor modelo: \", best_params_gmm)\n",
    "best_acurracy_gmm"
   ]
  },
  {
   "cell_type": "markdown",
   "metadata": {},
   "source": [
    "## 2. Evalución mejor modelo con el conjunto de test"
   ]
  },
  {
   "cell_type": "markdown",
   "metadata": {},
   "source": [
    "<b>Nota:</b> Usamos los conjuntos X_test__original y Y_test__original para evaluar el comportamiento del mejor modelo con datos"
   ]
  },
  {
   "cell_type": "code",
   "execution_count": 153,
   "metadata": {},
   "outputs": [
    {
     "name": "stdout",
     "output_type": "stream",
     "text": [
      "Accuracy:  0.18181818181818182 \n",
      "\n",
      "\n",
      "classification report :\n",
      "               precision    recall  f1-score   support\n",
      "\n",
      "         0.0       0.06      0.09      0.07        11\n",
      "         1.0       0.33      0.06      0.11        16\n",
      "         2.0       0.15      0.15      0.15        20\n",
      "         3.0       0.00      0.00      0.00        20\n",
      "         4.0       0.23      0.52      0.32        21\n",
      "\n",
      "    accuracy                           0.18        88\n",
      "   macro avg       0.16      0.17      0.13        88\n",
      "weighted avg       0.16      0.18      0.14        88\n",
      "\n"
     ]
    },
    {
     "data": {
      "image/png": "[encoded data removed]",
      "text/plain": [
       "<Figure size 720x720 with 2 Axes>"
      ]
     },
     "metadata": {
      "needs_background": "light"
     },
     "output_type": "display_data"
    }
   ],
   "source": [
    "gmm_best_estimator = model_trained_gmm.best_estimator_\n",
    "metrics = Metrics(gmm_best_estimator,X_test__original,Y_test__original,tracks_test_original,n_classes_test)"
   ]
  },
  {
   "cell_type": "code",
   "execution_count": null,
   "metadata": {},
   "outputs": [],
   "source": []
  }
 ],
 "metadata": {
  "kernelspec": {
   "display_name": "Python 3",
   "language": "python",
   "name": "python3"
  },
  "language_info": {
   "codemirror_mode": {
    "name": "ipython",
    "version": 3
   },
   "file_extension": ".py",
   "mimetype": "text/x-python",
   "name": "python",
   "nbconvert_exporter": "python",
   "pygments_lexer": "ipython3",
   "version": "3.7.4"
  }
 },
 "nbformat": 4,
 "nbformat_minor": 2
}
