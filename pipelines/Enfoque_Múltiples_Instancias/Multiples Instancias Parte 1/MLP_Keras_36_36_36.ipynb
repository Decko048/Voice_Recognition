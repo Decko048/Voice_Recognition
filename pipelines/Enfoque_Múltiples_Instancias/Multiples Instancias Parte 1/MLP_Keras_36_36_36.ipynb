{
 "cells": [
  {
   "cell_type": "code",
   "execution_count": 3,
   "metadata": {},
   "outputs": [],
   "source": [
    "import numpy as np\n",
    "import matplotlib.pyplot as plt\n",
    "import warnings; warnings.simplefilter('ignore')\n",
    "import tensorflow as tf\n",
    "import IPython\n",
    "import matplotlib.pyplot as plt\n",
    "import numpy as np\n",
    "import pandas as pd\n",
    "from sklearn.ensemble import RandomForestClassifier\n",
    "import import_ipynb\n",
    "from sklearn.model_selection import GroupShuffleSplit\n",
    "import numpy_indexed as npi\n",
    "from scipy import stats\n",
    "from sklearn.metrics import make_scorer, accuracy_score, precision_score,recall_score, f1_score\n",
    "from sklearn.metrics import classification_report,confusion_matrix,accuracy_score,roc_curve,auc\n",
    "import seaborn as sns\n",
    "from tensorflow.keras.models import Sequential\n",
    "from tensorflow.keras.layers import Dense, Activation\n",
    "from tensorflow.keras import optimizers\n",
    "from tensorflow.keras import utils"
   ]
  },
  {
   "cell_type": "code",
   "execution_count": 4,
   "metadata": {},
   "outputs": [],
   "source": [
    "#!pip install keras"
   ]
  },
  {
   "cell_type": "code",
   "execution_count": 5,
   "metadata": {},
   "outputs": [],
   "source": [
    "PATHDATA_MFFC_AVG = '../../../data/mfccs_cvs/audios_MFCC_average_15000_tracks.csv'\n",
    "df = pd.read_csv(PATHDATA_MFFC_AVG, header = None)\n",
    "data = df.values #Convertimos en un  numpy array"
   ]
  },
  {
   "cell_type": "code",
   "execution_count": 6,
   "metadata": {},
   "outputs": [],
   "source": [
    "FOLDS = 10\n",
    "TRAIN_SIZE = 0.8"
   ]
  },
  {
   "cell_type": "code",
   "execution_count": 7,
   "metadata": {},
   "outputs": [
    {
     "name": "stdout",
     "output_type": "stream",
     "text": [
      "Tamaño dataSet (161602, 20)\n",
      "\n",
      "\n"
     ]
    }
   ],
   "source": [
    "X = data[:,0:-3]\n",
    "Y = data[:,-2]\n",
    "print('Tamaño dataSet', X.shape)\n",
    "print('\\n')\n",
    "Y = np.reshape(Y,(np.size(Y,0),1))\n",
    "groups = data[:,-1]\n",
    "tracks = data[:,-3:-2]"
   ]
  },
  {
   "cell_type": "code",
   "execution_count": 8,
   "metadata": {},
   "outputs": [],
   "source": [
    "def splitDataSet(X,Y,groups,tracks,test_size):              \n",
    "        gss = GroupShuffleSplit(n_splits=1, test_size=test_size, random_state=0)\n",
    "        gss.get_n_splits()\n",
    "        returns = []\n",
    "        for train_index, test_index in gss.split(X, Y, groups=groups):\n",
    "            X_train_original, X_test_original = X[train_index], X[test_index]\n",
    "            #print(X_train, X_test)\n",
    "            Y_train__original, Y_test_original = Y[train_index], Y[test_index]\n",
    "            #print(y_train, y_test)\n",
    "            groups_original = groups[train_index]\n",
    "            groups_test_original=groups[test_index]\n",
    "            tracks_train_original = tracks[train_index]\n",
    "            tracks_test_original = tracks[test_index]              \n",
    "            returns.append(X_train_original)\n",
    "            returns.append(Y_train__original)\n",
    "            returns.append(X_test_original)\n",
    "            returns.append(Y_test_original)\n",
    "            returns.append(tracks_train_original)\n",
    "            returns.append(tracks_test_original)\n",
    "            returns.append(groups_original)\n",
    "            returns.append(groups_test_original)    \n",
    "              \n",
    "        return returns"
   ]
  },
  {
   "cell_type": "code",
   "execution_count": 9,
   "metadata": {},
   "outputs": [],
   "source": [
    "data_train = splitDataSet(X=X,Y=Y,groups=groups,tracks=tracks,test_size=1-TRAIN_SIZE)"
   ]
  },
  {
   "cell_type": "code",
   "execution_count": 10,
   "metadata": {},
   "outputs": [],
   "source": [
    "X_train_original = data_train[0]\n",
    "Y_train__original=data_train[1]\n",
    "X_test_original=data_train[2]\n",
    "Y_test_original=data_train[3]\n",
    "tracks_train_original=data_train[4]\n",
    "tracks_test_original=data_train[5]\n",
    "groups_original=data_train[6]\n",
    "groups_test_original=data_train[7]"
   ]
  },
  {
   "cell_type": "code",
   "execution_count": 11,
   "metadata": {},
   "outputs": [
    {
     "data": {
      "text/plain": [
       "(127740, 20)"
      ]
     },
     "execution_count": 11,
     "metadata": {},
     "output_type": "execute_result"
    }
   ],
   "source": [
    "X_train_original.shape"
   ]
  },
  {
   "cell_type": "code",
   "execution_count": 12,
   "metadata": {},
   "outputs": [
    {
     "data": {
      "text/plain": [
       "(33862, 1)"
      ]
     },
     "execution_count": 12,
     "metadata": {},
     "output_type": "execute_result"
    }
   ],
   "source": [
    "Y_test_original.shape"
   ]
  },
  {
   "cell_type": "code",
   "execution_count": 13,
   "metadata": {},
   "outputs": [],
   "source": [
    "y_trainOHE = utils.to_categorical(Y_train__original)"
   ]
  },
  {
   "cell_type": "code",
   "execution_count": 14,
   "metadata": {},
   "outputs": [
    {
     "data": {
      "text/plain": [
       "array([[0., 0., 0., 0., 1.],\n",
       "       [0., 0., 0., 0., 1.],\n",
       "       [0., 0., 0., 0., 1.],\n",
       "       ...,\n",
       "       [0., 1., 0., 0., 0.],\n",
       "       [0., 1., 0., 0., 0.],\n",
       "       [0., 1., 0., 0., 0.]], dtype=float32)"
      ]
     },
     "execution_count": 14,
     "metadata": {},
     "output_type": "execute_result"
    }
   ],
   "source": [
    "y_trainOHE"
   ]
  },
  {
   "cell_type": "code",
   "execution_count": 15,
   "metadata": {},
   "outputs": [
    {
     "data": {
      "text/plain": [
       "(127740, 5)"
      ]
     },
     "execution_count": 15,
     "metadata": {},
     "output_type": "execute_result"
    }
   ],
   "source": [
    "y_trainOHE.shape"
   ]
  },
  {
   "cell_type": "code",
   "execution_count": 16,
   "metadata": {},
   "outputs": [],
   "source": [
    "input_dim = X_train_original.shape[1]"
   ]
  },
  {
   "cell_type": "code",
   "execution_count": 17,
   "metadata": {},
   "outputs": [
    {
     "data": {
      "text/plain": [
       "20"
      ]
     },
     "execution_count": 17,
     "metadata": {},
     "output_type": "execute_result"
    }
   ],
   "source": [
    "input_dim"
   ]
  },
  {
   "cell_type": "code",
   "execution_count": 18,
   "metadata": {},
   "outputs": [
    {
     "data": {
      "text/plain": [
       "5"
      ]
     },
     "execution_count": 18,
     "metadata": {},
     "output_type": "execute_result"
    }
   ],
   "source": [
    "nb_classes = y_trainOHE.shape[1]\n",
    "nb_classes"
   ]
  },
  {
   "cell_type": "markdown",
   "metadata": {},
   "source": [
    "## Define the network architecture using keras"
   ]
  },
  {
   "cell_type": "code",
   "execution_count": 19,
   "metadata": {},
   "outputs": [
    {
     "name": "stdout",
     "output_type": "stream",
     "text": [
      "WARNING:tensorflow:From /home/josearangos/anaconda3/lib/python3.7/site-packages/tensorflow/python/ops/init_ops.py:1251: calling VarianceScaling.__init__ (from tensorflow.python.ops.init_ops) with dtype is deprecated and will be removed in a future version.\n",
      "Instructions for updating:\n",
      "Call initializer instance with the dtype argument instead of passing it to the constructor\n"
     ]
    }
   ],
   "source": [
    "model = Sequential()\n",
    "model.add(Dense(34, input_dim=input_dim))\n",
    "model.add(Activation('relu'))\n",
    "model.add(Dense(34))\n",
    "model.add(Activation('relu'))\n",
    "model.add(Dense(34))\n",
    "model.add(Activation('relu'))\n",
    "model.add(Dense(nb_classes, activation='softmax'))"
   ]
  },
  {
   "cell_type": "code",
   "execution_count": 20,
   "metadata": {},
   "outputs": [
    {
     "name": "stdout",
     "output_type": "stream",
     "text": [
      "Model: \"sequential\"\n",
      "_________________________________________________________________\n",
      "Layer (type)                 Output Shape              Param #   \n",
      "=================================================================\n",
      "dense (Dense)                (None, 34)                714       \n",
      "_________________________________________________________________\n",
      "activation (Activation)      (None, 34)                0         \n",
      "_________________________________________________________________\n",
      "dense_1 (Dense)              (None, 34)                1190      \n",
      "_________________________________________________________________\n",
      "activation_1 (Activation)    (None, 34)                0         \n",
      "_________________________________________________________________\n",
      "dense_2 (Dense)              (None, 34)                1190      \n",
      "_________________________________________________________________\n",
      "activation_2 (Activation)    (None, 34)                0         \n",
      "_________________________________________________________________\n",
      "dense_3 (Dense)              (None, 5)                 175       \n",
      "=================================================================\n",
      "Total params: 3,269\n",
      "Trainable params: 3,269\n",
      "Non-trainable params: 0\n",
      "_________________________________________________________________\n"
     ]
    }
   ],
   "source": [
    "model.summary()"
   ]
  },
  {
   "cell_type": "markdown",
   "metadata": {},
   "source": [
    "# loss function and optimizer"
   ]
  },
  {
   "cell_type": "code",
   "execution_count": 22,
   "metadata": {},
   "outputs": [],
   "source": [
    "model.compile(loss='categorical_crossentropy', optimizer='adam',metrics=['accuracy'])"
   ]
  },
  {
   "cell_type": "markdown",
   "metadata": {},
   "source": [
    "# Training"
   ]
  },
  {
   "cell_type": "code",
   "execution_count": 23,
   "metadata": {
    "scrolled": true
   },
   "outputs": [
    {
     "name": "stdout",
     "output_type": "stream",
     "text": [
      "Training...\n",
      "Train on 114966 samples, validate on 12774 samples\n",
      "Epoch 1/50\n",
      "114966/114966 - 3s - loss: 2.0598 - acc: 0.3218 - val_loss: 2.7517 - val_acc: 0.0320\n",
      "Epoch 2/50\n",
      "114966/114966 - 2s - loss: 1.4485 - acc: 0.3648 - val_loss: 1.4759 - val_acc: 0.3197\n",
      "Epoch 3/50\n",
      "114966/114966 - 2s - loss: 1.4098 - acc: 0.3787 - val_loss: 2.0261 - val_acc: 0.1191\n",
      "Epoch 4/50\n",
      "114966/114966 - 2s - loss: 1.3906 - acc: 0.3883 - val_loss: 1.8979 - val_acc: 0.1550\n",
      "Epoch 5/50\n",
      "114966/114966 - 3s - loss: 1.3770 - acc: 0.3942 - val_loss: 1.9314 - val_acc: 0.1534\n",
      "Epoch 6/50\n",
      "114966/114966 - 2s - loss: 1.3664 - acc: 0.3986 - val_loss: 2.3997 - val_acc: 0.0669\n",
      "Epoch 7/50\n",
      "114966/114966 - 2s - loss: 1.3546 - acc: 0.4030 - val_loss: 1.9205 - val_acc: 0.1231\n",
      "Epoch 8/50\n",
      "114966/114966 - 3s - loss: 1.3486 - acc: 0.4059 - val_loss: 1.8917 - val_acc: 0.1422\n",
      "Epoch 9/50\n",
      "114966/114966 - 4s - loss: 1.3402 - acc: 0.4093 - val_loss: 1.9125 - val_acc: 0.1623\n",
      "Epoch 10/50\n",
      "114966/114966 - 3s - loss: 1.3363 - acc: 0.4114 - val_loss: 2.0413 - val_acc: 0.1182\n",
      "Epoch 11/50\n",
      "114966/114966 - 4s - loss: 1.3319 - acc: 0.4124 - val_loss: 2.2847 - val_acc: 0.0690\n",
      "Epoch 12/50\n",
      "114966/114966 - 3s - loss: 1.3269 - acc: 0.4169 - val_loss: 1.5987 - val_acc: 0.2375\n",
      "Epoch 13/50\n",
      "114966/114966 - 4s - loss: 1.3230 - acc: 0.4178 - val_loss: 1.7236 - val_acc: 0.2060\n",
      "Epoch 14/50\n",
      "114966/114966 - 4s - loss: 1.3191 - acc: 0.4190 - val_loss: 2.1966 - val_acc: 0.0787\n",
      "Epoch 15/50\n",
      "114966/114966 - 4s - loss: 1.3174 - acc: 0.4198 - val_loss: 1.9886 - val_acc: 0.1174\n",
      "Epoch 16/50\n",
      "114966/114966 - 3s - loss: 1.3146 - acc: 0.4209 - val_loss: 1.9374 - val_acc: 0.1497\n",
      "Epoch 17/50\n",
      "114966/114966 - 3s - loss: 1.3123 - acc: 0.4247 - val_loss: 1.9505 - val_acc: 0.1724\n",
      "Epoch 18/50\n",
      "114966/114966 - 3s - loss: 1.3093 - acc: 0.4230 - val_loss: 1.9988 - val_acc: 0.1757\n",
      "Epoch 19/50\n",
      "114966/114966 - 2s - loss: 1.3076 - acc: 0.4242 - val_loss: 1.8050 - val_acc: 0.1742\n",
      "Epoch 20/50\n",
      "114966/114966 - 2s - loss: 1.3059 - acc: 0.4260 - val_loss: 1.7441 - val_acc: 0.2129\n",
      "Epoch 21/50\n",
      "114966/114966 - 2s - loss: 1.3048 - acc: 0.4250 - val_loss: 2.0580 - val_acc: 0.1397\n",
      "Epoch 22/50\n",
      "114966/114966 - 2s - loss: 1.3027 - acc: 0.4261 - val_loss: 1.9796 - val_acc: 0.1652\n",
      "Epoch 23/50\n",
      "114966/114966 - 2s - loss: 1.3011 - acc: 0.4273 - val_loss: 1.9590 - val_acc: 0.1398\n",
      "Epoch 24/50\n",
      "114966/114966 - 2s - loss: 1.2995 - acc: 0.4299 - val_loss: 1.8482 - val_acc: 0.1807\n",
      "Epoch 25/50\n",
      "114966/114966 - 2s - loss: 1.2981 - acc: 0.4292 - val_loss: 1.6852 - val_acc: 0.2688\n",
      "Epoch 26/50\n",
      "114966/114966 - 2s - loss: 1.2971 - acc: 0.4309 - val_loss: 1.9164 - val_acc: 0.1646\n",
      "Epoch 27/50\n",
      "114966/114966 - 3s - loss: 1.2966 - acc: 0.4304 - val_loss: 1.9422 - val_acc: 0.1586\n",
      "Epoch 28/50\n",
      "114966/114966 - 2s - loss: 1.2954 - acc: 0.4304 - val_loss: 1.8857 - val_acc: 0.1699\n",
      "Epoch 29/50\n",
      "114966/114966 - 3s - loss: 1.2947 - acc: 0.4310 - val_loss: 1.9288 - val_acc: 0.1758\n",
      "Epoch 30/50\n",
      "114966/114966 - 2s - loss: 1.2922 - acc: 0.4337 - val_loss: 1.9266 - val_acc: 0.1721\n",
      "Epoch 31/50\n",
      "114966/114966 - 2s - loss: 1.2915 - acc: 0.4334 - val_loss: 1.8784 - val_acc: 0.1975\n",
      "Epoch 32/50\n",
      "114966/114966 - 2s - loss: 1.2898 - acc: 0.4353 - val_loss: 1.9289 - val_acc: 0.1759\n",
      "Epoch 33/50\n",
      "114966/114966 - 2s - loss: 1.2899 - acc: 0.4344 - val_loss: 1.9316 - val_acc: 0.1530\n",
      "Epoch 34/50\n",
      "114966/114966 - 2s - loss: 1.2890 - acc: 0.4346 - val_loss: 1.8955 - val_acc: 0.1628\n",
      "Epoch 35/50\n",
      "114966/114966 - 2s - loss: 1.2882 - acc: 0.4344 - val_loss: 1.8964 - val_acc: 0.1772\n",
      "Epoch 36/50\n",
      "114966/114966 - 3s - loss: 1.2876 - acc: 0.4355 - val_loss: 1.8139 - val_acc: 0.2262\n",
      "Epoch 37/50\n",
      "114966/114966 - 2s - loss: 1.2865 - acc: 0.4359 - val_loss: 1.7913 - val_acc: 0.2067\n",
      "Epoch 38/50\n",
      "114966/114966 - 2s - loss: 1.2855 - acc: 0.4364 - val_loss: 1.8438 - val_acc: 0.1882\n",
      "Epoch 39/50\n",
      "114966/114966 - 2s - loss: 1.2847 - acc: 0.4363 - val_loss: 2.0709 - val_acc: 0.1318\n",
      "Epoch 40/50\n",
      "114966/114966 - 2s - loss: 1.2845 - acc: 0.4363 - val_loss: 1.8066 - val_acc: 0.1826\n",
      "Epoch 41/50\n",
      "114966/114966 - 2s - loss: 1.2837 - acc: 0.4389 - val_loss: 1.9908 - val_acc: 0.1458\n",
      "Epoch 42/50\n",
      "114966/114966 - 2s - loss: 1.2834 - acc: 0.4374 - val_loss: 1.9646 - val_acc: 0.1515\n",
      "Epoch 43/50\n",
      "114966/114966 - 2s - loss: 1.2822 - acc: 0.4386 - val_loss: 2.0297 - val_acc: 0.1301\n",
      "Epoch 44/50\n",
      "114966/114966 - 2s - loss: 1.2818 - acc: 0.4386 - val_loss: 1.8988 - val_acc: 0.1678\n",
      "Epoch 45/50\n",
      "114966/114966 - 2s - loss: 1.2817 - acc: 0.4390 - val_loss: 1.8803 - val_acc: 0.1939\n",
      "Epoch 46/50\n",
      "114966/114966 - 2s - loss: 1.2805 - acc: 0.4387 - val_loss: 1.9770 - val_acc: 0.1620\n",
      "Epoch 47/50\n",
      "114966/114966 - 3s - loss: 1.2813 - acc: 0.4391 - val_loss: 1.8294 - val_acc: 0.1728\n",
      "Epoch 48/50\n",
      "114966/114966 - 2s - loss: 1.2799 - acc: 0.4405 - val_loss: 1.9123 - val_acc: 0.1753\n",
      "Epoch 49/50\n",
      "114966/114966 - 2s - loss: 1.2794 - acc: 0.4397 - val_loss: 1.9330 - val_acc: 0.1743\n",
      "Epoch 50/50\n",
      "114966/114966 - 2s - loss: 1.2786 - acc: 0.4399 - val_loss: 1.8330 - val_acc: 0.1965\n"
     ]
    }
   ],
   "source": [
    "print(\"Training...\")\n",
    "history = model.fit(X_train_original, y_trainOHE, epochs=50, batch_size=128, validation_split=0.1, verbose=2)"
   ]
  },
  {
   "cell_type": "markdown",
   "metadata": {},
   "source": [
    "## Predict"
   ]
  },
  {
   "cell_type": "code",
   "execution_count": 25,
   "metadata": {},
   "outputs": [],
   "source": [
    "def modelPredict(model,Xtest,tracks_test):\n",
    "        Yest = model.predict(Xtest)  # probabilidades (Xtest.shape, n_clases)   \n",
    "        #Creamos un matriz con la primera fila las predicciones y la otra el track \n",
    "        Yest = np.argmax(Yest, axis=1) # sacamos el index de la mayor porbabilidad \n",
    "        \n",
    "        X_test_with_id_trak = np.column_stack((Yest,tracks_test))\n",
    "\n",
    "        #Agrupamos por audio\n",
    "        prediction_by_instances = npi.group_by(X_test_with_id_trak[:, -1]).split(X_test_with_id_trak[:, -2])\n",
    "\n",
    "        #Sacamos la moda de prediccion\n",
    "        predictions = []\n",
    "\n",
    "        for v in range(len(prediction_by_instances)):\n",
    "            decision = stats.mode(prediction_by_instances[v])[0]\n",
    "            predictions.append(decision)\n",
    "    \n",
    "        return np.array(predictions) "
   ]
  },
  {
   "cell_type": "code",
   "execution_count": 26,
   "metadata": {},
   "outputs": [],
   "source": [
    "def createGroups(Y,tracks):\n",
    "        Y_train_tracks = np.column_stack((Y,tracks))\n",
    "        groups_by_tracks = npi.group_by(Y_train_tracks[:, -1]).split(Y_train_tracks[:, -2])\n",
    "        modas = []\n",
    "\n",
    "        for v in range(len(groups_by_tracks)):\n",
    "            moda = stats.mode(groups_by_tracks[v])[0]\n",
    "            modas.append(moda)\n",
    "        return np.array(modas)"
   ]
  },
  {
   "cell_type": "code",
   "execution_count": 27,
   "metadata": {},
   "outputs": [
    {
     "name": "stdout",
     "output_type": "stream",
     "text": [
      "Generating test predictions...\n"
     ]
    }
   ],
   "source": [
    "print(\"Generating test predictions...\")\n",
    "preds = modelPredict(model,X_test_original,tracks_test_original)"
   ]
  },
  {
   "cell_type": "code",
   "execution_count": 28,
   "metadata": {},
   "outputs": [
    {
     "data": {
      "text/plain": [
       "(3145, 1)"
      ]
     },
     "execution_count": 28,
     "metadata": {},
     "output_type": "execute_result"
    }
   ],
   "source": [
    "preds.shape"
   ]
  },
  {
   "cell_type": "code",
   "execution_count": 29,
   "metadata": {},
   "outputs": [],
   "source": [
    "Y_real = createGroups(Y_test_original,tracks_test_original)"
   ]
  },
  {
   "cell_type": "code",
   "execution_count": 30,
   "metadata": {},
   "outputs": [
    {
     "data": {
      "text/plain": [
       "(3145, 1)"
      ]
     },
     "execution_count": 30,
     "metadata": {},
     "output_type": "execute_result"
    }
   ],
   "source": [
    "Y_real.shape"
   ]
  },
  {
   "cell_type": "code",
   "execution_count": 31,
   "metadata": {},
   "outputs": [
    {
     "name": "stdout",
     "output_type": "stream",
     "text": [
      "Accuracy =  45.62798092209857 %\n"
     ]
    }
   ],
   "source": [
    "Accuracy = np.mean(preds == Y_real)\n",
    "print('Accuracy = ', Accuracy*100, '%')"
   ]
  },
  {
   "cell_type": "code",
   "execution_count": 32,
   "metadata": {},
   "outputs": [],
   "source": [
    "objects = ('yes','no','right','five','nine')"
   ]
  },
  {
   "cell_type": "code",
   "execution_count": 33,
   "metadata": {},
   "outputs": [
    {
     "data": {
      "image/png": "[encoded data removed]",
      "text/plain": [
       "<Figure size 720x720 with 2 Axes>"
      ]
     },
     "metadata": {
      "needs_background": "light"
     },
     "output_type": "display_data"
    }
   ],
   "source": [
    "from sklearn.metrics import confusion_matrix\n",
    "cm = confusion_matrix(Y_real, preds)\n",
    "cm = cm/np.sum(cm,axis=0)\n",
    "cmap = plt.cm.gray\n",
    "tick_marks = np.arange(nb_classes)\n",
    "fig, ax = plt.subplots(figsize=(10,10))\n",
    "im = ax.imshow(cm, interpolation='nearest', cmap=cmap)\n",
    "for i in range(cm.shape[0]):\n",
    "    for j in range(cm.shape[1]):\n",
    "        text = ax.text(j, i, np.around(cm[i, j],decimals=2),\n",
    "                       ha=\"center\", va=\"center\", color=\"w\")\n",
    "plt.title('Normalized confusion matrix')\n",
    "fig.colorbar(im)\n",
    "plt.xticks(tick_marks, objects, rotation=45)\n",
    "plt.yticks(tick_marks, objects);"
   ]
  },
  {
   "cell_type": "code",
   "execution_count": 24,
   "metadata": {},
   "outputs": [
    {
     "name": "stdout",
     "output_type": "stream",
     "text": [
      "dict_keys(['loss', 'acc', 'val_loss', 'val_acc'])\n"
     ]
    },
    {
     "data": {
      "image/png": "[encoded data removed]",
      "text/plain": [
       "<Figure size 432x288 with 1 Axes>"
      ]
     },
     "metadata": {
      "needs_background": "light"
     },
     "output_type": "display_data"
    },
    {
     "data": {
      "image/png": "[encoded data removed]",
      "text/plain": [
       "<Figure size 432x288 with 1 Axes>"
      ]
     },
     "metadata": {
      "needs_background": "light"
     },
     "output_type": "display_data"
    }
   ],
   "source": [
    "print(history.history.keys())\n",
    "\n",
    "# summarize history for accuracy\n",
    "plt.plot(history.history['acc'])\n",
    "plt.plot(history.history['val_acc'])\n",
    "plt.title('model accuracy')\n",
    "plt.ylabel('accuracy')\n",
    "plt.xlabel('epoch')\n",
    "plt.legend(['train', 'test'], loc='upper left')\n",
    "plt.show()\n",
    "\n",
    "\n",
    "# summarize history for loss\n",
    "plt.plot(history.history['loss'])\n",
    "plt.plot(history.history['val_loss'])\n",
    "plt.title('model loss')\n",
    "plt.ylabel('loss')\n",
    "plt.xlabel('epoch')\n",
    "plt.legend(['train', 'test'], loc='upper left')\n",
    "plt.show()"
   ]
  },
  {
   "cell_type": "code",
   "execution_count": null,
   "metadata": {},
   "outputs": [],
   "source": []
  }
 ],
 "metadata": {
  "kernelspec": {
   "display_name": "Python 3",
   "language": "python",
   "name": "python3"
  },
  "language_info": {
   "codemirror_mode": {
    "name": "ipython",
    "version": 3
   },
   "file_extension": ".py",
   "mimetype": "text/x-python",
   "name": "python",
   "nbconvert_exporter": "python",
   "pygments_lexer": "ipython3",
   "version": "3.7.4"
  }
 },
 "nbformat": 4,
 "nbformat_minor": 2
}
