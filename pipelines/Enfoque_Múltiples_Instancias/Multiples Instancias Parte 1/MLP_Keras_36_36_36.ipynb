{
 "cells": [
  {
   "cell_type": "code",
   "execution_count": 20,
   "metadata": {},
   "outputs": [],
   "source": [
    "import numpy as np\n",
    "import matplotlib.pyplot as plt\n",
    "import warnings; warnings.simplefilter('ignore')\n",
    "import tensorflow as tf\n",
    "import IPython\n",
    "import matplotlib.pyplot as plt\n",
    "import numpy as np\n",
    "import pandas as pd\n",
    "from sklearn.ensemble import RandomForestClassifier\n",
    "import import_ipynb\n",
    "from sklearn.model_selection import GroupShuffleSplit\n",
    "import numpy_indexed as npi\n",
    "from scipy import stats\n",
    "from sklearn.metrics import make_scorer, accuracy_score, precision_score,recall_score, f1_score\n",
    "from sklearn.metrics import classification_report,confusion_matrix,accuracy_score,roc_curve,auc\n",
    "import seaborn as sns\n",
    "from tensorflow.keras.models import Sequential\n",
    "from tensorflow.keras.layers import Dense, Activation\n",
    "from tensorflow.keras import optimizers\n",
    "from tensorflow.keras import utils"
   ]
  },
  {
   "cell_type": "code",
   "execution_count": 21,
   "metadata": {},
   "outputs": [],
   "source": [
    "#!pip install keras"
   ]
  },
  {
   "cell_type": "code",
   "execution_count": 22,
   "metadata": {},
   "outputs": [],
   "source": [
    "PATHDATA_MFFC_AVG = '../../../data/mfccs_cvs/audios_MFCC_average_15000_tracks.csv'\n",
    "df = pd.read_csv(PATHDATA_MFFC_AVG, header = None)\n",
    "data = df.values #Convertimos en un  numpy array"
   ]
  },
  {
   "cell_type": "code",
   "execution_count": 23,
   "metadata": {},
   "outputs": [],
   "source": [
    "FOLDS = 10\n",
    "TRAIN_SIZE = 0.8"
   ]
  },
  {
   "cell_type": "code",
   "execution_count": 24,
   "metadata": {},
   "outputs": [
    {
     "name": "stdout",
     "output_type": "stream",
     "text": [
      "Tamaño dataSet (161602, 20)\n",
      "\n",
      "\n"
     ]
    }
   ],
   "source": [
    "X = data[:,0:-3]\n",
    "Y = data[:,-2]\n",
    "print('Tamaño dataSet', X.shape)\n",
    "print('\\n')\n",
    "Y = np.reshape(Y,(np.size(Y,0),1))\n",
    "groups = data[:,-1]\n",
    "tracks = data[:,-3:-2]"
   ]
  },
  {
   "cell_type": "code",
   "execution_count": 25,
   "metadata": {},
   "outputs": [],
   "source": [
    "def splitDataSet(X,Y,groups,tracks,test_size):              \n",
    "        gss = GroupShuffleSplit(n_splits=1, test_size=test_size, random_state=0)\n",
    "        gss.get_n_splits()\n",
    "        returns = []\n",
    "        for train_index, test_index in gss.split(X, Y, groups=groups):\n",
    "            X_train_original, X_test_original = X[train_index], X[test_index]\n",
    "            #print(X_train, X_test)\n",
    "            Y_train__original, Y_test_original = Y[train_index], Y[test_index]\n",
    "            #print(y_train, y_test)\n",
    "            groups_original = groups[train_index]\n",
    "            groups_test_original=groups[test_index]\n",
    "            tracks_train_original = tracks[train_index]\n",
    "            tracks_test_original = tracks[test_index]              \n",
    "            returns.append(X_train_original)\n",
    "            returns.append(Y_train__original)\n",
    "            returns.append(X_test_original)\n",
    "            returns.append(Y_test_original)\n",
    "            returns.append(tracks_train_original)\n",
    "            returns.append(tracks_test_original)\n",
    "            returns.append(groups_original)\n",
    "            returns.append(groups_test_original)    \n",
    "              \n",
    "        return returns"
   ]
  },
  {
   "cell_type": "code",
   "execution_count": 26,
   "metadata": {},
   "outputs": [],
   "source": [
    "data_train = splitDataSet(X=X,Y=Y,groups=groups,tracks=tracks,test_size=1-TRAIN_SIZE)"
   ]
  },
  {
   "cell_type": "code",
   "execution_count": 27,
   "metadata": {},
   "outputs": [],
   "source": [
    "X_train_original = data_train[0]\n",
    "Y_train__original=data_train[1]\n",
    "X_test_original=data_train[2]\n",
    "Y_test_original=data_train[3]\n",
    "tracks_train_original=data_train[4]\n",
    "tracks_test_original=data_train[5]\n",
    "groups_original=data_train[6]\n",
    "groups_test_original=data_train[7]"
   ]
  },
  {
   "cell_type": "code",
   "execution_count": 28,
   "metadata": {},
   "outputs": [
    {
     "data": {
      "text/plain": [
       "(127740, 20)"
      ]
     },
     "execution_count": 28,
     "metadata": {},
     "output_type": "execute_result"
    }
   ],
   "source": [
    "X_train_original.shape"
   ]
  },
  {
   "cell_type": "code",
   "execution_count": 29,
   "metadata": {},
   "outputs": [
    {
     "data": {
      "text/plain": [
       "(33862, 1)"
      ]
     },
     "execution_count": 29,
     "metadata": {},
     "output_type": "execute_result"
    }
   ],
   "source": [
    "Y_test_original.shape"
   ]
  },
  {
   "cell_type": "code",
   "execution_count": 30,
   "metadata": {},
   "outputs": [],
   "source": [
    "y_trainOHE = utils.to_categorical(Y_train__original)"
   ]
  },
  {
   "cell_type": "code",
   "execution_count": 31,
   "metadata": {},
   "outputs": [
    {
     "data": {
      "text/plain": [
       "array([[0., 0., 0., 0., 1.],\n",
       "       [0., 0., 0., 0., 1.],\n",
       "       [0., 0., 0., 0., 1.],\n",
       "       ...,\n",
       "       [0., 1., 0., 0., 0.],\n",
       "       [0., 1., 0., 0., 0.],\n",
       "       [0., 1., 0., 0., 0.]], dtype=float32)"
      ]
     },
     "execution_count": 31,
     "metadata": {},
     "output_type": "execute_result"
    }
   ],
   "source": [
    "y_trainOHE"
   ]
  },
  {
   "cell_type": "code",
   "execution_count": 32,
   "metadata": {},
   "outputs": [
    {
     "data": {
      "text/plain": [
       "(127740, 5)"
      ]
     },
     "execution_count": 32,
     "metadata": {},
     "output_type": "execute_result"
    }
   ],
   "source": [
    "y_trainOHE.shape"
   ]
  },
  {
   "cell_type": "code",
   "execution_count": 33,
   "metadata": {},
   "outputs": [],
   "source": [
    "input_dim = X_train_original.shape[1]"
   ]
  },
  {
   "cell_type": "code",
   "execution_count": 34,
   "metadata": {},
   "outputs": [
    {
     "data": {
      "text/plain": [
       "20"
      ]
     },
     "execution_count": 34,
     "metadata": {},
     "output_type": "execute_result"
    }
   ],
   "source": [
    "input_dim"
   ]
  },
  {
   "cell_type": "code",
   "execution_count": 35,
   "metadata": {},
   "outputs": [
    {
     "data": {
      "text/plain": [
       "5"
      ]
     },
     "execution_count": 35,
     "metadata": {},
     "output_type": "execute_result"
    }
   ],
   "source": [
    "nb_classes = y_trainOHE.shape[1]\n",
    "nb_classes"
   ]
  },
  {
   "cell_type": "markdown",
   "metadata": {},
   "source": [
    "## Define the network architecture using keras"
   ]
  },
  {
   "cell_type": "code",
   "execution_count": 36,
   "metadata": {},
   "outputs": [],
   "source": [
    "model = Sequential()\n",
    "model.add(Dense(34, input_dim=input_dim))\n",
    "model.add(Activation('relu'))\n",
    "model.add(Dense(34))\n",
    "model.add(Activation('relu'))\n",
    "model.add(Dense(34))\n",
    "model.add(Activation('relu'))\n",
    "model.add(Dense(nb_classes, activation='softmax'))"
   ]
  },
  {
   "cell_type": "code",
   "execution_count": 37,
   "metadata": {},
   "outputs": [
    {
     "name": "stdout",
     "output_type": "stream",
     "text": [
      "Model: \"sequential_1\"\n",
      "_________________________________________________________________\n",
      "Layer (type)                 Output Shape              Param #   \n",
      "=================================================================\n",
      "dense_4 (Dense)              (None, 34)                714       \n",
      "_________________________________________________________________\n",
      "activation_3 (Activation)    (None, 34)                0         \n",
      "_________________________________________________________________\n",
      "dense_5 (Dense)              (None, 34)                1190      \n",
      "_________________________________________________________________\n",
      "activation_4 (Activation)    (None, 34)                0         \n",
      "_________________________________________________________________\n",
      "dense_6 (Dense)              (None, 34)                1190      \n",
      "_________________________________________________________________\n",
      "activation_5 (Activation)    (None, 34)                0         \n",
      "_________________________________________________________________\n",
      "dense_7 (Dense)              (None, 5)                 175       \n",
      "=================================================================\n",
      "Total params: 3,269\n",
      "Trainable params: 3,269\n",
      "Non-trainable params: 0\n",
      "_________________________________________________________________\n"
     ]
    }
   ],
   "source": [
    "model.summary()"
   ]
  },
  {
   "cell_type": "markdown",
   "metadata": {},
   "source": [
    "# loss function and optimizer"
   ]
  },
  {
   "cell_type": "code",
   "execution_count": 122,
   "metadata": {},
   "outputs": [],
   "source": [
    "model.compile(loss='categorical_crossentropy', optimizer='adam',metrics=['accuracy'])"
   ]
  },
  {
   "cell_type": "markdown",
   "metadata": {},
   "source": [
    "# Training"
   ]
  },
  {
   "cell_type": "code",
   "execution_count": 130,
   "metadata": {
    "scrolled": true
   },
   "outputs": [
    {
     "name": "stdout",
     "output_type": "stream",
     "text": [
      "Training...\n",
      "Train on 114966 samples, validate on 12774 samples\n",
      "Epoch 1/50\n",
      "114966/114966 - 2s - loss: 1.2850 - acc: 0.4386 - val_loss: 1.9203 - val_acc: 0.1797\n",
      "Epoch 2/50\n",
      "114966/114966 - 2s - loss: 1.2845 - acc: 0.4399 - val_loss: 1.8614 - val_acc: 0.1957\n",
      "Epoch 3/50\n",
      "114966/114966 - 2s - loss: 1.2839 - acc: 0.4404 - val_loss: 1.9352 - val_acc: 0.1635\n",
      "Epoch 4/50\n",
      "114966/114966 - 2s - loss: 1.2831 - acc: 0.4400 - val_loss: 1.9758 - val_acc: 0.1614\n",
      "Epoch 5/50\n",
      "114966/114966 - 2s - loss: 1.2825 - acc: 0.4395 - val_loss: 1.9294 - val_acc: 0.1982\n",
      "Epoch 6/50\n",
      "114966/114966 - 2s - loss: 1.2829 - acc: 0.4400 - val_loss: 1.8929 - val_acc: 0.1837\n",
      "Epoch 7/50\n",
      "114966/114966 - 2s - loss: 1.2811 - acc: 0.4423 - val_loss: 1.7993 - val_acc: 0.2097\n",
      "Epoch 8/50\n",
      "114966/114966 - 2s - loss: 1.2815 - acc: 0.4394 - val_loss: 1.8605 - val_acc: 0.2015\n",
      "Epoch 9/50\n",
      "114966/114966 - 2s - loss: 1.2810 - acc: 0.4418 - val_loss: 1.8685 - val_acc: 0.2015\n",
      "Epoch 10/50\n",
      "114966/114966 - 2s - loss: 1.2799 - acc: 0.4418 - val_loss: 2.0062 - val_acc: 0.1576\n",
      "Epoch 11/50\n",
      "114966/114966 - 2s - loss: 1.2799 - acc: 0.4397 - val_loss: 1.8174 - val_acc: 0.2129\n",
      "Epoch 12/50\n",
      "114966/114966 - 2s - loss: 1.2798 - acc: 0.4407 - val_loss: 1.9021 - val_acc: 0.1952\n",
      "Epoch 13/50\n",
      "114966/114966 - 2s - loss: 1.2796 - acc: 0.4419 - val_loss: 2.0080 - val_acc: 0.1296\n",
      "Epoch 14/50\n",
      "114966/114966 - 2s - loss: 1.2788 - acc: 0.4407 - val_loss: 1.8825 - val_acc: 0.1997\n",
      "Epoch 15/50\n",
      "114966/114966 - 2s - loss: 1.2785 - acc: 0.4417 - val_loss: 1.9625 - val_acc: 0.1615\n",
      "Epoch 16/50\n",
      "114966/114966 - 2s - loss: 1.2783 - acc: 0.4415 - val_loss: 1.9523 - val_acc: 0.1829\n",
      "Epoch 17/50\n",
      "114966/114966 - 2s - loss: 1.2798 - acc: 0.4414 - val_loss: 2.0632 - val_acc: 0.1486\n",
      "Epoch 18/50\n",
      "114966/114966 - 2s - loss: 1.2775 - acc: 0.4411 - val_loss: 1.9961 - val_acc: 0.1361\n",
      "Epoch 19/50\n",
      "114966/114966 - 2s - loss: 1.2771 - acc: 0.4430 - val_loss: 1.9824 - val_acc: 0.1469\n",
      "Epoch 20/50\n",
      "114966/114966 - 2s - loss: 1.2778 - acc: 0.4423 - val_loss: 1.9903 - val_acc: 0.1538\n",
      "Epoch 21/50\n",
      "114966/114966 - 2s - loss: 1.2774 - acc: 0.4427 - val_loss: 1.8849 - val_acc: 0.1987\n",
      "Epoch 22/50\n",
      "114966/114966 - 2s - loss: 1.2771 - acc: 0.4420 - val_loss: 1.9144 - val_acc: 0.1537\n",
      "Epoch 23/50\n",
      "114966/114966 - 2s - loss: 1.2766 - acc: 0.4415 - val_loss: 1.7778 - val_acc: 0.2306\n",
      "Epoch 24/50\n",
      "114966/114966 - 2s - loss: 1.2767 - acc: 0.4418 - val_loss: 1.9856 - val_acc: 0.1552\n",
      "Epoch 25/50\n",
      "114966/114966 - 2s - loss: 1.2760 - acc: 0.4438 - val_loss: 1.8076 - val_acc: 0.2374\n",
      "Epoch 26/50\n",
      "114966/114966 - 2s - loss: 1.2760 - acc: 0.4426 - val_loss: 1.9397 - val_acc: 0.1796\n",
      "Epoch 27/50\n",
      "114966/114966 - 2s - loss: 1.2762 - acc: 0.4419 - val_loss: 1.7433 - val_acc: 0.2538\n",
      "Epoch 28/50\n",
      "114966/114966 - 2s - loss: 1.2759 - acc: 0.4436 - val_loss: 1.7133 - val_acc: 0.2334\n",
      "Epoch 29/50\n",
      "114966/114966 - 2s - loss: 1.2762 - acc: 0.4419 - val_loss: 1.8651 - val_acc: 0.2042\n",
      "Epoch 30/50\n",
      "114966/114966 - 2s - loss: 1.2756 - acc: 0.4430 - val_loss: 1.9844 - val_acc: 0.1676\n",
      "Epoch 31/50\n",
      "114966/114966 - 2s - loss: 1.2757 - acc: 0.4417 - val_loss: 1.8938 - val_acc: 0.1628\n",
      "Epoch 32/50\n",
      "114966/114966 - 2s - loss: 1.2747 - acc: 0.4443 - val_loss: 1.9291 - val_acc: 0.1654\n",
      "Epoch 33/50\n",
      "114966/114966 - 2s - loss: 1.2749 - acc: 0.4423 - val_loss: 1.8991 - val_acc: 0.2040\n",
      "Epoch 34/50\n",
      "114966/114966 - 2s - loss: 1.2740 - acc: 0.4439 - val_loss: 1.8883 - val_acc: 0.2002\n",
      "Epoch 35/50\n",
      "114966/114966 - 2s - loss: 1.2755 - acc: 0.4427 - val_loss: 1.8300 - val_acc: 0.2233\n",
      "Epoch 36/50\n",
      "114966/114966 - 2s - loss: 1.2735 - acc: 0.4434 - val_loss: 1.8246 - val_acc: 0.2014\n",
      "Epoch 37/50\n",
      "114966/114966 - 2s - loss: 1.2745 - acc: 0.4418 - val_loss: 1.9331 - val_acc: 0.1759\n",
      "Epoch 38/50\n",
      "114966/114966 - 2s - loss: 1.2733 - acc: 0.4444 - val_loss: 1.9053 - val_acc: 0.1977\n",
      "Epoch 39/50\n",
      "114966/114966 - 2s - loss: 1.2733 - acc: 0.4444 - val_loss: 1.9840 - val_acc: 0.1674\n",
      "Epoch 40/50\n",
      "114966/114966 - 2s - loss: 1.2730 - acc: 0.4446 - val_loss: 1.8131 - val_acc: 0.2022\n",
      "Epoch 41/50\n",
      "114966/114966 - 2s - loss: 1.2734 - acc: 0.4448 - val_loss: 1.9003 - val_acc: 0.1583\n",
      "Epoch 42/50\n",
      "114966/114966 - 2s - loss: 1.2736 - acc: 0.4430 - val_loss: 1.8678 - val_acc: 0.1959\n",
      "Epoch 43/50\n",
      "114966/114966 - 2s - loss: 1.2735 - acc: 0.4440 - val_loss: 1.8926 - val_acc: 0.1964\n",
      "Epoch 44/50\n",
      "114966/114966 - 2s - loss: 1.2727 - acc: 0.4444 - val_loss: 1.9302 - val_acc: 0.1974\n",
      "Epoch 45/50\n",
      "114966/114966 - 2s - loss: 1.2729 - acc: 0.4441 - val_loss: 1.8838 - val_acc: 0.1956\n",
      "Epoch 46/50\n",
      "114966/114966 - 2s - loss: 1.2717 - acc: 0.4450 - val_loss: 2.0161 - val_acc: 0.1506\n",
      "Epoch 47/50\n",
      "114966/114966 - 2s - loss: 1.2719 - acc: 0.4448 - val_loss: 1.9601 - val_acc: 0.1811\n",
      "Epoch 48/50\n",
      "114966/114966 - 2s - loss: 1.2718 - acc: 0.4445 - val_loss: 1.9882 - val_acc: 0.1764\n",
      "Epoch 49/50\n",
      "114966/114966 - 2s - loss: 1.2721 - acc: 0.4452 - val_loss: 1.9366 - val_acc: 0.1783\n",
      "Epoch 50/50\n",
      "114966/114966 - 2s - loss: 1.2710 - acc: 0.4457 - val_loss: 1.8628 - val_acc: 0.1920\n"
     ]
    },
    {
     "data": {
      "text/plain": [
       "<tensorflow.python.keras.callbacks.History at 0x7f78554bf6d0>"
      ]
     },
     "execution_count": 130,
     "metadata": {},
     "output_type": "execute_result"
    }
   ],
   "source": [
    "print(\"Training...\")\n",
    "model.fit(X_train_original, y_trainOHE, epochs=50, batch_size=128, validation_split=0.1, verbose=2)"
   ]
  },
  {
   "cell_type": "markdown",
   "metadata": {},
   "source": [
    "## Predict"
   ]
  },
  {
   "cell_type": "code",
   "execution_count": 131,
   "metadata": {},
   "outputs": [],
   "source": [
    "def modelPredict(model,Xtest,tracks_test):\n",
    "        Yest = model.predict(Xtest)  # probabilidades (Xtest.shape, n_clases)   \n",
    "        #Creamos un matriz con la primera fila las predicciones y la otra el track \n",
    "        Yest = np.argmax(Yest, axis=1) # sacamos el index de la mayor porbabilidad \n",
    "        \n",
    "        X_test_with_id_trak = np.column_stack((Yest,tracks_test))\n",
    "\n",
    "        #Agrupamos por audio\n",
    "        prediction_by_instances = npi.group_by(X_test_with_id_trak[:, -1]).split(X_test_with_id_trak[:, -2])\n",
    "\n",
    "        #Sacamos la moda de prediccion\n",
    "        predictions = []\n",
    "\n",
    "        for v in range(len(prediction_by_instances)):\n",
    "            decision = stats.mode(prediction_by_instances[v])[0]\n",
    "            predictions.append(decision)\n",
    "    \n",
    "        return np.array(predictions) "
   ]
  },
  {
   "cell_type": "code",
   "execution_count": 137,
   "metadata": {},
   "outputs": [],
   "source": [
    "def createGroups(Y,tracks):\n",
    "        Y_train_tracks = np.column_stack((Y,tracks))\n",
    "        groups_by_tracks = npi.group_by(Y_train_tracks[:, -1]).split(Y_train_tracks[:, -2])\n",
    "        modas = []\n",
    "\n",
    "        for v in range(len(groups_by_tracks)):\n",
    "            moda = stats.mode(groups_by_tracks[v])[0]\n",
    "            modas.append(moda)\n",
    "        return np.array(modas)"
   ]
  },
  {
   "cell_type": "code",
   "execution_count": 133,
   "metadata": {},
   "outputs": [
    {
     "name": "stdout",
     "output_type": "stream",
     "text": [
      "Generating test predictions...\n"
     ]
    }
   ],
   "source": [
    "print(\"Generating test predictions...\")\n",
    "preds = modelPredict(model,X_test_original,tracks_test_original)"
   ]
  },
  {
   "cell_type": "code",
   "execution_count": 135,
   "metadata": {},
   "outputs": [
    {
     "data": {
      "text/plain": [
       "(3145, 1)"
      ]
     },
     "execution_count": 135,
     "metadata": {},
     "output_type": "execute_result"
    }
   ],
   "source": [
    "preds.shape"
   ]
  },
  {
   "cell_type": "code",
   "execution_count": 139,
   "metadata": {},
   "outputs": [],
   "source": [
    "Y_real = createGroups(Y_test_original,tracks_test_original)"
   ]
  },
  {
   "cell_type": "code",
   "execution_count": 140,
   "metadata": {},
   "outputs": [
    {
     "data": {
      "text/plain": [
       "(3145, 1)"
      ]
     },
     "execution_count": 140,
     "metadata": {},
     "output_type": "execute_result"
    }
   ],
   "source": [
    "Y_real.shape"
   ]
  },
  {
   "cell_type": "code",
   "execution_count": 141,
   "metadata": {},
   "outputs": [
    {
     "name": "stdout",
     "output_type": "stream",
     "text": [
      "Accuracy =  44.96025437201908 %\n"
     ]
    }
   ],
   "source": [
    "Accuracy = np.mean(preds == Y_real)\n",
    "print('Accuracy = ', Accuracy*100, '%')"
   ]
  },
  {
   "cell_type": "code",
   "execution_count": 143,
   "metadata": {},
   "outputs": [],
   "source": [
    "objects = ('yes','no','right','five','nine')"
   ]
  },
  {
   "cell_type": "code",
   "execution_count": 148,
   "metadata": {},
   "outputs": [
    {
     "data": {
      "image/png": "[encoded data removed]",
      "text/plain": [
       "<Figure size 720x720 with 2 Axes>"
      ]
     },
     "metadata": {
      "needs_background": "light"
     },
     "output_type": "display_data"
    }
   ],
   "source": [
    "from sklearn.metrics import confusion_matrix\n",
    "cm = confusion_matrix(Y_real, preds)\n",
    "cm = cm/np.sum(cm,axis=0)\n",
    "cmap = plt.cm.gray\n",
    "tick_marks = np.arange(nb_classes)\n",
    "fig, ax = plt.subplots(figsize=(10,10))\n",
    "im = ax.imshow(cm, interpolation='nearest', cmap=cmap)\n",
    "for i in range(cm.shape[0]):\n",
    "    for j in range(cm.shape[1]):\n",
    "        text = ax.text(j, i, np.around(cm[i, j],decimals=2),\n",
    "                       ha=\"center\", va=\"center\", color=\"w\")\n",
    "plt.title('Normalized confusion matrix')\n",
    "fig.colorbar(im)\n",
    "plt.xticks(tick_marks, objects, rotation=45)\n",
    "plt.yticks(tick_marks, objects);"
   ]
  },
  {
   "cell_type": "code",
   "execution_count": null,
   "metadata": {},
   "outputs": [],
   "source": []
  }
 ],
 "metadata": {
  "kernelspec": {
   "display_name": "Python 3",
   "language": "python",
   "name": "python3"
  },
  "language_info": {
   "codemirror_mode": {
    "name": "ipython",
    "version": 3
   },
   "file_extension": ".py",
   "mimetype": "text/x-python",
   "name": "python",
   "nbconvert_exporter": "python",
   "pygments_lexer": "ipython3",
   "version": "3.7.4"
  }
 },
 "nbformat": 4,
 "nbformat_minor": 2
}
