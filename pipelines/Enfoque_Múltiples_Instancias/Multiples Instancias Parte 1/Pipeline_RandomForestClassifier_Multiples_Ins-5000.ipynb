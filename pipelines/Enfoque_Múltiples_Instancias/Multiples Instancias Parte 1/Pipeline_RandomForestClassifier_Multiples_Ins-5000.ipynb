{
 "cells": [
  {
   "cell_type": "code",
   "execution_count": 1,
   "metadata": {},
   "outputs": [],
   "source": [
    "import IPython\n",
    "import matplotlib.pyplot as plt\n",
    "import numpy as np\n",
    "import pandas as pd\n",
    "from sklearn.ensemble import RandomForestClassifier\n",
    "import import_ipynb\n",
    "from sklearn.model_selection import GroupShuffleSplit\n",
    "import numpy_indexed as npi\n",
    "from scipy import stats\n",
    "import qgrid\n",
    "from sklearn.metrics import make_scorer, accuracy_score, precision_score,recall_score, f1_score\n",
    "from sklearn.metrics import classification_report,confusion_matrix,accuracy_score,roc_curve,auc\n",
    "import seaborn as sns\n",
    "from PIPELINE_CLASS import *"
   ]
  },
  {
   "cell_type": "markdown",
   "metadata": {},
   "source": [
    "### Leer dataset"
   ]
  },
  {
   "cell_type": "code",
   "execution_count": 2,
   "metadata": {},
   "outputs": [],
   "source": [
    "PATHDATA_MFFC_AVG = '../../../data/audios_MFCC_average_5000_tracks.csv'\n",
    "df = pd.read_csv(PATHDATA_MFFC_AVG, header = None)\n",
    "data = df.values #Convertimos en un  numpy array"
   ]
  },
  {
   "cell_type": "code",
   "execution_count": 3,
   "metadata": {},
   "outputs": [
    {
     "name": "stdout",
     "output_type": "stream",
     "text": [
      "Tamaño dataSet (53867, 20)\n",
      "\n",
      "\n"
     ]
    }
   ],
   "source": [
    "X = data[:,0:-3]\n",
    "Y = data[:,-2]\n",
    "print('Tamaño dataSet', X.shape)\n",
    "print('\\n')\n",
    "Y=  np.reshape(Y,(np.size(Y,0),1))\n",
    "groups = data[:,-1]\n",
    "tracks = data[:,-3:-2]"
   ]
  },
  {
   "cell_type": "code",
   "execution_count": 4,
   "metadata": {},
   "outputs": [],
   "source": [
    "FOLDS = 10\n",
    "TRAIN_SIZE = 0.8\n"
   ]
  },
  {
   "cell_type": "markdown",
   "metadata": {},
   "source": [
    "# RandomForestClassifier"
   ]
  },
  {
   "cell_type": "markdown",
   "metadata": {},
   "source": [
    "## 1. Mejor modelo"
   ]
  },
  {
   "cell_type": "markdown",
   "metadata": {},
   "source": [
    "Usamos X_train_original y Y_train__original para seleccionar la mejor combinación de parametros y posteriormente validar dichos res]ultados con el conjunto X_test__original y Y_test__original.\n",
    "\n",
    "<b>Nota:</b> el conjunto X_train_original se divide en dos conjuntos train y dev a una proporción de 80 a 20."
   ]
  },
  {
   "cell_type": "code",
   "execution_count": 5,
   "metadata": {},
   "outputs": [
    {
     "name": "stdout",
     "output_type": "stream",
     "text": [
      "Número de clases: 5\n",
      "Número de hablantes diferentes 668\n",
      "Número de audios diferentes 5000\n",
      "### Info TRAIN\n",
      "X (44327, 20)\n",
      "Groups 534\n",
      "Tracks 4111\n",
      "### Info TEST\n",
      "X (9540, 20)\n",
      "Groups 134\n",
      "Tracks 889\n"
     ]
    }
   ],
   "source": [
    "clases =['yes','no','right','five','nine']\n",
    "PIPELINE= PIPELINE_MULTIPLES_INST(X,Y,groups,tracks,FOLDS,TRAIN_SIZE,clases)"
   ]
  },
  {
   "cell_type": "code",
   "execution_count": null,
   "metadata": {},
   "outputs": [
    {
     "name": "stderr",
     "output_type": "stream",
     "text": [
      "/home/josearangos/Documentos/Projects/Voice_Recognition/pipelines/Enfoque_Múltiples_Instancias/Multiples Instancias Parte 1/PIPELINE_CLASS.py:155: DataConversionWarning: A column-vector y was passed when a 1d array was expected. Please change the shape of y to (n_samples,), for example using ravel().\n",
      "  model_trained.fit(X_train_fold,Y_train_fold)\n",
      "/home/josearangos/Documentos/Projects/Voice_Recognition/pipelines/Enfoque_Múltiples_Instancias/Multiples Instancias Parte 1/PIPELINE_CLASS.py:155: DataConversionWarning: A column-vector y was passed when a 1d array was expected. Please change the shape of y to (n_samples,), for example using ravel().\n",
      "  model_trained.fit(X_train_fold,Y_train_fold)\n",
      "/home/josearangos/Documentos/Projects/Voice_Recognition/pipelines/Enfoque_Múltiples_Instancias/Multiples Instancias Parte 1/PIPELINE_CLASS.py:155: DataConversionWarning: A column-vector y was passed when a 1d array was expected. Please change the shape of y to (n_samples,), for example using ravel().\n",
      "  model_trained.fit(X_train_fold,Y_train_fold)\n",
      "/home/josearangos/Documentos/Projects/Voice_Recognition/pipelines/Enfoque_Múltiples_Instancias/Multiples Instancias Parte 1/PIPELINE_CLASS.py:155: DataConversionWarning: A column-vector y was passed when a 1d array was expected. Please change the shape of y to (n_samples,), for example using ravel().\n",
      "  model_trained.fit(X_train_fold,Y_train_fold)\n",
      "/home/josearangos/Documentos/Projects/Voice_Recognition/pipelines/Enfoque_Múltiples_Instancias/Multiples Instancias Parte 1/PIPELINE_CLASS.py:155: DataConversionWarning: A column-vector y was passed when a 1d array was expected. Please change the shape of y to (n_samples,), for example using ravel().\n",
      "  model_trained.fit(X_train_fold,Y_train_fold)\n",
      "/home/josearangos/Documentos/Projects/Voice_Recognition/pipelines/Enfoque_Múltiples_Instancias/Multiples Instancias Parte 1/PIPELINE_CLASS.py:155: DataConversionWarning: A column-vector y was passed when a 1d array was expected. Please change the shape of y to (n_samples,), for example using ravel().\n",
      "  model_trained.fit(X_train_fold,Y_train_fold)\n",
      "/home/josearangos/Documentos/Projects/Voice_Recognition/pipelines/Enfoque_Múltiples_Instancias/Multiples Instancias Parte 1/PIPELINE_CLASS.py:155: DataConversionWarning: A column-vector y was passed when a 1d array was expected. Please change the shape of y to (n_samples,), for example using ravel().\n",
      "  model_trained.fit(X_train_fold,Y_train_fold)\n",
      "/home/josearangos/Documentos/Projects/Voice_Recognition/pipelines/Enfoque_Múltiples_Instancias/Multiples Instancias Parte 1/PIPELINE_CLASS.py:155: DataConversionWarning: A column-vector y was passed when a 1d array was expected. Please change the shape of y to (n_samples,), for example using ravel().\n",
      "  model_trained.fit(X_train_fold,Y_train_fold)\n",
      "/home/josearangos/Documentos/Projects/Voice_Recognition/pipelines/Enfoque_Múltiples_Instancias/Multiples Instancias Parte 1/PIPELINE_CLASS.py:155: DataConversionWarning: A column-vector y was passed when a 1d array was expected. Please change the shape of y to (n_samples,), for example using ravel().\n",
      "  model_trained.fit(X_train_fold,Y_train_fold)\n",
      "/home/josearangos/Documentos/Projects/Voice_Recognition/pipelines/Enfoque_Múltiples_Instancias/Multiples Instancias Parte 1/PIPELINE_CLASS.py:155: DataConversionWarning: A column-vector y was passed when a 1d array was expected. Please change the shape of y to (n_samples,), for example using ravel().\n",
      "  model_trained.fit(X_train_fold,Y_train_fold)\n"
     ]
    },
    {
     "name": "stdout",
     "output_type": "stream",
     "text": [
      "############################################\n",
      "max_depth 10 n_estimators 400\n",
      "Efi Train 0.6905871346844434\n",
      "Std Train 0.007058059773478434\n",
      "Efi Test 0.4654578849732454\n",
      "Std Test 0.021092879839324022\n"
     ]
    },
    {
     "name": "stderr",
     "output_type": "stream",
     "text": [
      "/home/josearangos/Documentos/Projects/Voice_Recognition/pipelines/Enfoque_Múltiples_Instancias/Multiples Instancias Parte 1/PIPELINE_CLASS.py:155: DataConversionWarning: A column-vector y was passed when a 1d array was expected. Please change the shape of y to (n_samples,), for example using ravel().\n",
      "  model_trained.fit(X_train_fold,Y_train_fold)\n",
      "/home/josearangos/Documentos/Projects/Voice_Recognition/pipelines/Enfoque_Múltiples_Instancias/Multiples Instancias Parte 1/PIPELINE_CLASS.py:155: DataConversionWarning: A column-vector y was passed when a 1d array was expected. Please change the shape of y to (n_samples,), for example using ravel().\n",
      "  model_trained.fit(X_train_fold,Y_train_fold)\n",
      "/home/josearangos/Documentos/Projects/Voice_Recognition/pipelines/Enfoque_Múltiples_Instancias/Multiples Instancias Parte 1/PIPELINE_CLASS.py:155: DataConversionWarning: A column-vector y was passed when a 1d array was expected. Please change the shape of y to (n_samples,), for example using ravel().\n",
      "  model_trained.fit(X_train_fold,Y_train_fold)\n",
      "/home/josearangos/Documentos/Projects/Voice_Recognition/pipelines/Enfoque_Múltiples_Instancias/Multiples Instancias Parte 1/PIPELINE_CLASS.py:155: DataConversionWarning: A column-vector y was passed when a 1d array was expected. Please change the shape of y to (n_samples,), for example using ravel().\n",
      "  model_trained.fit(X_train_fold,Y_train_fold)\n",
      "/home/josearangos/Documentos/Projects/Voice_Recognition/pipelines/Enfoque_Múltiples_Instancias/Multiples Instancias Parte 1/PIPELINE_CLASS.py:155: DataConversionWarning: A column-vector y was passed when a 1d array was expected. Please change the shape of y to (n_samples,), for example using ravel().\n",
      "  model_trained.fit(X_train_fold,Y_train_fold)\n",
      "/home/josearangos/Documentos/Projects/Voice_Recognition/pipelines/Enfoque_Múltiples_Instancias/Multiples Instancias Parte 1/PIPELINE_CLASS.py:155: DataConversionWarning: A column-vector y was passed when a 1d array was expected. Please change the shape of y to (n_samples,), for example using ravel().\n",
      "  model_trained.fit(X_train_fold,Y_train_fold)\n",
      "/home/josearangos/Documentos/Projects/Voice_Recognition/pipelines/Enfoque_Múltiples_Instancias/Multiples Instancias Parte 1/PIPELINE_CLASS.py:155: DataConversionWarning: A column-vector y was passed when a 1d array was expected. Please change the shape of y to (n_samples,), for example using ravel().\n",
      "  model_trained.fit(X_train_fold,Y_train_fold)\n",
      "/home/josearangos/Documentos/Projects/Voice_Recognition/pipelines/Enfoque_Múltiples_Instancias/Multiples Instancias Parte 1/PIPELINE_CLASS.py:155: DataConversionWarning: A column-vector y was passed when a 1d array was expected. Please change the shape of y to (n_samples,), for example using ravel().\n",
      "  model_trained.fit(X_train_fold,Y_train_fold)\n",
      "/home/josearangos/Documentos/Projects/Voice_Recognition/pipelines/Enfoque_Múltiples_Instancias/Multiples Instancias Parte 1/PIPELINE_CLASS.py:155: DataConversionWarning: A column-vector y was passed when a 1d array was expected. Please change the shape of y to (n_samples,), for example using ravel().\n",
      "  model_trained.fit(X_train_fold,Y_train_fold)\n",
      "/home/josearangos/Documentos/Projects/Voice_Recognition/pipelines/Enfoque_Múltiples_Instancias/Multiples Instancias Parte 1/PIPELINE_CLASS.py:155: DataConversionWarning: A column-vector y was passed when a 1d array was expected. Please change the shape of y to (n_samples,), for example using ravel().\n",
      "  model_trained.fit(X_train_fold,Y_train_fold)\n"
     ]
    },
    {
     "name": "stdout",
     "output_type": "stream",
     "text": [
      "############################################\n",
      "max_depth 10 n_estimators 600\n",
      "Efi Train 0.6632393505008352\n",
      "Std Train 0.023322893761449876\n",
      "Efi Test 0.4369898336113295\n",
      "Std Test 0.023071038883885585\n"
     ]
    },
    {
     "name": "stderr",
     "output_type": "stream",
     "text": [
      "/home/josearangos/Documentos/Projects/Voice_Recognition/pipelines/Enfoque_Múltiples_Instancias/Multiples Instancias Parte 1/PIPELINE_CLASS.py:155: DataConversionWarning: A column-vector y was passed when a 1d array was expected. Please change the shape of y to (n_samples,), for example using ravel().\n",
      "  model_trained.fit(X_train_fold,Y_train_fold)\n",
      "/home/josearangos/Documentos/Projects/Voice_Recognition/pipelines/Enfoque_Múltiples_Instancias/Multiples Instancias Parte 1/PIPELINE_CLASS.py:155: DataConversionWarning: A column-vector y was passed when a 1d array was expected. Please change the shape of y to (n_samples,), for example using ravel().\n",
      "  model_trained.fit(X_train_fold,Y_train_fold)\n",
      "/home/josearangos/Documentos/Projects/Voice_Recognition/pipelines/Enfoque_Múltiples_Instancias/Multiples Instancias Parte 1/PIPELINE_CLASS.py:155: DataConversionWarning: A column-vector y was passed when a 1d array was expected. Please change the shape of y to (n_samples,), for example using ravel().\n",
      "  model_trained.fit(X_train_fold,Y_train_fold)\n",
      "/home/josearangos/Documentos/Projects/Voice_Recognition/pipelines/Enfoque_Múltiples_Instancias/Multiples Instancias Parte 1/PIPELINE_CLASS.py:155: DataConversionWarning: A column-vector y was passed when a 1d array was expected. Please change the shape of y to (n_samples,), for example using ravel().\n",
      "  model_trained.fit(X_train_fold,Y_train_fold)\n",
      "/home/josearangos/Documentos/Projects/Voice_Recognition/pipelines/Enfoque_Múltiples_Instancias/Multiples Instancias Parte 1/PIPELINE_CLASS.py:155: DataConversionWarning: A column-vector y was passed when a 1d array was expected. Please change the shape of y to (n_samples,), for example using ravel().\n",
      "  model_trained.fit(X_train_fold,Y_train_fold)\n",
      "/home/josearangos/Documentos/Projects/Voice_Recognition/pipelines/Enfoque_Múltiples_Instancias/Multiples Instancias Parte 1/PIPELINE_CLASS.py:155: DataConversionWarning: A column-vector y was passed when a 1d array was expected. Please change the shape of y to (n_samples,), for example using ravel().\n",
      "  model_trained.fit(X_train_fold,Y_train_fold)\n",
      "/home/josearangos/Documentos/Projects/Voice_Recognition/pipelines/Enfoque_Múltiples_Instancias/Multiples Instancias Parte 1/PIPELINE_CLASS.py:155: DataConversionWarning: A column-vector y was passed when a 1d array was expected. Please change the shape of y to (n_samples,), for example using ravel().\n",
      "  model_trained.fit(X_train_fold,Y_train_fold)\n",
      "/home/josearangos/Documentos/Projects/Voice_Recognition/pipelines/Enfoque_Múltiples_Instancias/Multiples Instancias Parte 1/PIPELINE_CLASS.py:155: DataConversionWarning: A column-vector y was passed when a 1d array was expected. Please change the shape of y to (n_samples,), for example using ravel().\n",
      "  model_trained.fit(X_train_fold,Y_train_fold)\n",
      "/home/josearangos/Documentos/Projects/Voice_Recognition/pipelines/Enfoque_Múltiples_Instancias/Multiples Instancias Parte 1/PIPELINE_CLASS.py:155: DataConversionWarning: A column-vector y was passed when a 1d array was expected. Please change the shape of y to (n_samples,), for example using ravel().\n",
      "  model_trained.fit(X_train_fold,Y_train_fold)\n",
      "/home/josearangos/Documentos/Projects/Voice_Recognition/pipelines/Enfoque_Múltiples_Instancias/Multiples Instancias Parte 1/PIPELINE_CLASS.py:155: DataConversionWarning: A column-vector y was passed when a 1d array was expected. Please change the shape of y to (n_samples,), for example using ravel().\n",
      "  model_trained.fit(X_train_fold,Y_train_fold)\n"
     ]
    },
    {
     "name": "stdout",
     "output_type": "stream",
     "text": [
      "############################################\n",
      "max_depth 10 n_estimators 800\n",
      "Efi Train 0.6832341698208624\n",
      "Std Train 0.016675224395487607\n",
      "Efi Test 0.4584280333827405\n",
      "Std Test 0.016896257239974476\n"
     ]
    },
    {
     "name": "stderr",
     "output_type": "stream",
     "text": [
      "/home/josearangos/Documentos/Projects/Voice_Recognition/pipelines/Enfoque_Múltiples_Instancias/Multiples Instancias Parte 1/PIPELINE_CLASS.py:155: DataConversionWarning: A column-vector y was passed when a 1d array was expected. Please change the shape of y to (n_samples,), for example using ravel().\n",
      "  model_trained.fit(X_train_fold,Y_train_fold)\n",
      "/home/josearangos/Documentos/Projects/Voice_Recognition/pipelines/Enfoque_Múltiples_Instancias/Multiples Instancias Parte 1/PIPELINE_CLASS.py:155: DataConversionWarning: A column-vector y was passed when a 1d array was expected. Please change the shape of y to (n_samples,), for example using ravel().\n",
      "  model_trained.fit(X_train_fold,Y_train_fold)\n",
      "/home/josearangos/Documentos/Projects/Voice_Recognition/pipelines/Enfoque_Múltiples_Instancias/Multiples Instancias Parte 1/PIPELINE_CLASS.py:155: DataConversionWarning: A column-vector y was passed when a 1d array was expected. Please change the shape of y to (n_samples,), for example using ravel().\n",
      "  model_trained.fit(X_train_fold,Y_train_fold)\n",
      "/home/josearangos/Documentos/Projects/Voice_Recognition/pipelines/Enfoque_Múltiples_Instancias/Multiples Instancias Parte 1/PIPELINE_CLASS.py:155: DataConversionWarning: A column-vector y was passed when a 1d array was expected. Please change the shape of y to (n_samples,), for example using ravel().\n",
      "  model_trained.fit(X_train_fold,Y_train_fold)\n",
      "/home/josearangos/Documentos/Projects/Voice_Recognition/pipelines/Enfoque_Múltiples_Instancias/Multiples Instancias Parte 1/PIPELINE_CLASS.py:155: DataConversionWarning: A column-vector y was passed when a 1d array was expected. Please change the shape of y to (n_samples,), for example using ravel().\n",
      "  model_trained.fit(X_train_fold,Y_train_fold)\n",
      "/home/josearangos/Documentos/Projects/Voice_Recognition/pipelines/Enfoque_Múltiples_Instancias/Multiples Instancias Parte 1/PIPELINE_CLASS.py:155: DataConversionWarning: A column-vector y was passed when a 1d array was expected. Please change the shape of y to (n_samples,), for example using ravel().\n",
      "  model_trained.fit(X_train_fold,Y_train_fold)\n",
      "/home/josearangos/Documentos/Projects/Voice_Recognition/pipelines/Enfoque_Múltiples_Instancias/Multiples Instancias Parte 1/PIPELINE_CLASS.py:155: DataConversionWarning: A column-vector y was passed when a 1d array was expected. Please change the shape of y to (n_samples,), for example using ravel().\n",
      "  model_trained.fit(X_train_fold,Y_train_fold)\n",
      "/home/josearangos/Documentos/Projects/Voice_Recognition/pipelines/Enfoque_Múltiples_Instancias/Multiples Instancias Parte 1/PIPELINE_CLASS.py:155: DataConversionWarning: A column-vector y was passed when a 1d array was expected. Please change the shape of y to (n_samples,), for example using ravel().\n",
      "  model_trained.fit(X_train_fold,Y_train_fold)\n",
      "/home/josearangos/Documentos/Projects/Voice_Recognition/pipelines/Enfoque_Múltiples_Instancias/Multiples Instancias Parte 1/PIPELINE_CLASS.py:155: DataConversionWarning: A column-vector y was passed when a 1d array was expected. Please change the shape of y to (n_samples,), for example using ravel().\n",
      "  model_trained.fit(X_train_fold,Y_train_fold)\n",
      "/home/josearangos/Documentos/Projects/Voice_Recognition/pipelines/Enfoque_Múltiples_Instancias/Multiples Instancias Parte 1/PIPELINE_CLASS.py:155: DataConversionWarning: A column-vector y was passed when a 1d array was expected. Please change the shape of y to (n_samples,), for example using ravel().\n",
      "  model_trained.fit(X_train_fold,Y_train_fold)\n"
     ]
    },
    {
     "name": "stdout",
     "output_type": "stream",
     "text": [
      "############################################\n",
      "max_depth 10 n_estimators 1000\n",
      "Efi Train 0.6755975679401397\n",
      "Std Train 0.01695491996250302\n",
      "Efi Test 0.45478865651007866\n",
      "Std Test 0.02205169751545108\n"
     ]
    },
    {
     "name": "stderr",
     "output_type": "stream",
     "text": [
      "/home/josearangos/Documentos/Projects/Voice_Recognition/pipelines/Enfoque_Múltiples_Instancias/Multiples Instancias Parte 1/PIPELINE_CLASS.py:155: DataConversionWarning: A column-vector y was passed when a 1d array was expected. Please change the shape of y to (n_samples,), for example using ravel().\n",
      "  model_trained.fit(X_train_fold,Y_train_fold)\n",
      "/home/josearangos/Documentos/Projects/Voice_Recognition/pipelines/Enfoque_Múltiples_Instancias/Multiples Instancias Parte 1/PIPELINE_CLASS.py:155: DataConversionWarning: A column-vector y was passed when a 1d array was expected. Please change the shape of y to (n_samples,), for example using ravel().\n",
      "  model_trained.fit(X_train_fold,Y_train_fold)\n",
      "/home/josearangos/Documentos/Projects/Voice_Recognition/pipelines/Enfoque_Múltiples_Instancias/Multiples Instancias Parte 1/PIPELINE_CLASS.py:155: DataConversionWarning: A column-vector y was passed when a 1d array was expected. Please change the shape of y to (n_samples,), for example using ravel().\n",
      "  model_trained.fit(X_train_fold,Y_train_fold)\n",
      "/home/josearangos/Documentos/Projects/Voice_Recognition/pipelines/Enfoque_Múltiples_Instancias/Multiples Instancias Parte 1/PIPELINE_CLASS.py:155: DataConversionWarning: A column-vector y was passed when a 1d array was expected. Please change the shape of y to (n_samples,), for example using ravel().\n",
      "  model_trained.fit(X_train_fold,Y_train_fold)\n",
      "/home/josearangos/Documentos/Projects/Voice_Recognition/pipelines/Enfoque_Múltiples_Instancias/Multiples Instancias Parte 1/PIPELINE_CLASS.py:155: DataConversionWarning: A column-vector y was passed when a 1d array was expected. Please change the shape of y to (n_samples,), for example using ravel().\n",
      "  model_trained.fit(X_train_fold,Y_train_fold)\n",
      "/home/josearangos/Documentos/Projects/Voice_Recognition/pipelines/Enfoque_Múltiples_Instancias/Multiples Instancias Parte 1/PIPELINE_CLASS.py:155: DataConversionWarning: A column-vector y was passed when a 1d array was expected. Please change the shape of y to (n_samples,), for example using ravel().\n",
      "  model_trained.fit(X_train_fold,Y_train_fold)\n",
      "/home/josearangos/Documentos/Projects/Voice_Recognition/pipelines/Enfoque_Múltiples_Instancias/Multiples Instancias Parte 1/PIPELINE_CLASS.py:155: DataConversionWarning: A column-vector y was passed when a 1d array was expected. Please change the shape of y to (n_samples,), for example using ravel().\n",
      "  model_trained.fit(X_train_fold,Y_train_fold)\n",
      "/home/josearangos/Documentos/Projects/Voice_Recognition/pipelines/Enfoque_Múltiples_Instancias/Multiples Instancias Parte 1/PIPELINE_CLASS.py:155: DataConversionWarning: A column-vector y was passed when a 1d array was expected. Please change the shape of y to (n_samples,), for example using ravel().\n",
      "  model_trained.fit(X_train_fold,Y_train_fold)\n",
      "/home/josearangos/Documentos/Projects/Voice_Recognition/pipelines/Enfoque_Múltiples_Instancias/Multiples Instancias Parte 1/PIPELINE_CLASS.py:155: DataConversionWarning: A column-vector y was passed when a 1d array was expected. Please change the shape of y to (n_samples,), for example using ravel().\n",
      "  model_trained.fit(X_train_fold,Y_train_fold)\n",
      "/home/josearangos/Documentos/Projects/Voice_Recognition/pipelines/Enfoque_Múltiples_Instancias/Multiples Instancias Parte 1/PIPELINE_CLASS.py:155: DataConversionWarning: A column-vector y was passed when a 1d array was expected. Please change the shape of y to (n_samples,), for example using ravel().\n",
      "  model_trained.fit(X_train_fold,Y_train_fold)\n"
     ]
    },
    {
     "name": "stdout",
     "output_type": "stream",
     "text": [
      "############################################\n",
      "max_depth 10 n_estimators 1800\n",
      "Efi Train 0.6793736300220503\n",
      "Std Train 0.021175860527604066\n",
      "Efi Test 0.44151065550521745\n",
      "Std Test 0.017628817718087494\n"
     ]
    },
    {
     "name": "stderr",
     "output_type": "stream",
     "text": [
      "/home/josearangos/Documentos/Projects/Voice_Recognition/pipelines/Enfoque_Múltiples_Instancias/Multiples Instancias Parte 1/PIPELINE_CLASS.py:155: DataConversionWarning: A column-vector y was passed when a 1d array was expected. Please change the shape of y to (n_samples,), for example using ravel().\n",
      "  model_trained.fit(X_train_fold,Y_train_fold)\n",
      "/home/josearangos/Documentos/Projects/Voice_Recognition/pipelines/Enfoque_Múltiples_Instancias/Multiples Instancias Parte 1/PIPELINE_CLASS.py:155: DataConversionWarning: A column-vector y was passed when a 1d array was expected. Please change the shape of y to (n_samples,), for example using ravel().\n",
      "  model_trained.fit(X_train_fold,Y_train_fold)\n",
      "/home/josearangos/Documentos/Projects/Voice_Recognition/pipelines/Enfoque_Múltiples_Instancias/Multiples Instancias Parte 1/PIPELINE_CLASS.py:155: DataConversionWarning: A column-vector y was passed when a 1d array was expected. Please change the shape of y to (n_samples,), for example using ravel().\n",
      "  model_trained.fit(X_train_fold,Y_train_fold)\n",
      "/home/josearangos/Documentos/Projects/Voice_Recognition/pipelines/Enfoque_Múltiples_Instancias/Multiples Instancias Parte 1/PIPELINE_CLASS.py:155: DataConversionWarning: A column-vector y was passed when a 1d array was expected. Please change the shape of y to (n_samples,), for example using ravel().\n",
      "  model_trained.fit(X_train_fold,Y_train_fold)\n",
      "/home/josearangos/Documentos/Projects/Voice_Recognition/pipelines/Enfoque_Múltiples_Instancias/Multiples Instancias Parte 1/PIPELINE_CLASS.py:155: DataConversionWarning: A column-vector y was passed when a 1d array was expected. Please change the shape of y to (n_samples,), for example using ravel().\n",
      "  model_trained.fit(X_train_fold,Y_train_fold)\n",
      "/home/josearangos/Documentos/Projects/Voice_Recognition/pipelines/Enfoque_Múltiples_Instancias/Multiples Instancias Parte 1/PIPELINE_CLASS.py:155: DataConversionWarning: A column-vector y was passed when a 1d array was expected. Please change the shape of y to (n_samples,), for example using ravel().\n",
      "  model_trained.fit(X_train_fold,Y_train_fold)\n",
      "/home/josearangos/Documentos/Projects/Voice_Recognition/pipelines/Enfoque_Múltiples_Instancias/Multiples Instancias Parte 1/PIPELINE_CLASS.py:155: DataConversionWarning: A column-vector y was passed when a 1d array was expected. Please change the shape of y to (n_samples,), for example using ravel().\n",
      "  model_trained.fit(X_train_fold,Y_train_fold)\n",
      "/home/josearangos/Documentos/Projects/Voice_Recognition/pipelines/Enfoque_Múltiples_Instancias/Multiples Instancias Parte 1/PIPELINE_CLASS.py:155: DataConversionWarning: A column-vector y was passed when a 1d array was expected. Please change the shape of y to (n_samples,), for example using ravel().\n",
      "  model_trained.fit(X_train_fold,Y_train_fold)\n",
      "/home/josearangos/Documentos/Projects/Voice_Recognition/pipelines/Enfoque_Múltiples_Instancias/Multiples Instancias Parte 1/PIPELINE_CLASS.py:155: DataConversionWarning: A column-vector y was passed when a 1d array was expected. Please change the shape of y to (n_samples,), for example using ravel().\n",
      "  model_trained.fit(X_train_fold,Y_train_fold)\n",
      "/home/josearangos/Documentos/Projects/Voice_Recognition/pipelines/Enfoque_Múltiples_Instancias/Multiples Instancias Parte 1/PIPELINE_CLASS.py:155: DataConversionWarning: A column-vector y was passed when a 1d array was expected. Please change the shape of y to (n_samples,), for example using ravel().\n",
      "  model_trained.fit(X_train_fold,Y_train_fold)\n"
     ]
    },
    {
     "name": "stdout",
     "output_type": "stream",
     "text": [
      "############################################\n",
      "max_depth 10 n_estimators 2000\n",
      "Efi Train 0.679954174234931\n",
      "Std Train 0.013046899441437327\n",
      "Efi Test 0.45972634793217226\n",
      "Std Test 0.01607653536317576\n"
     ]
    },
    {
     "name": "stderr",
     "output_type": "stream",
     "text": [
      "/home/josearangos/Documentos/Projects/Voice_Recognition/pipelines/Enfoque_Múltiples_Instancias/Multiples Instancias Parte 1/PIPELINE_CLASS.py:155: DataConversionWarning: A column-vector y was passed when a 1d array was expected. Please change the shape of y to (n_samples,), for example using ravel().\n",
      "  model_trained.fit(X_train_fold,Y_train_fold)\n",
      "/home/josearangos/Documentos/Projects/Voice_Recognition/pipelines/Enfoque_Múltiples_Instancias/Multiples Instancias Parte 1/PIPELINE_CLASS.py:155: DataConversionWarning: A column-vector y was passed when a 1d array was expected. Please change the shape of y to (n_samples,), for example using ravel().\n",
      "  model_trained.fit(X_train_fold,Y_train_fold)\n",
      "/home/josearangos/Documentos/Projects/Voice_Recognition/pipelines/Enfoque_Múltiples_Instancias/Multiples Instancias Parte 1/PIPELINE_CLASS.py:155: DataConversionWarning: A column-vector y was passed when a 1d array was expected. Please change the shape of y to (n_samples,), for example using ravel().\n",
      "  model_trained.fit(X_train_fold,Y_train_fold)\n",
      "/home/josearangos/Documentos/Projects/Voice_Recognition/pipelines/Enfoque_Múltiples_Instancias/Multiples Instancias Parte 1/PIPELINE_CLASS.py:155: DataConversionWarning: A column-vector y was passed when a 1d array was expected. Please change the shape of y to (n_samples,), for example using ravel().\n",
      "  model_trained.fit(X_train_fold,Y_train_fold)\n",
      "/home/josearangos/Documentos/Projects/Voice_Recognition/pipelines/Enfoque_Múltiples_Instancias/Multiples Instancias Parte 1/PIPELINE_CLASS.py:155: DataConversionWarning: A column-vector y was passed when a 1d array was expected. Please change the shape of y to (n_samples,), for example using ravel().\n",
      "  model_trained.fit(X_train_fold,Y_train_fold)\n",
      "/home/josearangos/Documentos/Projects/Voice_Recognition/pipelines/Enfoque_Múltiples_Instancias/Multiples Instancias Parte 1/PIPELINE_CLASS.py:155: DataConversionWarning: A column-vector y was passed when a 1d array was expected. Please change the shape of y to (n_samples,), for example using ravel().\n",
      "  model_trained.fit(X_train_fold,Y_train_fold)\n",
      "/home/josearangos/Documentos/Projects/Voice_Recognition/pipelines/Enfoque_Múltiples_Instancias/Multiples Instancias Parte 1/PIPELINE_CLASS.py:155: DataConversionWarning: A column-vector y was passed when a 1d array was expected. Please change the shape of y to (n_samples,), for example using ravel().\n",
      "  model_trained.fit(X_train_fold,Y_train_fold)\n",
      "/home/josearangos/Documentos/Projects/Voice_Recognition/pipelines/Enfoque_Múltiples_Instancias/Multiples Instancias Parte 1/PIPELINE_CLASS.py:155: DataConversionWarning: A column-vector y was passed when a 1d array was expected. Please change the shape of y to (n_samples,), for example using ravel().\n",
      "  model_trained.fit(X_train_fold,Y_train_fold)\n",
      "/home/josearangos/Documentos/Projects/Voice_Recognition/pipelines/Enfoque_Múltiples_Instancias/Multiples Instancias Parte 1/PIPELINE_CLASS.py:155: DataConversionWarning: A column-vector y was passed when a 1d array was expected. Please change the shape of y to (n_samples,), for example using ravel().\n",
      "  model_trained.fit(X_train_fold,Y_train_fold)\n",
      "/home/josearangos/Documentos/Projects/Voice_Recognition/pipelines/Enfoque_Múltiples_Instancias/Multiples Instancias Parte 1/PIPELINE_CLASS.py:155: DataConversionWarning: A column-vector y was passed when a 1d array was expected. Please change the shape of y to (n_samples,), for example using ravel().\n",
      "  model_trained.fit(X_train_fold,Y_train_fold)\n"
     ]
    },
    {
     "name": "stdout",
     "output_type": "stream",
     "text": [
      "############################################\n",
      "max_depth 20 n_estimators 400\n",
      "Efi Train 0.9983273308282881\n",
      "Std Train 0.0011763730866812224\n",
      "Efi Test 0.5300069794874462\n",
      "Std Test 0.02256743221845014\n"
     ]
    },
    {
     "name": "stderr",
     "output_type": "stream",
     "text": [
      "/home/josearangos/Documentos/Projects/Voice_Recognition/pipelines/Enfoque_Múltiples_Instancias/Multiples Instancias Parte 1/PIPELINE_CLASS.py:155: DataConversionWarning: A column-vector y was passed when a 1d array was expected. Please change the shape of y to (n_samples,), for example using ravel().\n",
      "  model_trained.fit(X_train_fold,Y_train_fold)\n",
      "/home/josearangos/Documentos/Projects/Voice_Recognition/pipelines/Enfoque_Múltiples_Instancias/Multiples Instancias Parte 1/PIPELINE_CLASS.py:155: DataConversionWarning: A column-vector y was passed when a 1d array was expected. Please change the shape of y to (n_samples,), for example using ravel().\n",
      "  model_trained.fit(X_train_fold,Y_train_fold)\n",
      "/home/josearangos/Documentos/Projects/Voice_Recognition/pipelines/Enfoque_Múltiples_Instancias/Multiples Instancias Parte 1/PIPELINE_CLASS.py:155: DataConversionWarning: A column-vector y was passed when a 1d array was expected. Please change the shape of y to (n_samples,), for example using ravel().\n",
      "  model_trained.fit(X_train_fold,Y_train_fold)\n",
      "/home/josearangos/Documentos/Projects/Voice_Recognition/pipelines/Enfoque_Múltiples_Instancias/Multiples Instancias Parte 1/PIPELINE_CLASS.py:155: DataConversionWarning: A column-vector y was passed when a 1d array was expected. Please change the shape of y to (n_samples,), for example using ravel().\n",
      "  model_trained.fit(X_train_fold,Y_train_fold)\n",
      "/home/josearangos/Documentos/Projects/Voice_Recognition/pipelines/Enfoque_Múltiples_Instancias/Multiples Instancias Parte 1/PIPELINE_CLASS.py:155: DataConversionWarning: A column-vector y was passed when a 1d array was expected. Please change the shape of y to (n_samples,), for example using ravel().\n",
      "  model_trained.fit(X_train_fold,Y_train_fold)\n",
      "/home/josearangos/Documentos/Projects/Voice_Recognition/pipelines/Enfoque_Múltiples_Instancias/Multiples Instancias Parte 1/PIPELINE_CLASS.py:155: DataConversionWarning: A column-vector y was passed when a 1d array was expected. Please change the shape of y to (n_samples,), for example using ravel().\n",
      "  model_trained.fit(X_train_fold,Y_train_fold)\n",
      "/home/josearangos/Documentos/Projects/Voice_Recognition/pipelines/Enfoque_Múltiples_Instancias/Multiples Instancias Parte 1/PIPELINE_CLASS.py:155: DataConversionWarning: A column-vector y was passed when a 1d array was expected. Please change the shape of y to (n_samples,), for example using ravel().\n",
      "  model_trained.fit(X_train_fold,Y_train_fold)\n",
      "/home/josearangos/Documentos/Projects/Voice_Recognition/pipelines/Enfoque_Múltiples_Instancias/Multiples Instancias Parte 1/PIPELINE_CLASS.py:155: DataConversionWarning: A column-vector y was passed when a 1d array was expected. Please change the shape of y to (n_samples,), for example using ravel().\n",
      "  model_trained.fit(X_train_fold,Y_train_fold)\n",
      "/home/josearangos/Documentos/Projects/Voice_Recognition/pipelines/Enfoque_Múltiples_Instancias/Multiples Instancias Parte 1/PIPELINE_CLASS.py:155: DataConversionWarning: A column-vector y was passed when a 1d array was expected. Please change the shape of y to (n_samples,), for example using ravel().\n",
      "  model_trained.fit(X_train_fold,Y_train_fold)\n",
      "/home/josearangos/Documentos/Projects/Voice_Recognition/pipelines/Enfoque_Múltiples_Instancias/Multiples Instancias Parte 1/PIPELINE_CLASS.py:155: DataConversionWarning: A column-vector y was passed when a 1d array was expected. Please change the shape of y to (n_samples,), for example using ravel().\n",
      "  model_trained.fit(X_train_fold,Y_train_fold)\n"
     ]
    },
    {
     "name": "stdout",
     "output_type": "stream",
     "text": [
      "############################################\n",
      "max_depth 20 n_estimators 600\n",
      "Efi Train 0.9986329812312356\n",
      "Std Train 0.0014712484313467934\n",
      "Efi Test 0.5198829371688151\n",
      "Std Test 0.021410195411861763\n"
     ]
    },
    {
     "name": "stderr",
     "output_type": "stream",
     "text": [
      "/home/josearangos/Documentos/Projects/Voice_Recognition/pipelines/Enfoque_Múltiples_Instancias/Multiples Instancias Parte 1/PIPELINE_CLASS.py:155: DataConversionWarning: A column-vector y was passed when a 1d array was expected. Please change the shape of y to (n_samples,), for example using ravel().\n",
      "  model_trained.fit(X_train_fold,Y_train_fold)\n",
      "/home/josearangos/Documentos/Projects/Voice_Recognition/pipelines/Enfoque_Múltiples_Instancias/Multiples Instancias Parte 1/PIPELINE_CLASS.py:155: DataConversionWarning: A column-vector y was passed when a 1d array was expected. Please change the shape of y to (n_samples,), for example using ravel().\n",
      "  model_trained.fit(X_train_fold,Y_train_fold)\n",
      "/home/josearangos/Documentos/Projects/Voice_Recognition/pipelines/Enfoque_Múltiples_Instancias/Multiples Instancias Parte 1/PIPELINE_CLASS.py:155: DataConversionWarning: A column-vector y was passed when a 1d array was expected. Please change the shape of y to (n_samples,), for example using ravel().\n",
      "  model_trained.fit(X_train_fold,Y_train_fold)\n",
      "/home/josearangos/Documentos/Projects/Voice_Recognition/pipelines/Enfoque_Múltiples_Instancias/Multiples Instancias Parte 1/PIPELINE_CLASS.py:155: DataConversionWarning: A column-vector y was passed when a 1d array was expected. Please change the shape of y to (n_samples,), for example using ravel().\n",
      "  model_trained.fit(X_train_fold,Y_train_fold)\n",
      "/home/josearangos/Documentos/Projects/Voice_Recognition/pipelines/Enfoque_Múltiples_Instancias/Multiples Instancias Parte 1/PIPELINE_CLASS.py:155: DataConversionWarning: A column-vector y was passed when a 1d array was expected. Please change the shape of y to (n_samples,), for example using ravel().\n",
      "  model_trained.fit(X_train_fold,Y_train_fold)\n",
      "/home/josearangos/Documentos/Projects/Voice_Recognition/pipelines/Enfoque_Múltiples_Instancias/Multiples Instancias Parte 1/PIPELINE_CLASS.py:155: DataConversionWarning: A column-vector y was passed when a 1d array was expected. Please change the shape of y to (n_samples,), for example using ravel().\n",
      "  model_trained.fit(X_train_fold,Y_train_fold)\n",
      "/home/josearangos/Documentos/Projects/Voice_Recognition/pipelines/Enfoque_Múltiples_Instancias/Multiples Instancias Parte 1/PIPELINE_CLASS.py:155: DataConversionWarning: A column-vector y was passed when a 1d array was expected. Please change the shape of y to (n_samples,), for example using ravel().\n",
      "  model_trained.fit(X_train_fold,Y_train_fold)\n",
      "/home/josearangos/Documentos/Projects/Voice_Recognition/pipelines/Enfoque_Múltiples_Instancias/Multiples Instancias Parte 1/PIPELINE_CLASS.py:155: DataConversionWarning: A column-vector y was passed when a 1d array was expected. Please change the shape of y to (n_samples,), for example using ravel().\n",
      "  model_trained.fit(X_train_fold,Y_train_fold)\n",
      "/home/josearangos/Documentos/Projects/Voice_Recognition/pipelines/Enfoque_Múltiples_Instancias/Multiples Instancias Parte 1/PIPELINE_CLASS.py:155: DataConversionWarning: A column-vector y was passed when a 1d array was expected. Please change the shape of y to (n_samples,), for example using ravel().\n",
      "  model_trained.fit(X_train_fold,Y_train_fold)\n",
      "/home/josearangos/Documentos/Projects/Voice_Recognition/pipelines/Enfoque_Múltiples_Instancias/Multiples Instancias Parte 1/PIPELINE_CLASS.py:155: DataConversionWarning: A column-vector y was passed when a 1d array was expected. Please change the shape of y to (n_samples,), for example using ravel().\n",
      "  model_trained.fit(X_train_fold,Y_train_fold)\n"
     ]
    },
    {
     "name": "stdout",
     "output_type": "stream",
     "text": [
      "############################################\n",
      "max_depth 20 n_estimators 800\n",
      "Efi Train 0.998386093817944\n",
      "Std Train 0.001139114624427761\n",
      "Efi Test 0.5055691970789129\n",
      "Std Test 0.022501930391236807\n"
     ]
    },
    {
     "name": "stderr",
     "output_type": "stream",
     "text": [
      "/home/josearangos/Documentos/Projects/Voice_Recognition/pipelines/Enfoque_Múltiples_Instancias/Multiples Instancias Parte 1/PIPELINE_CLASS.py:155: DataConversionWarning: A column-vector y was passed when a 1d array was expected. Please change the shape of y to (n_samples,), for example using ravel().\n",
      "  model_trained.fit(X_train_fold,Y_train_fold)\n",
      "/home/josearangos/Documentos/Projects/Voice_Recognition/pipelines/Enfoque_Múltiples_Instancias/Multiples Instancias Parte 1/PIPELINE_CLASS.py:155: DataConversionWarning: A column-vector y was passed when a 1d array was expected. Please change the shape of y to (n_samples,), for example using ravel().\n",
      "  model_trained.fit(X_train_fold,Y_train_fold)\n",
      "/home/josearangos/Documentos/Projects/Voice_Recognition/pipelines/Enfoque_Múltiples_Instancias/Multiples Instancias Parte 1/PIPELINE_CLASS.py:155: DataConversionWarning: A column-vector y was passed when a 1d array was expected. Please change the shape of y to (n_samples,), for example using ravel().\n",
      "  model_trained.fit(X_train_fold,Y_train_fold)\n",
      "/home/josearangos/Documentos/Projects/Voice_Recognition/pipelines/Enfoque_Múltiples_Instancias/Multiples Instancias Parte 1/PIPELINE_CLASS.py:155: DataConversionWarning: A column-vector y was passed when a 1d array was expected. Please change the shape of y to (n_samples,), for example using ravel().\n",
      "  model_trained.fit(X_train_fold,Y_train_fold)\n",
      "/home/josearangos/Documentos/Projects/Voice_Recognition/pipelines/Enfoque_Múltiples_Instancias/Multiples Instancias Parte 1/PIPELINE_CLASS.py:155: DataConversionWarning: A column-vector y was passed when a 1d array was expected. Please change the shape of y to (n_samples,), for example using ravel().\n",
      "  model_trained.fit(X_train_fold,Y_train_fold)\n",
      "/home/josearangos/Documentos/Projects/Voice_Recognition/pipelines/Enfoque_Múltiples_Instancias/Multiples Instancias Parte 1/PIPELINE_CLASS.py:155: DataConversionWarning: A column-vector y was passed when a 1d array was expected. Please change the shape of y to (n_samples,), for example using ravel().\n",
      "  model_trained.fit(X_train_fold,Y_train_fold)\n",
      "/home/josearangos/Documentos/Projects/Voice_Recognition/pipelines/Enfoque_Múltiples_Instancias/Multiples Instancias Parte 1/PIPELINE_CLASS.py:155: DataConversionWarning: A column-vector y was passed when a 1d array was expected. Please change the shape of y to (n_samples,), for example using ravel().\n",
      "  model_trained.fit(X_train_fold,Y_train_fold)\n",
      "/home/josearangos/Documentos/Projects/Voice_Recognition/pipelines/Enfoque_Múltiples_Instancias/Multiples Instancias Parte 1/PIPELINE_CLASS.py:155: DataConversionWarning: A column-vector y was passed when a 1d array was expected. Please change the shape of y to (n_samples,), for example using ravel().\n",
      "  model_trained.fit(X_train_fold,Y_train_fold)\n",
      "/home/josearangos/Documentos/Projects/Voice_Recognition/pipelines/Enfoque_Múltiples_Instancias/Multiples Instancias Parte 1/PIPELINE_CLASS.py:155: DataConversionWarning: A column-vector y was passed when a 1d array was expected. Please change the shape of y to (n_samples,), for example using ravel().\n",
      "  model_trained.fit(X_train_fold,Y_train_fold)\n",
      "/home/josearangos/Documentos/Projects/Voice_Recognition/pipelines/Enfoque_Múltiples_Instancias/Multiples Instancias Parte 1/PIPELINE_CLASS.py:155: DataConversionWarning: A column-vector y was passed when a 1d array was expected. Please change the shape of y to (n_samples,), for example using ravel().\n",
      "  model_trained.fit(X_train_fold,Y_train_fold)\n"
     ]
    },
    {
     "name": "stdout",
     "output_type": "stream",
     "text": [
      "############################################\n",
      "max_depth 20 n_estimators 1000\n",
      "Efi Train 0.998392840428022\n",
      "Std Train 0.0011684751241357555\n",
      "Efi Test 0.5145966310503154\n",
      "Std Test 0.01893460047660906\n"
     ]
    },
    {
     "name": "stderr",
     "output_type": "stream",
     "text": [
      "/home/josearangos/Documentos/Projects/Voice_Recognition/pipelines/Enfoque_Múltiples_Instancias/Multiples Instancias Parte 1/PIPELINE_CLASS.py:155: DataConversionWarning: A column-vector y was passed when a 1d array was expected. Please change the shape of y to (n_samples,), for example using ravel().\n",
      "  model_trained.fit(X_train_fold,Y_train_fold)\n",
      "/home/josearangos/Documentos/Projects/Voice_Recognition/pipelines/Enfoque_Múltiples_Instancias/Multiples Instancias Parte 1/PIPELINE_CLASS.py:155: DataConversionWarning: A column-vector y was passed when a 1d array was expected. Please change the shape of y to (n_samples,), for example using ravel().\n",
      "  model_trained.fit(X_train_fold,Y_train_fold)\n",
      "/home/josearangos/Documentos/Projects/Voice_Recognition/pipelines/Enfoque_Múltiples_Instancias/Multiples Instancias Parte 1/PIPELINE_CLASS.py:155: DataConversionWarning: A column-vector y was passed when a 1d array was expected. Please change the shape of y to (n_samples,), for example using ravel().\n",
      "  model_trained.fit(X_train_fold,Y_train_fold)\n",
      "/home/josearangos/Documentos/Projects/Voice_Recognition/pipelines/Enfoque_Múltiples_Instancias/Multiples Instancias Parte 1/PIPELINE_CLASS.py:155: DataConversionWarning: A column-vector y was passed when a 1d array was expected. Please change the shape of y to (n_samples,), for example using ravel().\n",
      "  model_trained.fit(X_train_fold,Y_train_fold)\n",
      "/home/josearangos/Documentos/Projects/Voice_Recognition/pipelines/Enfoque_Múltiples_Instancias/Multiples Instancias Parte 1/PIPELINE_CLASS.py:155: DataConversionWarning: A column-vector y was passed when a 1d array was expected. Please change the shape of y to (n_samples,), for example using ravel().\n",
      "  model_trained.fit(X_train_fold,Y_train_fold)\n",
      "/home/josearangos/Documentos/Projects/Voice_Recognition/pipelines/Enfoque_Múltiples_Instancias/Multiples Instancias Parte 1/PIPELINE_CLASS.py:155: DataConversionWarning: A column-vector y was passed when a 1d array was expected. Please change the shape of y to (n_samples,), for example using ravel().\n",
      "  model_trained.fit(X_train_fold,Y_train_fold)\n",
      "/home/josearangos/Documentos/Projects/Voice_Recognition/pipelines/Enfoque_Múltiples_Instancias/Multiples Instancias Parte 1/PIPELINE_CLASS.py:155: DataConversionWarning: A column-vector y was passed when a 1d array was expected. Please change the shape of y to (n_samples,), for example using ravel().\n",
      "  model_trained.fit(X_train_fold,Y_train_fold)\n",
      "/home/josearangos/Documentos/Projects/Voice_Recognition/pipelines/Enfoque_Múltiples_Instancias/Multiples Instancias Parte 1/PIPELINE_CLASS.py:155: DataConversionWarning: A column-vector y was passed when a 1d array was expected. Please change the shape of y to (n_samples,), for example using ravel().\n",
      "  model_trained.fit(X_train_fold,Y_train_fold)\n",
      "/home/josearangos/Documentos/Projects/Voice_Recognition/pipelines/Enfoque_Múltiples_Instancias/Multiples Instancias Parte 1/PIPELINE_CLASS.py:155: DataConversionWarning: A column-vector y was passed when a 1d array was expected. Please change the shape of y to (n_samples,), for example using ravel().\n",
      "  model_trained.fit(X_train_fold,Y_train_fold)\n",
      "/home/josearangos/Documentos/Projects/Voice_Recognition/pipelines/Enfoque_Múltiples_Instancias/Multiples Instancias Parte 1/PIPELINE_CLASS.py:155: DataConversionWarning: A column-vector y was passed when a 1d array was expected. Please change the shape of y to (n_samples,), for example using ravel().\n",
      "  model_trained.fit(X_train_fold,Y_train_fold)\n"
     ]
    },
    {
     "name": "stdout",
     "output_type": "stream",
     "text": [
      "############################################\n",
      "max_depth 20 n_estimators 1800\n",
      "Efi Train 0.9991250071932626\n",
      "Std Train 0.0005881750897271849\n",
      "Efi Test 0.52589637069791\n",
      "Std Test 0.024336150413329365\n"
     ]
    },
    {
     "name": "stderr",
     "output_type": "stream",
     "text": [
      "/home/josearangos/Documentos/Projects/Voice_Recognition/pipelines/Enfoque_Múltiples_Instancias/Multiples Instancias Parte 1/PIPELINE_CLASS.py:155: DataConversionWarning: A column-vector y was passed when a 1d array was expected. Please change the shape of y to (n_samples,), for example using ravel().\n",
      "  model_trained.fit(X_train_fold,Y_train_fold)\n",
      "/home/josearangos/Documentos/Projects/Voice_Recognition/pipelines/Enfoque_Múltiples_Instancias/Multiples Instancias Parte 1/PIPELINE_CLASS.py:155: DataConversionWarning: A column-vector y was passed when a 1d array was expected. Please change the shape of y to (n_samples,), for example using ravel().\n",
      "  model_trained.fit(X_train_fold,Y_train_fold)\n",
      "/home/josearangos/Documentos/Projects/Voice_Recognition/pipelines/Enfoque_Múltiples_Instancias/Multiples Instancias Parte 1/PIPELINE_CLASS.py:155: DataConversionWarning: A column-vector y was passed when a 1d array was expected. Please change the shape of y to (n_samples,), for example using ravel().\n",
      "  model_trained.fit(X_train_fold,Y_train_fold)\n",
      "/home/josearangos/Documentos/Projects/Voice_Recognition/pipelines/Enfoque_Múltiples_Instancias/Multiples Instancias Parte 1/PIPELINE_CLASS.py:155: DataConversionWarning: A column-vector y was passed when a 1d array was expected. Please change the shape of y to (n_samples,), for example using ravel().\n",
      "  model_trained.fit(X_train_fold,Y_train_fold)\n",
      "/home/josearangos/Documentos/Projects/Voice_Recognition/pipelines/Enfoque_Múltiples_Instancias/Multiples Instancias Parte 1/PIPELINE_CLASS.py:155: DataConversionWarning: A column-vector y was passed when a 1d array was expected. Please change the shape of y to (n_samples,), for example using ravel().\n",
      "  model_trained.fit(X_train_fold,Y_train_fold)\n",
      "/home/josearangos/Documentos/Projects/Voice_Recognition/pipelines/Enfoque_Múltiples_Instancias/Multiples Instancias Parte 1/PIPELINE_CLASS.py:155: DataConversionWarning: A column-vector y was passed when a 1d array was expected. Please change the shape of y to (n_samples,), for example using ravel().\n",
      "  model_trained.fit(X_train_fold,Y_train_fold)\n",
      "/home/josearangos/Documentos/Projects/Voice_Recognition/pipelines/Enfoque_Múltiples_Instancias/Multiples Instancias Parte 1/PIPELINE_CLASS.py:155: DataConversionWarning: A column-vector y was passed when a 1d array was expected. Please change the shape of y to (n_samples,), for example using ravel().\n",
      "  model_trained.fit(X_train_fold,Y_train_fold)\n",
      "/home/josearangos/Documentos/Projects/Voice_Recognition/pipelines/Enfoque_Múltiples_Instancias/Multiples Instancias Parte 1/PIPELINE_CLASS.py:155: DataConversionWarning: A column-vector y was passed when a 1d array was expected. Please change the shape of y to (n_samples,), for example using ravel().\n",
      "  model_trained.fit(X_train_fold,Y_train_fold)\n",
      "/home/josearangos/Documentos/Projects/Voice_Recognition/pipelines/Enfoque_Múltiples_Instancias/Multiples Instancias Parte 1/PIPELINE_CLASS.py:155: DataConversionWarning: A column-vector y was passed when a 1d array was expected. Please change the shape of y to (n_samples,), for example using ravel().\n",
      "  model_trained.fit(X_train_fold,Y_train_fold)\n",
      "/home/josearangos/Documentos/Projects/Voice_Recognition/pipelines/Enfoque_Múltiples_Instancias/Multiples Instancias Parte 1/PIPELINE_CLASS.py:155: DataConversionWarning: A column-vector y was passed when a 1d array was expected. Please change the shape of y to (n_samples,), for example using ravel().\n",
      "  model_trained.fit(X_train_fold,Y_train_fold)\n"
     ]
    },
    {
     "name": "stdout",
     "output_type": "stream",
     "text": [
      "############################################\n",
      "max_depth 20 n_estimators 2000\n",
      "Efi Train 0.9985509541322539\n",
      "Std Train 0.0007113160862585146\n",
      "Efi Test 0.5162393810045931\n",
      "Std Test 0.017300316073375756\n"
     ]
    },
    {
     "name": "stderr",
     "output_type": "stream",
     "text": [
      "/home/josearangos/Documentos/Projects/Voice_Recognition/pipelines/Enfoque_Múltiples_Instancias/Multiples Instancias Parte 1/PIPELINE_CLASS.py:155: DataConversionWarning: A column-vector y was passed when a 1d array was expected. Please change the shape of y to (n_samples,), for example using ravel().\n",
      "  model_trained.fit(X_train_fold,Y_train_fold)\n"
     ]
    }
   ],
   "source": [
    "df_types = pd.DataFrame({\n",
    "    'max_depth' : pd.Series([10,10,10,10,10,10,20,20,20,20,20,20,30,30,30,30,30,30]),\n",
    "    'n_estimators' : pd.Series([400, 600, 800, 1000, 1800, 2000]*3)})\n",
    "\n",
    "df_types[\"Eficiencia en train\"] = \"\"\n",
    "df_types[\"Intervalo de confianza train\"] = \"\"\n",
    "df_types[\"Eficiencia en test\"] = \"\"\n",
    "df_types[\"Intervalo de confianza test\"] = \"\"\n",
    "\n",
    "df_types.set_index(['max_depth','n_estimators'], inplace=True)\n",
    "models_trained = []\n",
    "cont = 0\n",
    "for max_depth,n_estimators in df_types.index:\n",
    "    RandomTreeModel = RandomForestClassifier(max_depth=int(max_depth),n_estimators=int(n_estimators))\n",
    "    model_trained,eficiencia_Train,intervalo_Train,eficiencia_Test,intervalo_Test = PIPELINE.TRAIN(RandomTreeModel,label_request=True)\n",
    "    df_types[\"Eficiencia en train\"][cont] = str(eficiencia_Train)\n",
    "    df_types[\"Intervalo de confianza train\"][cont] =str(intervalo_Train)\n",
    "    df_types[\"Eficiencia en test\"][cont]=str(eficiencia_Test)\n",
    "    df_types[\"Intervalo de confianza test\"][cont]=str(intervalo_Test)\n",
    "    models_trained.append(model_trained)\n",
    "    cont = cont +1\n",
    "    print(\"############################################\")\n",
    "    print('max_depth',max_depth,'n_estimators',n_estimators)\n",
    "    print(\"Efi Train\",str(eficiencia_Train))\n",
    "    print(\"Std Train\",str(intervalo_Train))\n",
    "    print(\"Efi Test\",str(eficiencia_Test))\n",
    "    print(\"Std Test\",str(intervalo_Test))\n",
    "df_types.sort_index(inplace=True)\n",
    "qgrid_widget = qgrid.show_grid(df_types, show_toolbar=False)\n",
    "qgrid_widget"
   ]
  },
  {
   "cell_type": "code",
   "execution_count": null,
   "metadata": {},
   "outputs": [],
   "source": [
    "qgrid_widget.get_changed_df()"
   ]
  },
  {
   "cell_type": "markdown",
   "metadata": {},
   "source": [
    "### La mejor combinación de parametros"
   ]
  },
  {
   "cell_type": "code",
   "execution_count": 15,
   "metadata": {},
   "outputs": [],
   "source": [
    "best_model_trained = models_trained[len(models_trained)-2]"
   ]
  },
  {
   "cell_type": "markdown",
   "metadata": {},
   "source": [
    "## 2. Evalución mejor modelo con el conjunto de test"
   ]
  },
  {
   "cell_type": "code",
   "execution_count": 16,
   "metadata": {},
   "outputs": [
    {
     "name": "stdout",
     "output_type": "stream",
     "text": [
      "Accuracy:  0.5044642857142857 \n",
      "\n",
      "\n",
      "classification report :\n",
      "               precision    recall  f1-score   support\n",
      "\n",
      "         0.0       0.36      0.49      0.42        43\n",
      "         1.0       0.50      0.48      0.49        44\n",
      "         2.0       0.76      0.39      0.51        49\n",
      "         3.0       0.35      0.56      0.43        41\n",
      "         4.0       0.85      0.62      0.72        47\n",
      "\n",
      "    accuracy                           0.50       224\n",
      "   macro avg       0.57      0.51      0.51       224\n",
      "weighted avg       0.58      0.50      0.52       224\n",
      "\n"
     ]
    },
    {
     "data": {
      "image/png": "[encoded data removed]",
      "text/plain": [
       "<Figure size 720x720 with 2 Axes>"
      ]
     },
     "metadata": {
      "needs_background": "light"
     },
     "output_type": "display_data"
    },
    {
     "name": "stdout",
     "output_type": "stream",
     "text": [
      "              precision    recall  f1-score   support\n",
      "\n",
      "         0.0       0.36      0.49      0.42        43\n",
      "         1.0       0.50      0.48      0.49        44\n",
      "         2.0       0.76      0.39      0.51        49\n",
      "         3.0       0.35      0.56      0.43        41\n",
      "         4.0       0.85      0.62      0.72        47\n",
      "\n",
      "    accuracy                           0.50       224\n",
      "   macro avg       0.57      0.51      0.51       224\n",
      "weighted avg       0.58      0.50      0.52       224\n",
      "\n"
     ]
    }
   ],
   "source": [
    "report = PIPELINE.confusion_matrix_Metrics(best_model_trained)\n",
    "print(report)"
   ]
  },
  {
   "cell_type": "markdown",
   "metadata": {},
   "source": [
    "## Learning Curve"
   ]
  },
  {
   "cell_type": "code",
   "execution_count": 17,
   "metadata": {},
   "outputs": [
    {
     "name": "stderr",
     "output_type": "stream",
     "text": [
      "/home/josearangos/Documentos/Projects/Voice_Recognition/pipelines/Enfoque_Múltiples_Instancias/Multiples Instancias Parte 1/PIPELINE_CLASS.py:221: DataConversionWarning: A column-vector y was passed when a 1d array was expected. Please change the shape of y to (n_samples,), for example using ravel().\n",
      "  model_trained.fit(X_train_fold,Y_train_fold)\n",
      "/home/josearangos/Documentos/Projects/Voice_Recognition/pipelines/Enfoque_Múltiples_Instancias/Multiples Instancias Parte 1/PIPELINE_CLASS.py:221: DataConversionWarning: A column-vector y was passed when a 1d array was expected. Please change the shape of y to (n_samples,), for example using ravel().\n",
      "  model_trained.fit(X_train_fold,Y_train_fold)\n",
      "/home/josearangos/Documentos/Projects/Voice_Recognition/pipelines/Enfoque_Múltiples_Instancias/Multiples Instancias Parte 1/PIPELINE_CLASS.py:221: DataConversionWarning: A column-vector y was passed when a 1d array was expected. Please change the shape of y to (n_samples,), for example using ravel().\n",
      "  model_trained.fit(X_train_fold,Y_train_fold)\n",
      "/home/josearangos/Documentos/Projects/Voice_Recognition/pipelines/Enfoque_Múltiples_Instancias/Multiples Instancias Parte 1/PIPELINE_CLASS.py:221: DataConversionWarning: A column-vector y was passed when a 1d array was expected. Please change the shape of y to (n_samples,), for example using ravel().\n",
      "  model_trained.fit(X_train_fold,Y_train_fold)\n",
      "/home/josearangos/Documentos/Projects/Voice_Recognition/pipelines/Enfoque_Múltiples_Instancias/Multiples Instancias Parte 1/PIPELINE_CLASS.py:221: DataConversionWarning: A column-vector y was passed when a 1d array was expected. Please change the shape of y to (n_samples,), for example using ravel().\n",
      "  model_trained.fit(X_train_fold,Y_train_fold)\n",
      "/home/josearangos/Documentos/Projects/Voice_Recognition/pipelines/Enfoque_Múltiples_Instancias/Multiples Instancias Parte 1/PIPELINE_CLASS.py:221: DataConversionWarning: A column-vector y was passed when a 1d array was expected. Please change the shape of y to (n_samples,), for example using ravel().\n",
      "  model_trained.fit(X_train_fold,Y_train_fold)\n",
      "/home/josearangos/Documentos/Projects/Voice_Recognition/pipelines/Enfoque_Múltiples_Instancias/Multiples Instancias Parte 1/PIPELINE_CLASS.py:221: DataConversionWarning: A column-vector y was passed when a 1d array was expected. Please change the shape of y to (n_samples,), for example using ravel().\n",
      "  model_trained.fit(X_train_fold,Y_train_fold)\n",
      "/home/josearangos/Documentos/Projects/Voice_Recognition/pipelines/Enfoque_Múltiples_Instancias/Multiples Instancias Parte 1/PIPELINE_CLASS.py:221: DataConversionWarning: A column-vector y was passed when a 1d array was expected. Please change the shape of y to (n_samples,), for example using ravel().\n",
      "  model_trained.fit(X_train_fold,Y_train_fold)\n",
      "/home/josearangos/Documentos/Projects/Voice_Recognition/pipelines/Enfoque_Múltiples_Instancias/Multiples Instancias Parte 1/PIPELINE_CLASS.py:221: DataConversionWarning: A column-vector y was passed when a 1d array was expected. Please change the shape of y to (n_samples,), for example using ravel().\n",
      "  model_trained.fit(X_train_fold,Y_train_fold)\n",
      "/home/josearangos/Documentos/Projects/Voice_Recognition/pipelines/Enfoque_Múltiples_Instancias/Multiples Instancias Parte 1/PIPELINE_CLASS.py:221: DataConversionWarning: A column-vector y was passed when a 1d array was expected. Please change the shape of y to (n_samples,), for example using ravel().\n",
      "  model_trained.fit(X_train_fold,Y_train_fold)\n",
      "/home/josearangos/Documentos/Projects/Voice_Recognition/pipelines/Enfoque_Múltiples_Instancias/Multiples Instancias Parte 1/PIPELINE_CLASS.py:221: DataConversionWarning: A column-vector y was passed when a 1d array was expected. Please change the shape of y to (n_samples,), for example using ravel().\n",
      "  model_trained.fit(X_train_fold,Y_train_fold)\n",
      "/home/josearangos/Documentos/Projects/Voice_Recognition/pipelines/Enfoque_Múltiples_Instancias/Multiples Instancias Parte 1/PIPELINE_CLASS.py:221: DataConversionWarning: A column-vector y was passed when a 1d array was expected. Please change the shape of y to (n_samples,), for example using ravel().\n",
      "  model_trained.fit(X_train_fold,Y_train_fold)\n",
      "/home/josearangos/Documentos/Projects/Voice_Recognition/pipelines/Enfoque_Múltiples_Instancias/Multiples Instancias Parte 1/PIPELINE_CLASS.py:221: DataConversionWarning: A column-vector y was passed when a 1d array was expected. Please change the shape of y to (n_samples,), for example using ravel().\n",
      "  model_trained.fit(X_train_fold,Y_train_fold)\n",
      "/home/josearangos/Documentos/Projects/Voice_Recognition/pipelines/Enfoque_Múltiples_Instancias/Multiples Instancias Parte 1/PIPELINE_CLASS.py:221: DataConversionWarning: A column-vector y was passed when a 1d array was expected. Please change the shape of y to (n_samples,), for example using ravel().\n",
      "  model_trained.fit(X_train_fold,Y_train_fold)\n",
      "/home/josearangos/Documentos/Projects/Voice_Recognition/pipelines/Enfoque_Múltiples_Instancias/Multiples Instancias Parte 1/PIPELINE_CLASS.py:221: DataConversionWarning: A column-vector y was passed when a 1d array was expected. Please change the shape of y to (n_samples,), for example using ravel().\n",
      "  model_trained.fit(X_train_fold,Y_train_fold)\n",
      "/home/josearangos/Documentos/Projects/Voice_Recognition/pipelines/Enfoque_Múltiples_Instancias/Multiples Instancias Parte 1/PIPELINE_CLASS.py:221: DataConversionWarning: A column-vector y was passed when a 1d array was expected. Please change the shape of y to (n_samples,), for example using ravel().\n",
      "  model_trained.fit(X_train_fold,Y_train_fold)\n",
      "/home/josearangos/Documentos/Projects/Voice_Recognition/pipelines/Enfoque_Múltiples_Instancias/Multiples Instancias Parte 1/PIPELINE_CLASS.py:221: DataConversionWarning: A column-vector y was passed when a 1d array was expected. Please change the shape of y to (n_samples,), for example using ravel().\n",
      "  model_trained.fit(X_train_fold,Y_train_fold)\n",
      "/home/josearangos/Documentos/Projects/Voice_Recognition/pipelines/Enfoque_Múltiples_Instancias/Multiples Instancias Parte 1/PIPELINE_CLASS.py:221: DataConversionWarning: A column-vector y was passed when a 1d array was expected. Please change the shape of y to (n_samples,), for example using ravel().\n",
      "  model_trained.fit(X_train_fold,Y_train_fold)\n",
      "/home/josearangos/Documentos/Projects/Voice_Recognition/pipelines/Enfoque_Múltiples_Instancias/Multiples Instancias Parte 1/PIPELINE_CLASS.py:221: DataConversionWarning: A column-vector y was passed when a 1d array was expected. Please change the shape of y to (n_samples,), for example using ravel().\n",
      "  model_trained.fit(X_train_fold,Y_train_fold)\n",
      "/home/josearangos/Documentos/Projects/Voice_Recognition/pipelines/Enfoque_Múltiples_Instancias/Multiples Instancias Parte 1/PIPELINE_CLASS.py:221: DataConversionWarning: A column-vector y was passed when a 1d array was expected. Please change the shape of y to (n_samples,), for example using ravel().\n",
      "  model_trained.fit(X_train_fold,Y_train_fold)\n",
      "/home/josearangos/Documentos/Projects/Voice_Recognition/pipelines/Enfoque_Múltiples_Instancias/Multiples Instancias Parte 1/PIPELINE_CLASS.py:221: DataConversionWarning: A column-vector y was passed when a 1d array was expected. Please change the shape of y to (n_samples,), for example using ravel().\n",
      "  model_trained.fit(X_train_fold,Y_train_fold)\n",
      "/home/josearangos/Documentos/Projects/Voice_Recognition/pipelines/Enfoque_Múltiples_Instancias/Multiples Instancias Parte 1/PIPELINE_CLASS.py:221: DataConversionWarning: A column-vector y was passed when a 1d array was expected. Please change the shape of y to (n_samples,), for example using ravel().\n",
      "  model_trained.fit(X_train_fold,Y_train_fold)\n",
      "/home/josearangos/Documentos/Projects/Voice_Recognition/pipelines/Enfoque_Múltiples_Instancias/Multiples Instancias Parte 1/PIPELINE_CLASS.py:221: DataConversionWarning: A column-vector y was passed when a 1d array was expected. Please change the shape of y to (n_samples,), for example using ravel().\n",
      "  model_trained.fit(X_train_fold,Y_train_fold)\n",
      "/home/josearangos/Documentos/Projects/Voice_Recognition/pipelines/Enfoque_Múltiples_Instancias/Multiples Instancias Parte 1/PIPELINE_CLASS.py:221: DataConversionWarning: A column-vector y was passed when a 1d array was expected. Please change the shape of y to (n_samples,), for example using ravel().\n",
      "  model_trained.fit(X_train_fold,Y_train_fold)\n"
     ]
    },
    {
     "name": "stderr",
     "output_type": "stream",
     "text": [
      "/home/josearangos/Documentos/Projects/Voice_Recognition/pipelines/Enfoque_Múltiples_Instancias/Multiples Instancias Parte 1/PIPELINE_CLASS.py:221: DataConversionWarning: A column-vector y was passed when a 1d array was expected. Please change the shape of y to (n_samples,), for example using ravel().\n",
      "  model_trained.fit(X_train_fold,Y_train_fold)\n",
      "/home/josearangos/Documentos/Projects/Voice_Recognition/pipelines/Enfoque_Múltiples_Instancias/Multiples Instancias Parte 1/PIPELINE_CLASS.py:221: DataConversionWarning: A column-vector y was passed when a 1d array was expected. Please change the shape of y to (n_samples,), for example using ravel().\n",
      "  model_trained.fit(X_train_fold,Y_train_fold)\n",
      "/home/josearangos/Documentos/Projects/Voice_Recognition/pipelines/Enfoque_Múltiples_Instancias/Multiples Instancias Parte 1/PIPELINE_CLASS.py:221: DataConversionWarning: A column-vector y was passed when a 1d array was expected. Please change the shape of y to (n_samples,), for example using ravel().\n",
      "  model_trained.fit(X_train_fold,Y_train_fold)\n",
      "/home/josearangos/Documentos/Projects/Voice_Recognition/pipelines/Enfoque_Múltiples_Instancias/Multiples Instancias Parte 1/PIPELINE_CLASS.py:221: DataConversionWarning: A column-vector y was passed when a 1d array was expected. Please change the shape of y to (n_samples,), for example using ravel().\n",
      "  model_trained.fit(X_train_fold,Y_train_fold)\n",
      "/home/josearangos/Documentos/Projects/Voice_Recognition/pipelines/Enfoque_Múltiples_Instancias/Multiples Instancias Parte 1/PIPELINE_CLASS.py:221: DataConversionWarning: A column-vector y was passed when a 1d array was expected. Please change the shape of y to (n_samples,), for example using ravel().\n",
      "  model_trained.fit(X_train_fold,Y_train_fold)\n",
      "/home/josearangos/Documentos/Projects/Voice_Recognition/pipelines/Enfoque_Múltiples_Instancias/Multiples Instancias Parte 1/PIPELINE_CLASS.py:221: DataConversionWarning: A column-vector y was passed when a 1d array was expected. Please change the shape of y to (n_samples,), for example using ravel().\n",
      "  model_trained.fit(X_train_fold,Y_train_fold)\n",
      "/home/josearangos/Documentos/Projects/Voice_Recognition/pipelines/Enfoque_Múltiples_Instancias/Multiples Instancias Parte 1/PIPELINE_CLASS.py:221: DataConversionWarning: A column-vector y was passed when a 1d array was expected. Please change the shape of y to (n_samples,), for example using ravel().\n",
      "  model_trained.fit(X_train_fold,Y_train_fold)\n",
      "/home/josearangos/Documentos/Projects/Voice_Recognition/pipelines/Enfoque_Múltiples_Instancias/Multiples Instancias Parte 1/PIPELINE_CLASS.py:221: DataConversionWarning: A column-vector y was passed when a 1d array was expected. Please change the shape of y to (n_samples,), for example using ravel().\n",
      "  model_trained.fit(X_train_fold,Y_train_fold)\n",
      "/home/josearangos/Documentos/Projects/Voice_Recognition/pipelines/Enfoque_Múltiples_Instancias/Multiples Instancias Parte 1/PIPELINE_CLASS.py:221: DataConversionWarning: A column-vector y was passed when a 1d array was expected. Please change the shape of y to (n_samples,), for example using ravel().\n",
      "  model_trained.fit(X_train_fold,Y_train_fold)\n",
      "/home/josearangos/Documentos/Projects/Voice_Recognition/pipelines/Enfoque_Múltiples_Instancias/Multiples Instancias Parte 1/PIPELINE_CLASS.py:221: DataConversionWarning: A column-vector y was passed when a 1d array was expected. Please change the shape of y to (n_samples,), for example using ravel().\n",
      "  model_trained.fit(X_train_fold,Y_train_fold)\n",
      "/home/josearangos/Documentos/Projects/Voice_Recognition/pipelines/Enfoque_Múltiples_Instancias/Multiples Instancias Parte 1/PIPELINE_CLASS.py:221: DataConversionWarning: A column-vector y was passed when a 1d array was expected. Please change the shape of y to (n_samples,), for example using ravel().\n",
      "  model_trained.fit(X_train_fold,Y_train_fold)\n",
      "/home/josearangos/Documentos/Projects/Voice_Recognition/pipelines/Enfoque_Múltiples_Instancias/Multiples Instancias Parte 1/PIPELINE_CLASS.py:221: DataConversionWarning: A column-vector y was passed when a 1d array was expected. Please change the shape of y to (n_samples,), for example using ravel().\n",
      "  model_trained.fit(X_train_fold,Y_train_fold)\n",
      "/home/josearangos/Documentos/Projects/Voice_Recognition/pipelines/Enfoque_Múltiples_Instancias/Multiples Instancias Parte 1/PIPELINE_CLASS.py:221: DataConversionWarning: A column-vector y was passed when a 1d array was expected. Please change the shape of y to (n_samples,), for example using ravel().\n",
      "  model_trained.fit(X_train_fold,Y_train_fold)\n",
      "/home/josearangos/Documentos/Projects/Voice_Recognition/pipelines/Enfoque_Múltiples_Instancias/Multiples Instancias Parte 1/PIPELINE_CLASS.py:221: DataConversionWarning: A column-vector y was passed when a 1d array was expected. Please change the shape of y to (n_samples,), for example using ravel().\n",
      "  model_trained.fit(X_train_fold,Y_train_fold)\n",
      "/home/josearangos/Documentos/Projects/Voice_Recognition/pipelines/Enfoque_Múltiples_Instancias/Multiples Instancias Parte 1/PIPELINE_CLASS.py:221: DataConversionWarning: A column-vector y was passed when a 1d array was expected. Please change the shape of y to (n_samples,), for example using ravel().\n",
      "  model_trained.fit(X_train_fold,Y_train_fold)\n",
      "/home/josearangos/Documentos/Projects/Voice_Recognition/pipelines/Enfoque_Múltiples_Instancias/Multiples Instancias Parte 1/PIPELINE_CLASS.py:221: DataConversionWarning: A column-vector y was passed when a 1d array was expected. Please change the shape of y to (n_samples,), for example using ravel().\n",
      "  model_trained.fit(X_train_fold,Y_train_fold)\n",
      "/home/josearangos/Documentos/Projects/Voice_Recognition/pipelines/Enfoque_Múltiples_Instancias/Multiples Instancias Parte 1/PIPELINE_CLASS.py:221: DataConversionWarning: A column-vector y was passed when a 1d array was expected. Please change the shape of y to (n_samples,), for example using ravel().\n",
      "  model_trained.fit(X_train_fold,Y_train_fold)\n",
      "/home/josearangos/Documentos/Projects/Voice_Recognition/pipelines/Enfoque_Múltiples_Instancias/Multiples Instancias Parte 1/PIPELINE_CLASS.py:221: DataConversionWarning: A column-vector y was passed when a 1d array was expected. Please change the shape of y to (n_samples,), for example using ravel().\n",
      "  model_trained.fit(X_train_fold,Y_train_fold)\n",
      "/home/josearangos/Documentos/Projects/Voice_Recognition/pipelines/Enfoque_Múltiples_Instancias/Multiples Instancias Parte 1/PIPELINE_CLASS.py:221: DataConversionWarning: A column-vector y was passed when a 1d array was expected. Please change the shape of y to (n_samples,), for example using ravel().\n",
      "  model_trained.fit(X_train_fold,Y_train_fold)\n",
      "/home/josearangos/Documentos/Projects/Voice_Recognition/pipelines/Enfoque_Múltiples_Instancias/Multiples Instancias Parte 1/PIPELINE_CLASS.py:221: DataConversionWarning: A column-vector y was passed when a 1d array was expected. Please change the shape of y to (n_samples,), for example using ravel().\n",
      "  model_trained.fit(X_train_fold,Y_train_fold)\n",
      "/home/josearangos/Documentos/Projects/Voice_Recognition/pipelines/Enfoque_Múltiples_Instancias/Multiples Instancias Parte 1/PIPELINE_CLASS.py:221: DataConversionWarning: A column-vector y was passed when a 1d array was expected. Please change the shape of y to (n_samples,), for example using ravel().\n",
      "  model_trained.fit(X_train_fold,Y_train_fold)\n",
      "/home/josearangos/Documentos/Projects/Voice_Recognition/pipelines/Enfoque_Múltiples_Instancias/Multiples Instancias Parte 1/PIPELINE_CLASS.py:221: DataConversionWarning: A column-vector y was passed when a 1d array was expected. Please change the shape of y to (n_samples,), for example using ravel().\n",
      "  model_trained.fit(X_train_fold,Y_train_fold)\n",
      "/home/josearangos/Documentos/Projects/Voice_Recognition/pipelines/Enfoque_Múltiples_Instancias/Multiples Instancias Parte 1/PIPELINE_CLASS.py:221: DataConversionWarning: A column-vector y was passed when a 1d array was expected. Please change the shape of y to (n_samples,), for example using ravel().\n",
      "  model_trained.fit(X_train_fold,Y_train_fold)\n",
      "/home/josearangos/Documentos/Projects/Voice_Recognition/pipelines/Enfoque_Múltiples_Instancias/Multiples Instancias Parte 1/PIPELINE_CLASS.py:221: DataConversionWarning: A column-vector y was passed when a 1d array was expected. Please change the shape of y to (n_samples,), for example using ravel().\n",
      "  model_trained.fit(X_train_fold,Y_train_fold)\n"
     ]
    },
    {
     "name": "stderr",
     "output_type": "stream",
     "text": [
      "/home/josearangos/Documentos/Projects/Voice_Recognition/pipelines/Enfoque_Múltiples_Instancias/Multiples Instancias Parte 1/PIPELINE_CLASS.py:221: DataConversionWarning: A column-vector y was passed when a 1d array was expected. Please change the shape of y to (n_samples,), for example using ravel().\n",
      "  model_trained.fit(X_train_fold,Y_train_fold)\n",
      "/home/josearangos/Documentos/Projects/Voice_Recognition/pipelines/Enfoque_Múltiples_Instancias/Multiples Instancias Parte 1/PIPELINE_CLASS.py:221: DataConversionWarning: A column-vector y was passed when a 1d array was expected. Please change the shape of y to (n_samples,), for example using ravel().\n",
      "  model_trained.fit(X_train_fold,Y_train_fold)\n"
     ]
    },
    {
     "data": {
      "image/png": "[encoded data removed]",
      "text/plain": [
       "<Figure size 1008x648 with 1 Axes>"
      ]
     },
     "metadata": {
      "needs_background": "light"
     },
     "output_type": "display_data"
    }
   ],
   "source": [
    "df_split_params = PIPELINE.learning_curve(best_model_trained,suptitle='', title='', xlabel='Training Set Size', ylabel='Acurracy',label_request=True)"
   ]
  },
  {
   "cell_type": "code",
   "execution_count": 18,
   "metadata": {},
   "outputs": [
    {
     "data": {
      "text/html": [
       "<div>\n",
       "<style scoped>\n",
       "    .dataframe tbody tr th:only-of-type {\n",
       "        vertical-align: middle;\n",
       "    }\n",
       "\n",
       "    .dataframe tbody tr th {\n",
       "        vertical-align: top;\n",
       "    }\n",
       "\n",
       "    .dataframe thead th {\n",
       "        text-align: right;\n",
       "    }\n",
       "</style>\n",
       "<table border=\"1\" class=\"dataframe\">\n",
       "  <thead>\n",
       "    <tr style=\"text-align: right;\">\n",
       "      <th></th>\n",
       "      <th>Train_Size</th>\n",
       "      <th>mean_train_Accuracy</th>\n",
       "      <th>mean_test_Accuracy</th>\n",
       "      <th>std_train_Accuracy</th>\n",
       "      <th>std_test_Accuracy</th>\n",
       "    </tr>\n",
       "  </thead>\n",
       "  <tbody>\n",
       "    <tr>\n",
       "      <th>0</th>\n",
       "      <td>0.1</td>\n",
       "      <td>1.0</td>\n",
       "      <td>0.512836</td>\n",
       "      <td>0.0</td>\n",
       "      <td>0.046441</td>\n",
       "    </tr>\n",
       "    <tr>\n",
       "      <th>1</th>\n",
       "      <td>0.3</td>\n",
       "      <td>1.0</td>\n",
       "      <td>0.509223</td>\n",
       "      <td>0.0</td>\n",
       "      <td>0.024610</td>\n",
       "    </tr>\n",
       "    <tr>\n",
       "      <th>2</th>\n",
       "      <td>0.5</td>\n",
       "      <td>1.0</td>\n",
       "      <td>0.525923</td>\n",
       "      <td>0.0</td>\n",
       "      <td>0.028194</td>\n",
       "    </tr>\n",
       "    <tr>\n",
       "      <th>3</th>\n",
       "      <td>0.7</td>\n",
       "      <td>1.0</td>\n",
       "      <td>0.513205</td>\n",
       "      <td>0.0</td>\n",
       "      <td>0.041475</td>\n",
       "    </tr>\n",
       "    <tr>\n",
       "      <th>4</th>\n",
       "      <td>0.9</td>\n",
       "      <td>1.0</td>\n",
       "      <td>0.512820</td>\n",
       "      <td>0.0</td>\n",
       "      <td>0.031396</td>\n",
       "    </tr>\n",
       "  </tbody>\n",
       "</table>\n",
       "</div>"
      ],
      "text/plain": [
       "   Train_Size  mean_train_Accuracy  mean_test_Accuracy  std_train_Accuracy  \\\n",
       "0         0.1                  1.0            0.512836                 0.0   \n",
       "1         0.3                  1.0            0.509223                 0.0   \n",
       "2         0.5                  1.0            0.525923                 0.0   \n",
       "3         0.7                  1.0            0.513205                 0.0   \n",
       "4         0.9                  1.0            0.512820                 0.0   \n",
       "\n",
       "   std_test_Accuracy  \n",
       "0           0.046441  \n",
       "1           0.024610  \n",
       "2           0.028194  \n",
       "3           0.041475  \n",
       "4           0.031396  "
      ]
     },
     "execution_count": 18,
     "metadata": {},
     "output_type": "execute_result"
    }
   ],
   "source": [
    "df_split_params"
   ]
  },
  {
   "cell_type": "code",
   "execution_count": null,
   "metadata": {},
   "outputs": [],
   "source": [
    " "
   ]
  }
 ],
 "metadata": {
  "kernelspec": {
   "display_name": "Python 3",
   "language": "python",
   "name": "python3"
  },
  "language_info": {
   "codemirror_mode": {
    "name": "ipython",
    "version": 3
   },
   "file_extension": ".py",
   "mimetype": "text/x-python",
   "name": "python",
   "nbconvert_exporter": "python",
   "pygments_lexer": "ipython3",
   "version": "3.7.4"
  }
 },
 "nbformat": 4,
 "nbformat_minor": 2
}
