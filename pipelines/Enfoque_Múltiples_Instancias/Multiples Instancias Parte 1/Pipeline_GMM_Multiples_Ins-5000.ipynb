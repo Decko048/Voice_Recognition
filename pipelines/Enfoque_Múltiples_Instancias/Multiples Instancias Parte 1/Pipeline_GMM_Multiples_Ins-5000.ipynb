{
 "cells": [
  {
   "cell_type": "code",
   "execution_count": 2,
   "metadata": {},
   "outputs": [],
   "source": [
    "import IPython\n",
    "import matplotlib.pyplot as plt\n",
    "import numpy as np\n",
    "import pandas as pd\n",
    "from sklearn.mixture import GaussianMixture\n",
    "import import_ipynb\n",
    "from sklearn.model_selection import GroupShuffleSplit\n",
    "import numpy_indexed as npi\n",
    "from scipy import stats\n",
    "import qgrid\n",
    "from sklearn.metrics import make_scorer, accuracy_score, precision_score,recall_score, f1_score\n",
    "from sklearn.metrics import classification_report,confusion_matrix,accuracy_score,roc_curve,auc\n",
    "import seaborn as sns"
   ]
  },
  {
   "cell_type": "markdown",
   "metadata": {},
   "source": [
    "### Leer dataset"
   ]
  },
  {
   "cell_type": "code",
   "execution_count": 3,
   "metadata": {},
   "outputs": [],
   "source": [
    "PATHDATA_MFFC_AVG = '../../../data/audios_MFCC_average_5000_tracks.csv'\n",
    "df = pd.read_csv(PATHDATA_MFFC_AVG, header = None)\n",
    "data = df.values #Convertimos en un  numpy array"
   ]
  },
  {
   "cell_type": "code",
   "execution_count": 4,
   "metadata": {},
   "outputs": [
    {
     "name": "stdout",
     "output_type": "stream",
     "text": [
      "Tamaño dataSet (53867, 20)\n",
      "\n",
      "\n"
     ]
    }
   ],
   "source": [
    "X = data[:,0:-3]\n",
    "Y = data[:,-2]\n",
    "print('Tamaño dataSet', X.shape)\n",
    "print('\\n')\n",
    "Y=  np.reshape(Y,(np.size(Y,0),1))\n",
    "groups = data[:,-1]\n",
    "tracks = data[:,-3:-2]"
   ]
  },
  {
   "cell_type": "markdown",
   "metadata": {},
   "source": [
    "### Número de clases"
   ]
  },
  {
   "cell_type": "code",
   "execution_count": 5,
   "metadata": {},
   "outputs": [
    {
     "name": "stdout",
     "output_type": "stream",
     "text": [
      "Número de clases: 5\n"
     ]
    }
   ],
   "source": [
    "n_classes=len(np.unique(Y))\n",
    "print('Número de clases:', n_classes)"
   ]
  },
  {
   "cell_type": "markdown",
   "metadata": {},
   "source": [
    "### Número de hablantes"
   ]
  },
  {
   "cell_type": "code",
   "execution_count": 6,
   "metadata": {},
   "outputs": [
    {
     "name": "stdout",
     "output_type": "stream",
     "text": [
      "Número de hablantes diferentes 668\n"
     ]
    }
   ],
   "source": [
    "n_groups = len(np.unique(groups))\n",
    "print('Número de hablantes diferentes', n_groups)"
   ]
  },
  {
   "cell_type": "markdown",
   "metadata": {},
   "source": [
    "### Número de Audios"
   ]
  },
  {
   "cell_type": "code",
   "execution_count": 7,
   "metadata": {},
   "outputs": [
    {
     "name": "stdout",
     "output_type": "stream",
     "text": [
      "Número de audios diferentes 5000\n"
     ]
    }
   ],
   "source": [
    "n_tracks = len(np.unique(tracks))\n",
    "print('Número de audios diferentes',n_tracks)"
   ]
  },
  {
   "cell_type": "markdown",
   "metadata": {},
   "source": [
    "## Dividir el dataset (train/test) 0.8/0.2"
   ]
  },
  {
   "cell_type": "code",
   "execution_count": 8,
   "metadata": {},
   "outputs": [],
   "source": [
    "gss = GroupShuffleSplit(n_splits=1, test_size=0.2, random_state=0)\n",
    "gss.get_n_splits()\n",
    "for train_index, test_index in gss.split(X, Y, groups=groups):\n",
    "    X_train_original, X_test_original = X[train_index], X[test_index]\n",
    "    #print(X_train, X_test)\n",
    "    Y_train__original, Y_test_original = Y[train_index], Y[test_index]\n",
    "    #print(y_train, y_test)\n",
    "    groups_original = groups[train_index]\n",
    "    groups_test_original=groups[test_index]\n",
    "    tracks_train_original = tracks[train_index]\n",
    "    tracks_test_original = tracks[test_index]   "
   ]
  },
  {
   "cell_type": "markdown",
   "metadata": {},
   "source": [
    "### Info TRAIN"
   ]
  },
  {
   "cell_type": "code",
   "execution_count": 9,
   "metadata": {},
   "outputs": [
    {
     "name": "stdout",
     "output_type": "stream",
     "text": [
      "X (44327, 20)\n",
      "Groups 534\n",
      "Tracks 4111\n"
     ]
    }
   ],
   "source": [
    "print('X',X_train_original.shape)\n",
    "print('Groups',len(np.unique(groups_original)))\n",
    "print('Tracks',len(np.unique(tracks_train_original)))"
   ]
  },
  {
   "cell_type": "markdown",
   "metadata": {},
   "source": [
    "### Info TEST"
   ]
  },
  {
   "cell_type": "code",
   "execution_count": 10,
   "metadata": {},
   "outputs": [
    {
     "name": "stdout",
     "output_type": "stream",
     "text": [
      "X (9540, 20)\n",
      "Groups 134\n",
      "Tracks 889\n"
     ]
    }
   ],
   "source": [
    "print('X',X_test_original.shape)\n",
    "print('Groups',len(np.unique(groups_test_original)))\n",
    "print('Tracks',len(np.unique(tracks_test_original)))"
   ]
  },
  {
   "cell_type": "code",
   "execution_count": 11,
   "metadata": {},
   "outputs": [],
   "source": [
    "FOLDS = 10\n",
    "TRAIN_SIZE = 0.8"
   ]
  },
  {
   "cell_type": "markdown",
   "metadata": {},
   "source": [
    "# GaussianMixture (GMM) "
   ]
  },
  {
   "cell_type": "markdown",
   "metadata": {},
   "source": [
    "## 1. Mejor modelo"
   ]
  },
  {
   "cell_type": "markdown",
   "metadata": {},
   "source": [
    "Usamos X_train_original y Y_train__original para seleccionar la mejor combinación de parametros y posteriormente validar dichos res]ultados con el conjunto X_test__original y Y_test__original.\n",
    "\n",
    "<b>Nota:</b> el conjunto X_train_original se divide en dos conjuntos train y dev a una proporción de 80 a 20."
   ]
  },
  {
   "cell_type": "code",
   "execution_count": 12,
   "metadata": {},
   "outputs": [],
   "source": [
    "def GMMClassifierTrain(X,Y,M,tipo):    \n",
    "    #X: Matriz con las características\n",
    "    #Y: Matriz con las clases\n",
    "    #M: Número de componentes\n",
    "    #tipo: Tipo de matriz de covarianza\n",
    "    nClases = np.unique(Y)\n",
    "    \n",
    "    GMMs = [] # Vector que tiene los modelos GMM entrendao\n",
    "    \n",
    "    for c in nClases:\n",
    "        gmm = GaussianMixture(M,tipo)#Configurar el modelo                \n",
    "        XY=np.column_stack((X,Y))\n",
    "        Xc =np.where(XY[:,-1]==c) # Seleccionamos la matrix de la clase a entrenar\n",
    "        Xc=X[Xc]        \n",
    "        GMMs.append(gmm.fit(Xc)) #GMMs Debe retornar un objeto que contenga todos los modelos entrenados        \n",
    "        \n",
    "    return GMMs"
   ]
  },
  {
   "cell_type": "code",
   "execution_count": 13,
   "metadata": {},
   "outputs": [],
   "source": [
    "def GMMClassfierVal(GMMs,Xtest,tracks_test):\n",
    "    nGmm = len(GMMs) #Numero de modelos que existen\n",
    "    nSamples = len(Xtest) #Numero de muestras a clasificar\n",
    "    \"\"\"Creamos una matriz de tamaño nSamples,nGmm en donde\n",
    "    cada valor de la columna representa la probabilidad de que esta muestra pertenezca a dicha clase\n",
    "    la pocision del mayor valor de la columna es la clase a la que se predice pertenecera\n",
    "    \"\"\"\n",
    "    mProbabilities = np.zeros((nSamples,nGmm))\n",
    "    for i in range(nGmm):\n",
    "        mProbabilities[:,i]=GMMs[i].score_samples(Xtest)\n",
    "    Yest = np.argmax(mProbabilities,axis=1)    \n",
    "    \n",
    "    #Creamos un matriz con la primera fila las predicciones y la otra el track      \n",
    "    X_test_with_id_trak = np.column_stack((Yest,tracks_test))\n",
    "\n",
    "    #Agrupamos por audio\n",
    "    prediction_by_instances = npi.group_by(X_test_with_id_trak[:, -1]).split(X_test_with_id_trak[:, -2])\n",
    "    \n",
    "    \n",
    "    #Sacamos la moda de prediccion\n",
    "    predictions = []\n",
    "\n",
    "    for v in range(len(prediction_by_instances)):\n",
    "        decision = stats.mode(prediction_by_instances[v])[0]\n",
    "        predictions.append(decision)\n",
    "    \n",
    "    return np.array(predictions) #Debe retornar un vector con las clases predichas para cada una de las muestras en Xtest, de acuerdo con los modelos almacenados en GMMs"
   ]
  },
  {
   "cell_type": "code",
   "execution_count": 14,
   "metadata": {},
   "outputs": [],
   "source": [
    "def TRAIN(n_components,covariance_type,X_train,Y_train,tracks_train,train_size,folds,groups_train):\n",
    "    gss = GroupShuffleSplit(n_splits=folds, train_size=.7)\n",
    "    EficienciaTrain = np.zeros(folds)\n",
    "    EficienciaVal = np.zeros(folds)\n",
    "    j = 0\n",
    "    GMMs = []\n",
    "    for train_idx, test_idx in gss.split(X_train, Y_train, groups_train):\n",
    "        \n",
    "        X_train_fold =X_train[train_idx]\n",
    "        Y_train_fold=Y_train[train_idx]\n",
    "        X_test_fold=X_train[test_idx]\n",
    "        Y_test_fold=Y_train[test_idx]\n",
    "        \n",
    "        tracks_train_fold=tracks_train[train_idx]\n",
    "        tracks_test_fold=tracks_train[test_idx]\n",
    "        \n",
    "        #Entrenamiento\n",
    "        GMMs = GMMClassifierTrain(X_train_fold,Y_train_fold,n_components,covariance_type)\n",
    "        \n",
    "         #Validación\n",
    "        Ytrain_pred = GMMClassfierVal(GMMs,X_train_fold,tracks_train_fold)\n",
    "        \n",
    "        Ytest_pred = GMMClassfierVal(GMMs,X_test_fold,tracks_test_fold)\n",
    "        \n",
    "        \n",
    "        #Metricas en entrenamiento\n",
    "        \n",
    "        #Hacer groupby por tracks\n",
    "        Y_real_train = createGroups(Y_train_fold,tracks_train_fold)\n",
    "        Y_real_test = createGroups(Y_test_fold,tracks_test_fold)\n",
    "        \n",
    "        \"\"\"\n",
    "        print('TRAIN')\n",
    "        print('Predicted',Ytrain_pred )\n",
    "        print('Real',Y_real_train)\n",
    "        \n",
    "        print('----------------')\n",
    "        print('TEST')\n",
    "        print('Predicted',Ytest_pred)\n",
    "        print('Real',Y_real_test)\n",
    "        \n",
    "        \"\"\"\n",
    "                \n",
    "        EficienciaTrain[j] = np.mean(Ytrain_pred.ravel() == Y_real_train.ravel())\n",
    "        EficienciaVal[j] = np.mean(Ytest_pred.ravel() == Y_real_test.ravel())\n",
    "        j += 1\n",
    "        \n",
    "    eficiencia_Train=(np.mean(EficienciaTrain))\n",
    "    intervalo_Train=(np.std(EficienciaTrain))\n",
    "    eficiencia_Test=np.mean(EficienciaVal)\n",
    "    intervalo_Test=np.std(EficienciaVal)\n",
    "    #print('Eficiencia durante el entrenamiento = ' + str(eficiencia_Train) + '+-' + str(intervalo_Train))\n",
    "    #print('Eficiencia durante la validación = ' + str(eficiencia_Test) + '+-' + str(intervalo_Test)) \n",
    "    #Se retorna el modelo del ultimo fold\n",
    "    return GMMs,eficiencia_Train,intervalo_Train,eficiencia_Test,intervalo_Test"
   ]
  },
  {
   "cell_type": "code",
   "execution_count": 15,
   "metadata": {},
   "outputs": [],
   "source": [
    "def createGroups(Y,tracks):\n",
    "    Y_train_tracks = np.column_stack((Y,tracks))\n",
    "    groups_by_tracks = npi.group_by(Y_train_tracks[:, -1]).split(Y_train_tracks[:, -2])\n",
    "    modas = []\n",
    "\n",
    "    for v in range(len(groups_by_tracks)):\n",
    "        moda = stats.mode(groups_by_tracks[v])[0]\n",
    "        modas.append(moda)\n",
    "    return np.array(modas)"
   ]
  },
  {
   "cell_type": "code",
   "execution_count": 16,
   "metadata": {},
   "outputs": [],
   "source": [
    "def changeName(name):\n",
    "    covNameSklearn = ['full','tied','diag','spherical']\n",
    "    covName = ['Completa','Atada','Diagonal','Esférica']\n",
    "    return covNameSklearn[covName.index(name)]"
   ]
  },
  {
   "cell_type": "code",
   "execution_count": 18,
   "metadata": {},
   "outputs": [
    {
     "name": "stdout",
     "output_type": "stream",
     "text": [
      "############################################\n",
      "Matriz de covarianza full Numero de componentes 1\n",
      "Efi Train 0.43652012592812384\n",
      "Std Train 0.016097169257093674\n",
      "Efi Test 0.40401789056623655\n",
      "Std Test 0.021913780694833317\n"
     ]
    },
    {
     "name": "stderr",
     "output_type": "stream",
     "text": [
      "/home/josearangos/anaconda3/lib/python3.7/site-packages/sklearn/mixture/_base.py:267: ConvergenceWarning: Initialization 1 did not converge. Try different init parameters, or increase max_iter, tol or check for degenerate data.\n",
      "  % (init + 1), ConvergenceWarning)\n",
      "/home/josearangos/anaconda3/lib/python3.7/site-packages/sklearn/mixture/_base.py:267: ConvergenceWarning: Initialization 1 did not converge. Try different init parameters, or increase max_iter, tol or check for degenerate data.\n",
      "  % (init + 1), ConvergenceWarning)\n"
     ]
    },
    {
     "name": "stdout",
     "output_type": "stream",
     "text": [
      "############################################\n",
      "Matriz de covarianza full Numero de componentes 2\n",
      "Efi Train 0.4962399148068745\n",
      "Std Train 0.008868946311394996\n",
      "Efi Test 0.43783027618220005\n",
      "Std Test 0.01865005219912631\n"
     ]
    },
    {
     "name": "stderr",
     "output_type": "stream",
     "text": [
      "/home/josearangos/anaconda3/lib/python3.7/site-packages/sklearn/mixture/_base.py:267: ConvergenceWarning: Initialization 1 did not converge. Try different init parameters, or increase max_iter, tol or check for degenerate data.\n",
      "  % (init + 1), ConvergenceWarning)\n",
      "/home/josearangos/anaconda3/lib/python3.7/site-packages/sklearn/mixture/_base.py:267: ConvergenceWarning: Initialization 1 did not converge. Try different init parameters, or increase max_iter, tol or check for degenerate data.\n",
      "  % (init + 1), ConvergenceWarning)\n",
      "/home/josearangos/anaconda3/lib/python3.7/site-packages/sklearn/mixture/_base.py:267: ConvergenceWarning: Initialization 1 did not converge. Try different init parameters, or increase max_iter, tol or check for degenerate data.\n",
      "  % (init + 1), ConvergenceWarning)\n",
      "/home/josearangos/anaconda3/lib/python3.7/site-packages/sklearn/mixture/_base.py:267: ConvergenceWarning: Initialization 1 did not converge. Try different init parameters, or increase max_iter, tol or check for degenerate data.\n",
      "  % (init + 1), ConvergenceWarning)\n",
      "/home/josearangos/anaconda3/lib/python3.7/site-packages/sklearn/mixture/_base.py:267: ConvergenceWarning: Initialization 1 did not converge. Try different init parameters, or increase max_iter, tol or check for degenerate data.\n",
      "  % (init + 1), ConvergenceWarning)\n",
      "/home/josearangos/anaconda3/lib/python3.7/site-packages/sklearn/mixture/_base.py:267: ConvergenceWarning: Initialization 1 did not converge. Try different init parameters, or increase max_iter, tol or check for degenerate data.\n",
      "  % (init + 1), ConvergenceWarning)\n"
     ]
    },
    {
     "name": "stdout",
     "output_type": "stream",
     "text": [
      "############################################\n",
      "Matriz de covarianza full Numero de componentes 3\n",
      "Efi Train 0.4971712757938757\n",
      "Std Train 0.021760145638863092\n",
      "Efi Test 0.4300916921273833\n",
      "Std Test 0.01716009145025183\n"
     ]
    },
    {
     "name": "stderr",
     "output_type": "stream",
     "text": [
      "/home/josearangos/anaconda3/lib/python3.7/site-packages/sklearn/mixture/_base.py:267: ConvergenceWarning: Initialization 1 did not converge. Try different init parameters, or increase max_iter, tol or check for degenerate data.\n",
      "  % (init + 1), ConvergenceWarning)\n",
      "/home/josearangos/anaconda3/lib/python3.7/site-packages/sklearn/mixture/_base.py:267: ConvergenceWarning: Initialization 1 did not converge. Try different init parameters, or increase max_iter, tol or check for degenerate data.\n",
      "  % (init + 1), ConvergenceWarning)\n",
      "/home/josearangos/anaconda3/lib/python3.7/site-packages/sklearn/mixture/_base.py:267: ConvergenceWarning: Initialization 1 did not converge. Try different init parameters, or increase max_iter, tol or check for degenerate data.\n",
      "  % (init + 1), ConvergenceWarning)\n",
      "/home/josearangos/anaconda3/lib/python3.7/site-packages/sklearn/mixture/_base.py:267: ConvergenceWarning: Initialization 1 did not converge. Try different init parameters, or increase max_iter, tol or check for degenerate data.\n",
      "  % (init + 1), ConvergenceWarning)\n",
      "/home/josearangos/anaconda3/lib/python3.7/site-packages/sklearn/mixture/_base.py:267: ConvergenceWarning: Initialization 1 did not converge. Try different init parameters, or increase max_iter, tol or check for degenerate data.\n",
      "  % (init + 1), ConvergenceWarning)\n",
      "/home/josearangos/anaconda3/lib/python3.7/site-packages/sklearn/mixture/_base.py:267: ConvergenceWarning: Initialization 1 did not converge. Try different init parameters, or increase max_iter, tol or check for degenerate data.\n",
      "  % (init + 1), ConvergenceWarning)\n",
      "/home/josearangos/anaconda3/lib/python3.7/site-packages/sklearn/mixture/_base.py:267: ConvergenceWarning: Initialization 1 did not converge. Try different init parameters, or increase max_iter, tol or check for degenerate data.\n",
      "  % (init + 1), ConvergenceWarning)\n",
      "/home/josearangos/anaconda3/lib/python3.7/site-packages/sklearn/mixture/_base.py:267: ConvergenceWarning: Initialization 1 did not converge. Try different init parameters, or increase max_iter, tol or check for degenerate data.\n",
      "  % (init + 1), ConvergenceWarning)\n",
      "/home/josearangos/anaconda3/lib/python3.7/site-packages/sklearn/mixture/_base.py:267: ConvergenceWarning: Initialization 1 did not converge. Try different init parameters, or increase max_iter, tol or check for degenerate data.\n",
      "  % (init + 1), ConvergenceWarning)\n"
     ]
    },
    {
     "name": "stdout",
     "output_type": "stream",
     "text": [
      "############################################\n",
      "Matriz de covarianza full Numero de componentes 4\n",
      "Efi Train 0.5725333830904817\n",
      "Std Train 0.01822717280687589\n",
      "Efi Test 0.4721170737023613\n",
      "Std Test 0.024501964312578253\n"
     ]
    },
    {
     "name": "stderr",
     "output_type": "stream",
     "text": [
      "/home/josearangos/anaconda3/lib/python3.7/site-packages/sklearn/mixture/_base.py:267: ConvergenceWarning: Initialization 1 did not converge. Try different init parameters, or increase max_iter, tol or check for degenerate data.\n",
      "  % (init + 1), ConvergenceWarning)\n",
      "/home/josearangos/anaconda3/lib/python3.7/site-packages/sklearn/mixture/_base.py:267: ConvergenceWarning: Initialization 1 did not converge. Try different init parameters, or increase max_iter, tol or check for degenerate data.\n",
      "  % (init + 1), ConvergenceWarning)\n",
      "/home/josearangos/anaconda3/lib/python3.7/site-packages/sklearn/mixture/_base.py:267: ConvergenceWarning: Initialization 1 did not converge. Try different init parameters, or increase max_iter, tol or check for degenerate data.\n",
      "  % (init + 1), ConvergenceWarning)\n",
      "/home/josearangos/anaconda3/lib/python3.7/site-packages/sklearn/mixture/_base.py:267: ConvergenceWarning: Initialization 1 did not converge. Try different init parameters, or increase max_iter, tol or check for degenerate data.\n",
      "  % (init + 1), ConvergenceWarning)\n",
      "/home/josearangos/anaconda3/lib/python3.7/site-packages/sklearn/mixture/_base.py:267: ConvergenceWarning: Initialization 1 did not converge. Try different init parameters, or increase max_iter, tol or check for degenerate data.\n",
      "  % (init + 1), ConvergenceWarning)\n",
      "/home/josearangos/anaconda3/lib/python3.7/site-packages/sklearn/mixture/_base.py:267: ConvergenceWarning: Initialization 1 did not converge. Try different init parameters, or increase max_iter, tol or check for degenerate data.\n",
      "  % (init + 1), ConvergenceWarning)\n",
      "/home/josearangos/anaconda3/lib/python3.7/site-packages/sklearn/mixture/_base.py:267: ConvergenceWarning: Initialization 1 did not converge. Try different init parameters, or increase max_iter, tol or check for degenerate data.\n",
      "  % (init + 1), ConvergenceWarning)\n",
      "/home/josearangos/anaconda3/lib/python3.7/site-packages/sklearn/mixture/_base.py:267: ConvergenceWarning: Initialization 1 did not converge. Try different init parameters, or increase max_iter, tol or check for degenerate data.\n",
      "  % (init + 1), ConvergenceWarning)\n",
      "/home/josearangos/anaconda3/lib/python3.7/site-packages/sklearn/mixture/_base.py:267: ConvergenceWarning: Initialization 1 did not converge. Try different init parameters, or increase max_iter, tol or check for degenerate data.\n",
      "  % (init + 1), ConvergenceWarning)\n",
      "/home/josearangos/anaconda3/lib/python3.7/site-packages/sklearn/mixture/_base.py:267: ConvergenceWarning: Initialization 1 did not converge. Try different init parameters, or increase max_iter, tol or check for degenerate data.\n",
      "  % (init + 1), ConvergenceWarning)\n",
      "/home/josearangos/anaconda3/lib/python3.7/site-packages/sklearn/mixture/_base.py:267: ConvergenceWarning: Initialization 1 did not converge. Try different init parameters, or increase max_iter, tol or check for degenerate data.\n",
      "  % (init + 1), ConvergenceWarning)\n",
      "/home/josearangos/anaconda3/lib/python3.7/site-packages/sklearn/mixture/_base.py:267: ConvergenceWarning: Initialization 1 did not converge. Try different init parameters, or increase max_iter, tol or check for degenerate data.\n",
      "  % (init + 1), ConvergenceWarning)\n",
      "/home/josearangos/anaconda3/lib/python3.7/site-packages/sklearn/mixture/_base.py:267: ConvergenceWarning: Initialization 1 did not converge. Try different init parameters, or increase max_iter, tol or check for degenerate data.\n",
      "  % (init + 1), ConvergenceWarning)\n",
      "/home/josearangos/anaconda3/lib/python3.7/site-packages/sklearn/mixture/_base.py:267: ConvergenceWarning: Initialization 1 did not converge. Try different init parameters, or increase max_iter, tol or check for degenerate data.\n",
      "  % (init + 1), ConvergenceWarning)\n",
      "/home/josearangos/anaconda3/lib/python3.7/site-packages/sklearn/mixture/_base.py:267: ConvergenceWarning: Initialization 1 did not converge. Try different init parameters, or increase max_iter, tol or check for degenerate data.\n",
      "  % (init + 1), ConvergenceWarning)\n",
      "/home/josearangos/anaconda3/lib/python3.7/site-packages/sklearn/mixture/_base.py:267: ConvergenceWarning: Initialization 1 did not converge. Try different init parameters, or increase max_iter, tol or check for degenerate data.\n",
      "  % (init + 1), ConvergenceWarning)\n",
      "/home/josearangos/anaconda3/lib/python3.7/site-packages/sklearn/mixture/_base.py:267: ConvergenceWarning: Initialization 1 did not converge. Try different init parameters, or increase max_iter, tol or check for degenerate data.\n",
      "  % (init + 1), ConvergenceWarning)\n",
      "/home/josearangos/anaconda3/lib/python3.7/site-packages/sklearn/mixture/_base.py:267: ConvergenceWarning: Initialization 1 did not converge. Try different init parameters, or increase max_iter, tol or check for degenerate data.\n",
      "  % (init + 1), ConvergenceWarning)\n",
      "/home/josearangos/anaconda3/lib/python3.7/site-packages/sklearn/mixture/_base.py:267: ConvergenceWarning: Initialization 1 did not converge. Try different init parameters, or increase max_iter, tol or check for degenerate data.\n",
      "  % (init + 1), ConvergenceWarning)\n",
      "/home/josearangos/anaconda3/lib/python3.7/site-packages/sklearn/mixture/_base.py:267: ConvergenceWarning: Initialization 1 did not converge. Try different init parameters, or increase max_iter, tol or check for degenerate data.\n",
      "  % (init + 1), ConvergenceWarning)\n",
      "/home/josearangos/anaconda3/lib/python3.7/site-packages/sklearn/mixture/_base.py:267: ConvergenceWarning: Initialization 1 did not converge. Try different init parameters, or increase max_iter, tol or check for degenerate data.\n",
      "  % (init + 1), ConvergenceWarning)\n",
      "/home/josearangos/anaconda3/lib/python3.7/site-packages/sklearn/mixture/_base.py:267: ConvergenceWarning: Initialization 1 did not converge. Try different init parameters, or increase max_iter, tol or check for degenerate data.\n",
      "  % (init + 1), ConvergenceWarning)\n"
     ]
    },
    {
     "name": "stdout",
     "output_type": "stream",
     "text": [
      "############################################\n",
      "Matriz de covarianza full Numero de componentes 5\n",
      "Efi Train 0.5653468571980571\n",
      "Std Train 0.012294588916011321\n",
      "Efi Test 0.473694814924703\n",
      "Std Test 0.01706852783572745\n"
     ]
    },
    {
     "name": "stderr",
     "output_type": "stream",
     "text": [
      "/home/josearangos/anaconda3/lib/python3.7/site-packages/sklearn/mixture/_base.py:267: ConvergenceWarning: Initialization 1 did not converge. Try different init parameters, or increase max_iter, tol or check for degenerate data.\n",
      "  % (init + 1), ConvergenceWarning)\n",
      "/home/josearangos/anaconda3/lib/python3.7/site-packages/sklearn/mixture/_base.py:267: ConvergenceWarning: Initialization 1 did not converge. Try different init parameters, or increase max_iter, tol or check for degenerate data.\n",
      "  % (init + 1), ConvergenceWarning)\n",
      "/home/josearangos/anaconda3/lib/python3.7/site-packages/sklearn/mixture/_base.py:267: ConvergenceWarning: Initialization 1 did not converge. Try different init parameters, or increase max_iter, tol or check for degenerate data.\n",
      "  % (init + 1), ConvergenceWarning)\n",
      "/home/josearangos/anaconda3/lib/python3.7/site-packages/sklearn/mixture/_base.py:267: ConvergenceWarning: Initialization 1 did not converge. Try different init parameters, or increase max_iter, tol or check for degenerate data.\n",
      "  % (init + 1), ConvergenceWarning)\n",
      "/home/josearangos/anaconda3/lib/python3.7/site-packages/sklearn/mixture/_base.py:267: ConvergenceWarning: Initialization 1 did not converge. Try different init parameters, or increase max_iter, tol or check for degenerate data.\n",
      "  % (init + 1), ConvergenceWarning)\n",
      "/home/josearangos/anaconda3/lib/python3.7/site-packages/sklearn/mixture/_base.py:267: ConvergenceWarning: Initialization 1 did not converge. Try different init parameters, or increase max_iter, tol or check for degenerate data.\n",
      "  % (init + 1), ConvergenceWarning)\n",
      "/home/josearangos/anaconda3/lib/python3.7/site-packages/sklearn/mixture/_base.py:267: ConvergenceWarning: Initialization 1 did not converge. Try different init parameters, or increase max_iter, tol or check for degenerate data.\n",
      "  % (init + 1), ConvergenceWarning)\n",
      "/home/josearangos/anaconda3/lib/python3.7/site-packages/sklearn/mixture/_base.py:267: ConvergenceWarning: Initialization 1 did not converge. Try different init parameters, or increase max_iter, tol or check for degenerate data.\n",
      "  % (init + 1), ConvergenceWarning)\n",
      "/home/josearangos/anaconda3/lib/python3.7/site-packages/sklearn/mixture/_base.py:267: ConvergenceWarning: Initialization 1 did not converge. Try different init parameters, or increase max_iter, tol or check for degenerate data.\n",
      "  % (init + 1), ConvergenceWarning)\n",
      "/home/josearangos/anaconda3/lib/python3.7/site-packages/sklearn/mixture/_base.py:267: ConvergenceWarning: Initialization 1 did not converge. Try different init parameters, or increase max_iter, tol or check for degenerate data.\n",
      "  % (init + 1), ConvergenceWarning)\n",
      "/home/josearangos/anaconda3/lib/python3.7/site-packages/sklearn/mixture/_base.py:267: ConvergenceWarning: Initialization 1 did not converge. Try different init parameters, or increase max_iter, tol or check for degenerate data.\n",
      "  % (init + 1), ConvergenceWarning)\n",
      "/home/josearangos/anaconda3/lib/python3.7/site-packages/sklearn/mixture/_base.py:267: ConvergenceWarning: Initialization 1 did not converge. Try different init parameters, or increase max_iter, tol or check for degenerate data.\n",
      "  % (init + 1), ConvergenceWarning)\n",
      "/home/josearangos/anaconda3/lib/python3.7/site-packages/sklearn/mixture/_base.py:267: ConvergenceWarning: Initialization 1 did not converge. Try different init parameters, or increase max_iter, tol or check for degenerate data.\n",
      "  % (init + 1), ConvergenceWarning)\n",
      "/home/josearangos/anaconda3/lib/python3.7/site-packages/sklearn/mixture/_base.py:267: ConvergenceWarning: Initialization 1 did not converge. Try different init parameters, or increase max_iter, tol or check for degenerate data.\n",
      "  % (init + 1), ConvergenceWarning)\n",
      "/home/josearangos/anaconda3/lib/python3.7/site-packages/sklearn/mixture/_base.py:267: ConvergenceWarning: Initialization 1 did not converge. Try different init parameters, or increase max_iter, tol or check for degenerate data.\n",
      "  % (init + 1), ConvergenceWarning)\n",
      "/home/josearangos/anaconda3/lib/python3.7/site-packages/sklearn/mixture/_base.py:267: ConvergenceWarning: Initialization 1 did not converge. Try different init parameters, or increase max_iter, tol or check for degenerate data.\n",
      "  % (init + 1), ConvergenceWarning)\n",
      "/home/josearangos/anaconda3/lib/python3.7/site-packages/sklearn/mixture/_base.py:267: ConvergenceWarning: Initialization 1 did not converge. Try different init parameters, or increase max_iter, tol or check for degenerate data.\n",
      "  % (init + 1), ConvergenceWarning)\n",
      "/home/josearangos/anaconda3/lib/python3.7/site-packages/sklearn/mixture/_base.py:267: ConvergenceWarning: Initialization 1 did not converge. Try different init parameters, or increase max_iter, tol or check for degenerate data.\n",
      "  % (init + 1), ConvergenceWarning)\n",
      "/home/josearangos/anaconda3/lib/python3.7/site-packages/sklearn/mixture/_base.py:267: ConvergenceWarning: Initialization 1 did not converge. Try different init parameters, or increase max_iter, tol or check for degenerate data.\n",
      "  % (init + 1), ConvergenceWarning)\n",
      "/home/josearangos/anaconda3/lib/python3.7/site-packages/sklearn/mixture/_base.py:267: ConvergenceWarning: Initialization 1 did not converge. Try different init parameters, or increase max_iter, tol or check for degenerate data.\n",
      "  % (init + 1), ConvergenceWarning)\n",
      "/home/josearangos/anaconda3/lib/python3.7/site-packages/sklearn/mixture/_base.py:267: ConvergenceWarning: Initialization 1 did not converge. Try different init parameters, or increase max_iter, tol or check for degenerate data.\n",
      "  % (init + 1), ConvergenceWarning)\n",
      "/home/josearangos/anaconda3/lib/python3.7/site-packages/sklearn/mixture/_base.py:267: ConvergenceWarning: Initialization 1 did not converge. Try different init parameters, or increase max_iter, tol or check for degenerate data.\n",
      "  % (init + 1), ConvergenceWarning)\n",
      "/home/josearangos/anaconda3/lib/python3.7/site-packages/sklearn/mixture/_base.py:267: ConvergenceWarning: Initialization 1 did not converge. Try different init parameters, or increase max_iter, tol or check for degenerate data.\n",
      "  % (init + 1), ConvergenceWarning)\n"
     ]
    },
    {
     "name": "stdout",
     "output_type": "stream",
     "text": [
      "############################################\n",
      "Matriz de covarianza full Numero de componentes 6\n",
      "Efi Train 0.5854311676902193\n",
      "Std Train 0.014129332442290614\n",
      "Efi Test 0.4759357375269232\n",
      "Std Test 0.018566536037555287\n",
      "############################################\n",
      "Matriz de covarianza diag Numero de componentes 1\n",
      "Efi Train 0.3548242314477232\n",
      "Std Train 0.010458040890475829\n",
      "Efi Test 0.3462305143211732\n",
      "Std Test 0.012865874730965414\n",
      "############################################\n",
      "Matriz de covarianza diag Numero de componentes 2\n",
      "Efi Train 0.3627785897090672\n",
      "Std Train 0.013568231019132595\n",
      "Efi Test 0.3545750853526392\n",
      "Std Test 0.015122064025035012\n",
      "############################################\n",
      "Matriz de covarianza diag Numero de componentes 3\n",
      "Efi Train 0.42718880364222134\n",
      "Std Train 0.011010717744365382\n",
      "Efi Test 0.41586587250717005\n",
      "Std Test 0.01593216380951217\n",
      "############################################\n",
      "Matriz de covarianza diag Numero de componentes 4\n",
      "Efi Train 0.4713833029364813\n",
      "Std Train 0.01380093558365416\n",
      "Efi Test 0.4452304018839957\n",
      "Std Test 0.011020275409507958\n"
     ]
    },
    {
     "name": "stderr",
     "output_type": "stream",
     "text": [
      "/home/josearangos/anaconda3/lib/python3.7/site-packages/sklearn/mixture/_base.py:267: ConvergenceWarning: Initialization 1 did not converge. Try different init parameters, or increase max_iter, tol or check for degenerate data.\n",
      "  % (init + 1), ConvergenceWarning)\n",
      "/home/josearangos/anaconda3/lib/python3.7/site-packages/sklearn/mixture/_base.py:267: ConvergenceWarning: Initialization 1 did not converge. Try different init parameters, or increase max_iter, tol or check for degenerate data.\n",
      "  % (init + 1), ConvergenceWarning)\n",
      "/home/josearangos/anaconda3/lib/python3.7/site-packages/sklearn/mixture/_base.py:267: ConvergenceWarning: Initialization 1 did not converge. Try different init parameters, or increase max_iter, tol or check for degenerate data.\n",
      "  % (init + 1), ConvergenceWarning)\n",
      "/home/josearangos/anaconda3/lib/python3.7/site-packages/sklearn/mixture/_base.py:267: ConvergenceWarning: Initialization 1 did not converge. Try different init parameters, or increase max_iter, tol or check for degenerate data.\n",
      "  % (init + 1), ConvergenceWarning)\n",
      "/home/josearangos/anaconda3/lib/python3.7/site-packages/sklearn/mixture/_base.py:267: ConvergenceWarning: Initialization 1 did not converge. Try different init parameters, or increase max_iter, tol or check for degenerate data.\n",
      "  % (init + 1), ConvergenceWarning)\n",
      "/home/josearangos/anaconda3/lib/python3.7/site-packages/sklearn/mixture/_base.py:267: ConvergenceWarning: Initialization 1 did not converge. Try different init parameters, or increase max_iter, tol or check for degenerate data.\n",
      "  % (init + 1), ConvergenceWarning)\n",
      "/home/josearangos/anaconda3/lib/python3.7/site-packages/sklearn/mixture/_base.py:267: ConvergenceWarning: Initialization 1 did not converge. Try different init parameters, or increase max_iter, tol or check for degenerate data.\n",
      "  % (init + 1), ConvergenceWarning)\n",
      "/home/josearangos/anaconda3/lib/python3.7/site-packages/sklearn/mixture/_base.py:267: ConvergenceWarning: Initialization 1 did not converge. Try different init parameters, or increase max_iter, tol or check for degenerate data.\n",
      "  % (init + 1), ConvergenceWarning)\n"
     ]
    },
    {
     "name": "stdout",
     "output_type": "stream",
     "text": [
      "############################################\n",
      "Matriz de covarianza diag Numero de componentes 5\n",
      "Efi Train 0.4676184664795632\n",
      "Std Train 0.008663624422637023\n",
      "Efi Test 0.4480023541472404\n",
      "Std Test 0.01896652715461765\n"
     ]
    },
    {
     "name": "stderr",
     "output_type": "stream",
     "text": [
      "/home/josearangos/anaconda3/lib/python3.7/site-packages/sklearn/mixture/_base.py:267: ConvergenceWarning: Initialization 1 did not converge. Try different init parameters, or increase max_iter, tol or check for degenerate data.\n",
      "  % (init + 1), ConvergenceWarning)\n",
      "/home/josearangos/anaconda3/lib/python3.7/site-packages/sklearn/mixture/_base.py:267: ConvergenceWarning: Initialization 1 did not converge. Try different init parameters, or increase max_iter, tol or check for degenerate data.\n",
      "  % (init + 1), ConvergenceWarning)\n",
      "/home/josearangos/anaconda3/lib/python3.7/site-packages/sklearn/mixture/_base.py:267: ConvergenceWarning: Initialization 1 did not converge. Try different init parameters, or increase max_iter, tol or check for degenerate data.\n",
      "  % (init + 1), ConvergenceWarning)\n"
     ]
    },
    {
     "name": "stdout",
     "output_type": "stream",
     "text": [
      "############################################\n",
      "Matriz de covarianza diag Numero de componentes 6\n",
      "Efi Train 0.46985301104913313\n",
      "Std Train 0.01949256321030651\n",
      "Efi Test 0.4389537684877709\n",
      "Std Test 0.015050394992441766\n",
      "############################################\n",
      "Matriz de covarianza spherical Numero de componentes 1\n",
      "Efi Train 0.27228442661762753\n",
      "Std Train 0.007209936653219645\n",
      "Efi Test 0.27234190218489995\n",
      "Std Test 0.015720578751462853\n",
      "############################################\n",
      "Matriz de covarianza spherical Numero de componentes 2\n",
      "Efi Train 0.2874843819177624\n",
      "Std Train 0.009981144512800503\n",
      "Efi Test 0.29236231799986595\n",
      "Std Test 0.017559351496599512\n",
      "############################################\n",
      "Matriz de covarianza spherical Numero de componentes 3\n",
      "Efi Train 0.31962825287152713\n",
      "Std Train 0.01180260945438993\n",
      "Efi Test 0.3172451380754413\n",
      "Std Test 0.011326352964732889\n",
      "############################################\n",
      "Matriz de covarianza spherical Numero de componentes 4\n",
      "Efi Train 0.3752292854494389\n",
      "Std Train 0.007400130322747997\n",
      "Efi Test 0.3523048457898318\n",
      "Std Test 0.009676866804178149\n",
      "############################################\n",
      "Matriz de covarianza spherical Numero de componentes 5\n",
      "Efi Train 0.39055583776406\n",
      "Std Train 0.008684738171933956\n",
      "Efi Test 0.3794719736173767\n",
      "Std Test 0.0119379638175565\n",
      "############################################\n",
      "Matriz de covarianza spherical Numero de componentes 6\n",
      "Efi Train 0.3874960345040675\n",
      "Std Train 0.014021193138107705\n",
      "Efi Test 0.3753635814250821\n",
      "Std Test 0.013513602269187621\n",
      "############################################\n",
      "Matriz de covarianza tied Numero de componentes 1\n",
      "Efi Train 0.4447717950297337\n",
      "Std Train 0.007814982350497643\n",
      "Efi Test 0.4115213610447688\n",
      "Std Test 0.020210943216115745\n",
      "############################################\n",
      "Matriz de covarianza tied Numero de componentes 2\n",
      "Efi Train 0.43700569489148544\n",
      "Std Train 0.01164089818918718\n",
      "Efi Test 0.3980151799044276\n",
      "Std Test 0.022761604054522343\n",
      "############################################\n",
      "Matriz de covarianza tied Numero de componentes 3\n",
      "Efi Train 0.42816383985653345\n",
      "Std Train 0.02074305484454752\n",
      "Efi Test 0.4010275313414062\n",
      "Std Test 0.0198399082055953\n",
      "############################################\n",
      "Matriz de covarianza tied Numero de componentes 4\n",
      "Efi Train 0.42057074434590824\n",
      "Std Train 0.021179848551684498\n",
      "Efi Test 0.39980312235077753\n",
      "Std Test 0.02728580928197995\n"
     ]
    },
    {
     "name": "stderr",
     "output_type": "stream",
     "text": [
      "/home/josearangos/anaconda3/lib/python3.7/site-packages/sklearn/mixture/_base.py:267: ConvergenceWarning: Initialization 1 did not converge. Try different init parameters, or increase max_iter, tol or check for degenerate data.\n",
      "  % (init + 1), ConvergenceWarning)\n"
     ]
    },
    {
     "name": "stdout",
     "output_type": "stream",
     "text": [
      "############################################\n",
      "Matriz de covarianza tied Numero de componentes 5\n",
      "Efi Train 0.4355918457039832\n",
      "Std Train 0.018138422645178426\n",
      "Efi Test 0.38289190214637464\n",
      "Std Test 0.021847624986935474\n"
     ]
    },
    {
     "name": "stderr",
     "output_type": "stream",
     "text": [
      "/home/josearangos/anaconda3/lib/python3.7/site-packages/sklearn/mixture/_base.py:267: ConvergenceWarning: Initialization 1 did not converge. Try different init parameters, or increase max_iter, tol or check for degenerate data.\n",
      "  % (init + 1), ConvergenceWarning)\n"
     ]
    },
    {
     "name": "stdout",
     "output_type": "stream",
     "text": [
      "############################################\n",
      "Matriz de covarianza tied Numero de componentes 6\n",
      "Efi Train 0.43183101163116094\n",
      "Std Train 0.01761809763621934\n",
      "Efi Test 0.389717991644404\n",
      "Std Test 0.020151428804128024\n"
     ]
    },
    {
     "data": {
      "application/vnd.jupyter.widget-view+json": {
       "model_id": "4802a92d124e44dd9158596c86385eb9",
       "version_major": 2,
       "version_minor": 0
      },
      "text/plain": [
       "QgridWidget(grid_options={'fullWidthRows': True, 'syncColumnCellResize': True, 'forceFitColumns': True, 'defau…"
      ]
     },
     "metadata": {},
     "output_type": "display_data"
    }
   ],
   "source": [
    "X_train=X_train_original\n",
    "Y_train=Y_train__original\n",
    "tracks_train=tracks_train_original\n",
    "train_size=TRAIN_SIZE\n",
    "folds=FOLDS\n",
    "groups_train=groups_original\n",
    "\n",
    "\n",
    "df_types = pd.DataFrame({\n",
    "    'Matriz de covarianza' : pd.Series(['Completa','Completa','Completa','Completa','Completa','Completa','Diagonal','Diagonal','Diagonal','Diagonal','Diagonal','Diagonal','Esférica','Esférica','Esférica','Esférica','Esférica','Esférica','Atada','Atada','Atada','Atada','Atada','Atada']),\n",
    "    'Numero de componentes' : pd.Series([1,2,3,4,5,6,1,2,3,4,5,6,1,2,3,4,5,6,1,2,3,4,5,6])})\n",
    "\n",
    "df_types[\"Eficiencia en train\"] = \"\"\n",
    "df_types[\"Intervalo de confianza train\"] = \"\"\n",
    "df_types[\"Eficiencia en test\"] = \"\"\n",
    "df_types[\"Intervalo de confianza test\"] = \"\"\n",
    "\n",
    "df_types.set_index(['Matriz de covarianza','Numero de componentes'], inplace=True)\n",
    "cont = 0\n",
    "for tipo,m in df_types.index:\n",
    "    _,eficiencia_Train,intervalo_Train,eficiencia_Test,intervalo_Test=TRAIN(int(m),changeName(str(tipo)),X_train,Y_train,tracks_train,train_size,folds,groups_train)\n",
    "    df_types[\"Eficiencia en train\"][cont] = str(eficiencia_Train)\n",
    "    df_types[\"Intervalo de confianza train\"][cont] =str(intervalo_Train)\n",
    "    df_types[\"Eficiencia en test\"][cont]=str(eficiencia_Test)\n",
    "    df_types[\"Intervalo de confianza test\"][cont]=str(intervalo_Test)\n",
    "    print(\"############################################\")\n",
    "    print('Matriz de covarianza',changeName(str(tipo)),'Numero de componentes',str(m))\n",
    "    print(\"Efi Train\",str(eficiencia_Train))\n",
    "    print(\"Std Train\",str(intervalo_Train))\n",
    "    print(\"Efi Test\",str(eficiencia_Test))\n",
    "    print(\"Std Test\",str(intervalo_Test))\n",
    "    cont = cont +1\n",
    "df_types.sort_index(inplace=True)\n",
    "qgrid_widget = qgrid.show_grid(df_types, show_toolbar=False)\n",
    "qgrid_widget"
   ]
  },
  {
   "cell_type": "code",
   "execution_count": null,
   "metadata": {},
   "outputs": [],
   "source": []
  },
  {
   "cell_type": "code",
   "execution_count": 19,
   "metadata": {},
   "outputs": [
    {
     "data": {
      "text/html": [
       "<div>\n",
       "<style scoped>\n",
       "    .dataframe tbody tr th:only-of-type {\n",
       "        vertical-align: middle;\n",
       "    }\n",
       "\n",
       "    .dataframe tbody tr th {\n",
       "        vertical-align: top;\n",
       "    }\n",
       "\n",
       "    .dataframe thead th {\n",
       "        text-align: right;\n",
       "    }\n",
       "</style>\n",
       "<table border=\"1\" class=\"dataframe\">\n",
       "  <thead>\n",
       "    <tr style=\"text-align: right;\">\n",
       "      <th></th>\n",
       "      <th></th>\n",
       "      <th>Eficiencia en train</th>\n",
       "      <th>Intervalo de confianza train</th>\n",
       "      <th>Eficiencia en test</th>\n",
       "      <th>Intervalo de confianza test</th>\n",
       "    </tr>\n",
       "    <tr>\n",
       "      <th>Matriz de covarianza</th>\n",
       "      <th>Numero de componentes</th>\n",
       "      <th></th>\n",
       "      <th></th>\n",
       "      <th></th>\n",
       "      <th></th>\n",
       "    </tr>\n",
       "  </thead>\n",
       "  <tbody>\n",
       "    <tr>\n",
       "      <th rowspan=\"6\" valign=\"top\">Atada</th>\n",
       "      <th>1</th>\n",
       "      <td>0.4447717950297337</td>\n",
       "      <td>0.007814982350497643</td>\n",
       "      <td>0.4115213610447688</td>\n",
       "      <td>0.020210943216115745</td>\n",
       "    </tr>\n",
       "    <tr>\n",
       "      <th>2</th>\n",
       "      <td>0.43700569489148544</td>\n",
       "      <td>0.01164089818918718</td>\n",
       "      <td>0.3980151799044276</td>\n",
       "      <td>0.022761604054522343</td>\n",
       "    </tr>\n",
       "    <tr>\n",
       "      <th>3</th>\n",
       "      <td>0.42816383985653345</td>\n",
       "      <td>0.02074305484454752</td>\n",
       "      <td>0.4010275313414062</td>\n",
       "      <td>0.0198399082055953</td>\n",
       "    </tr>\n",
       "    <tr>\n",
       "      <th>4</th>\n",
       "      <td>0.42057074434590824</td>\n",
       "      <td>0.021179848551684498</td>\n",
       "      <td>0.39980312235077753</td>\n",
       "      <td>0.02728580928197995</td>\n",
       "    </tr>\n",
       "    <tr>\n",
       "      <th>5</th>\n",
       "      <td>0.4355918457039832</td>\n",
       "      <td>0.018138422645178426</td>\n",
       "      <td>0.38289190214637464</td>\n",
       "      <td>0.021847624986935474</td>\n",
       "    </tr>\n",
       "    <tr>\n",
       "      <th>6</th>\n",
       "      <td>0.43183101163116094</td>\n",
       "      <td>0.01761809763621934</td>\n",
       "      <td>0.389717991644404</td>\n",
       "      <td>0.020151428804128024</td>\n",
       "    </tr>\n",
       "    <tr>\n",
       "      <th rowspan=\"6\" valign=\"top\">Completa</th>\n",
       "      <th>1</th>\n",
       "      <td>0.43652012592812384</td>\n",
       "      <td>0.016097169257093674</td>\n",
       "      <td>0.40401789056623655</td>\n",
       "      <td>0.021913780694833317</td>\n",
       "    </tr>\n",
       "    <tr>\n",
       "      <th>2</th>\n",
       "      <td>0.4962399148068745</td>\n",
       "      <td>0.008868946311394996</td>\n",
       "      <td>0.43783027618220005</td>\n",
       "      <td>0.01865005219912631</td>\n",
       "    </tr>\n",
       "    <tr>\n",
       "      <th>3</th>\n",
       "      <td>0.4971712757938757</td>\n",
       "      <td>0.021760145638863092</td>\n",
       "      <td>0.4300916921273833</td>\n",
       "      <td>0.01716009145025183</td>\n",
       "    </tr>\n",
       "    <tr>\n",
       "      <th>4</th>\n",
       "      <td>0.5725333830904817</td>\n",
       "      <td>0.01822717280687589</td>\n",
       "      <td>0.4721170737023613</td>\n",
       "      <td>0.024501964312578253</td>\n",
       "    </tr>\n",
       "    <tr>\n",
       "      <th>5</th>\n",
       "      <td>0.5653468571980571</td>\n",
       "      <td>0.012294588916011321</td>\n",
       "      <td>0.473694814924703</td>\n",
       "      <td>0.01706852783572745</td>\n",
       "    </tr>\n",
       "    <tr>\n",
       "      <th>6</th>\n",
       "      <td>0.5854311676902193</td>\n",
       "      <td>0.014129332442290614</td>\n",
       "      <td>0.4759357375269232</td>\n",
       "      <td>0.018566536037555287</td>\n",
       "    </tr>\n",
       "    <tr>\n",
       "      <th rowspan=\"6\" valign=\"top\">Diagonal</th>\n",
       "      <th>1</th>\n",
       "      <td>0.3548242314477232</td>\n",
       "      <td>0.010458040890475829</td>\n",
       "      <td>0.3462305143211732</td>\n",
       "      <td>0.012865874730965414</td>\n",
       "    </tr>\n",
       "    <tr>\n",
       "      <th>2</th>\n",
       "      <td>0.3627785897090672</td>\n",
       "      <td>0.013568231019132595</td>\n",
       "      <td>0.3545750853526392</td>\n",
       "      <td>0.015122064025035012</td>\n",
       "    </tr>\n",
       "    <tr>\n",
       "      <th>3</th>\n",
       "      <td>0.42718880364222134</td>\n",
       "      <td>0.011010717744365382</td>\n",
       "      <td>0.41586587250717005</td>\n",
       "      <td>0.01593216380951217</td>\n",
       "    </tr>\n",
       "    <tr>\n",
       "      <th>4</th>\n",
       "      <td>0.4713833029364813</td>\n",
       "      <td>0.01380093558365416</td>\n",
       "      <td>0.4452304018839957</td>\n",
       "      <td>0.011020275409507958</td>\n",
       "    </tr>\n",
       "    <tr>\n",
       "      <th>5</th>\n",
       "      <td>0.4676184664795632</td>\n",
       "      <td>0.008663624422637023</td>\n",
       "      <td>0.4480023541472404</td>\n",
       "      <td>0.01896652715461765</td>\n",
       "    </tr>\n",
       "    <tr>\n",
       "      <th>6</th>\n",
       "      <td>0.46985301104913313</td>\n",
       "      <td>0.01949256321030651</td>\n",
       "      <td>0.4389537684877709</td>\n",
       "      <td>0.015050394992441766</td>\n",
       "    </tr>\n",
       "    <tr>\n",
       "      <th rowspan=\"6\" valign=\"top\">Esférica</th>\n",
       "      <th>1</th>\n",
       "      <td>0.27228442661762753</td>\n",
       "      <td>0.007209936653219645</td>\n",
       "      <td>0.27234190218489995</td>\n",
       "      <td>0.015720578751462853</td>\n",
       "    </tr>\n",
       "    <tr>\n",
       "      <th>2</th>\n",
       "      <td>0.2874843819177624</td>\n",
       "      <td>0.009981144512800503</td>\n",
       "      <td>0.29236231799986595</td>\n",
       "      <td>0.017559351496599512</td>\n",
       "    </tr>\n",
       "    <tr>\n",
       "      <th>3</th>\n",
       "      <td>0.31962825287152713</td>\n",
       "      <td>0.01180260945438993</td>\n",
       "      <td>0.3172451380754413</td>\n",
       "      <td>0.011326352964732889</td>\n",
       "    </tr>\n",
       "    <tr>\n",
       "      <th>4</th>\n",
       "      <td>0.3752292854494389</td>\n",
       "      <td>0.007400130322747997</td>\n",
       "      <td>0.3523048457898318</td>\n",
       "      <td>0.009676866804178149</td>\n",
       "    </tr>\n",
       "    <tr>\n",
       "      <th>5</th>\n",
       "      <td>0.39055583776406</td>\n",
       "      <td>0.008684738171933956</td>\n",
       "      <td>0.3794719736173767</td>\n",
       "      <td>0.0119379638175565</td>\n",
       "    </tr>\n",
       "    <tr>\n",
       "      <th>6</th>\n",
       "      <td>0.3874960345040675</td>\n",
       "      <td>0.014021193138107705</td>\n",
       "      <td>0.3753635814250821</td>\n",
       "      <td>0.013513602269187621</td>\n",
       "    </tr>\n",
       "  </tbody>\n",
       "</table>\n",
       "</div>"
      ],
      "text/plain": [
       "                                            Eficiencia en train  \\\n",
       "Matriz de covarianza Numero de componentes                        \n",
       "Atada                1                       0.4447717950297337   \n",
       "                     2                      0.43700569489148544   \n",
       "                     3                      0.42816383985653345   \n",
       "                     4                      0.42057074434590824   \n",
       "                     5                       0.4355918457039832   \n",
       "                     6                      0.43183101163116094   \n",
       "Completa             1                      0.43652012592812384   \n",
       "                     2                       0.4962399148068745   \n",
       "                     3                       0.4971712757938757   \n",
       "                     4                       0.5725333830904817   \n",
       "                     5                       0.5653468571980571   \n",
       "                     6                       0.5854311676902193   \n",
       "Diagonal             1                       0.3548242314477232   \n",
       "                     2                       0.3627785897090672   \n",
       "                     3                      0.42718880364222134   \n",
       "                     4                       0.4713833029364813   \n",
       "                     5                       0.4676184664795632   \n",
       "                     6                      0.46985301104913313   \n",
       "Esférica             1                      0.27228442661762753   \n",
       "                     2                       0.2874843819177624   \n",
       "                     3                      0.31962825287152713   \n",
       "                     4                       0.3752292854494389   \n",
       "                     5                         0.39055583776406   \n",
       "                     6                       0.3874960345040675   \n",
       "\n",
       "                                           Intervalo de confianza train  \\\n",
       "Matriz de covarianza Numero de componentes                                \n",
       "Atada                1                             0.007814982350497643   \n",
       "                     2                              0.01164089818918718   \n",
       "                     3                              0.02074305484454752   \n",
       "                     4                             0.021179848551684498   \n",
       "                     5                             0.018138422645178426   \n",
       "                     6                              0.01761809763621934   \n",
       "Completa             1                             0.016097169257093674   \n",
       "                     2                             0.008868946311394996   \n",
       "                     3                             0.021760145638863092   \n",
       "                     4                              0.01822717280687589   \n",
       "                     5                             0.012294588916011321   \n",
       "                     6                             0.014129332442290614   \n",
       "Diagonal             1                             0.010458040890475829   \n",
       "                     2                             0.013568231019132595   \n",
       "                     3                             0.011010717744365382   \n",
       "                     4                              0.01380093558365416   \n",
       "                     5                             0.008663624422637023   \n",
       "                     6                              0.01949256321030651   \n",
       "Esférica             1                             0.007209936653219645   \n",
       "                     2                             0.009981144512800503   \n",
       "                     3                              0.01180260945438993   \n",
       "                     4                             0.007400130322747997   \n",
       "                     5                             0.008684738171933956   \n",
       "                     6                             0.014021193138107705   \n",
       "\n",
       "                                             Eficiencia en test  \\\n",
       "Matriz de covarianza Numero de componentes                        \n",
       "Atada                1                       0.4115213610447688   \n",
       "                     2                       0.3980151799044276   \n",
       "                     3                       0.4010275313414062   \n",
       "                     4                      0.39980312235077753   \n",
       "                     5                      0.38289190214637464   \n",
       "                     6                        0.389717991644404   \n",
       "Completa             1                      0.40401789056623655   \n",
       "                     2                      0.43783027618220005   \n",
       "                     3                       0.4300916921273833   \n",
       "                     4                       0.4721170737023613   \n",
       "                     5                        0.473694814924703   \n",
       "                     6                       0.4759357375269232   \n",
       "Diagonal             1                       0.3462305143211732   \n",
       "                     2                       0.3545750853526392   \n",
       "                     3                      0.41586587250717005   \n",
       "                     4                       0.4452304018839957   \n",
       "                     5                       0.4480023541472404   \n",
       "                     6                       0.4389537684877709   \n",
       "Esférica             1                      0.27234190218489995   \n",
       "                     2                      0.29236231799986595   \n",
       "                     3                       0.3172451380754413   \n",
       "                     4                       0.3523048457898318   \n",
       "                     5                       0.3794719736173767   \n",
       "                     6                       0.3753635814250821   \n",
       "\n",
       "                                           Intervalo de confianza test  \n",
       "Matriz de covarianza Numero de componentes                              \n",
       "Atada                1                            0.020210943216115745  \n",
       "                     2                            0.022761604054522343  \n",
       "                     3                              0.0198399082055953  \n",
       "                     4                             0.02728580928197995  \n",
       "                     5                            0.021847624986935474  \n",
       "                     6                            0.020151428804128024  \n",
       "Completa             1                            0.021913780694833317  \n",
       "                     2                             0.01865005219912631  \n",
       "                     3                             0.01716009145025183  \n",
       "                     4                            0.024501964312578253  \n",
       "                     5                             0.01706852783572745  \n",
       "                     6                            0.018566536037555287  \n",
       "Diagonal             1                            0.012865874730965414  \n",
       "                     2                            0.015122064025035012  \n",
       "                     3                             0.01593216380951217  \n",
       "                     4                            0.011020275409507958  \n",
       "                     5                             0.01896652715461765  \n",
       "                     6                            0.015050394992441766  \n",
       "Esférica             1                            0.015720578751462853  \n",
       "                     2                            0.017559351496599512  \n",
       "                     3                            0.011326352964732889  \n",
       "                     4                            0.009676866804178149  \n",
       "                     5                              0.0119379638175565  \n",
       "                     6                            0.013513602269187621  "
      ]
     },
     "execution_count": 19,
     "metadata": {},
     "output_type": "execute_result"
    }
   ],
   "source": [
    "qgrid_widget.get_changed_df()"
   ]
  },
  {
   "cell_type": "markdown",
   "metadata": {},
   "source": [
    "El mejor modelo es: "
   ]
  },
  {
   "cell_type": "code",
   "execution_count": null,
   "metadata": {},
   "outputs": [],
   "source": []
  },
  {
   "cell_type": "markdown",
   "metadata": {},
   "source": [
    "### FULL CON 6 COMPONENTES "
   ]
  },
  {
   "cell_type": "markdown",
   "metadata": {},
   "source": [
    "## 2. Evalución mejor modelo con el conjunto de test"
   ]
  },
  {
   "cell_type": "code",
   "execution_count": 20,
   "metadata": {},
   "outputs": [
    {
     "name": "stderr",
     "output_type": "stream",
     "text": [
      "/home/josearangos/anaconda3/lib/python3.7/site-packages/sklearn/mixture/_base.py:267: ConvergenceWarning: Initialization 1 did not converge. Try different init parameters, or increase max_iter, tol or check for degenerate data.\n",
      "  % (init + 1), ConvergenceWarning)\n",
      "/home/josearangos/anaconda3/lib/python3.7/site-packages/sklearn/mixture/_base.py:267: ConvergenceWarning: Initialization 1 did not converge. Try different init parameters, or increase max_iter, tol or check for degenerate data.\n",
      "  % (init + 1), ConvergenceWarning)\n",
      "/home/josearangos/anaconda3/lib/python3.7/site-packages/sklearn/mixture/_base.py:267: ConvergenceWarning: Initialization 1 did not converge. Try different init parameters, or increase max_iter, tol or check for degenerate data.\n",
      "  % (init + 1), ConvergenceWarning)\n",
      "/home/josearangos/anaconda3/lib/python3.7/site-packages/sklearn/mixture/_base.py:267: ConvergenceWarning: Initialization 1 did not converge. Try different init parameters, or increase max_iter, tol or check for degenerate data.\n",
      "  % (init + 1), ConvergenceWarning)\n",
      "/home/josearangos/anaconda3/lib/python3.7/site-packages/sklearn/mixture/_base.py:267: ConvergenceWarning: Initialization 1 did not converge. Try different init parameters, or increase max_iter, tol or check for degenerate data.\n",
      "  % (init + 1), ConvergenceWarning)\n",
      "/home/josearangos/anaconda3/lib/python3.7/site-packages/sklearn/mixture/_base.py:267: ConvergenceWarning: Initialization 1 did not converge. Try different init parameters, or increase max_iter, tol or check for degenerate data.\n",
      "  % (init + 1), ConvergenceWarning)\n",
      "/home/josearangos/anaconda3/lib/python3.7/site-packages/sklearn/mixture/_base.py:267: ConvergenceWarning: Initialization 1 did not converge. Try different init parameters, or increase max_iter, tol or check for degenerate data.\n",
      "  % (init + 1), ConvergenceWarning)\n",
      "/home/josearangos/anaconda3/lib/python3.7/site-packages/sklearn/mixture/_base.py:267: ConvergenceWarning: Initialization 1 did not converge. Try different init parameters, or increase max_iter, tol or check for degenerate data.\n",
      "  % (init + 1), ConvergenceWarning)\n",
      "/home/josearangos/anaconda3/lib/python3.7/site-packages/sklearn/mixture/_base.py:267: ConvergenceWarning: Initialization 1 did not converge. Try different init parameters, or increase max_iter, tol or check for degenerate data.\n",
      "  % (init + 1), ConvergenceWarning)\n",
      "/home/josearangos/anaconda3/lib/python3.7/site-packages/sklearn/mixture/_base.py:267: ConvergenceWarning: Initialization 1 did not converge. Try different init parameters, or increase max_iter, tol or check for degenerate data.\n",
      "  % (init + 1), ConvergenceWarning)\n",
      "/home/josearangos/anaconda3/lib/python3.7/site-packages/sklearn/mixture/_base.py:267: ConvergenceWarning: Initialization 1 did not converge. Try different init parameters, or increase max_iter, tol or check for degenerate data.\n",
      "  % (init + 1), ConvergenceWarning)\n",
      "/home/josearangos/anaconda3/lib/python3.7/site-packages/sklearn/mixture/_base.py:267: ConvergenceWarning: Initialization 1 did not converge. Try different init parameters, or increase max_iter, tol or check for degenerate data.\n",
      "  % (init + 1), ConvergenceWarning)\n",
      "/home/josearangos/anaconda3/lib/python3.7/site-packages/sklearn/mixture/_base.py:267: ConvergenceWarning: Initialization 1 did not converge. Try different init parameters, or increase max_iter, tol or check for degenerate data.\n",
      "  % (init + 1), ConvergenceWarning)\n",
      "/home/josearangos/anaconda3/lib/python3.7/site-packages/sklearn/mixture/_base.py:267: ConvergenceWarning: Initialization 1 did not converge. Try different init parameters, or increase max_iter, tol or check for degenerate data.\n",
      "  % (init + 1), ConvergenceWarning)\n",
      "/home/josearangos/anaconda3/lib/python3.7/site-packages/sklearn/mixture/_base.py:267: ConvergenceWarning: Initialization 1 did not converge. Try different init parameters, or increase max_iter, tol or check for degenerate data.\n",
      "  % (init + 1), ConvergenceWarning)\n",
      "/home/josearangos/anaconda3/lib/python3.7/site-packages/sklearn/mixture/_base.py:267: ConvergenceWarning: Initialization 1 did not converge. Try different init parameters, or increase max_iter, tol or check for degenerate data.\n",
      "  % (init + 1), ConvergenceWarning)\n",
      "/home/josearangos/anaconda3/lib/python3.7/site-packages/sklearn/mixture/_base.py:267: ConvergenceWarning: Initialization 1 did not converge. Try different init parameters, or increase max_iter, tol or check for degenerate data.\n",
      "  % (init + 1), ConvergenceWarning)\n",
      "/home/josearangos/anaconda3/lib/python3.7/site-packages/sklearn/mixture/_base.py:267: ConvergenceWarning: Initialization 1 did not converge. Try different init parameters, or increase max_iter, tol or check for degenerate data.\n",
      "  % (init + 1), ConvergenceWarning)\n",
      "/home/josearangos/anaconda3/lib/python3.7/site-packages/sklearn/mixture/_base.py:267: ConvergenceWarning: Initialization 1 did not converge. Try different init parameters, or increase max_iter, tol or check for degenerate data.\n",
      "  % (init + 1), ConvergenceWarning)\n",
      "/home/josearangos/anaconda3/lib/python3.7/site-packages/sklearn/mixture/_base.py:267: ConvergenceWarning: Initialization 1 did not converge. Try different init parameters, or increase max_iter, tol or check for degenerate data.\n",
      "  % (init + 1), ConvergenceWarning)\n"
     ]
    }
   ],
   "source": [
    "n_components=6\n",
    "covariance_type='full'\n",
    "X_train=X_train_original\n",
    "Y_train=Y_train__original\n",
    "tracks_train=tracks_train_original\n",
    "train_size=TRAIN_SIZE\n",
    "folds=FOLDS\n",
    "groups_train=groups_original\n",
    "\n",
    "modelsGMM,_,_,_,_ = TRAIN(n_components,covariance_type,X_train,Y_train,tracks_train,train_size,folds,groups_train)"
   ]
  },
  {
   "cell_type": "code",
   "execution_count": 21,
   "metadata": {},
   "outputs": [],
   "source": [
    "Ytest_pred= GMMClassfierVal(modelsGMM,X_test_original,tracks_test_original)"
   ]
  },
  {
   "cell_type": "code",
   "execution_count": 22,
   "metadata": {},
   "outputs": [],
   "source": [
    "Y_real_test = createGroups(Y_test_original,tracks_test_original)"
   ]
  },
  {
   "cell_type": "code",
   "execution_count": 23,
   "metadata": {},
   "outputs": [
    {
     "name": "stdout",
     "output_type": "stream",
     "text": [
      "Accuracy:  0.4566929133858268 \n",
      "\n",
      "\n",
      "classification report :\n",
      "               precision    recall  f1-score   support\n",
      "\n",
      "         0.0       0.46      0.52      0.49       170\n",
      "         1.0       0.35      0.48      0.40       181\n",
      "         2.0       0.40      0.42      0.41       185\n",
      "         3.0       0.59      0.23      0.33       189\n",
      "         4.0       0.62      0.66      0.64       164\n",
      "\n",
      "    accuracy                           0.46       889\n",
      "   macro avg       0.48      0.46      0.46       889\n",
      "weighted avg       0.48      0.46      0.45       889\n",
      "\n"
     ]
    },
    {
     "data": {
      "image/png": "[encoded data removed]",
      "text/plain": [
       "<Figure size 720x720 with 2 Axes>"
      ]
     },
     "metadata": {
      "needs_background": "light"
     },
     "output_type": "display_data"
    }
   ],
   "source": [
    "print('Accuracy: ', accuracy_score(Y_real_test, Ytest_pred), '\\n')\n",
    "report = classification_report(Y_real_test, Ytest_pred)\n",
    "print(\"\\nclassification report :\\n\",report )\n",
    "# Matriz de confusión\n",
    "clases =['yes','no','right','five','nine']\n",
    "cm = confusion_matrix(Y_real_test, Ytest_pred)\n",
    "cmn = cm.astype('float') / cm.sum(axis=1)[:, np.newaxis]\n",
    "fig, ax = plt.subplots(figsize=(10,10))\n",
    "sns.heatmap(cmn, annot=True, fmt='.2f', xticklabels=clases, yticklabels=clases)\n",
    "plt.ylabel('Actual')\n",
    "plt.xlabel('Predicted')\n",
    "ax.set_ylim(sorted(ax.get_xlim(), reverse=True))\n",
    "plt.show(block=False)"
   ]
  },
  {
   "cell_type": "markdown",
   "metadata": {},
   "source": [
    "## Learning Curve"
   ]
  },
  {
   "cell_type": "code",
   "execution_count": 24,
   "metadata": {},
   "outputs": [],
   "source": [
    "def learning_curve(n_components,covariance_type,folds, X,Y,groups,tracks, suptitle='', title='', xlabel='Training Set Size', ylabel='Acurracy'):\n",
    "        \"\"\"\n",
    "        Parameters\n",
    "        ----------\n",
    "        suptitle : str\n",
    "            Chart suptitle\n",
    "        title: str\n",
    "            Chart title\n",
    "        xlabel: str\n",
    "            Label for the X axis\n",
    "        ylabel: str\n",
    "            Label for the y axis\n",
    "        Returns\n",
    "        -------\n",
    "        Plot of learning curves\n",
    "        \"\"\"\n",
    "\n",
    "        # create lists to store train and validation scores\n",
    "        train_score = []\n",
    "        val_score = []\n",
    "        std_train= []\n",
    "        std_val=[]\n",
    "\n",
    "        # create ten incremental training set sizes\n",
    "        training_set_sizes = np.linspace(.1,.9,5).tolist()\n",
    "        # for each one of those training set sizes\n",
    "\n",
    "        for i in training_set_sizes:  \n",
    "            \n",
    "            modelsGMM, eficiencia_Train,intervalo_Train,eficiencia_Test,intervalo_Test=TRAIN(n_components,covariance_type,X,Y,tracks,i,folds,groups)\n",
    "            \n",
    "            \n",
    "            # store the scores in their respective lists\n",
    "            train_score.append(eficiencia_Train)\n",
    "            val_score.append(eficiencia_Test)\n",
    "            std_train.append(intervalo_Train)\n",
    "            std_val.append(intervalo_Test)\n",
    "\n",
    "        train_score =np.array(train_score)\n",
    "        val_score =np.array(val_score)\n",
    "        std_train =np.array(std_train)\n",
    "        std_val =np.array(std_val)\n",
    "\n",
    "\n",
    "        # plot learning curves\n",
    "        fig, ax = plt.subplots(figsize=(14, 9))\n",
    "        ax.plot(training_set_sizes, train_score, c='gold')\n",
    "        ax.plot(training_set_sizes, val_score, c='steelblue')\n",
    "\n",
    "        ax.fill_between(training_set_sizes,train_score+std_train,train_score-std_train,facecolor='gold',alpha=0.5)\n",
    "        ax.fill_between(training_set_sizes,val_score+std_val,val_score-std_val,facecolor='steelblue',alpha=0.5)\n",
    "\n",
    "        # format the chart to make it look nice\n",
    "        fig.suptitle(suptitle, fontweight='bold', fontsize='20')\n",
    "        ax.set_title(title, size=20)\n",
    "        ax.set_xlabel(xlabel, size=16)\n",
    "        ax.set_ylabel(ylabel, size=16)\n",
    "        ax.legend(['Train set', 'Test set'], fontsize=16)\n",
    "        ax.tick_params(axis='both', labelsize=12)\n",
    "        ax.set_ylim(0, 1)\n",
    "\n",
    "        def percentages(x, pos):\n",
    "            \"\"\"The two args are the value and tick position\"\"\"\n",
    "            if x < 1:\n",
    "                return '{:1.0f}'.format(x*100)\n",
    "            return '{:1.0f}%'.format(x*100)\n",
    "\n",
    "        def numbers(x, pos):\n",
    "            \"\"\"The two args are the value and tick position\"\"\"\n",
    "            if x >= 1000:\n",
    "                return '{:1,.0f}'.format(x)\n",
    "            return '{:1.0f}'.format(x)\n",
    "        data = {'Train_Size':training_set_sizes, 'mean_train_Accuracy':train_score,'mean_test_Accuracy':val_score,'std_train_Accuracy':std_train,'std_test_Accuracy':std_val}\n",
    "        df_split_params = pd.DataFrame(data)\n",
    "        return df_split_params"
   ]
  },
  {
   "cell_type": "code",
   "execution_count": null,
   "metadata": {},
   "outputs": [
    {
     "name": "stderr",
     "output_type": "stream",
     "text": [
      "/home/josearangos/anaconda3/lib/python3.7/site-packages/sklearn/mixture/_base.py:267: ConvergenceWarning: Initialization 1 did not converge. Try different init parameters, or increase max_iter, tol or check for degenerate data.\n",
      "  % (init + 1), ConvergenceWarning)\n",
      "/home/josearangos/anaconda3/lib/python3.7/site-packages/sklearn/mixture/_base.py:267: ConvergenceWarning: Initialization 1 did not converge. Try different init parameters, or increase max_iter, tol or check for degenerate data.\n",
      "  % (init + 1), ConvergenceWarning)\n",
      "/home/josearangos/anaconda3/lib/python3.7/site-packages/sklearn/mixture/_base.py:267: ConvergenceWarning: Initialization 1 did not converge. Try different init parameters, or increase max_iter, tol or check for degenerate data.\n",
      "  % (init + 1), ConvergenceWarning)\n",
      "/home/josearangos/anaconda3/lib/python3.7/site-packages/sklearn/mixture/_base.py:267: ConvergenceWarning: Initialization 1 did not converge. Try different init parameters, or increase max_iter, tol or check for degenerate data.\n",
      "  % (init + 1), ConvergenceWarning)\n",
      "/home/josearangos/anaconda3/lib/python3.7/site-packages/sklearn/mixture/_base.py:267: ConvergenceWarning: Initialization 1 did not converge. Try different init parameters, or increase max_iter, tol or check for degenerate data.\n",
      "  % (init + 1), ConvergenceWarning)\n",
      "/home/josearangos/anaconda3/lib/python3.7/site-packages/sklearn/mixture/_base.py:267: ConvergenceWarning: Initialization 1 did not converge. Try different init parameters, or increase max_iter, tol or check for degenerate data.\n",
      "  % (init + 1), ConvergenceWarning)\n",
      "/home/josearangos/anaconda3/lib/python3.7/site-packages/sklearn/mixture/_base.py:267: ConvergenceWarning: Initialization 1 did not converge. Try different init parameters, or increase max_iter, tol or check for degenerate data.\n",
      "  % (init + 1), ConvergenceWarning)\n",
      "/home/josearangos/anaconda3/lib/python3.7/site-packages/sklearn/mixture/_base.py:267: ConvergenceWarning: Initialization 1 did not converge. Try different init parameters, or increase max_iter, tol or check for degenerate data.\n",
      "  % (init + 1), ConvergenceWarning)\n"
     ]
    }
   ],
   "source": [
    "n_components=6\n",
    "covariance_type='full'\n",
    "folds=10\n",
    "learning_curve(n_components,covariance_type,folds, X,Y,groups,tracks, suptitle='', title='', xlabel='Training Set Size', ylabel='Acurracy')"
   ]
  },
  {
   "cell_type": "code",
   "execution_count": null,
   "metadata": {},
   "outputs": [],
   "source": []
  }
 ],
 "metadata": {
  "kernelspec": {
   "display_name": "Python 3",
   "language": "python",
   "name": "python3"
  },
  "language_info": {
   "codemirror_mode": {
    "name": "ipython",
    "version": 3
   },
   "file_extension": ".py",
   "mimetype": "text/x-python",
   "name": "python",
   "nbconvert_exporter": "python",
   "pygments_lexer": "ipython3",
   "version": "3.7.4"
  }
 },
 "nbformat": 4,
 "nbformat_minor": 2
}
