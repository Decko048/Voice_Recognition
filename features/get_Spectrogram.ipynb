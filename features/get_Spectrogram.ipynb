{
 "cells": [
  {
   "cell_type": "code",
   "execution_count": 1,
   "metadata": {},
   "outputs": [],
   "source": [
    "import librosa\n",
    "import IPython.display as ipd\n",
    "%matplotlib inline\n",
    "import matplotlib.pyplot as plt\n",
    "import librosa.display\n",
    "import numpy as np\n",
    "import sklearn as sk\n",
    "import pandas as pd\n",
    "from sklearn import preprocessing\n",
    "import wav_to_spec\n",
    "import os"
   ]
  },
  {
   "cell_type": "code",
   "execution_count": 2,
   "metadata": {},
   "outputs": [],
   "source": [
    "PATHSAMPLES = '../data/training_list.txt'\n",
    "NSAMPLES = 3000\n",
    "SOUNDS =np.array(['yes','no','right','five','nine'])\n",
    "path_out = '/home/josearangos/Documentos/Projects/Voice_Recognition/data/spectrograms'"
   ]
  },
  {
   "cell_type": "code",
   "execution_count": 3,
   "metadata": {},
   "outputs": [],
   "source": [
    "def get_Path_Word_SpeakerId(NSAMPLES, PATHSAMPLES, SOUNDS):\n",
    "    ROOTPATH= 'data/'\n",
    "    data = pd.read_csv(PATHSAMPLES, sep=\" \", header=None)\n",
    "    data = data.values #Convertir en numpy array\n",
    "    labels = []\n",
    "    speakers  = []\n",
    "    paths = []\n",
    "    for path in data:\n",
    "        pathSplit =path[0].split('/')\n",
    "        speakerName = pathSplit[1].split('_')[0]\n",
    "        word = pathSplit[0]\n",
    "        isWord = np.where(SOUNDS == word)\n",
    "        if len(isWord[0]) != 0:\n",
    "            label = SOUNDS[isWord[0][0]]\n",
    "            labels.append(label)\n",
    "            speakers.append(speakerName)\n",
    "            paths.append(ROOTPATH+path[0])\n",
    "    NSAMPLES = NSAMPLES\n",
    "    first = labels.index(SOUNDS[0])\n",
    "    last = first +NSAMPLES\n",
    "    matrixMajor = np.column_stack([paths[first:last], labels[first:last], speakers[first:last]])    \n",
    "    for i in range(1,np.size(SOUNDS,0)):\n",
    "        first = labels.index(SOUNDS[i])\n",
    "        last = first +NSAMPLES\n",
    "        clasei = np.column_stack([paths[first:last], labels[first:last], speakers[first:last]])    \n",
    "        matrixMajor = np.append(matrixMajor,clasei,axis=0)\n",
    "    return matrixMajor"
   ]
  },
  {
   "cell_type": "code",
   "execution_count": 4,
   "metadata": {},
   "outputs": [],
   "source": [
    "path_word_speakerId = get_Path_Word_SpeakerId(NSAMPLES, PATHSAMPLES, SOUNDS)"
   ]
  },
  {
   "cell_type": "code",
   "execution_count": 5,
   "metadata": {},
   "outputs": [
    {
     "data": {
      "text/plain": [
       "(15000, 3)"
      ]
     },
     "execution_count": 5,
     "metadata": {},
     "output_type": "execute_result"
    }
   ],
   "source": [
    "path_word_speakerId.shape"
   ]
  },
  {
   "cell_type": "code",
   "execution_count": 6,
   "metadata": {},
   "outputs": [
    {
     "data": {
      "text/plain": [
       "array([['data/yes/004ae714_nohash_0.wav', 'yes', '004ae714'],\n",
       "       ['data/yes/004ae714_nohash_1.wav', 'yes', '004ae714'],\n",
       "       ['data/yes/00970ce1_nohash_0.wav', 'yes', '00970ce1'],\n",
       "       ...,\n",
       "       ['data/nine/f2b8fc18_nohash_0.wav', 'nine', 'f2b8fc18'],\n",
       "       ['data/nine/f2e9b610_nohash_0.wav', 'nine', 'f2e9b610'],\n",
       "       ['data/nine/f2e9b610_nohash_1.wav', 'nine', 'f2e9b610']],\n",
       "      dtype='<U33')"
      ]
     },
     "execution_count": 6,
     "metadata": {},
     "output_type": "execute_result"
    }
   ],
   "source": [
    "path_word_speakerId"
   ]
  },
  {
   "cell_type": "code",
   "execution_count": 37,
   "metadata": {},
   "outputs": [],
   "source": [
    "def build_features(path_word_speakerId,SOUNDS):\n",
    "    \n",
    "    for s in SOUNDS:\n",
    "        path_directory = path_out+'/'+s\n",
    "        if not os.path.exists(path_directory):\n",
    "            os.mkdir(path_directory)    \n",
    "            print(\"Directory \" , path_directory ,  \" Created \")\n",
    "        else:    \n",
    "            print(\"Directory \" , path_directory ,  \" already exists\")\n",
    "    for p in path_word_speakerId:\n",
    "        path = '../'+p[0]       \n",
    "        paht_direct = path_out+'/'+p[1]\n",
    "        wav_to_spec.wav2img(path, paht_direct, figsize=(45,45))"
   ]
  },
  {
   "cell_type": "code",
   "execution_count": 39,
   "metadata": {},
   "outputs": [
    {
     "name": "stdout",
     "output_type": "stream",
     "text": [
      "Directory  /home/josearangos/Documentos/Projects/Voice_Recognition/data/spectrograms/yes  Created \n",
      "Directory  /home/josearangos/Documentos/Projects/Voice_Recognition/data/spectrograms/no  Created \n",
      "Directory  /home/josearangos/Documentos/Projects/Voice_Recognition/data/spectrograms/right  Created \n",
      "Directory  /home/josearangos/Documentos/Projects/Voice_Recognition/data/spectrograms/five  Created \n",
      "Directory  /home/josearangos/Documentos/Projects/Voice_Recognition/data/spectrograms/nine  Created \n"
     ]
    }
   ],
   "source": [
    "build_features(path_word_speakerId,SOUNDS)"
   ]
  },
  {
   "cell_type": "code",
   "execution_count": 38,
   "metadata": {},
   "outputs": [],
   "source": [
    "paths = []\n",
    "speakers =[]\n",
    "words = []\n",
    "\n",
    "for p in path_word_speakerId:\n",
    "    name = p[0].split('/')[-1].split('.')[0]+'.jpg'\n",
    "    path = path_out+'/'+p[1]+'/'+name\n",
    "    word = p[1]\n",
    "    speaker_id = p[-1]\n",
    "    paths.append(path)\n",
    "    speakers.append(speaker_id)\n",
    "    words.append(word)"
   ]
  },
  {
   "cell_type": "code",
   "execution_count": 46,
   "metadata": {},
   "outputs": [],
   "source": [
    "df = pd.DataFrame([paths,speakers,words],index=['path','speaker','word']).T"
   ]
  },
  {
   "cell_type": "code",
   "execution_count": 47,
   "metadata": {},
   "outputs": [],
   "source": [
    "df.to_hdf('/home/josearangos/Documentos/Projects/Voice_Recognition/data/spectrograms/descriptions_5_class.hd5', key = 'description')"
   ]
  },
  {
   "cell_type": "code",
   "execution_count": 2,
   "metadata": {},
   "outputs": [
    {
     "name": "stdout",
     "output_type": "stream",
     "text": [
      "shape (99, 161)\n"
     ]
    }
   ],
   "source": [
    "wav_to_spec.wav2img('/home/josearangos/Documentos/Projects/Voice_Recognition/data/five/0a2b400e_nohash_3.wav', '/home/josearangos/Documentos/Projects/Voice_Recognition/data/spectrograms', figsize=(45,45))"
   ]
  },
  {
   "cell_type": "code",
   "execution_count": null,
   "metadata": {},
   "outputs": [],
   "source": []
  }
 ],
 "metadata": {
  "kernelspec": {
   "display_name": "Python 3",
   "language": "python",
   "name": "python3"
  },
  "language_info": {
   "codemirror_mode": {
    "name": "ipython",
    "version": 3
   },
   "file_extension": ".py",
   "mimetype": "text/x-python",
   "name": "python",
   "nbconvert_exporter": "python",
   "pygments_lexer": "ipython3",
   "version": "3.7.4"
  }
 },
 "nbformat": 4,
 "nbformat_minor": 2
}
