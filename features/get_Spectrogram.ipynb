{
 "cells": [
  {
   "cell_type": "code",
   "execution_count": 1,
   "metadata": {},
   "outputs": [],
   "source": [
    "import librosa\n",
    "import IPython.display as ipd\n",
    "%matplotlib inline\n",
    "import matplotlib.pyplot as plt\n",
    "import librosa.display\n",
    "import numpy as np\n",
    "import sklearn as sk\n",
    "import pandas as pd\n",
    "from sklearn import preprocessing\n",
    "import wav_to_spec\n",
    "import os"
   ]
  },
  {
   "cell_type": "code",
   "execution_count": 2,
   "metadata": {},
   "outputs": [],
   "source": [
    "PATHSAMPLES = '../data/training_list.txt'\n",
    "NSAMPLES = 200\n",
    "SOUNDS =np.array(['yes','no','right','five','nine'])\n",
    "path_out = '/home/josearangos/Documentos/Projects/Voice_Recognition/data/spectrograms'"
   ]
  },
  {
   "cell_type": "code",
   "execution_count": 3,
   "metadata": {},
   "outputs": [],
   "source": [
    "def get_Path_Word_SpeakerId(NSAMPLES, PATHSAMPLES, SOUNDS):\n",
    "    ROOTPATH= 'data/'\n",
    "    data = pd.read_csv(PATHSAMPLES, sep=\" \", header=None)\n",
    "    data = data.values #Convertir en numpy array\n",
    "    labels = []\n",
    "    speakers  = []\n",
    "    paths = []\n",
    "    \n",
    "    \n",
    "    for path in data:\n",
    "        pathSplit =path[0].split('/')\n",
    "        speakerName = pathSplit[1].split('_')[0]\n",
    "        word = pathSplit[0]\n",
    "        isWord = np.where(SOUNDS == word)\n",
    "        if len(isWord[0]) != 0:\n",
    "            label = SOUNDS[isWord[0][0]]\n",
    "            labels.append(label)\n",
    "            speakers.append(speakerName)\n",
    "            paths.append(ROOTPATH+path[0])\n",
    "    NSAMPLES = NSAMPLES\n",
    "    first = labels.index(SOUNDS[0])\n",
    "    last = first +NSAMPLES\n",
    "    matrixMajor = np.column_stack([paths[first:last], labels[first:last], speakers[first:last]])    \n",
    "    for i in range(1,np.size(SOUNDS,0)):\n",
    "        first = labels.index(SOUNDS[i])\n",
    "        last = first +NSAMPLES\n",
    "        clasei = np.column_stack([paths[first:last], labels[first:last], speakers[first:last]])    \n",
    "        matrixMajor = np.append(matrixMajor,clasei,axis=0)\n",
    "    return matrixMajor"
   ]
  },
  {
   "cell_type": "code",
   "execution_count": 4,
   "metadata": {},
   "outputs": [],
   "source": [
    "path_word_speakerId = get_Path_Word_SpeakerId(NSAMPLES, PATHSAMPLES, SOUNDS)"
   ]
  },
  {
   "cell_type": "code",
   "execution_count": 5,
   "metadata": {},
   "outputs": [
    {
     "data": {
      "text/plain": [
       "(1000, 3)"
      ]
     },
     "execution_count": 5,
     "metadata": {},
     "output_type": "execute_result"
    }
   ],
   "source": [
    "path_word_speakerId.shape"
   ]
  },
  {
   "cell_type": "code",
   "execution_count": 6,
   "metadata": {},
   "outputs": [
    {
     "data": {
      "text/plain": [
       "array([['data/yes/004ae714_nohash_0.wav', 'yes', '004ae714'],\n",
       "       ['data/yes/004ae714_nohash_1.wav', 'yes', '004ae714'],\n",
       "       ['data/yes/00970ce1_nohash_0.wav', 'yes', '00970ce1'],\n",
       "       ...,\n",
       "       ['data/nine/106a6183_nohash_4.wav', 'nine', '106a6183'],\n",
       "       ['data/nine/10ace7eb_nohash_0.wav', 'nine', '10ace7eb'],\n",
       "       ['data/nine/10ace7eb_nohash_1.wav', 'nine', '10ace7eb']],\n",
       "      dtype='<U32')"
      ]
     },
     "execution_count": 6,
     "metadata": {},
     "output_type": "execute_result"
    }
   ],
   "source": [
    "path_word_speakerId"
   ]
  },
  {
   "cell_type": "code",
   "execution_count": 7,
   "metadata": {},
   "outputs": [
    {
     "data": {
      "text/plain": [
       "'data/yes/004ae714_nohash_1.wav'"
      ]
     },
     "execution_count": 7,
     "metadata": {},
     "output_type": "execute_result"
    }
   ],
   "source": [
    "testP = path_word_speakerId[1,0]\n",
    "testP"
   ]
  },
  {
   "cell_type": "code",
   "execution_count": 17,
   "metadata": {},
   "outputs": [],
   "source": [
    "speakers =[]\n",
    "words = []\n",
    "spectrograms = []\n",
    "\n",
    " #Encode etiqueta del path audio,speaker y la palabra\n",
    "leSpeaker = preprocessing.LabelEncoder()\n",
    "leWord =  preprocessing.LabelEncoder()\n",
    "\n",
    "#Encode\n",
    "leSpeaker.fit(path_word_speakerId[:,2])\n",
    "leWord.fit(path_word_speakerId[:,1])\n",
    "\n",
    "\n",
    "for p in path_word_speakerId:\n",
    "    name = p[0].split('/')[-1].split('.')[0]+'.jpg'\n",
    "    word = p[1]\n",
    "    speaker_id = p[-1]\n",
    "    \n",
    " #Transformación del encoder\n",
    "    labelSpeaker = leSpeaker.transform([speaker_id])\n",
    "    labelWord= leWord.transform([word])     \n",
    "    \n",
    "    spect = wav_to_spec.wav2spect('../'+p[0]) \n",
    "    spectrograms.append(spect)\n",
    "    speakers.append(labelSpeaker[0])\n",
    "    words.append(labelWord[0])"
   ]
  },
  {
   "cell_type": "code",
   "execution_count": 18,
   "metadata": {},
   "outputs": [],
   "source": [
    "df = pd.DataFrame([spectrograms,speakers,words],index=['Spectrogram','speaker','word']).T"
   ]
  },
  {
   "cell_type": "code",
   "execution_count": 19,
   "metadata": {},
   "outputs": [
    {
     "data": {
      "text/html": [
       "<div>\n",
       "<style scoped>\n",
       "    .dataframe tbody tr th:only-of-type {\n",
       "        vertical-align: middle;\n",
       "    }\n",
       "\n",
       "    .dataframe tbody tr th {\n",
       "        vertical-align: top;\n",
       "    }\n",
       "\n",
       "    .dataframe thead th {\n",
       "        text-align: right;\n",
       "    }\n",
       "</style>\n",
       "<table border=\"1\" class=\"dataframe\">\n",
       "  <thead>\n",
       "    <tr style=\"text-align: right;\">\n",
       "      <th></th>\n",
       "      <th>Spectrogram</th>\n",
       "      <th>speaker</th>\n",
       "      <th>word</th>\n",
       "    </tr>\n",
       "  </thead>\n",
       "  <tbody>\n",
       "    <tr>\n",
       "      <th>0</th>\n",
       "      <td>[[-5.899411, -6.593098, -21.35734, -21.187449,...</td>\n",
       "      <td>0</td>\n",
       "      <td>4</td>\n",
       "    </tr>\n",
       "    <tr>\n",
       "      <th>1</th>\n",
       "      <td>[[-23.02585, -23.02585, -23.02585, -23.02585, ...</td>\n",
       "      <td>0</td>\n",
       "      <td>4</td>\n",
       "    </tr>\n",
       "    <tr>\n",
       "      <th>2</th>\n",
       "      <td>[[-5.7146406, -6.407505, -20.297499, -20.98756...</td>\n",
       "      <td>1</td>\n",
       "      <td>4</td>\n",
       "    </tr>\n",
       "    <tr>\n",
       "      <th>3</th>\n",
       "      <td>[[-5.8207245, -6.529051, -13.875972, -12.77553...</td>\n",
       "      <td>3</td>\n",
       "      <td>4</td>\n",
       "    </tr>\n",
       "    <tr>\n",
       "      <th>4</th>\n",
       "      <td>[[-5.9325137, -6.628802, -16.829935, -17.02652...</td>\n",
       "      <td>3</td>\n",
       "      <td>4</td>\n",
       "    </tr>\n",
       "    <tr>\n",
       "      <th>...</th>\n",
       "      <td>...</td>\n",
       "      <td>...</td>\n",
       "      <td>...</td>\n",
       "    </tr>\n",
       "    <tr>\n",
       "      <th>995</th>\n",
       "      <td>[[-5.8164544, -6.5176325, -15.9848795, -14.700...</td>\n",
       "      <td>114</td>\n",
       "      <td>1</td>\n",
       "    </tr>\n",
       "    <tr>\n",
       "      <th>996</th>\n",
       "      <td>[[-5.7210984, -6.4039636, -15.700572, -17.4116...</td>\n",
       "      <td>114</td>\n",
       "      <td>1</td>\n",
       "    </tr>\n",
       "    <tr>\n",
       "      <th>997</th>\n",
       "      <td>[[-5.596871, -6.3141885, -13.834732, -14.83248...</td>\n",
       "      <td>114</td>\n",
       "      <td>1</td>\n",
       "    </tr>\n",
       "    <tr>\n",
       "      <th>998</th>\n",
       "      <td>[[-6.3125834, -7.004977, -21.878431, -22.00323...</td>\n",
       "      <td>116</td>\n",
       "      <td>1</td>\n",
       "    </tr>\n",
       "    <tr>\n",
       "      <th>999</th>\n",
       "      <td>[[-6.036913, -6.729683, -20.389885, -21.664574...</td>\n",
       "      <td>116</td>\n",
       "      <td>1</td>\n",
       "    </tr>\n",
       "  </tbody>\n",
       "</table>\n",
       "<p>1000 rows × 3 columns</p>\n",
       "</div>"
      ],
      "text/plain": [
       "                                           Spectrogram speaker word\n",
       "0    [[-5.899411, -6.593098, -21.35734, -21.187449,...       0    4\n",
       "1    [[-23.02585, -23.02585, -23.02585, -23.02585, ...       0    4\n",
       "2    [[-5.7146406, -6.407505, -20.297499, -20.98756...       1    4\n",
       "3    [[-5.8207245, -6.529051, -13.875972, -12.77553...       3    4\n",
       "4    [[-5.9325137, -6.628802, -16.829935, -17.02652...       3    4\n",
       "..                                                 ...     ...  ...\n",
       "995  [[-5.8164544, -6.5176325, -15.9848795, -14.700...     114    1\n",
       "996  [[-5.7210984, -6.4039636, -15.700572, -17.4116...     114    1\n",
       "997  [[-5.596871, -6.3141885, -13.834732, -14.83248...     114    1\n",
       "998  [[-6.3125834, -7.004977, -21.878431, -22.00323...     116    1\n",
       "999  [[-6.036913, -6.729683, -20.389885, -21.664574...     116    1\n",
       "\n",
       "[1000 rows x 3 columns]"
      ]
     },
     "execution_count": 19,
     "metadata": {},
     "output_type": "execute_result"
    }
   ],
   "source": [
    "df"
   ]
  },
  {
   "cell_type": "code",
   "execution_count": 20,
   "metadata": {},
   "outputs": [
    {
     "name": "stderr",
     "output_type": "stream",
     "text": [
      "/home/josearangos/anaconda3/lib/python3.7/site-packages/pandas/core/generic.py:2530: PerformanceWarning: \n",
      "your performance may suffer as PyTables will pickle object types that it cannot\n",
      "map directly to c-types [inferred_type->mixed-integer,key->block0_values] [items->['Spectrogram', 'speaker', 'word']]\n",
      "\n",
      "  pytables.to_hdf(path_or_buf, key, self, **kwargs)\n"
     ]
    }
   ],
   "source": [
    "df.to_hdf('/home/josearangos/Documentos/Projects/Voice_Recognition/data/spectrograms/spectrograms_1000.hd5', key = 'description')"
   ]
  },
  {
   "cell_type": "markdown",
   "metadata": {},
   "source": [
    "Rellenar de cero \n",
    "\n",
    "https://www.kaggle.com/alphasis/light-weight-cnn-lb-0-74"
   ]
  },
  {
   "cell_type": "code",
   "execution_count": null,
   "metadata": {},
   "outputs": [],
   "source": []
  }
 ],
 "metadata": {
  "kernelspec": {
   "display_name": "tensor2",
   "language": "python",
   "name": "tensor2"
  },
  "language_info": {
   "codemirror_mode": {
    "name": "ipython",
    "version": 3
   },
   "file_extension": ".py",
   "mimetype": "text/x-python",
   "name": "python",
   "nbconvert_exporter": "python",
   "pygments_lexer": "ipython3",
   "version": "3.7.6"
  }
 },
 "nbformat": 4,
 "nbformat_minor": 2
}
